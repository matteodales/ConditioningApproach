{
 "cells": [
  {
   "cell_type": "code",
   "execution_count": 2,
   "metadata": {
    "vscode": {
     "languageId": "r"
    }
   },
   "outputs": [],
   "source": [
    "source('utils.r')\n",
    "source('selinf_functions.r')\n",
    "source('metrics.r')\n",
    "source('data_generator.r')\n",
    "library('lmmlasso')"
   ]
  },
  {
   "cell_type": "code",
   "execution_count": 3,
   "metadata": {
    "vscode": {
     "languageId": "r"
    }
   },
   "outputs": [],
   "source": [
    "source('minMod_modif.r')"
   ]
  },
  {
   "cell_type": "code",
   "execution_count": 4,
   "metadata": {
    "vscode": {
     "languageId": "r"
    }
   },
   "outputs": [],
   "source": [
    "n_subjects= 25\n",
    "n_observations = 4\n",
    "p = 100\n",
    "q = 1\n",
    "\n",
    "SNR_values = c(4)\n",
    "prop_relevant_values = c(0.1, 0.2, 0.3)\n",
    "num_iter = 50"
   ]
  },
  {
   "cell_type": "code",
   "execution_count": 5,
   "metadata": {
    "vscode": {
     "languageId": "r"
    }
   },
   "outputs": [],
   "source": [
    "prop_relevant = 0.1"
   ]
  },
  {
   "cell_type": "code",
   "execution_count": 6,
   "metadata": {
    "vscode": {
     "languageId": "r"
    }
   },
   "outputs": [],
   "source": [
    "SNR =4 \n",
    "corr = 0.2"
   ]
  },
  {
   "cell_type": "markdown",
   "metadata": {},
   "source": [
    "## Simulation comparing Selective Inference with minMod estimation\n",
    "Comparing TPR and FDR for the two methods in different settings of SNR and proportion of non-zero coefficients. We use the original minMod and the new adapted one."
   ]
  },
  {
   "cell_type": "code",
   "execution_count": 7,
   "metadata": {
    "vscode": {
     "languageId": "r"
    }
   },
   "outputs": [
    {
     "name": "stdout",
     "output_type": "stream",
     "text": [
      "  |                                                                      |   0%"
     ]
    },
    {
     "name": "stderr",
     "output_type": "stream",
     "text": [
      "boundary (singular) fit: see help('isSingular')\n",
      "\n",
      "Warning message:\n",
      "\"Model failed to converge with 1 negative eigenvalue: -9.5e+00\"\n",
      "boundary (singular) fit: see help('isSingular')\n",
      "\n"
     ]
    },
    {
     "name": "stdout",
     "output_type": "stream",
     "text": [
      "  |                                                                      |   1%"
     ]
    },
    {
     "name": "stderr",
     "output_type": "stream",
     "text": [
      "boundary (singular) fit: see help('isSingular')\n",
      "\n"
     ]
    },
    {
     "name": "stdout",
     "output_type": "stream",
     "text": [
      "  |=                                                                     |   2%"
     ]
    },
    {
     "name": "stderr",
     "output_type": "stream",
     "text": [
      "boundary (singular) fit: see help('isSingular')\n",
      "\n"
     ]
    },
    {
     "name": "stdout",
     "output_type": "stream",
     "text": [
      "  |=====                                                                 |   7%"
     ]
    },
    {
     "name": "stderr",
     "output_type": "stream",
     "text": [
      "boundary (singular) fit: see help('isSingular')\n",
      "\n"
     ]
    },
    {
     "name": "stdout",
     "output_type": "stream",
     "text": [
      "  |======                                                                |   8%"
     ]
    },
    {
     "name": "stderr",
     "output_type": "stream",
     "text": [
      "boundary (singular) fit: see help('isSingular')\n",
      "\n"
     ]
    },
    {
     "name": "stdout",
     "output_type": "stream",
     "text": [
      "  |=======                                                               |   9%"
     ]
    },
    {
     "name": "stderr",
     "output_type": "stream",
     "text": [
      "boundary (singular) fit: see help('isSingular')\n",
      "\n"
     ]
    },
    {
     "name": "stdout",
     "output_type": "stream",
     "text": [
      "  |=======                                                               |  10%"
     ]
    },
    {
     "name": "stderr",
     "output_type": "stream",
     "text": [
      "boundary (singular) fit: see help('isSingular')\n",
      "\n",
      "boundary (singular) fit: see help('isSingular')\n",
      "\n"
     ]
    },
    {
     "name": "stdout",
     "output_type": "stream",
     "text": [
      "  |========                                                              |  11%"
     ]
    },
    {
     "name": "stderr",
     "output_type": "stream",
     "text": [
      "boundary (singular) fit: see help('isSingular')\n",
      "\n"
     ]
    },
    {
     "name": "stdout",
     "output_type": "stream",
     "text": [
      "  |==========                                                            |  15%"
     ]
    },
    {
     "name": "stderr",
     "output_type": "stream",
     "text": [
      "boundary (singular) fit: see help('isSingular')\n",
      "\n"
     ]
    },
    {
     "name": "stdout",
     "output_type": "stream",
     "text": [
      "  |============                                                          |  17%"
     ]
    },
    {
     "name": "stderr",
     "output_type": "stream",
     "text": [
      "boundary (singular) fit: see help('isSingular')\n",
      "\n",
      "boundary (singular) fit: see help('isSingular')\n",
      "\n"
     ]
    },
    {
     "name": "stdout",
     "output_type": "stream",
     "text": [
      "  |=============                                                         |  19%"
     ]
    },
    {
     "name": "stderr",
     "output_type": "stream",
     "text": [
      "boundary (singular) fit: see help('isSingular')\n",
      "\n"
     ]
    },
    {
     "name": "stdout",
     "output_type": "stream",
     "text": [
      "  |===============                                                       |  22%"
     ]
    },
    {
     "name": "stderr",
     "output_type": "stream",
     "text": [
      "boundary (singular) fit: see help('isSingular')\n",
      "\n"
     ]
    },
    {
     "name": "stdout",
     "output_type": "stream",
     "text": [
      "  |=================                                                     |  24%"
     ]
    },
    {
     "name": "stderr",
     "output_type": "stream",
     "text": [
      "boundary (singular) fit: see help('isSingular')\n",
      "\n"
     ]
    },
    {
     "name": "stdout",
     "output_type": "stream",
     "text": [
      "  |=================                                                     |  25%"
     ]
    },
    {
     "name": "stderr",
     "output_type": "stream",
     "text": [
      "boundary (singular) fit: see help('isSingular')\n",
      "\n"
     ]
    },
    {
     "name": "stdout",
     "output_type": "stream",
     "text": [
      "  |==================                                                    |  26%"
     ]
    },
    {
     "name": "stderr",
     "output_type": "stream",
     "text": [
      "boundary (singular) fit: see help('isSingular')\n",
      "\n"
     ]
    },
    {
     "name": "stdout",
     "output_type": "stream",
     "text": [
      "  |===================                                                   |  27%"
     ]
    },
    {
     "name": "stderr",
     "output_type": "stream",
     "text": [
      "boundary (singular) fit: see help('isSingular')\n",
      "\n"
     ]
    },
    {
     "name": "stdout",
     "output_type": "stream",
     "text": [
      "  |====================                                                  |  28%"
     ]
    },
    {
     "name": "stderr",
     "output_type": "stream",
     "text": [
      "boundary (singular) fit: see help('isSingular')\n",
      "\n"
     ]
    },
    {
     "name": "stdout",
     "output_type": "stream",
     "text": [
      "  |====================                                                  |  29%"
     ]
    },
    {
     "name": "stderr",
     "output_type": "stream",
     "text": [
      "boundary (singular) fit: see help('isSingular')\n",
      "\n"
     ]
    },
    {
     "name": "stdout",
     "output_type": "stream",
     "text": [
      "  |======================                                                |  31%"
     ]
    },
    {
     "name": "stderr",
     "output_type": "stream",
     "text": [
      "boundary (singular) fit: see help('isSingular')\n",
      "\n"
     ]
    },
    {
     "name": "stdout",
     "output_type": "stream",
     "text": [
      "  |=======================                                               |  33%"
     ]
    },
    {
     "name": "stderr",
     "output_type": "stream",
     "text": [
      "boundary (singular) fit: see help('isSingular')\n",
      "\n",
      "boundary (singular) fit: see help('isSingular')\n",
      "\n"
     ]
    },
    {
     "name": "stdout",
     "output_type": "stream",
     "text": [
      "  |========================                                              |  35%"
     ]
    },
    {
     "name": "stderr",
     "output_type": "stream",
     "text": [
      "boundary (singular) fit: see help('isSingular')\n",
      "\n"
     ]
    },
    {
     "name": "stdout",
     "output_type": "stream",
     "text": [
      "  |=========================                                             |  35%"
     ]
    },
    {
     "name": "stderr",
     "output_type": "stream",
     "text": [
      "boundary (singular) fit: see help('isSingular')\n",
      "\n",
      "boundary (singular) fit: see help('isSingular')\n",
      "\n"
     ]
    },
    {
     "name": "stdout",
     "output_type": "stream",
     "text": [
      "  |=========================                                             |  36%"
     ]
    },
    {
     "name": "stderr",
     "output_type": "stream",
     "text": [
      "boundary (singular) fit: see help('isSingular')\n",
      "\n"
     ]
    },
    {
     "name": "stdout",
     "output_type": "stream",
     "text": [
      "  |===========================                                           |  38%"
     ]
    },
    {
     "name": "stderr",
     "output_type": "stream",
     "text": [
      "boundary (singular) fit: see help('isSingular')\n",
      "\n"
     ]
    },
    {
     "name": "stdout",
     "output_type": "stream",
     "text": [
      "  |============================                                          |  39%"
     ]
    },
    {
     "name": "stderr",
     "output_type": "stream",
     "text": [
      "boundary (singular) fit: see help('isSingular')\n",
      "\n"
     ]
    },
    {
     "name": "stdout",
     "output_type": "stream",
     "text": [
      "  |=============================                                         |  41%"
     ]
    },
    {
     "name": "stderr",
     "output_type": "stream",
     "text": [
      "boundary (singular) fit: see help('isSingular')\n",
      "\n"
     ]
    },
    {
     "name": "stdout",
     "output_type": "stream",
     "text": [
      "  |==============================                                        |  43%"
     ]
    },
    {
     "name": "stderr",
     "output_type": "stream",
     "text": [
      "boundary (singular) fit: see help('isSingular')\n",
      "\n",
      "boundary (singular) fit: see help('isSingular')\n",
      "\n"
     ]
    },
    {
     "name": "stdout",
     "output_type": "stream",
     "text": [
      "  |===============================                                       |  44%"
     ]
    },
    {
     "name": "stderr",
     "output_type": "stream",
     "text": [
      "boundary (singular) fit: see help('isSingular')\n",
      "\n"
     ]
    },
    {
     "name": "stdout",
     "output_type": "stream",
     "text": [
      "  |===============================                                       |  45%"
     ]
    },
    {
     "name": "stderr",
     "output_type": "stream",
     "text": [
      "boundary (singular) fit: see help('isSingular')\n",
      "\n",
      "boundary (singular) fit: see help('isSingular')\n",
      "\n"
     ]
    },
    {
     "name": "stdout",
     "output_type": "stream",
     "text": [
      "  |================================                                      |  45%"
     ]
    },
    {
     "name": "stderr",
     "output_type": "stream",
     "text": [
      "boundary (singular) fit: see help('isSingular')\n",
      "\n",
      "Warning message:\n",
      "\"Model failed to converge with 1 negative eigenvalue: -3.7e+01\"\n",
      "boundary (singular) fit: see help('isSingular')\n",
      "\n"
     ]
    },
    {
     "name": "stdout",
     "output_type": "stream",
     "text": [
      "  |================================                                      |  46%"
     ]
    },
    {
     "name": "stderr",
     "output_type": "stream",
     "text": [
      "boundary (singular) fit: see help('isSingular')\n",
      "\n",
      "boundary (singular) fit: see help('isSingular')\n",
      "\n"
     ]
    },
    {
     "name": "stdout",
     "output_type": "stream",
     "text": [
      "  |=================================                                     |  47%"
     ]
    },
    {
     "name": "stderr",
     "output_type": "stream",
     "text": [
      "boundary (singular) fit: see help('isSingular')\n",
      "\n"
     ]
    },
    {
     "name": "stdout",
     "output_type": "stream",
     "text": [
      "  |==================================                                    |  48%"
     ]
    },
    {
     "name": "stderr",
     "output_type": "stream",
     "text": [
      "boundary (singular) fit: see help('isSingular')\n",
      "\n"
     ]
    },
    {
     "name": "stdout",
     "output_type": "stream",
     "text": [
      "  |==================================                                    |  49%"
     ]
    },
    {
     "name": "stderr",
     "output_type": "stream",
     "text": [
      "boundary (singular) fit: see help('isSingular')\n",
      "\n"
     ]
    },
    {
     "name": "stdout",
     "output_type": "stream",
     "text": [
      "  |===================================                                   |  49%"
     ]
    },
    {
     "name": "stderr",
     "output_type": "stream",
     "text": [
      "boundary (singular) fit: see help('isSingular')\n",
      "\n",
      "boundary (singular) fit: see help('isSingular')\n",
      "\n"
     ]
    },
    {
     "name": "stdout",
     "output_type": "stream",
     "text": [
      "  |===================================                                   |  51%"
     ]
    },
    {
     "name": "stderr",
     "output_type": "stream",
     "text": [
      "boundary (singular) fit: see help('isSingular')\n",
      "\n",
      "boundary (singular) fit: see help('isSingular')\n",
      "\n"
     ]
    },
    {
     "name": "stdout",
     "output_type": "stream",
     "text": [
      "  |====================================                                  |  51%"
     ]
    },
    {
     "name": "stderr",
     "output_type": "stream",
     "text": [
      "boundary (singular) fit: see help('isSingular')\n",
      "\n",
      "boundary (singular) fit: see help('isSingular')\n",
      "\n"
     ]
    },
    {
     "name": "stdout",
     "output_type": "stream",
     "text": [
      "  |====================================                                  |  52%"
     ]
    },
    {
     "name": "stderr",
     "output_type": "stream",
     "text": [
      "boundary (singular) fit: see help('isSingular')\n",
      "\n"
     ]
    },
    {
     "name": "stdout",
     "output_type": "stream",
     "text": [
      "  |=====================================                                 |  53%"
     ]
    },
    {
     "name": "stderr",
     "output_type": "stream",
     "text": [
      "boundary (singular) fit: see help('isSingular')\n",
      "\n",
      "Warning message:\n",
      "\"Model failed to converge with 1 negative eigenvalue: -3.7e+00\"\n",
      "boundary (singular) fit: see help('isSingular')\n",
      "\n",
      "boundary (singular) fit: see help('isSingular')\n",
      "\n"
     ]
    },
    {
     "name": "stdout",
     "output_type": "stream",
     "text": [
      "  |======================================                                |  55%"
     ]
    },
    {
     "name": "stderr",
     "output_type": "stream",
     "text": [
      "boundary (singular) fit: see help('isSingular')\n",
      "\n"
     ]
    },
    {
     "name": "stdout",
     "output_type": "stream",
     "text": [
      "  |=======================================                               |  55%"
     ]
    },
    {
     "name": "stderr",
     "output_type": "stream",
     "text": [
      "boundary (singular) fit: see help('isSingular')\n",
      "\n",
      "boundary (singular) fit: see help('isSingular')\n",
      "\n"
     ]
    },
    {
     "name": "stdout",
     "output_type": "stream",
     "text": [
      "  |=======================================                               |  56%"
     ]
    },
    {
     "name": "stderr",
     "output_type": "stream",
     "text": [
      "boundary (singular) fit: see help('isSingular')\n",
      "\n"
     ]
    },
    {
     "name": "stdout",
     "output_type": "stream",
     "text": [
      "  |========================================                              |  57%"
     ]
    },
    {
     "name": "stderr",
     "output_type": "stream",
     "text": [
      "boundary (singular) fit: see help('isSingular')\n",
      "\n",
      "Warning message:\n",
      "\"Model failed to converge with 1 negative eigenvalue: -9.2e-01\"\n",
      "boundary (singular) fit: see help('isSingular')\n",
      "\n",
      "boundary (singular) fit: see help('isSingular')\n",
      "\n"
     ]
    },
    {
     "name": "stdout",
     "output_type": "stream",
     "text": [
      "  |=========================================                             |  58%"
     ]
    },
    {
     "name": "stderr",
     "output_type": "stream",
     "text": [
      "boundary (singular) fit: see help('isSingular')\n",
      "\n",
      "boundary (singular) fit: see help('isSingular')\n",
      "\n"
     ]
    },
    {
     "name": "stdout",
     "output_type": "stream",
     "text": [
      "  |=========================================                             |  59%"
     ]
    },
    {
     "name": "stderr",
     "output_type": "stream",
     "text": [
      "boundary (singular) fit: see help('isSingular')\n",
      "\n"
     ]
    },
    {
     "name": "stdout",
     "output_type": "stream",
     "text": [
      "  |==========================================                            |  59%"
     ]
    },
    {
     "name": "stderr",
     "output_type": "stream",
     "text": [
      "boundary (singular) fit: see help('isSingular')\n",
      "\n",
      "Warning message:\n",
      "\"Model failed to converge with 1 negative eigenvalue: -6.9e-01\"\n",
      "boundary (singular) fit: see help('isSingular')\n",
      "\n"
     ]
    },
    {
     "name": "stdout",
     "output_type": "stream",
     "text": [
      "  |==========================================                            |  61%"
     ]
    },
    {
     "name": "stderr",
     "output_type": "stream",
     "text": [
      "boundary (singular) fit: see help('isSingular')\n",
      "\n",
      "Warning message:\n",
      "\"Model failed to converge with 1 negative eigenvalue: -3.1e+00\"\n",
      "boundary (singular) fit: see help('isSingular')\n",
      "\n"
     ]
    },
    {
     "name": "stdout",
     "output_type": "stream",
     "text": [
      "  |===========================================                           |  62%"
     ]
    },
    {
     "name": "stderr",
     "output_type": "stream",
     "text": [
      "boundary (singular) fit: see help('isSingular')\n",
      "\n"
     ]
    },
    {
     "name": "stdout",
     "output_type": "stream",
     "text": [
      "  |============================================                          |  63%"
     ]
    },
    {
     "name": "stderr",
     "output_type": "stream",
     "text": [
      "boundary (singular) fit: see help('isSingular')\n",
      "\n",
      "boundary (singular) fit: see help('isSingular')\n",
      "\n",
      "Warning message:\n",
      "\"Model failed to converge with 1 negative eigenvalue: -1.7e-02\"\n"
     ]
    },
    {
     "name": "stdout",
     "output_type": "stream",
     "text": [
      "  |=============================================                         |  64%"
     ]
    },
    {
     "name": "stderr",
     "output_type": "stream",
     "text": [
      "boundary (singular) fit: see help('isSingular')\n",
      "\n",
      "boundary (singular) fit: see help('isSingular')\n",
      "\n"
     ]
    },
    {
     "name": "stdout",
     "output_type": "stream",
     "text": [
      "  |=============================================                         |  65%"
     ]
    },
    {
     "name": "stderr",
     "output_type": "stream",
     "text": [
      "boundary (singular) fit: see help('isSingular')\n",
      "\n"
     ]
    },
    {
     "name": "stdout",
     "output_type": "stream",
     "text": [
      "  |==============================================                        |  65%"
     ]
    },
    {
     "name": "stderr",
     "output_type": "stream",
     "text": [
      "boundary (singular) fit: see help('isSingular')\n",
      "\n",
      "boundary (singular) fit: see help('isSingular')\n",
      "\n"
     ]
    },
    {
     "name": "stdout",
     "output_type": "stream",
     "text": [
      "  |==============================================                        |  66%"
     ]
    },
    {
     "name": "stderr",
     "output_type": "stream",
     "text": [
      "boundary (singular) fit: see help('isSingular')\n",
      "\n",
      "boundary (singular) fit: see help('isSingular')\n",
      "\n"
     ]
    },
    {
     "name": "stdout",
     "output_type": "stream",
     "text": [
      "  |===============================================                       |  67%"
     ]
    },
    {
     "name": "stderr",
     "output_type": "stream",
     "text": [
      "boundary (singular) fit: see help('isSingular')\n",
      "\n",
      "boundary (singular) fit: see help('isSingular')\n",
      "\n",
      "boundary (singular) fit: see help('isSingular')\n",
      "\n"
     ]
    },
    {
     "name": "stdout",
     "output_type": "stream",
     "text": [
      "  |================================================                      |  68%"
     ]
    },
    {
     "name": "stderr",
     "output_type": "stream",
     "text": [
      "boundary (singular) fit: see help('isSingular')\n",
      "\n",
      "boundary (singular) fit: see help('isSingular')\n",
      "\n"
     ]
    },
    {
     "name": "stdout",
     "output_type": "stream",
     "text": [
      "  |================================================                      |  69%"
     ]
    },
    {
     "name": "stderr",
     "output_type": "stream",
     "text": [
      "boundary (singular) fit: see help('isSingular')\n",
      "\n"
     ]
    },
    {
     "name": "stdout",
     "output_type": "stream",
     "text": [
      "  |=================================================                     |  69%"
     ]
    },
    {
     "name": "stderr",
     "output_type": "stream",
     "text": [
      "boundary (singular) fit: see help('isSingular')\n",
      "\n"
     ]
    },
    {
     "name": "stdout",
     "output_type": "stream",
     "text": [
      "  |=================================================                     |  70%"
     ]
    },
    {
     "name": "stderr",
     "output_type": "stream",
     "text": [
      "boundary (singular) fit: see help('isSingular')\n",
      "\n",
      "boundary (singular) fit: see help('isSingular')\n",
      "\n"
     ]
    },
    {
     "name": "stdout",
     "output_type": "stream",
     "text": [
      "  |=================================================                     |  71%"
     ]
    },
    {
     "name": "stderr",
     "output_type": "stream",
     "text": [
      "boundary (singular) fit: see help('isSingular')\n",
      "\n"
     ]
    },
    {
     "name": "stdout",
     "output_type": "stream",
     "text": [
      "  |==================================================                    |  71%"
     ]
    },
    {
     "name": "stderr",
     "output_type": "stream",
     "text": [
      "boundary (singular) fit: see help('isSingular')\n",
      "\n",
      "boundary (singular) fit: see help('isSingular')\n",
      "\n"
     ]
    },
    {
     "name": "stdout",
     "output_type": "stream",
     "text": [
      "  |==================================================                    |  72%"
     ]
    },
    {
     "name": "stderr",
     "output_type": "stream",
     "text": [
      "boundary (singular) fit: see help('isSingular')\n",
      "\n",
      "boundary (singular) fit: see help('isSingular')\n",
      "\n"
     ]
    },
    {
     "name": "stdout",
     "output_type": "stream",
     "text": [
      "  |===================================================                   |  73%"
     ]
    },
    {
     "name": "stderr",
     "output_type": "stream",
     "text": [
      "boundary (singular) fit: see help('isSingular')\n",
      "\n",
      "boundary (singular) fit: see help('isSingular')\n",
      "\n",
      "boundary (singular) fit: see help('isSingular')\n",
      "\n",
      "boundary (singular) fit: see help('isSingular')\n",
      "\n"
     ]
    },
    {
     "name": "stdout",
     "output_type": "stream",
     "text": [
      "  |====================================================                  |  75%"
     ]
    },
    {
     "name": "stderr",
     "output_type": "stream",
     "text": [
      "boundary (singular) fit: see help('isSingular')\n",
      "\n"
     ]
    },
    {
     "name": "stdout",
     "output_type": "stream",
     "text": [
      "  |=====================================================                 |  76%"
     ]
    },
    {
     "name": "stderr",
     "output_type": "stream",
     "text": [
      "boundary (singular) fit: see help('isSingular')\n",
      "\n",
      "Warning message:\n",
      "\"Model failed to converge with 1 negative eigenvalue: -1.0e+00\"\n",
      "boundary (singular) fit: see help('isSingular')\n",
      "\n"
     ]
    },
    {
     "name": "stdout",
     "output_type": "stream",
     "text": [
      "  |======================================================                |  77%"
     ]
    },
    {
     "name": "stderr",
     "output_type": "stream",
     "text": [
      "boundary (singular) fit: see help('isSingular')\n",
      "\n",
      "boundary (singular) fit: see help('isSingular')\n",
      "\n",
      "boundary (singular) fit: see help('isSingular')\n",
      "\n"
     ]
    },
    {
     "name": "stdout",
     "output_type": "stream",
     "text": [
      "  |=======================================================               |  78%"
     ]
    },
    {
     "name": "stderr",
     "output_type": "stream",
     "text": [
      "boundary (singular) fit: see help('isSingular')\n",
      "\n",
      "boundary (singular) fit: see help('isSingular')\n",
      "\n"
     ]
    },
    {
     "name": "stdout",
     "output_type": "stream",
     "text": [
      "  |=======================================================               |  79%"
     ]
    },
    {
     "name": "stderr",
     "output_type": "stream",
     "text": [
      "boundary (singular) fit: see help('isSingular')\n",
      "\n",
      "boundary (singular) fit: see help('isSingular')\n",
      "\n"
     ]
    },
    {
     "name": "stdout",
     "output_type": "stream",
     "text": [
      "  |========================================================              |  79%"
     ]
    },
    {
     "name": "stderr",
     "output_type": "stream",
     "text": [
      "boundary (singular) fit: see help('isSingular')\n",
      "\n",
      "boundary (singular) fit: see help('isSingular')\n",
      "\n"
     ]
    },
    {
     "name": "stdout",
     "output_type": "stream",
     "text": [
      "  |========================================================              |  80%"
     ]
    },
    {
     "name": "stderr",
     "output_type": "stream",
     "text": [
      "boundary (singular) fit: see help('isSingular')\n",
      "\n",
      "boundary (singular) fit: see help('isSingular')\n",
      "\n"
     ]
    },
    {
     "name": "stdout",
     "output_type": "stream",
     "text": [
      "  |========================================================              |  81%"
     ]
    },
    {
     "name": "stderr",
     "output_type": "stream",
     "text": [
      "boundary (singular) fit: see help('isSingular')\n",
      "\n"
     ]
    },
    {
     "name": "stdout",
     "output_type": "stream",
     "text": [
      "  |=========================================================             |  81%"
     ]
    },
    {
     "name": "stderr",
     "output_type": "stream",
     "text": [
      "boundary (singular) fit: see help('isSingular')\n",
      "\n",
      "boundary (singular) fit: see help('isSingular')\n",
      "\n"
     ]
    },
    {
     "name": "stdout",
     "output_type": "stream",
     "text": [
      "  |=========================================================             |  82%"
     ]
    },
    {
     "name": "stderr",
     "output_type": "stream",
     "text": [
      "boundary (singular) fit: see help('isSingular')\n",
      "\n"
     ]
    },
    {
     "name": "stdout",
     "output_type": "stream",
     "text": [
      "  |==========================================================            |  83%"
     ]
    },
    {
     "name": "stderr",
     "output_type": "stream",
     "text": [
      "boundary (singular) fit: see help('isSingular')\n",
      "\n",
      "boundary (singular) fit: see help('isSingular')\n",
      "\n"
     ]
    },
    {
     "name": "stdout",
     "output_type": "stream",
     "text": [
      "  |===========================================================           |  85%"
     ]
    },
    {
     "name": "stderr",
     "output_type": "stream",
     "text": [
      "boundary (singular) fit: see help('isSingular')\n",
      "\n",
      "boundary (singular) fit: see help('isSingular')\n",
      "\n"
     ]
    },
    {
     "name": "stdout",
     "output_type": "stream",
     "text": [
      "  |============================================================          |  86%"
     ]
    },
    {
     "name": "stderr",
     "output_type": "stream",
     "text": [
      "boundary (singular) fit: see help('isSingular')\n",
      "\n"
     ]
    },
    {
     "name": "stdout",
     "output_type": "stream",
     "text": [
      "  |=============================================================         |  87%"
     ]
    },
    {
     "name": "stderr",
     "output_type": "stream",
     "text": [
      "boundary (singular) fit: see help('isSingular')\n",
      "\n",
      "boundary (singular) fit: see help('isSingular')\n",
      "\n",
      "boundary (singular) fit: see help('isSingular')\n",
      "\n",
      "boundary (singular) fit: see help('isSingular')\n",
      "\n"
     ]
    },
    {
     "name": "stdout",
     "output_type": "stream",
     "text": [
      "  |==============================================================        |  88%"
     ]
    },
    {
     "name": "stderr",
     "output_type": "stream",
     "text": [
      "boundary (singular) fit: see help('isSingular')\n",
      "\n"
     ]
    },
    {
     "name": "stdout",
     "output_type": "stream",
     "text": [
      "  |==============================================================        |  89%"
     ]
    },
    {
     "name": "stderr",
     "output_type": "stream",
     "text": [
      "boundary (singular) fit: see help('isSingular')\n",
      "\n"
     ]
    },
    {
     "name": "stdout",
     "output_type": "stream",
     "text": [
      "  |===============================================================       |  89%"
     ]
    },
    {
     "name": "stderr",
     "output_type": "stream",
     "text": [
      "boundary (singular) fit: see help('isSingular')\n",
      "\n"
     ]
    },
    {
     "name": "stdout",
     "output_type": "stream",
     "text": [
      "  |===============================================================       |  90%"
     ]
    },
    {
     "name": "stderr",
     "output_type": "stream",
     "text": [
      "boundary (singular) fit: see help('isSingular')\n",
      "\n",
      "boundary (singular) fit: see help('isSingular')\n",
      "\n"
     ]
    },
    {
     "name": "stdout",
     "output_type": "stream",
     "text": [
      "  |===============================================================       |  91%"
     ]
    },
    {
     "name": "stderr",
     "output_type": "stream",
     "text": [
      "boundary (singular) fit: see help('isSingular')\n",
      "\n",
      "boundary (singular) fit: see help('isSingular')\n",
      "\n"
     ]
    },
    {
     "name": "stdout",
     "output_type": "stream",
     "text": [
      "  |================================================================      |  91%"
     ]
    },
    {
     "name": "stderr",
     "output_type": "stream",
     "text": [
      "boundary (singular) fit: see help('isSingular')\n",
      "\n",
      "boundary (singular) fit: see help('isSingular')\n",
      "\n"
     ]
    },
    {
     "name": "stdout",
     "output_type": "stream",
     "text": [
      "  |================================================================      |  92%"
     ]
    },
    {
     "name": "stderr",
     "output_type": "stream",
     "text": [
      "boundary (singular) fit: see help('isSingular')\n",
      "\n"
     ]
    },
    {
     "name": "stdout",
     "output_type": "stream",
     "text": [
      "  |=================================================================     |  93%"
     ]
    },
    {
     "name": "stderr",
     "output_type": "stream",
     "text": [
      "boundary (singular) fit: see help('isSingular')\n",
      "\n",
      "boundary (singular) fit: see help('isSingular')\n",
      "\n",
      "boundary (singular) fit: see help('isSingular')\n",
      "\n",
      "Warning message:\n",
      "\"Model failed to converge with 1 negative eigenvalue: -1.6e+01\"\n",
      "boundary (singular) fit: see help('isSingular')\n",
      "\n"
     ]
    },
    {
     "name": "stdout",
     "output_type": "stream",
     "text": [
      "  |==================================================================    |  94%"
     ]
    },
    {
     "name": "stderr",
     "output_type": "stream",
     "text": [
      "boundary (singular) fit: see help('isSingular')\n",
      "\n"
     ]
    },
    {
     "name": "stdout",
     "output_type": "stream",
     "text": [
      "  |==================================================================    |  95%"
     ]
    },
    {
     "name": "stderr",
     "output_type": "stream",
     "text": [
      "boundary (singular) fit: see help('isSingular')\n",
      "\n",
      "boundary (singular) fit: see help('isSingular')\n",
      "\n"
     ]
    },
    {
     "name": "stdout",
     "output_type": "stream",
     "text": [
      "  |===================================================================   |  95%"
     ]
    },
    {
     "name": "stderr",
     "output_type": "stream",
     "text": [
      "boundary (singular) fit: see help('isSingular')\n",
      "\n"
     ]
    },
    {
     "name": "stdout",
     "output_type": "stream",
     "text": [
      "  |===================================================================   |  96%"
     ]
    },
    {
     "name": "stderr",
     "output_type": "stream",
     "text": [
      "boundary (singular) fit: see help('isSingular')\n",
      "\n"
     ]
    },
    {
     "name": "stdout",
     "output_type": "stream",
     "text": [
      "  |====================================================================  |  97%"
     ]
    },
    {
     "name": "stderr",
     "output_type": "stream",
     "text": [
      "boundary (singular) fit: see help('isSingular')\n",
      "\n",
      "boundary (singular) fit: see help('isSingular')\n",
      "\n"
     ]
    },
    {
     "name": "stdout",
     "output_type": "stream",
     "text": [
      "  |======================================================================| 100%\n",
      "  |===================================================================== |  98%"
     ]
    },
    {
     "name": "stderr",
     "output_type": "stream",
     "text": [
      "boundary (singular) fit: see help('isSingular')\n",
      "\n",
      "boundary (singular) fit: see help('isSingular')\n",
      "\n"
     ]
    },
    {
     "name": "stdout",
     "output_type": "stream",
     "text": [
      "  |===================================================================== |  99%"
     ]
    },
    {
     "name": "stderr",
     "output_type": "stream",
     "text": [
      "boundary (singular) fit: see help('isSingular')\n",
      "\n",
      "boundary (singular) fit: see help('isSingular')\n",
      "\n"
     ]
    },
    {
     "name": "stdout",
     "output_type": "stream",
     "text": [
      "  |======================================================================|  99%"
     ]
    },
    {
     "name": "stderr",
     "output_type": "stream",
     "text": [
      "boundary (singular) fit: see help('isSingular')\n",
      "\n",
      "boundary (singular) fit: see help('isSingular')\n",
      "\n"
     ]
    },
    {
     "name": "stdout",
     "output_type": "stream",
     "text": [
      "  |======================================================================| 100%\n"
     ]
    }
   ],
   "source": [
    "n_subjects= 25\n",
    "n_observations = 4\n",
    "p = 100\n",
    "q = 1\n",
    "\n",
    "SNR_values = c(4)\n",
    "prop_relevant_values = c(0.1, 0.2, 0.3)\n",
    "num_iter = 50\n",
    "\n",
    "fixed_form = as.formula(\n",
    "    paste(\"y ~ 1 +\",paste(\"X\", 1:p, sep=\"\", collapse='+'),sep=\"\")\n",
    ")\n",
    "\n",
    "rand_form = list(subjects =~ 1 + X1)\n",
    "\n",
    "tot_its <- length(SNR_values)*length(prop_relevant_values)*num_iter\n",
    "\n",
    "columns = c('SNR','prop_relevant', 'TPR_lasso', 'TPR_selinf', 'FDR_lasso', 'FDR_selinf', 'num_sel_lasso', 'num_sel_selinf')\n",
    "results_df = data.frame(matrix(nrow = 0, ncol = length(columns))) \n",
    "colnames(results_df) = columns\n",
    "\n",
    "pb = txtProgressBar(min = 0, max = tot_its, initial = 0, style = 3)\n",
    "\n",
    "for(SNR in SNR_values){\n",
    "    for(prop_relevant in prop_relevant_values){\n",
    "        for(i in 1:num_iter){\n",
    "\n",
    "            data <- data_generator(n_subjects, n_observations, p, q, SNR, prop_relevant)\n",
    "            X <- data$X\n",
    "            subjects <- data$subjects\n",
    "            y <- data$y\n",
    "            beta <- data$beta\n",
    "\n",
    "            # fixing lambda\n",
    "            lambda = max(abs(t(X) %*% y)) / 2\n",
    "            \n",
    "\n",
    "            selFun <- function(y) selFun_fixed_lambda(X, subjects, y, fixed_form, rand_form, lambda)\n",
    "\n",
    "            # Now we can define the function checking the congruency\n",
    "            # with the original selection\n",
    "            checkFun <- function(yb){\n",
    "\n",
    "                all(selFun(yb)$vec == sel_vec)\n",
    "\n",
    "            }\n",
    "\n",
    "            \n",
    "            sel <- selFun(y)\n",
    "            sel_vec <- sel$vec\n",
    "            sel_names <- sel$names\n",
    "\n",
    "            sel_form = as.formula(\n",
    "            paste(\"y ~ \",paste(sel_names[2:length(sel_names)], collapse='+'), \"+ (1 + X1|subjects)\")\n",
    "            )\n",
    "\n",
    "            final_model = lmer(formula = sel_form, data = data.frame(X, subjects, y))\n",
    "            \n",
    "            # and compute valid p-values conditional on the selection\n",
    "            # (this takes some time and will produce a lot of warnings)\n",
    "            suppressWarnings(res <- mocasin(final_model, this_y = y, conditional = FALSE, varForSampling = 'minMod',\n",
    "                        checkFun = checkFun, nrSamples = 100, trace = FALSE))\n",
    "\n",
    "            sel_with_selinf <- c(rep(0,p+1))\n",
    "            names(sel_with_selinf) <- names(sel_vec)\n",
    "            only_sel <- names(sel_vec[sel_vec == 1])\n",
    "\n",
    "            for (i in 1:length(res$selinf)) {\n",
    "                if (res$selinf[[i]][\"pval\"] < 0.05) sel_with_selinf[only_sel[i]] <- 1\n",
    "            }\n",
    "            \n",
    "            lasso_metrics <- metrics(sel_vec,c(1,beta!=0))\n",
    "            selinf_metrics <- metrics(sel_with_selinf,c(1,beta!=0))\n",
    "\n",
    "            num_sel_lasso <- sum(sel_vec)\n",
    "            num_sel_selinf <- sum(sel_with_selinf)\n",
    "\n",
    "            results_df[nrow(results_df) + 1,] <- c(SNR, prop_relevant, lasso_metrics$tpr, selinf_metrics$tpr, lasso_metrics$fdr, selinf_metrics$fdr, num_sel_lasso, num_sel_selinf)\n",
    "\n",
    "            setTxtProgressBar(pb,nrow(results_df))\n",
    "\n",
    "        }\n",
    "    }\n",
    "}\n",
    "\n",
    "close(pb)"
   ]
  },
  {
   "cell_type": "code",
   "execution_count": 8,
   "metadata": {
    "vscode": {
     "languageId": "r"
    }
   },
   "outputs": [],
   "source": [
    "write.csv(results_df, \"C:/Users/matteda/OneDrive - Universitetet i Oslo/Skrivebord/phd/ConditioningApproach/new_minmod_simulation_results_SNR4.csv\", row.names=FALSE)"
   ]
  },
  {
   "cell_type": "code",
   "execution_count": 31,
   "metadata": {
    "vscode": {
     "languageId": "r"
    }
   },
   "outputs": [],
   "source": [
    "if(q>0) rf = paste(\"+\", paste(\"X\", 1:q, sep=\"\", collapse='+'),sep=\"\") else rf = ''"
   ]
  },
  {
   "cell_type": "code",
   "execution_count": 34,
   "metadata": {
    "vscode": {
     "languageId": "r"
    }
   },
   "outputs": [],
   "source": [
    "setwd(\"c:/Users/matteda/OneDrive - Universitetet i Oslo/Skrivebord/phd/ConditioningApproach\")"
   ]
  },
  {
   "cell_type": "code",
   "execution_count": 37,
   "metadata": {
    "vscode": {
     "languageId": "r"
    }
   },
   "outputs": [],
   "source": [
    "library(RhpcBLASctl)"
   ]
  },
  {
   "cell_type": "code",
   "execution_count": 38,
   "metadata": {
    "vscode": {
     "languageId": "r"
    }
   },
   "outputs": [],
   "source": [
    "RhpcBLASctl::blas_set_num_threads(20)"
   ]
  },
  {
   "cell_type": "code",
   "execution_count": 7,
   "metadata": {
    "vscode": {
     "languageId": "r"
    }
   },
   "outputs": [],
   "source": [
    "datas <- lapply(1:num_iter, function(j){data_generator(n_subjects, n_observations, p, q, SNR, prop_relevant, rho=corr)})"
   ]
  },
  {
   "cell_type": "code",
   "execution_count": null,
   "metadata": {
    "vscode": {
     "languageId": "r"
    }
   },
   "outputs": [],
   "source": [
    "source('data_generator.r')\n",
    "source('helper_functions.r')\n",
    "source('main_functions.r')\n",
    "source('sampling_functions.r')\n",
    "source('selfmade.r')\n",
    "source('selinf_functions.r')\n",
    "source('testvector_functions.r')\n",
    "source('utils.r')\n",
    "\n",
    "\n",
    "RhpcBLASctl::blas_set_num_threads(20)\n",
    "\n",
    "NewminMod = TRUE\n",
    "if(NewminMod) source('minMod_modif.r')\n",
    "\n",
    "\n",
    "n_subjects= 25\n",
    "n_observations = 4\n",
    "n = n_subjects*n_observations\n",
    "p = 100\n",
    "q = 1\n",
    "\n",
    "varForSampling = 'minMod'\n",
    "\n",
    "SNR_values = c(4)\n",
    "prop_relevant_values = c(0.1, 0.15, 0.2)\n",
    "corrs = c(0.2, 0.4, 0.6)\n",
    "num_iter = 50\n",
    "\n",
    "fixed_form = as.formula(\n",
    "    paste(\"y ~ 1 +\",paste(\"X\", 1:p, sep=\"\", collapse='+'),sep=\"\")\n",
    ")\n",
    "\n",
    "if(q>0) rf = as.formula(paste(\" ~ 1 +\",paste(\"X\", 1:q, sep=\"\", collapse='+'),sep=\"\")) else rf = as.formula(\" ~ 1\")\n",
    "\n",
    "rand_form = list(subjects = rf)\n",
    "\n",
    "tot_its <- length(SNR_values)*length(prop_relevant_values)*length(corrs)*num_iter\n",
    "\n",
    "columns = c('SNR','prop_relevant', 'corr', 'TPR', 'FDR', 'num_sel')\n",
    "results_df = data.frame(matrix(nrow = 0, ncol = length(columns))) \n",
    "colnames(results_df) = columns\n",
    "\n",
    "for(SNR in SNR_values){\n",
    "    for(prop_relevant in prop_relevant_values){\n",
    "        for(corr in corrs){\n",
    "\n",
    "            datas <- lapply(1:num_iter, data_generator(n_subjects, n_observations, p, q, SNR, prop_relevant, rho=corr))\n",
    "\n",
    "                data <- data_generator(n_subjects, n_observations, p, q, SNR, prop_relevant, rho=corr)\n",
    "                X <- data$X\n",
    "                subjects <- data$subjects\n",
    "                y <- data$y\n",
    "                beta <- data$beta\n",
    "\n",
    "                # fixing lambda\n",
    "                lambda = max(abs(t(X) %*% y)) / 2\n",
    "                \n",
    "\n",
    "                selFun <- function(y) selFun_fixed_lambda(X, subjects, y, fixed_form, rand_form, lambda)\n",
    "\n",
    "                # Now we can define the function checking the congruency\n",
    "                # with the original selection\n",
    "                checkFun <- function(yb){\n",
    "\n",
    "                    all(selFun(yb)$vec == sel_vec)\n",
    "\n",
    "                }\n",
    "\n",
    "                \n",
    "                sel <- selFun(y)\n",
    "                sel_vec <- sel$vec\n",
    "                sel_names <- sel$names\n",
    "\n",
    "                if(q>0) rf = paste(\"+\", paste(\"X\", 1:q, sep=\"\", collapse='+'),sep=\"\") else rf = \"\"\n",
    "\n",
    "                sel_form = as.formula(\n",
    "                paste(\"y ~ \", paste(sel_names[2:length(sel_names)], collapse='+'), \"+ (1 \", rf, \"|subjects)\")\n",
    "                )\n",
    "\n",
    "                final_model = lmer(formula = sel_form, data = data.frame(X, subjects, y))\n",
    "                \n",
    "                # and compute valid p-values conditional on the selection\n",
    "                # (this takes some time and will produce a lot of warnings)\n",
    "                suppressWarnings(res <- mocasin(final_model, this_y = y, conditional = FALSE, varForSampling = varForSampling,\n",
    "                            checkFun = checkFun, nrSamples = 100, trace = FALSE))\n",
    "\n",
    "                sel_with_selinf <- c(rep(0,p+1))\n",
    "                names(sel_with_selinf) <- names(sel_vec)\n",
    "                only_sel <- names(sel_vec[sel_vec == 1])\n",
    "\n",
    "                for (i in 1:length(res$selinf)) {\n",
    "                    if (res$selinf[[i]][\"pval\"] < 0.05) sel_with_selinf[only_sel[i]] <- 1\n",
    "                }\n",
    "\n",
    "                selinf_metrics <- metrics(sel_with_selinf,c(1,beta!=0))\n",
    "\n",
    "                num_sel_selinf <- sum(sel_with_selinf)\n",
    "\n",
    "                results_df[nrow(results_df) + 1,] <- c(SNR, prop_relevant, corr, selinf_metrics$tpr, selinf_metrics$fdr, num_sel_selinf)\n",
    "\n",
    "            })\n",
    "        }\n",
    "    }\n",
    "}\n",
    "\n",
    "\n",
    "results_name = paste('simres_n',n,'_p',p,'_q',q,'_',varForSampling, sep='')\n",
    "if(NewminMod) results_name = paste(results_name, '_new', sep='')\n",
    "results_name = paste(results_name,'.csv', sep='')\n",
    "\n",
    "\n",
    "write.csv(results_df, results_name, row.names=FALSE)"
   ]
  },
  {
   "cell_type": "code",
   "execution_count": 9,
   "metadata": {
    "vscode": {
     "languageId": "r"
    }
   },
   "outputs": [
    {
     "name": "stdout",
     "output_type": "stream",
     "text": [
      "  |=                                                                     |   1%"
     ]
    },
    {
     "name": "stderr",
     "output_type": "stream",
     "text": [
      "boundary (singular) fit: see help('isSingular')\n",
      "\n"
     ]
    },
    {
     "name": "stdout",
     "output_type": "stream",
     "text": [
      "  |===                                                                   |   4%"
     ]
    },
    {
     "name": "stderr",
     "output_type": "stream",
     "text": [
      "boundary (singular) fit: see help('isSingular')\n",
      "\n"
     ]
    },
    {
     "name": "stdout",
     "output_type": "stream",
     "text": [
      "  |======================================================================| 100%\n",
      "  |======================================================================| 100%\n",
      "  |======================================================================| 100%\n",
      "  |======================================================================| 100%\n",
      "  |======================================================================| 100%\n",
      "  |======================================================================| 100%\n",
      "  |======================================================================| 100%\n",
      "  |======================================================================| 100%\n",
      "  |======================================================================| 100%\n",
      "  |======================================================================| 100%\n",
      "  |======================================================================| 100%\n",
      "  |======================================================================| 100%\n",
      "  |======================================================================| 100%\n",
      "  |======================================================================| 100%\n",
      "  |======================================================================| 100%\n",
      "  |======================================================================| 100%\n",
      "  |======================================================================| 100%\n",
      "  |======================================================================| 100%\n",
      "  |======                                                                |   8%"
     ]
    },
    {
     "name": "stderr",
     "output_type": "stream",
     "text": [
      "boundary (singular) fit: see help('isSingular')\n",
      "\n"
     ]
    },
    {
     "name": "stdout",
     "output_type": "stream",
     "text": [
      "  |=======                                                               |   9%"
     ]
    },
    {
     "name": "stderr",
     "output_type": "stream",
     "text": [
      "boundary (singular) fit: see help('isSingular')\n",
      "\n"
     ]
    },
    {
     "name": "stdout",
     "output_type": "stream",
     "text": [
      "  |=======                                                               |  10%"
     ]
    },
    {
     "name": "stderr",
     "output_type": "stream",
     "text": [
      "boundary (singular) fit: see help('isSingular')\n",
      "\n"
     ]
    },
    {
     "name": "stdout",
     "output_type": "stream",
     "text": [
      "  |========                                                              |  11%"
     ]
    },
    {
     "name": "stderr",
     "output_type": "stream",
     "text": [
      "boundary (singular) fit: see help('isSingular')\n",
      "\n"
     ]
    },
    {
     "name": "stdout",
     "output_type": "stream",
     "text": [
      "  |==========                                                            |  14%"
     ]
    },
    {
     "name": "stderr",
     "output_type": "stream",
     "text": [
      "boundary (singular) fit: see help('isSingular')\n",
      "\n"
     ]
    },
    {
     "name": "stdout",
     "output_type": "stream",
     "text": [
      "  |===========                                                           |  15%"
     ]
    },
    {
     "name": "stderr",
     "output_type": "stream",
     "text": [
      "boundary (singular) fit: see help('isSingular')\n",
      "\n"
     ]
    },
    {
     "name": "stdout",
     "output_type": "stream",
     "text": [
      "  |==============                                                        |  19%"
     ]
    },
    {
     "name": "stderr",
     "output_type": "stream",
     "text": [
      "boundary (singular) fit: see help('isSingular')\n",
      "\n"
     ]
    },
    {
     "name": "stdout",
     "output_type": "stream",
     "text": [
      "  |================                                                      |  23%"
     ]
    },
    {
     "name": "stderr",
     "output_type": "stream",
     "text": [
      "boundary (singular) fit: see help('isSingular')\n",
      "\n",
      "boundary (singular) fit: see help('isSingular')\n",
      "\n"
     ]
    },
    {
     "name": "stdout",
     "output_type": "stream",
     "text": [
      "  |=================                                                     |  24%"
     ]
    },
    {
     "name": "stderr",
     "output_type": "stream",
     "text": [
      "boundary (singular) fit: see help('isSingular')\n",
      "\n"
     ]
    },
    {
     "name": "stdout",
     "output_type": "stream",
     "text": [
      "  |======================================================================| 100%\n",
      "  |==================                                                    |  25%"
     ]
    },
    {
     "name": "stderr",
     "output_type": "stream",
     "text": [
      "boundary (singular) fit: see help('isSingular')\n",
      "\n"
     ]
    },
    {
     "name": "stdout",
     "output_type": "stream",
     "text": [
      "  |======================================================================| 100%\n"
     ]
    },
    {
     "name": "stderr",
     "output_type": "stream",
     "text": [
      "boundary (singular) fit: see help('isSingular')\n",
      "\n"
     ]
    },
    {
     "name": "stdout",
     "output_type": "stream",
     "text": [
      "  |======================================================================| 100%\n",
      "  |=====================                                                 |  29%"
     ]
    },
    {
     "name": "stderr",
     "output_type": "stream",
     "text": [
      "boundary (singular) fit: see help('isSingular')\n",
      "\n"
     ]
    },
    {
     "name": "stdout",
     "output_type": "stream",
     "text": [
      "  |=====================                                                 |  30%"
     ]
    },
    {
     "name": "stderr",
     "output_type": "stream",
     "text": [
      "boundary (singular) fit: see help('isSingular')\n",
      "\n"
     ]
    },
    {
     "name": "stdout",
     "output_type": "stream",
     "text": [
      "  |=====================                                                 |  31%"
     ]
    },
    {
     "name": "stderr",
     "output_type": "stream",
     "text": [
      "boundary (singular) fit: see help('isSingular')\n",
      "\n"
     ]
    },
    {
     "name": "stdout",
     "output_type": "stream",
     "text": [
      "  |======================                                                |  31%"
     ]
    },
    {
     "name": "stderr",
     "output_type": "stream",
     "text": [
      "boundary (singular) fit: see help('isSingular')\n",
      "\n"
     ]
    },
    {
     "name": "stdout",
     "output_type": "stream",
     "text": [
      "  |=======================                                               |  33%"
     ]
    },
    {
     "name": "stderr",
     "output_type": "stream",
     "text": [
      "boundary (singular) fit: see help('isSingular')\n",
      "\n"
     ]
    },
    {
     "name": "stdout",
     "output_type": "stream",
     "text": [
      "  |========================                                              |  34%"
     ]
    },
    {
     "name": "stderr",
     "output_type": "stream",
     "text": [
      "boundary (singular) fit: see help('isSingular')\n",
      "\n"
     ]
    },
    {
     "name": "stdout",
     "output_type": "stream",
     "text": [
      "  |========================                                              |  35%"
     ]
    },
    {
     "name": "stderr",
     "output_type": "stream",
     "text": [
      "boundary (singular) fit: see help('isSingular')\n",
      "\n"
     ]
    },
    {
     "name": "stdout",
     "output_type": "stream",
     "text": [
      "  |=========================                                             |  35%"
     ]
    },
    {
     "name": "stderr",
     "output_type": "stream",
     "text": [
      "boundary (singular) fit: see help('isSingular')\n",
      "\n",
      "boundary (singular) fit: see help('isSingular')\n",
      "\n"
     ]
    },
    {
     "name": "stdout",
     "output_type": "stream",
     "text": [
      "  |=========================                                             |  36%"
     ]
    },
    {
     "name": "stderr",
     "output_type": "stream",
     "text": [
      "boundary (singular) fit: see help('isSingular')\n",
      "\n"
     ]
    },
    {
     "name": "stdout",
     "output_type": "stream",
     "text": [
      "  |==========================                                            |  37%"
     ]
    },
    {
     "name": "stderr",
     "output_type": "stream",
     "text": [
      "boundary (singular) fit: see help('isSingular')\n",
      "\n",
      "boundary (singular) fit: see help('isSingular')\n",
      "\n"
     ]
    },
    {
     "name": "stdout",
     "output_type": "stream",
     "text": [
      "  |===========================                                           |  39%"
     ]
    },
    {
     "name": "stderr",
     "output_type": "stream",
     "text": [
      "boundary (singular) fit: see help('isSingular')\n",
      "\n"
     ]
    },
    {
     "name": "stdout",
     "output_type": "stream",
     "text": [
      "  |============================                                          |  39%"
     ]
    },
    {
     "name": "stderr",
     "output_type": "stream",
     "text": [
      "boundary (singular) fit: see help('isSingular')\n",
      "\n",
      "boundary (singular) fit: see help('isSingular')\n",
      "\n"
     ]
    },
    {
     "name": "stdout",
     "output_type": "stream",
     "text": [
      "  |=============================                                         |  42%"
     ]
    },
    {
     "name": "stderr",
     "output_type": "stream",
     "text": [
      "boundary (singular) fit: see help('isSingular')\n",
      "\n",
      "boundary (singular) fit: see help('isSingular')\n",
      "\n"
     ]
    },
    {
     "name": "stdout",
     "output_type": "stream",
     "text": [
      "  |==============================                                        |  43%"
     ]
    },
    {
     "name": "stderr",
     "output_type": "stream",
     "text": [
      "boundary (singular) fit: see help('isSingular')\n",
      "\n",
      "boundary (singular) fit: see help('isSingular')\n",
      "\n"
     ]
    },
    {
     "name": "stdout",
     "output_type": "stream",
     "text": [
      "  |===============================                                       |  45%"
     ]
    },
    {
     "name": "stderr",
     "output_type": "stream",
     "text": [
      "boundary (singular) fit: see help('isSingular')\n",
      "\n"
     ]
    },
    {
     "name": "stdout",
     "output_type": "stream",
     "text": [
      "  |================================                                      |  45%"
     ]
    },
    {
     "name": "stderr",
     "output_type": "stream",
     "text": [
      "boundary (singular) fit: see help('isSingular')\n",
      "\n"
     ]
    },
    {
     "name": "stdout",
     "output_type": "stream",
     "text": [
      "  |================================                                      |  46%"
     ]
    },
    {
     "name": "stderr",
     "output_type": "stream",
     "text": [
      "boundary (singular) fit: see help('isSingular')\n",
      "\n",
      "boundary (singular) fit: see help('isSingular')\n",
      "\n"
     ]
    },
    {
     "name": "stdout",
     "output_type": "stream",
     "text": [
      "  |=================================                                     |  47%"
     ]
    },
    {
     "name": "stderr",
     "output_type": "stream",
     "text": [
      "boundary (singular) fit: see help('isSingular')\n",
      "\n",
      "Warning message:\n",
      "\"Model failed to converge with 1 negative eigenvalue: -1.6e+00\"\n",
      "boundary (singular) fit: see help('isSingular')\n",
      "\n"
     ]
    },
    {
     "name": "stdout",
     "output_type": "stream",
     "text": [
      "  |===================================                                   |  49%"
     ]
    },
    {
     "name": "stderr",
     "output_type": "stream",
     "text": [
      "boundary (singular) fit: see help('isSingular')\n",
      "\n"
     ]
    },
    {
     "name": "stdout",
     "output_type": "stream",
     "text": [
      "  |===================================                                   |  51%"
     ]
    },
    {
     "name": "stderr",
     "output_type": "stream",
     "text": [
      "boundary (singular) fit: see help('isSingular')\n",
      "\n",
      "Warning message:\n",
      "\"Model failed to converge with 1 negative eigenvalue: -6.4e+00\"\n"
     ]
    },
    {
     "name": "stdout",
     "output_type": "stream",
     "text": [
      "  |====================================                                  |  51%"
     ]
    },
    {
     "name": "stderr",
     "output_type": "stream",
     "text": [
      "boundary (singular) fit: see help('isSingular')\n",
      "\n"
     ]
    },
    {
     "name": "stdout",
     "output_type": "stream",
     "text": [
      "  |====================================                                  |  52%"
     ]
    },
    {
     "name": "stderr",
     "output_type": "stream",
     "text": [
      "boundary (singular) fit: see help('isSingular')\n",
      "\n"
     ]
    },
    {
     "name": "stdout",
     "output_type": "stream",
     "text": [
      "  |=====================================                                 |  53%"
     ]
    },
    {
     "name": "stderr",
     "output_type": "stream",
     "text": [
      "boundary (singular) fit: see help('isSingular')\n",
      "\n",
      "boundary (singular) fit: see help('isSingular')\n",
      "\n"
     ]
    },
    {
     "name": "stdout",
     "output_type": "stream",
     "text": [
      "  |======================================                                |  54%"
     ]
    },
    {
     "name": "stderr",
     "output_type": "stream",
     "text": [
      "boundary (singular) fit: see help('isSingular')\n",
      "\n"
     ]
    },
    {
     "name": "stdout",
     "output_type": "stream",
     "text": [
      "  |======================================                                |  55%"
     ]
    },
    {
     "name": "stderr",
     "output_type": "stream",
     "text": [
      "boundary (singular) fit: see help('isSingular')\n",
      "\n"
     ]
    },
    {
     "name": "stdout",
     "output_type": "stream",
     "text": [
      "  |=======================================                               |  55%"
     ]
    },
    {
     "name": "stderr",
     "output_type": "stream",
     "text": [
      "boundary (singular) fit: see help('isSingular')\n",
      "\n"
     ]
    },
    {
     "name": "stdout",
     "output_type": "stream",
     "text": [
      "  |=======================================                               |  56%"
     ]
    },
    {
     "name": "stderr",
     "output_type": "stream",
     "text": [
      "boundary (singular) fit: see help('isSingular')\n",
      "\n",
      "Warning message:\n",
      "\"Model failed to converge with 1 negative eigenvalue: -2.3e-02\"\n"
     ]
    },
    {
     "name": "stdout",
     "output_type": "stream",
     "text": [
      "  |========================================                              |  57%"
     ]
    },
    {
     "name": "stderr",
     "output_type": "stream",
     "text": [
      "boundary (singular) fit: see help('isSingular')\n",
      "\n",
      "boundary (singular) fit: see help('isSingular')\n",
      "\n"
     ]
    },
    {
     "name": "stdout",
     "output_type": "stream",
     "text": [
      "  |=========================================                             |  58%"
     ]
    },
    {
     "name": "stderr",
     "output_type": "stream",
     "text": [
      "boundary (singular) fit: see help('isSingular')\n",
      "\n"
     ]
    },
    {
     "name": "stdout",
     "output_type": "stream",
     "text": [
      "  |=========================================                             |  59%"
     ]
    },
    {
     "name": "stderr",
     "output_type": "stream",
     "text": [
      "boundary (singular) fit: see help('isSingular')\n",
      "\n"
     ]
    },
    {
     "name": "stdout",
     "output_type": "stream",
     "text": [
      "  |===========================================                           |  61%"
     ]
    },
    {
     "name": "stderr",
     "output_type": "stream",
     "text": [
      "boundary (singular) fit: see help('isSingular')\n",
      "\n"
     ]
    },
    {
     "name": "stdout",
     "output_type": "stream",
     "text": [
      "  |======================================================================| 100%\n",
      "  |===========================================                           |  62%"
     ]
    },
    {
     "name": "stderr",
     "output_type": "stream",
     "text": [
      "boundary (singular) fit: see help('isSingular')\n",
      "\n",
      "boundary (singular) fit: see help('isSingular')\n",
      "\n"
     ]
    },
    {
     "name": "stdout",
     "output_type": "stream",
     "text": [
      "  |============================================                          |  63%"
     ]
    },
    {
     "name": "stderr",
     "output_type": "stream",
     "text": [
      "boundary (singular) fit: see help('isSingular')\n",
      "\n"
     ]
    },
    {
     "name": "stdout",
     "output_type": "stream",
     "text": [
      "  |=============================================                         |  64%"
     ]
    },
    {
     "name": "stderr",
     "output_type": "stream",
     "text": [
      "boundary (singular) fit: see help('isSingular')\n",
      "\n"
     ]
    },
    {
     "name": "stdout",
     "output_type": "stream",
     "text": [
      "  |=============================================                         |  65%"
     ]
    },
    {
     "name": "stderr",
     "output_type": "stream",
     "text": [
      "boundary (singular) fit: see help('isSingular')\n",
      "\n"
     ]
    },
    {
     "name": "stdout",
     "output_type": "stream",
     "text": [
      "  |===============================================                       |  67%"
     ]
    },
    {
     "name": "stderr",
     "output_type": "stream",
     "text": [
      "boundary (singular) fit: see help('isSingular')\n",
      "\n",
      "boundary (singular) fit: see help('isSingular')\n",
      "\n",
      "boundary (singular) fit: see help('isSingular')\n",
      "\n"
     ]
    },
    {
     "name": "stdout",
     "output_type": "stream",
     "text": [
      "  |================================================                      |  68%"
     ]
    },
    {
     "name": "stderr",
     "output_type": "stream",
     "text": [
      "boundary (singular) fit: see help('isSingular')\n",
      "\n"
     ]
    },
    {
     "name": "stdout",
     "output_type": "stream",
     "text": [
      "  |=================================================                     |  69%"
     ]
    },
    {
     "name": "stderr",
     "output_type": "stream",
     "text": [
      "Warning message in checkConv(attr(opt, \"derivs\"), opt$par, ctrl = control$checkConv, :\n",
      "\"unable to evaluate scaled gradient\"\n",
      "Warning message in checkConv(attr(opt, \"derivs\"), opt$par, ctrl = control$checkConv, :\n",
      "\"Model failed to converge: degenerate  Hessian with 1 negative eigenvalues\"\n",
      "boundary (singular) fit: see help('isSingular')\n",
      "\n"
     ]
    },
    {
     "name": "stdout",
     "output_type": "stream",
     "text": [
      "  |=================================================                     |  70%"
     ]
    },
    {
     "name": "stderr",
     "output_type": "stream",
     "text": [
      "boundary (singular) fit: see help('isSingular')\n",
      "\n",
      "boundary (singular) fit: see help('isSingular')\n",
      "\n"
     ]
    },
    {
     "name": "stdout",
     "output_type": "stream",
     "text": [
      "  |=================================================                     |  71%"
     ]
    },
    {
     "name": "stderr",
     "output_type": "stream",
     "text": [
      "boundary (singular) fit: see help('isSingular')\n",
      "\n"
     ]
    },
    {
     "name": "stdout",
     "output_type": "stream",
     "text": [
      "  |==================================================                    |  71%"
     ]
    },
    {
     "name": "stderr",
     "output_type": "stream",
     "text": [
      "boundary (singular) fit: see help('isSingular')\n",
      "\n"
     ]
    },
    {
     "name": "stdout",
     "output_type": "stream",
     "text": [
      "  |===================================================                   |  73%"
     ]
    },
    {
     "name": "stderr",
     "output_type": "stream",
     "text": [
      "boundary (singular) fit: see help('isSingular')\n",
      "\n",
      "boundary (singular) fit: see help('isSingular')\n",
      "\n"
     ]
    },
    {
     "name": "stdout",
     "output_type": "stream",
     "text": [
      "  |====================================================                  |  74%"
     ]
    },
    {
     "name": "stderr",
     "output_type": "stream",
     "text": [
      "boundary (singular) fit: see help('isSingular')\n",
      "\n",
      "Warning message:\n",
      "\"Model failed to converge with 1 negative eigenvalue: -1.0e+01\"\n"
     ]
    },
    {
     "name": "stdout",
     "output_type": "stream",
     "text": [
      "  |====================================================                  |  75%"
     ]
    },
    {
     "name": "stderr",
     "output_type": "stream",
     "text": [
      "Warning message in checkConv(attr(opt, \"derivs\"), opt$par, ctrl = control$checkConv, :\n",
      "\"unable to evaluate scaled gradient\"\n",
      "Warning message in checkConv(attr(opt, \"derivs\"), opt$par, ctrl = control$checkConv, :\n",
      "\"Model failed to converge: degenerate  Hessian with 1 negative eigenvalues\"\n",
      "boundary (singular) fit: see help('isSingular')\n",
      "\n"
     ]
    },
    {
     "name": "stdout",
     "output_type": "stream",
     "text": [
      "  |=====================================================                 |  75%"
     ]
    },
    {
     "name": "stderr",
     "output_type": "stream",
     "text": [
      "boundary (singular) fit: see help('isSingular')\n",
      "\n",
      "boundary (singular) fit: see help('isSingular')\n",
      "\n"
     ]
    },
    {
     "name": "stdout",
     "output_type": "stream",
     "text": [
      "  |======================================================                |  77%"
     ]
    },
    {
     "name": "stderr",
     "output_type": "stream",
     "text": [
      "boundary (singular) fit: see help('isSingular')\n",
      "\n"
     ]
    },
    {
     "name": "stdout",
     "output_type": "stream",
     "text": [
      "  |=======================================================               |  78%"
     ]
    },
    {
     "name": "stderr",
     "output_type": "stream",
     "text": [
      "boundary (singular) fit: see help('isSingular')\n",
      "\n",
      "Warning message:\n",
      "\"Model failed to converge with 1 negative eigenvalue: -1.3e+00\"\n"
     ]
    },
    {
     "name": "stdout",
     "output_type": "stream",
     "text": [
      "  |=======================================================               |  79%"
     ]
    },
    {
     "name": "stderr",
     "output_type": "stream",
     "text": [
      "boundary (singular) fit: see help('isSingular')\n",
      "\n",
      "boundary (singular) fit: see help('isSingular')\n",
      "\n"
     ]
    },
    {
     "name": "stdout",
     "output_type": "stream",
     "text": [
      "  |========================================================              |  80%"
     ]
    },
    {
     "name": "stderr",
     "output_type": "stream",
     "text": [
      "boundary (singular) fit: see help('isSingular')\n",
      "\n"
     ]
    },
    {
     "name": "stdout",
     "output_type": "stream",
     "text": [
      "  |========================================================              |  81%"
     ]
    },
    {
     "name": "stderr",
     "output_type": "stream",
     "text": [
      "boundary (singular) fit: see help('isSingular')\n",
      "\n"
     ]
    },
    {
     "name": "stdout",
     "output_type": "stream",
     "text": [
      "  |======================================================================| 100%\n",
      "  |======================================================================| 100%\n",
      "  |=========================================================             |  81%"
     ]
    },
    {
     "name": "stderr",
     "output_type": "stream",
     "text": [
      "boundary (singular) fit: see help('isSingular')\n",
      "\n"
     ]
    },
    {
     "name": "stdout",
     "output_type": "stream",
     "text": [
      "  |=========================================================             |  82%"
     ]
    },
    {
     "name": "stderr",
     "output_type": "stream",
     "text": [
      "boundary (singular) fit: see help('isSingular')\n",
      "\n",
      "Warning message:\n",
      "\"Model failed to converge with 1 negative eigenvalue: -2.3e+00\"\n",
      "boundary (singular) fit: see help('isSingular')\n",
      "\n"
     ]
    },
    {
     "name": "stdout",
     "output_type": "stream",
     "text": [
      "  |==========================================================            |  83%"
     ]
    },
    {
     "name": "stderr",
     "output_type": "stream",
     "text": [
      "boundary (singular) fit: see help('isSingular')\n",
      "\n",
      "boundary (singular) fit: see help('isSingular')\n",
      "\n",
      "boundary (singular) fit: see help('isSingular')\n",
      "\n"
     ]
    },
    {
     "name": "stdout",
     "output_type": "stream",
     "text": [
      "  |===========================================================           |  84%"
     ]
    },
    {
     "name": "stderr",
     "output_type": "stream",
     "text": [
      "boundary (singular) fit: see help('isSingular')\n",
      "\n"
     ]
    },
    {
     "name": "stdout",
     "output_type": "stream",
     "text": [
      "  |===========================================================           |  85%"
     ]
    },
    {
     "name": "stderr",
     "output_type": "stream",
     "text": [
      "boundary (singular) fit: see help('isSingular')\n",
      "\n"
     ]
    },
    {
     "name": "stdout",
     "output_type": "stream",
     "text": [
      "  |======================================================================| 100%\n",
      "  |============================================================          |  85%"
     ]
    },
    {
     "name": "stderr",
     "output_type": "stream",
     "text": [
      "boundary (singular) fit: see help('isSingular')\n",
      "\n"
     ]
    },
    {
     "name": "stdout",
     "output_type": "stream",
     "text": [
      "  |============================================================          |  86%"
     ]
    },
    {
     "name": "stderr",
     "output_type": "stream",
     "text": [
      "boundary (singular) fit: see help('isSingular')\n",
      "\n",
      "boundary (singular) fit: see help('isSingular')\n",
      "\n"
     ]
    },
    {
     "name": "stdout",
     "output_type": "stream",
     "text": [
      "  |=============================================================         |  87%"
     ]
    },
    {
     "name": "stderr",
     "output_type": "stream",
     "text": [
      "boundary (singular) fit: see help('isSingular')\n",
      "\n",
      "boundary (singular) fit: see help('isSingular')\n",
      "\n",
      "boundary (singular) fit: see help('isSingular')\n",
      "\n"
     ]
    },
    {
     "name": "stdout",
     "output_type": "stream",
     "text": [
      "  |==============================================================        |  88%"
     ]
    },
    {
     "name": "stderr",
     "output_type": "stream",
     "text": [
      "boundary (singular) fit: see help('isSingular')\n",
      "\n",
      "boundary (singular) fit: see help('isSingular')\n",
      "\n"
     ]
    },
    {
     "name": "stdout",
     "output_type": "stream",
     "text": [
      "  |==============================================================        |  89%"
     ]
    },
    {
     "name": "stderr",
     "output_type": "stream",
     "text": [
      "boundary (singular) fit: see help('isSingular')\n",
      "\n"
     ]
    },
    {
     "name": "stdout",
     "output_type": "stream",
     "text": [
      "  |===============================================================       |  89%"
     ]
    },
    {
     "name": "stderr",
     "output_type": "stream",
     "text": [
      "boundary (singular) fit: see help('isSingular')\n",
      "\n"
     ]
    },
    {
     "name": "stdout",
     "output_type": "stream",
     "text": [
      "  |===============================================================       |  90%"
     ]
    },
    {
     "name": "stderr",
     "output_type": "stream",
     "text": [
      "boundary (singular) fit: see help('isSingular')\n",
      "\n",
      "boundary (singular) fit: see help('isSingular')\n",
      "\n"
     ]
    },
    {
     "name": "stdout",
     "output_type": "stream",
     "text": [
      "  |======================================================================| 100%\n",
      "  |===============================================================       |  91%"
     ]
    },
    {
     "name": "stderr",
     "output_type": "stream",
     "text": [
      "boundary (singular) fit: see help('isSingular')\n",
      "\n"
     ]
    },
    {
     "name": "stdout",
     "output_type": "stream",
     "text": [
      "  |================================================================      |  91%"
     ]
    },
    {
     "name": "stderr",
     "output_type": "stream",
     "text": [
      "boundary (singular) fit: see help('isSingular')\n",
      "\n"
     ]
    },
    {
     "name": "stdout",
     "output_type": "stream",
     "text": [
      "  |================================================================      |  92%"
     ]
    },
    {
     "name": "stderr",
     "output_type": "stream",
     "text": [
      "boundary (singular) fit: see help('isSingular')\n",
      "\n",
      "boundary (singular) fit: see help('isSingular')\n",
      "\n"
     ]
    },
    {
     "name": "stdout",
     "output_type": "stream",
     "text": [
      "  |=================================================================     |  93%"
     ]
    },
    {
     "name": "stderr",
     "output_type": "stream",
     "text": [
      "boundary (singular) fit: see help('isSingular')\n",
      "\n",
      "boundary (singular) fit: see help('isSingular')\n",
      "\n",
      "boundary (singular) fit: see help('isSingular')\n",
      "\n"
     ]
    },
    {
     "name": "stdout",
     "output_type": "stream",
     "text": [
      "  |==================================================================    |  94%"
     ]
    },
    {
     "name": "stderr",
     "output_type": "stream",
     "text": [
      "boundary (singular) fit: see help('isSingular')\n",
      "\n"
     ]
    },
    {
     "name": "stdout",
     "output_type": "stream",
     "text": [
      "  |==================================================================    |  95%"
     ]
    },
    {
     "name": "stderr",
     "output_type": "stream",
     "text": [
      "boundary (singular) fit: see help('isSingular')\n",
      "\n"
     ]
    },
    {
     "name": "stdout",
     "output_type": "stream",
     "text": [
      "  |===================================================================   |  95%"
     ]
    },
    {
     "name": "stderr",
     "output_type": "stream",
     "text": [
      "boundary (singular) fit: see help('isSingular')\n",
      "\n"
     ]
    },
    {
     "name": "stdout",
     "output_type": "stream",
     "text": [
      "  |===================================================================   |  96%"
     ]
    },
    {
     "name": "stderr",
     "output_type": "stream",
     "text": [
      "boundary (singular) fit: see help('isSingular')\n",
      "\n"
     ]
    },
    {
     "name": "stdout",
     "output_type": "stream",
     "text": [
      "  |====================================================================  |  97%"
     ]
    },
    {
     "name": "stderr",
     "output_type": "stream",
     "text": [
      "boundary (singular) fit: see help('isSingular')\n",
      "\n",
      "boundary (singular) fit: see help('isSingular')\n",
      "\n",
      "boundary (singular) fit: see help('isSingular')\n",
      "\n"
     ]
    },
    {
     "name": "stdout",
     "output_type": "stream",
     "text": [
      "  |===================================================================== |  98%"
     ]
    },
    {
     "name": "stderr",
     "output_type": "stream",
     "text": [
      "boundary (singular) fit: see help('isSingular')\n",
      "\n"
     ]
    },
    {
     "name": "stdout",
     "output_type": "stream",
     "text": [
      "  |===================================================================== |  99%"
     ]
    },
    {
     "name": "stderr",
     "output_type": "stream",
     "text": [
      "boundary (singular) fit: see help('isSingular')\n",
      "\n",
      "boundary (singular) fit: see help('isSingular')\n",
      "\n"
     ]
    },
    {
     "name": "stdout",
     "output_type": "stream",
     "text": [
      "  |======================================================================|  99%"
     ]
    },
    {
     "name": "stderr",
     "output_type": "stream",
     "text": [
      "boundary (singular) fit: see help('isSingular')\n",
      "\n"
     ]
    },
    {
     "name": "stdout",
     "output_type": "stream",
     "text": [
      "  |======================================================================| 100%\n"
     ]
    }
   ],
   "source": [
    "n_subjects= 25\n",
    "n_observations = 4\n",
    "p = 100\n",
    "q = 1\n",
    "\n",
    "SNR_values = c(4)\n",
    "prop_relevant_values = c(0.1, 0.2, 0.3)\n",
    "num_iter = 50\n",
    "\n",
    "fixed_form = as.formula(\n",
    "    paste(\"y ~ 1 +\",paste(\"X\", 1:p, sep=\"\", collapse='+'),sep=\"\")\n",
    ")\n",
    "\n",
    "rand_form = list(subjects =~ 1 + X1)\n",
    "\n",
    "tot_its <- length(SNR_values)*length(prop_relevant_values)*num_iter\n",
    "\n",
    "columns = c('SNR','prop_relevant', 'TPR_lasso', 'TPR_selinf', 'FDR_lasso', 'FDR_selinf', 'num_sel_lasso', 'num_sel_selinf')\n",
    "results_df = data.frame(matrix(nrow = 0, ncol = length(columns))) \n",
    "colnames(results_df) = columns\n",
    "\n",
    "pb = txtProgressBar(min = 0, max = tot_its, initial = 0, style = 3)\n",
    "\n",
    "for(SNR in SNR_values){\n",
    "    for(prop_relevant in prop_relevant_values){\n",
    "        for(i in 1:num_iter){\n",
    "\n",
    "            data <- data_generator(n_subjects, n_observations, p, q, SNR, prop_relevant)\n",
    "            X <- data$X\n",
    "            subjects <- data$subjects\n",
    "            y <- data$y\n",
    "            beta <- data$beta\n",
    "\n",
    "            # fixing lambda\n",
    "            lambda = max(abs(t(X) %*% y)) / 4\n",
    "            \n",
    "\n",
    "            selFun <- function(y) selFun_fixed_lambda(X, subjects, y, fixed_form, rand_form, lambda)\n",
    "\n",
    "            # Now we can define the function checking the congruency\n",
    "            # with the original selection\n",
    "            checkFun <- function(yb){\n",
    "\n",
    "                all(selFun(yb)$vec == sel_vec)\n",
    "\n",
    "            }\n",
    "\n",
    "            \n",
    "            sel <- selFun(y)\n",
    "            sel_vec <- sel$vec\n",
    "            sel_names <- sel$names\n",
    "\n",
    "            sel_form = as.formula(\n",
    "            paste(\"y ~ \",paste(sel_names[2:length(sel_names)], collapse='+'), \"+ (1 + X1|subjects)\")\n",
    "            )\n",
    "\n",
    "            final_model = lmer(formula = sel_form, data = data.frame(X, subjects, y))\n",
    "            \n",
    "            # and compute valid p-values conditional on the selection\n",
    "            # (this takes some time and will produce a lot of warnings)\n",
    "            suppressWarnings(res <- mocasin(final_model, this_y = y, conditional = FALSE, varForSampling = 'minMod',\n",
    "                        checkFun = checkFun, nrSamples = 100, trace = FALSE))\n",
    "\n",
    "            sel_with_selinf <- c(rep(0,p+1))\n",
    "            names(sel_with_selinf) <- names(sel_vec)\n",
    "            only_sel <- names(sel_vec[sel_vec == 1])\n",
    "\n",
    "            for (i in 1:length(res$selinf)) {\n",
    "                if (res$selinf[[i]][\"pval\"] < 0.05) sel_with_selinf[only_sel[i]] <- 1\n",
    "            }\n",
    "            \n",
    "            lasso_metrics <- metrics(sel_vec,c(1,beta!=0))\n",
    "            selinf_metrics <- metrics(sel_with_selinf,c(1,beta!=0))\n",
    "\n",
    "            num_sel_lasso <- sum(sel_vec)\n",
    "            num_sel_selinf <- sum(sel_with_selinf)\n",
    "\n",
    "            results_df[nrow(results_df) + 1,] <- c(SNR, prop_relevant, lasso_metrics$tpr, selinf_metrics$tpr, lasso_metrics$fdr, selinf_metrics$fdr, num_sel_lasso, num_sel_selinf)\n",
    "\n",
    "            setTxtProgressBar(pb,nrow(results_df))\n",
    "\n",
    "        }\n",
    "    }\n",
    "}\n",
    "\n",
    "close(pb)"
   ]
  },
  {
   "cell_type": "code",
   "execution_count": 10,
   "metadata": {
    "vscode": {
     "languageId": "r"
    }
   },
   "outputs": [],
   "source": [
    "write.csv(results_df, \"C:/Users/matteda/OneDrive - Universitetet i Oslo/Skrivebord/phd/ConditioningApproach/new_minmod_simulation_results_SNR4_smaller_lambda.csv\", row.names=FALSE)"
   ]
  }
 ],
 "metadata": {
  "kernelspec": {
   "display_name": "R",
   "language": "R",
   "name": "ir"
  },
  "language_info": {
   "codemirror_mode": "r",
   "file_extension": ".r",
   "mimetype": "text/x-r-source",
   "name": "R",
   "pygments_lexer": "r",
   "version": "4.3.1"
  },
  "orig_nbformat": 4
 },
 "nbformat": 4,
 "nbformat_minor": 2
}
