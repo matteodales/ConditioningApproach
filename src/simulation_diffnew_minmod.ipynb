{
 "cells": [
  {
   "cell_type": "markdown",
   "metadata": {},
   "source": [
    "## Simulation comparing naive GLMMLasso and Selective Inference\n",
    "Comparing TPR and FDR for the two methods in different settings of SNR and proportion of non-zero coefficients."
   ]
  },
  {
   "cell_type": "code",
   "execution_count": 11,
   "metadata": {
    "vscode": {
     "languageId": "r"
    }
   },
   "outputs": [
    {
     "name": "stdout",
     "output_type": "stream",
     "text": [
      "  |====================                                                  |  28%"
     ]
    },
    {
     "name": "stderr",
     "output_type": "stream",
     "text": [
      "boundary (singular) fit: see help('isSingular')\n",
      "\n"
     ]
    },
    {
     "name": "stdout",
     "output_type": "stream",
     "text": [
      "  |==========================                                            |  37%"
     ]
    },
    {
     "name": "stderr",
     "output_type": "stream",
     "text": [
      "boundary (singular) fit: see help('isSingular')\n",
      "\n",
      "boundary (singular) fit: see help('isSingular')\n",
      "\n"
     ]
    },
    {
     "name": "stdout",
     "output_type": "stream",
     "text": [
      "  |===========================                                           |  39%"
     ]
    },
    {
     "name": "stderr",
     "output_type": "stream",
     "text": [
      "boundary (singular) fit: see help('isSingular')\n",
      "\n"
     ]
    },
    {
     "name": "stdout",
     "output_type": "stream",
     "text": [
      "  |==============================                                        |  43%"
     ]
    },
    {
     "name": "stderr",
     "output_type": "stream",
     "text": [
      "boundary (singular) fit: see help('isSingular')\n",
      "\n"
     ]
    },
    {
     "name": "stdout",
     "output_type": "stream",
     "text": [
      "  |===================================                                   |  50%"
     ]
    },
    {
     "name": "stderr",
     "output_type": "stream",
     "text": [
      "boundary (singular) fit: see help('isSingular')\n",
      "\n"
     ]
    },
    {
     "name": "stdout",
     "output_type": "stream",
     "text": [
      "  |====================================                                  |  51%"
     ]
    },
    {
     "name": "stderr",
     "output_type": "stream",
     "text": [
      "boundary (singular) fit: see help('isSingular')\n",
      "\n"
     ]
    },
    {
     "name": "stdout",
     "output_type": "stream",
     "text": [
      "  |====================================                                  |  52%"
     ]
    },
    {
     "name": "stderr",
     "output_type": "stream",
     "text": [
      "boundary (singular) fit: see help('isSingular')\n",
      "\n"
     ]
    },
    {
     "name": "stdout",
     "output_type": "stream",
     "text": [
      "  |======================================                                |  55%"
     ]
    },
    {
     "name": "stderr",
     "output_type": "stream",
     "text": [
      "boundary (singular) fit: see help('isSingular')\n",
      "\n"
     ]
    },
    {
     "name": "stdout",
     "output_type": "stream",
     "text": [
      "  |=======================================                               |  55%"
     ]
    },
    {
     "name": "stderr",
     "output_type": "stream",
     "text": [
      "boundary (singular) fit: see help('isSingular')\n",
      "\n"
     ]
    },
    {
     "name": "stdout",
     "output_type": "stream",
     "text": [
      "  |==============================================                        |  66%"
     ]
    },
    {
     "name": "stderr",
     "output_type": "stream",
     "text": [
      "boundary (singular) fit: see help('isSingular')\n",
      "\n"
     ]
    },
    {
     "name": "stdout",
     "output_type": "stream",
     "text": [
      "  |===============================================                       |  67%"
     ]
    },
    {
     "name": "stderr",
     "output_type": "stream",
     "text": [
      "boundary (singular) fit: see help('isSingular')\n",
      "\n"
     ]
    },
    {
     "name": "stdout",
     "output_type": "stream",
     "text": [
      "  |================================================                      |  68%"
     ]
    },
    {
     "name": "stderr",
     "output_type": "stream",
     "text": [
      "boundary (singular) fit: see help('isSingular')\n",
      "\n"
     ]
    },
    {
     "name": "stdout",
     "output_type": "stream",
     "text": [
      "  |=================================================                     |  70%"
     ]
    },
    {
     "name": "stderr",
     "output_type": "stream",
     "text": [
      "boundary (singular) fit: see help('isSingular')\n",
      "\n"
     ]
    },
    {
     "name": "stdout",
     "output_type": "stream",
     "text": [
      "  |==================================================                    |  72%"
     ]
    },
    {
     "name": "stderr",
     "output_type": "stream",
     "text": [
      "boundary (singular) fit: see help('isSingular')\n",
      "\n"
     ]
    },
    {
     "name": "stdout",
     "output_type": "stream",
     "text": [
      "  |====================================================                  |  74%"
     ]
    },
    {
     "name": "stderr",
     "output_type": "stream",
     "text": [
      "boundary (singular) fit: see help('isSingular')\n",
      "\n"
     ]
    },
    {
     "name": "stdout",
     "output_type": "stream",
     "text": [
      "  |======================================================                |  77%"
     ]
    },
    {
     "name": "stderr",
     "output_type": "stream",
     "text": [
      "boundary (singular) fit: see help('isSingular')\n",
      "\n"
     ]
    },
    {
     "name": "stdout",
     "output_type": "stream",
     "text": [
      "  |========================================================              |  81%"
     ]
    },
    {
     "name": "stderr",
     "output_type": "stream",
     "text": [
      "boundary (singular) fit: see help('isSingular')\n",
      "\n"
     ]
    },
    {
     "name": "stdout",
     "output_type": "stream",
     "text": [
      "  |=========================================================             |  81%"
     ]
    },
    {
     "name": "stderr",
     "output_type": "stream",
     "text": [
      "boundary (singular) fit: see help('isSingular')\n",
      "\n"
     ]
    },
    {
     "name": "stdout",
     "output_type": "stream",
     "text": [
      "  |=========================================================             |  82%"
     ]
    },
    {
     "name": "stderr",
     "output_type": "stream",
     "text": [
      "boundary (singular) fit: see help('isSingular')\n",
      "\n"
     ]
    },
    {
     "name": "stdout",
     "output_type": "stream",
     "text": [
      "  |==========================================================            |  83%"
     ]
    },
    {
     "name": "stderr",
     "output_type": "stream",
     "text": [
      "boundary (singular) fit: see help('isSingular')\n",
      "\n",
      "boundary (singular) fit: see help('isSingular')\n",
      "\n"
     ]
    },
    {
     "name": "stdout",
     "output_type": "stream",
     "text": [
      "  |===========================================================           |  84%"
     ]
    },
    {
     "name": "stderr",
     "output_type": "stream",
     "text": [
      "boundary (singular) fit: see help('isSingular')\n",
      "\n"
     ]
    },
    {
     "name": "stdout",
     "output_type": "stream",
     "text": [
      "  |=============================================================         |  87%"
     ]
    },
    {
     "name": "stderr",
     "output_type": "stream",
     "text": [
      "boundary (singular) fit: see help('isSingular')\n",
      "\n"
     ]
    },
    {
     "name": "stdout",
     "output_type": "stream",
     "text": [
      "  |===============================================================       |  89%"
     ]
    },
    {
     "name": "stderr",
     "output_type": "stream",
     "text": [
      "boundary (singular) fit: see help('isSingular')\n",
      "\n"
     ]
    },
    {
     "name": "stdout",
     "output_type": "stream",
     "text": [
      "  |==================================================================    |  94%"
     ]
    },
    {
     "name": "stderr",
     "output_type": "stream",
     "text": [
      "boundary (singular) fit: see help('isSingular')\n",
      "\n"
     ]
    },
    {
     "name": "stdout",
     "output_type": "stream",
     "text": [
      "  |==================================================================    |  95%"
     ]
    },
    {
     "name": "stderr",
     "output_type": "stream",
     "text": [
      "boundary (singular) fit: see help('isSingular')\n",
      "\n"
     ]
    },
    {
     "name": "stdout",
     "output_type": "stream",
     "text": [
      "  |===================================================================   |  96%"
     ]
    },
    {
     "name": "stderr",
     "output_type": "stream",
     "text": [
      "boundary (singular) fit: see help('isSingular')\n",
      "\n"
     ]
    },
    {
     "name": "stdout",
     "output_type": "stream",
     "text": [
      "  |====================================================================  |  97%"
     ]
    },
    {
     "name": "stderr",
     "output_type": "stream",
     "text": [
      "boundary (singular) fit: see help('isSingular')\n",
      "\n",
      "boundary (singular) fit: see help('isSingular')\n",
      "\n"
     ]
    },
    {
     "name": "stdout",
     "output_type": "stream",
     "text": [
      "  |===================================================================== |  98%"
     ]
    },
    {
     "name": "stderr",
     "output_type": "stream",
     "text": [
      "boundary (singular) fit: see help('isSingular')\n",
      "\n"
     ]
    },
    {
     "name": "stdout",
     "output_type": "stream",
     "text": [
      "  |===================================================================== |  99%"
     ]
    },
    {
     "name": "stderr",
     "output_type": "stream",
     "text": [
      "boundary (singular) fit: see help('isSingular')\n",
      "\n"
     ]
    },
    {
     "name": "stdout",
     "output_type": "stream",
     "text": [
      "  |======================================================================|  99%"
     ]
    },
    {
     "name": "stderr",
     "output_type": "stream",
     "text": [
      "boundary (singular) fit: see help('isSingular')\n",
      "\n"
     ]
    },
    {
     "name": "stdout",
     "output_type": "stream",
     "text": [
      "  |======================================================================| 100%\n"
     ]
    }
   ],
   "source": [
    "n_subjects= 25\n",
    "n_observations = 4\n",
    "p = 100\n",
    "q = 0\n",
    "\n",
    "SNR_values = c(4)\n",
    "prop_relevant_values = c(0.1, 0.2, 0.3)\n",
    "num_iter = 50\n",
    "\n",
    "fixed_form = as.formula(\n",
    "    paste(\"y ~ 1 +\",paste(\"X\", 1:p, sep=\"\", collapse='+'),sep=\"\")\n",
    ")\n",
    "\n",
    "rand_form = list(subjects =~ 1)\n",
    "\n",
    "tot_its <- length(SNR_values)*length(prop_relevant_values)*num_iter\n",
    "\n",
    "columns = c('SNR','prop_relevant', 'TPR_lasso', 'TPR_selinf', 'FDR_lasso', 'FDR_selinf', 'num_sel_lasso', 'num_sel_selinf')\n",
    "results_df = data.frame(matrix(nrow = 0, ncol = length(columns))) \n",
    "colnames(results_df) = columns\n",
    "\n",
    "pb = txtProgressBar(min = 0, max = tot_its, initial = 0, style = 3)\n",
    "\n",
    "for(SNR in SNR_values){\n",
    "    for(prop_relevant in prop_relevant_values){\n",
    "        for(i in 1:num_iter){\n",
    "\n",
    "            data <- data_generator(n_subjects, n_observations, p, q, SNR, prop_relevant)\n",
    "            X <- data$X\n",
    "            subjects <- data$subjects\n",
    "            y <- data$y\n",
    "            beta <- data$beta\n",
    "\n",
    "            # fixing lambda\n",
    "            lambda = max(abs(t(X) %*% y)) / 2\n",
    "            \n",
    "\n",
    "            selFun <- function(y) selFun_fixed_lambda(X, subjects, y, fixed_form, rand_form, lambda)\n",
    "\n",
    "            # Now we can define the function checking the congruency\n",
    "            # with the original selection\n",
    "            checkFun <- function(yb){\n",
    "\n",
    "                all(selFun(yb)$vec == sel_vec)\n",
    "\n",
    "            }\n",
    "\n",
    "            \n",
    "            sel <- selFun(y)\n",
    "            sel_vec <- sel$vec\n",
    "            sel_names <- sel$names\n",
    "\n",
    "            sel_form = as.formula(\n",
    "            paste(\"y ~ \",paste(sel_names[2:length(sel_names)], collapse='+'), \"+ (1|subjects)\")\n",
    "            )\n",
    "\n",
    "            final_model = lmer(formula = sel_form, data = data.frame(X, subjects, y))\n",
    "            \n",
    "            # and compute valid p-values conditional on the selection\n",
    "            # (this takes some time and will produce a lot of warnings)\n",
    "            suppressWarnings(res <- mocasin(final_model, this_y = y, conditional = FALSE,\n",
    "                        checkFun = checkFun, nrSamples = 100, trace = FALSE))\n",
    "\n",
    "            sel_with_selinf <- c(rep(0,p+1))\n",
    "            names(sel_with_selinf) <- names(sel_vec)\n",
    "            only_sel <- names(sel_vec[sel_vec == 1])\n",
    "\n",
    "            for (i in 1:length(res$selinf)) {\n",
    "                if (res$selinf[[i]][\"pval\"] < 0.05) sel_with_selinf[only_sel[i]] <- 1\n",
    "            }\n",
    "            \n",
    "            lasso_metrics <- metrics(sel_vec,c(1,beta!=0))\n",
    "            selinf_metrics <- metrics(sel_with_selinf,c(1,beta!=0))\n",
    "\n",
    "            num_sel_lasso <- sum(sel_vec)\n",
    "            num_sel_selinf <- sum(sel_with_selinf)\n",
    "\n",
    "            results_df[nrow(results_df) + 1,] <- c(SNR, prop_relevant, lasso_metrics$tpr, selinf_metrics$tpr, lasso_metrics$fdr, selinf_metrics$fdr, num_sel_lasso, num_sel_selinf)\n",
    "\n",
    "            setTxtProgressBar(pb,nrow(results_df))\n",
    "\n",
    "        }\n",
    "    }\n",
    "}\n",
    "\n",
    "close(pb)"
   ]
  },
  {
   "cell_type": "code",
   "execution_count": 16,
   "metadata": {
    "vscode": {
     "languageId": "r"
    }
   },
   "outputs": [
    {
     "data": {
      "text/html": [
       "<table class=\"dataframe\">\n",
       "<caption>A data.frame: 150 × 8</caption>\n",
       "<thead>\n",
       "\t<tr><th></th><th scope=col>SNR</th><th scope=col>prop_relevant</th><th scope=col>TPR_lasso</th><th scope=col>TPR_selinf</th><th scope=col>FDR_lasso</th><th scope=col>FDR_selinf</th><th scope=col>num_sel_lasso</th><th scope=col>num_sel_selinf</th></tr>\n",
       "\t<tr><th></th><th scope=col>&lt;dbl&gt;</th><th scope=col>&lt;dbl&gt;</th><th scope=col>&lt;dbl&gt;</th><th scope=col>&lt;dbl&gt;</th><th scope=col>&lt;dbl&gt;</th><th scope=col>&lt;dbl&gt;</th><th scope=col>&lt;dbl&gt;</th><th scope=col>&lt;dbl&gt;</th></tr>\n",
       "</thead>\n",
       "<tbody>\n",
       "\t<tr><th scope=row>1</th><td>4</td><td>0.1</td><td>1.0000000</td><td>1.0000000</td><td>0.31250000</td><td>0.00000000</td><td>16</td><td>11</td></tr>\n",
       "\t<tr><th scope=row>2</th><td>4</td><td>0.1</td><td>0.5454545</td><td>0.5454545</td><td>0.00000000</td><td>0.00000000</td><td> 6</td><td> 6</td></tr>\n",
       "\t<tr><th scope=row>3</th><td>4</td><td>0.1</td><td>0.6363636</td><td>0.3636364</td><td>0.22222222</td><td>0.20000000</td><td> 9</td><td> 5</td></tr>\n",
       "\t<tr><th scope=row>4</th><td>4</td><td>0.1</td><td>0.9090909</td><td>0.7272727</td><td>0.23076923</td><td>0.20000000</td><td>13</td><td>10</td></tr>\n",
       "\t<tr><th scope=row>5</th><td>4</td><td>0.1</td><td>1.0000000</td><td>0.9090909</td><td>0.26666667</td><td>0.09090909</td><td>15</td><td>11</td></tr>\n",
       "\t<tr><th scope=row>6</th><td>4</td><td>0.1</td><td>0.5454545</td><td>0.3636364</td><td>0.00000000</td><td>0.00000000</td><td> 6</td><td> 4</td></tr>\n",
       "\t<tr><th scope=row>7</th><td>4</td><td>0.1</td><td>0.9090909</td><td>0.6363636</td><td>0.23076923</td><td>0.00000000</td><td>13</td><td> 7</td></tr>\n",
       "\t<tr><th scope=row>8</th><td>4</td><td>0.1</td><td>0.5454545</td><td>0.2727273</td><td>0.00000000</td><td>0.00000000</td><td> 6</td><td> 3</td></tr>\n",
       "\t<tr><th scope=row>9</th><td>4</td><td>0.1</td><td>0.5454545</td><td>0.4545455</td><td>0.00000000</td><td>0.00000000</td><td> 6</td><td> 5</td></tr>\n",
       "\t<tr><th scope=row>10</th><td>4</td><td>0.1</td><td>0.9090909</td><td>0.8181818</td><td>0.41176471</td><td>0.18181818</td><td>17</td><td>11</td></tr>\n",
       "\t<tr><th scope=row>11</th><td>4</td><td>0.1</td><td>0.8181818</td><td>0.6363636</td><td>0.10000000</td><td>0.00000000</td><td>10</td><td> 7</td></tr>\n",
       "\t<tr><th scope=row>12</th><td>4</td><td>0.1</td><td>1.0000000</td><td>1.0000000</td><td>0.31250000</td><td>0.00000000</td><td>16</td><td>11</td></tr>\n",
       "\t<tr><th scope=row>13</th><td>4</td><td>0.1</td><td>0.8181818</td><td>0.8181818</td><td>0.00000000</td><td>0.00000000</td><td> 9</td><td> 9</td></tr>\n",
       "\t<tr><th scope=row>14</th><td>4</td><td>0.1</td><td>0.8181818</td><td>0.8181818</td><td>0.40000000</td><td>0.10000000</td><td>15</td><td>10</td></tr>\n",
       "\t<tr><th scope=row>15</th><td>4</td><td>0.1</td><td>1.0000000</td><td>1.0000000</td><td>0.00000000</td><td>0.00000000</td><td>11</td><td>11</td></tr>\n",
       "\t<tr><th scope=row>16</th><td>4</td><td>0.1</td><td>0.8181818</td><td>0.6363636</td><td>0.35714286</td><td>0.00000000</td><td>14</td><td> 7</td></tr>\n",
       "\t<tr><th scope=row>17</th><td>4</td><td>0.1</td><td>1.0000000</td><td>0.7272727</td><td>0.47619048</td><td>0.00000000</td><td>21</td><td> 8</td></tr>\n",
       "\t<tr><th scope=row>18</th><td>4</td><td>0.1</td><td>0.7272727</td><td>0.5454545</td><td>0.20000000</td><td>0.00000000</td><td>10</td><td> 6</td></tr>\n",
       "\t<tr><th scope=row>19</th><td>4</td><td>0.1</td><td>1.0000000</td><td>1.0000000</td><td>0.26666667</td><td>0.00000000</td><td>15</td><td>11</td></tr>\n",
       "\t<tr><th scope=row>20</th><td>4</td><td>0.1</td><td>0.9090909</td><td>0.3636364</td><td>0.37500000</td><td>0.20000000</td><td>16</td><td> 5</td></tr>\n",
       "\t<tr><th scope=row>21</th><td>4</td><td>0.1</td><td>0.9090909</td><td>0.5454545</td><td>0.09090909</td><td>0.00000000</td><td>11</td><td> 6</td></tr>\n",
       "\t<tr><th scope=row>22</th><td>4</td><td>0.1</td><td>0.7272727</td><td>0.6363636</td><td>0.00000000</td><td>0.00000000</td><td> 8</td><td> 7</td></tr>\n",
       "\t<tr><th scope=row>23</th><td>4</td><td>0.1</td><td>0.9090909</td><td>0.8181818</td><td>0.16666667</td><td>0.00000000</td><td>12</td><td> 9</td></tr>\n",
       "\t<tr><th scope=row>24</th><td>4</td><td>0.1</td><td>0.9090909</td><td>0.8181818</td><td>0.47368421</td><td>0.00000000</td><td>19</td><td> 9</td></tr>\n",
       "\t<tr><th scope=row>25</th><td>4</td><td>0.1</td><td>0.4545455</td><td>0.3636364</td><td>0.00000000</td><td>0.00000000</td><td> 5</td><td> 4</td></tr>\n",
       "\t<tr><th scope=row>26</th><td>4</td><td>0.1</td><td>0.8181818</td><td>0.5454545</td><td>0.18181818</td><td>0.00000000</td><td>11</td><td> 6</td></tr>\n",
       "\t<tr><th scope=row>27</th><td>4</td><td>0.1</td><td>0.7272727</td><td>0.4545455</td><td>0.38461538</td><td>0.00000000</td><td>13</td><td> 5</td></tr>\n",
       "\t<tr><th scope=row>28</th><td>4</td><td>0.1</td><td>0.6363636</td><td>0.3636364</td><td>0.00000000</td><td>0.00000000</td><td> 7</td><td> 4</td></tr>\n",
       "\t<tr><th scope=row>29</th><td>4</td><td>0.1</td><td>0.9090909</td><td>0.9090909</td><td>0.41176471</td><td>0.16666667</td><td>17</td><td>12</td></tr>\n",
       "\t<tr><th scope=row>30</th><td>4</td><td>0.1</td><td>0.7272727</td><td>0.5454545</td><td>0.00000000</td><td>0.00000000</td><td> 8</td><td> 6</td></tr>\n",
       "\t<tr><th scope=row>⋮</th><td>⋮</td><td>⋮</td><td>⋮</td><td>⋮</td><td>⋮</td><td>⋮</td><td>⋮</td><td>⋮</td></tr>\n",
       "\t<tr><th scope=row>121</th><td>4</td><td>0.3</td><td>0.4516129</td><td>0.09677419</td><td>0.33333333</td><td>0.0000000</td><td>21</td><td> 3</td></tr>\n",
       "\t<tr><th scope=row>122</th><td>4</td><td>0.3</td><td>0.4193548</td><td>0.22580645</td><td>0.40909091</td><td>0.0000000</td><td>22</td><td> 7</td></tr>\n",
       "\t<tr><th scope=row>123</th><td>4</td><td>0.3</td><td>0.3870968</td><td>0.06451613</td><td>0.25000000</td><td>0.0000000</td><td>16</td><td> 2</td></tr>\n",
       "\t<tr><th scope=row>124</th><td>4</td><td>0.3</td><td>0.3225806</td><td>0.03225806</td><td>0.00000000</td><td>0.0000000</td><td>10</td><td> 1</td></tr>\n",
       "\t<tr><th scope=row>125</th><td>4</td><td>0.3</td><td>0.4516129</td><td>0.06451613</td><td>0.17647059</td><td>0.0000000</td><td>17</td><td> 2</td></tr>\n",
       "\t<tr><th scope=row>126</th><td>4</td><td>0.3</td><td>0.4193548</td><td>0.09677419</td><td>0.00000000</td><td>0.0000000</td><td>13</td><td> 3</td></tr>\n",
       "\t<tr><th scope=row>127</th><td>4</td><td>0.3</td><td>0.6774194</td><td>0.16129032</td><td>0.16000000</td><td>0.0000000</td><td>25</td><td> 5</td></tr>\n",
       "\t<tr><th scope=row>128</th><td>4</td><td>0.3</td><td>0.5483871</td><td>0.35483871</td><td>0.29166667</td><td>0.0000000</td><td>24</td><td>11</td></tr>\n",
       "\t<tr><th scope=row>129</th><td>4</td><td>0.3</td><td>0.6774194</td><td>0.03225806</td><td>0.25000000</td><td>0.0000000</td><td>28</td><td> 1</td></tr>\n",
       "\t<tr><th scope=row>130</th><td>4</td><td>0.3</td><td>0.4193548</td><td>0.09677419</td><td>0.27777778</td><td>0.0000000</td><td>18</td><td> 3</td></tr>\n",
       "\t<tr><th scope=row>131</th><td>4</td><td>0.3</td><td>0.3870968</td><td>0.09677419</td><td>0.07692308</td><td>0.0000000</td><td>13</td><td> 3</td></tr>\n",
       "\t<tr><th scope=row>132</th><td>4</td><td>0.3</td><td>0.3548387</td><td>0.06451613</td><td>0.35294118</td><td>0.0000000</td><td>17</td><td> 2</td></tr>\n",
       "\t<tr><th scope=row>133</th><td>4</td><td>0.3</td><td>0.3548387</td><td>0.19354839</td><td>0.15384615</td><td>0.1428571</td><td>13</td><td> 7</td></tr>\n",
       "\t<tr><th scope=row>134</th><td>4</td><td>0.3</td><td>0.3870968</td><td>0.12903226</td><td>0.20000000</td><td>0.0000000</td><td>15</td><td> 4</td></tr>\n",
       "\t<tr><th scope=row>135</th><td>4</td><td>0.3</td><td>0.3548387</td><td>0.12903226</td><td>0.26666667</td><td>0.0000000</td><td>15</td><td> 4</td></tr>\n",
       "\t<tr><th scope=row>136</th><td>4</td><td>0.3</td><td>0.4516129</td><td>0.09677419</td><td>0.12500000</td><td>0.2500000</td><td>16</td><td> 4</td></tr>\n",
       "\t<tr><th scope=row>137</th><td>4</td><td>0.3</td><td>0.2903226</td><td>0.06451613</td><td>0.30769231</td><td>0.0000000</td><td>13</td><td> 2</td></tr>\n",
       "\t<tr><th scope=row>138</th><td>4</td><td>0.3</td><td>0.3548387</td><td>0.03225806</td><td>0.15384615</td><td>0.0000000</td><td>13</td><td> 1</td></tr>\n",
       "\t<tr><th scope=row>139</th><td>4</td><td>0.3</td><td>0.4838710</td><td>0.19354839</td><td>0.16666667</td><td>0.0000000</td><td>18</td><td> 6</td></tr>\n",
       "\t<tr><th scope=row>140</th><td>4</td><td>0.3</td><td>0.1935484</td><td>0.03225806</td><td>0.25000000</td><td>0.5000000</td><td> 8</td><td> 2</td></tr>\n",
       "\t<tr><th scope=row>141</th><td>4</td><td>0.3</td><td>0.3225806</td><td>0.06451613</td><td>0.23076923</td><td>0.0000000</td><td>13</td><td> 2</td></tr>\n",
       "\t<tr><th scope=row>142</th><td>4</td><td>0.3</td><td>0.6129032</td><td>0.12903226</td><td>0.17391304</td><td>0.0000000</td><td>23</td><td> 4</td></tr>\n",
       "\t<tr><th scope=row>143</th><td>4</td><td>0.3</td><td>0.5806452</td><td>0.25806452</td><td>0.21739130</td><td>0.0000000</td><td>23</td><td> 8</td></tr>\n",
       "\t<tr><th scope=row>144</th><td>4</td><td>0.3</td><td>0.2903226</td><td>0.09677419</td><td>0.10000000</td><td>0.0000000</td><td>10</td><td> 3</td></tr>\n",
       "\t<tr><th scope=row>145</th><td>4</td><td>0.3</td><td>0.3870968</td><td>0.12903226</td><td>0.00000000</td><td>0.0000000</td><td>12</td><td> 4</td></tr>\n",
       "\t<tr><th scope=row>146</th><td>4</td><td>0.3</td><td>0.4193548</td><td>0.06451613</td><td>0.23529412</td><td>0.0000000</td><td>17</td><td> 2</td></tr>\n",
       "\t<tr><th scope=row>147</th><td>4</td><td>0.3</td><td>0.3225806</td><td>0.06451613</td><td>0.28571429</td><td>0.3333333</td><td>14</td><td> 3</td></tr>\n",
       "\t<tr><th scope=row>148</th><td>4</td><td>0.3</td><td>0.5806452</td><td>0.58064516</td><td>0.10000000</td><td>0.1000000</td><td>20</td><td>20</td></tr>\n",
       "\t<tr><th scope=row>149</th><td>4</td><td>0.3</td><td>0.5483871</td><td>0.19354839</td><td>0.19047619</td><td>0.0000000</td><td>21</td><td> 6</td></tr>\n",
       "\t<tr><th scope=row>150</th><td>4</td><td>0.3</td><td>0.3870968</td><td>0.03225806</td><td>0.33333333</td><td>0.5000000</td><td>18</td><td> 2</td></tr>\n",
       "</tbody>\n",
       "</table>\n"
      ],
      "text/latex": [
       "A data.frame: 150 × 8\n",
       "\\begin{tabular}{r|llllllll}\n",
       "  & SNR & prop\\_relevant & TPR\\_lasso & TPR\\_selinf & FDR\\_lasso & FDR\\_selinf & num\\_sel\\_lasso & num\\_sel\\_selinf\\\\\n",
       "  & <dbl> & <dbl> & <dbl> & <dbl> & <dbl> & <dbl> & <dbl> & <dbl>\\\\\n",
       "\\hline\n",
       "\t1 & 4 & 0.1 & 1.0000000 & 1.0000000 & 0.31250000 & 0.00000000 & 16 & 11\\\\\n",
       "\t2 & 4 & 0.1 & 0.5454545 & 0.5454545 & 0.00000000 & 0.00000000 &  6 &  6\\\\\n",
       "\t3 & 4 & 0.1 & 0.6363636 & 0.3636364 & 0.22222222 & 0.20000000 &  9 &  5\\\\\n",
       "\t4 & 4 & 0.1 & 0.9090909 & 0.7272727 & 0.23076923 & 0.20000000 & 13 & 10\\\\\n",
       "\t5 & 4 & 0.1 & 1.0000000 & 0.9090909 & 0.26666667 & 0.09090909 & 15 & 11\\\\\n",
       "\t6 & 4 & 0.1 & 0.5454545 & 0.3636364 & 0.00000000 & 0.00000000 &  6 &  4\\\\\n",
       "\t7 & 4 & 0.1 & 0.9090909 & 0.6363636 & 0.23076923 & 0.00000000 & 13 &  7\\\\\n",
       "\t8 & 4 & 0.1 & 0.5454545 & 0.2727273 & 0.00000000 & 0.00000000 &  6 &  3\\\\\n",
       "\t9 & 4 & 0.1 & 0.5454545 & 0.4545455 & 0.00000000 & 0.00000000 &  6 &  5\\\\\n",
       "\t10 & 4 & 0.1 & 0.9090909 & 0.8181818 & 0.41176471 & 0.18181818 & 17 & 11\\\\\n",
       "\t11 & 4 & 0.1 & 0.8181818 & 0.6363636 & 0.10000000 & 0.00000000 & 10 &  7\\\\\n",
       "\t12 & 4 & 0.1 & 1.0000000 & 1.0000000 & 0.31250000 & 0.00000000 & 16 & 11\\\\\n",
       "\t13 & 4 & 0.1 & 0.8181818 & 0.8181818 & 0.00000000 & 0.00000000 &  9 &  9\\\\\n",
       "\t14 & 4 & 0.1 & 0.8181818 & 0.8181818 & 0.40000000 & 0.10000000 & 15 & 10\\\\\n",
       "\t15 & 4 & 0.1 & 1.0000000 & 1.0000000 & 0.00000000 & 0.00000000 & 11 & 11\\\\\n",
       "\t16 & 4 & 0.1 & 0.8181818 & 0.6363636 & 0.35714286 & 0.00000000 & 14 &  7\\\\\n",
       "\t17 & 4 & 0.1 & 1.0000000 & 0.7272727 & 0.47619048 & 0.00000000 & 21 &  8\\\\\n",
       "\t18 & 4 & 0.1 & 0.7272727 & 0.5454545 & 0.20000000 & 0.00000000 & 10 &  6\\\\\n",
       "\t19 & 4 & 0.1 & 1.0000000 & 1.0000000 & 0.26666667 & 0.00000000 & 15 & 11\\\\\n",
       "\t20 & 4 & 0.1 & 0.9090909 & 0.3636364 & 0.37500000 & 0.20000000 & 16 &  5\\\\\n",
       "\t21 & 4 & 0.1 & 0.9090909 & 0.5454545 & 0.09090909 & 0.00000000 & 11 &  6\\\\\n",
       "\t22 & 4 & 0.1 & 0.7272727 & 0.6363636 & 0.00000000 & 0.00000000 &  8 &  7\\\\\n",
       "\t23 & 4 & 0.1 & 0.9090909 & 0.8181818 & 0.16666667 & 0.00000000 & 12 &  9\\\\\n",
       "\t24 & 4 & 0.1 & 0.9090909 & 0.8181818 & 0.47368421 & 0.00000000 & 19 &  9\\\\\n",
       "\t25 & 4 & 0.1 & 0.4545455 & 0.3636364 & 0.00000000 & 0.00000000 &  5 &  4\\\\\n",
       "\t26 & 4 & 0.1 & 0.8181818 & 0.5454545 & 0.18181818 & 0.00000000 & 11 &  6\\\\\n",
       "\t27 & 4 & 0.1 & 0.7272727 & 0.4545455 & 0.38461538 & 0.00000000 & 13 &  5\\\\\n",
       "\t28 & 4 & 0.1 & 0.6363636 & 0.3636364 & 0.00000000 & 0.00000000 &  7 &  4\\\\\n",
       "\t29 & 4 & 0.1 & 0.9090909 & 0.9090909 & 0.41176471 & 0.16666667 & 17 & 12\\\\\n",
       "\t30 & 4 & 0.1 & 0.7272727 & 0.5454545 & 0.00000000 & 0.00000000 &  8 &  6\\\\\n",
       "\t⋮ & ⋮ & ⋮ & ⋮ & ⋮ & ⋮ & ⋮ & ⋮ & ⋮\\\\\n",
       "\t121 & 4 & 0.3 & 0.4516129 & 0.09677419 & 0.33333333 & 0.0000000 & 21 &  3\\\\\n",
       "\t122 & 4 & 0.3 & 0.4193548 & 0.22580645 & 0.40909091 & 0.0000000 & 22 &  7\\\\\n",
       "\t123 & 4 & 0.3 & 0.3870968 & 0.06451613 & 0.25000000 & 0.0000000 & 16 &  2\\\\\n",
       "\t124 & 4 & 0.3 & 0.3225806 & 0.03225806 & 0.00000000 & 0.0000000 & 10 &  1\\\\\n",
       "\t125 & 4 & 0.3 & 0.4516129 & 0.06451613 & 0.17647059 & 0.0000000 & 17 &  2\\\\\n",
       "\t126 & 4 & 0.3 & 0.4193548 & 0.09677419 & 0.00000000 & 0.0000000 & 13 &  3\\\\\n",
       "\t127 & 4 & 0.3 & 0.6774194 & 0.16129032 & 0.16000000 & 0.0000000 & 25 &  5\\\\\n",
       "\t128 & 4 & 0.3 & 0.5483871 & 0.35483871 & 0.29166667 & 0.0000000 & 24 & 11\\\\\n",
       "\t129 & 4 & 0.3 & 0.6774194 & 0.03225806 & 0.25000000 & 0.0000000 & 28 &  1\\\\\n",
       "\t130 & 4 & 0.3 & 0.4193548 & 0.09677419 & 0.27777778 & 0.0000000 & 18 &  3\\\\\n",
       "\t131 & 4 & 0.3 & 0.3870968 & 0.09677419 & 0.07692308 & 0.0000000 & 13 &  3\\\\\n",
       "\t132 & 4 & 0.3 & 0.3548387 & 0.06451613 & 0.35294118 & 0.0000000 & 17 &  2\\\\\n",
       "\t133 & 4 & 0.3 & 0.3548387 & 0.19354839 & 0.15384615 & 0.1428571 & 13 &  7\\\\\n",
       "\t134 & 4 & 0.3 & 0.3870968 & 0.12903226 & 0.20000000 & 0.0000000 & 15 &  4\\\\\n",
       "\t135 & 4 & 0.3 & 0.3548387 & 0.12903226 & 0.26666667 & 0.0000000 & 15 &  4\\\\\n",
       "\t136 & 4 & 0.3 & 0.4516129 & 0.09677419 & 0.12500000 & 0.2500000 & 16 &  4\\\\\n",
       "\t137 & 4 & 0.3 & 0.2903226 & 0.06451613 & 0.30769231 & 0.0000000 & 13 &  2\\\\\n",
       "\t138 & 4 & 0.3 & 0.3548387 & 0.03225806 & 0.15384615 & 0.0000000 & 13 &  1\\\\\n",
       "\t139 & 4 & 0.3 & 0.4838710 & 0.19354839 & 0.16666667 & 0.0000000 & 18 &  6\\\\\n",
       "\t140 & 4 & 0.3 & 0.1935484 & 0.03225806 & 0.25000000 & 0.5000000 &  8 &  2\\\\\n",
       "\t141 & 4 & 0.3 & 0.3225806 & 0.06451613 & 0.23076923 & 0.0000000 & 13 &  2\\\\\n",
       "\t142 & 4 & 0.3 & 0.6129032 & 0.12903226 & 0.17391304 & 0.0000000 & 23 &  4\\\\\n",
       "\t143 & 4 & 0.3 & 0.5806452 & 0.25806452 & 0.21739130 & 0.0000000 & 23 &  8\\\\\n",
       "\t144 & 4 & 0.3 & 0.2903226 & 0.09677419 & 0.10000000 & 0.0000000 & 10 &  3\\\\\n",
       "\t145 & 4 & 0.3 & 0.3870968 & 0.12903226 & 0.00000000 & 0.0000000 & 12 &  4\\\\\n",
       "\t146 & 4 & 0.3 & 0.4193548 & 0.06451613 & 0.23529412 & 0.0000000 & 17 &  2\\\\\n",
       "\t147 & 4 & 0.3 & 0.3225806 & 0.06451613 & 0.28571429 & 0.3333333 & 14 &  3\\\\\n",
       "\t148 & 4 & 0.3 & 0.5806452 & 0.58064516 & 0.10000000 & 0.1000000 & 20 & 20\\\\\n",
       "\t149 & 4 & 0.3 & 0.5483871 & 0.19354839 & 0.19047619 & 0.0000000 & 21 &  6\\\\\n",
       "\t150 & 4 & 0.3 & 0.3870968 & 0.03225806 & 0.33333333 & 0.5000000 & 18 &  2\\\\\n",
       "\\end{tabular}\n"
      ],
      "text/markdown": [
       "\n",
       "A data.frame: 150 × 8\n",
       "\n",
       "| <!--/--> | SNR &lt;dbl&gt; | prop_relevant &lt;dbl&gt; | TPR_lasso &lt;dbl&gt; | TPR_selinf &lt;dbl&gt; | FDR_lasso &lt;dbl&gt; | FDR_selinf &lt;dbl&gt; | num_sel_lasso &lt;dbl&gt; | num_sel_selinf &lt;dbl&gt; |\n",
       "|---|---|---|---|---|---|---|---|---|\n",
       "| 1 | 4 | 0.1 | 1.0000000 | 1.0000000 | 0.31250000 | 0.00000000 | 16 | 11 |\n",
       "| 2 | 4 | 0.1 | 0.5454545 | 0.5454545 | 0.00000000 | 0.00000000 |  6 |  6 |\n",
       "| 3 | 4 | 0.1 | 0.6363636 | 0.3636364 | 0.22222222 | 0.20000000 |  9 |  5 |\n",
       "| 4 | 4 | 0.1 | 0.9090909 | 0.7272727 | 0.23076923 | 0.20000000 | 13 | 10 |\n",
       "| 5 | 4 | 0.1 | 1.0000000 | 0.9090909 | 0.26666667 | 0.09090909 | 15 | 11 |\n",
       "| 6 | 4 | 0.1 | 0.5454545 | 0.3636364 | 0.00000000 | 0.00000000 |  6 |  4 |\n",
       "| 7 | 4 | 0.1 | 0.9090909 | 0.6363636 | 0.23076923 | 0.00000000 | 13 |  7 |\n",
       "| 8 | 4 | 0.1 | 0.5454545 | 0.2727273 | 0.00000000 | 0.00000000 |  6 |  3 |\n",
       "| 9 | 4 | 0.1 | 0.5454545 | 0.4545455 | 0.00000000 | 0.00000000 |  6 |  5 |\n",
       "| 10 | 4 | 0.1 | 0.9090909 | 0.8181818 | 0.41176471 | 0.18181818 | 17 | 11 |\n",
       "| 11 | 4 | 0.1 | 0.8181818 | 0.6363636 | 0.10000000 | 0.00000000 | 10 |  7 |\n",
       "| 12 | 4 | 0.1 | 1.0000000 | 1.0000000 | 0.31250000 | 0.00000000 | 16 | 11 |\n",
       "| 13 | 4 | 0.1 | 0.8181818 | 0.8181818 | 0.00000000 | 0.00000000 |  9 |  9 |\n",
       "| 14 | 4 | 0.1 | 0.8181818 | 0.8181818 | 0.40000000 | 0.10000000 | 15 | 10 |\n",
       "| 15 | 4 | 0.1 | 1.0000000 | 1.0000000 | 0.00000000 | 0.00000000 | 11 | 11 |\n",
       "| 16 | 4 | 0.1 | 0.8181818 | 0.6363636 | 0.35714286 | 0.00000000 | 14 |  7 |\n",
       "| 17 | 4 | 0.1 | 1.0000000 | 0.7272727 | 0.47619048 | 0.00000000 | 21 |  8 |\n",
       "| 18 | 4 | 0.1 | 0.7272727 | 0.5454545 | 0.20000000 | 0.00000000 | 10 |  6 |\n",
       "| 19 | 4 | 0.1 | 1.0000000 | 1.0000000 | 0.26666667 | 0.00000000 | 15 | 11 |\n",
       "| 20 | 4 | 0.1 | 0.9090909 | 0.3636364 | 0.37500000 | 0.20000000 | 16 |  5 |\n",
       "| 21 | 4 | 0.1 | 0.9090909 | 0.5454545 | 0.09090909 | 0.00000000 | 11 |  6 |\n",
       "| 22 | 4 | 0.1 | 0.7272727 | 0.6363636 | 0.00000000 | 0.00000000 |  8 |  7 |\n",
       "| 23 | 4 | 0.1 | 0.9090909 | 0.8181818 | 0.16666667 | 0.00000000 | 12 |  9 |\n",
       "| 24 | 4 | 0.1 | 0.9090909 | 0.8181818 | 0.47368421 | 0.00000000 | 19 |  9 |\n",
       "| 25 | 4 | 0.1 | 0.4545455 | 0.3636364 | 0.00000000 | 0.00000000 |  5 |  4 |\n",
       "| 26 | 4 | 0.1 | 0.8181818 | 0.5454545 | 0.18181818 | 0.00000000 | 11 |  6 |\n",
       "| 27 | 4 | 0.1 | 0.7272727 | 0.4545455 | 0.38461538 | 0.00000000 | 13 |  5 |\n",
       "| 28 | 4 | 0.1 | 0.6363636 | 0.3636364 | 0.00000000 | 0.00000000 |  7 |  4 |\n",
       "| 29 | 4 | 0.1 | 0.9090909 | 0.9090909 | 0.41176471 | 0.16666667 | 17 | 12 |\n",
       "| 30 | 4 | 0.1 | 0.7272727 | 0.5454545 | 0.00000000 | 0.00000000 |  8 |  6 |\n",
       "| ⋮ | ⋮ | ⋮ | ⋮ | ⋮ | ⋮ | ⋮ | ⋮ | ⋮ |\n",
       "| 121 | 4 | 0.3 | 0.4516129 | 0.09677419 | 0.33333333 | 0.0000000 | 21 |  3 |\n",
       "| 122 | 4 | 0.3 | 0.4193548 | 0.22580645 | 0.40909091 | 0.0000000 | 22 |  7 |\n",
       "| 123 | 4 | 0.3 | 0.3870968 | 0.06451613 | 0.25000000 | 0.0000000 | 16 |  2 |\n",
       "| 124 | 4 | 0.3 | 0.3225806 | 0.03225806 | 0.00000000 | 0.0000000 | 10 |  1 |\n",
       "| 125 | 4 | 0.3 | 0.4516129 | 0.06451613 | 0.17647059 | 0.0000000 | 17 |  2 |\n",
       "| 126 | 4 | 0.3 | 0.4193548 | 0.09677419 | 0.00000000 | 0.0000000 | 13 |  3 |\n",
       "| 127 | 4 | 0.3 | 0.6774194 | 0.16129032 | 0.16000000 | 0.0000000 | 25 |  5 |\n",
       "| 128 | 4 | 0.3 | 0.5483871 | 0.35483871 | 0.29166667 | 0.0000000 | 24 | 11 |\n",
       "| 129 | 4 | 0.3 | 0.6774194 | 0.03225806 | 0.25000000 | 0.0000000 | 28 |  1 |\n",
       "| 130 | 4 | 0.3 | 0.4193548 | 0.09677419 | 0.27777778 | 0.0000000 | 18 |  3 |\n",
       "| 131 | 4 | 0.3 | 0.3870968 | 0.09677419 | 0.07692308 | 0.0000000 | 13 |  3 |\n",
       "| 132 | 4 | 0.3 | 0.3548387 | 0.06451613 | 0.35294118 | 0.0000000 | 17 |  2 |\n",
       "| 133 | 4 | 0.3 | 0.3548387 | 0.19354839 | 0.15384615 | 0.1428571 | 13 |  7 |\n",
       "| 134 | 4 | 0.3 | 0.3870968 | 0.12903226 | 0.20000000 | 0.0000000 | 15 |  4 |\n",
       "| 135 | 4 | 0.3 | 0.3548387 | 0.12903226 | 0.26666667 | 0.0000000 | 15 |  4 |\n",
       "| 136 | 4 | 0.3 | 0.4516129 | 0.09677419 | 0.12500000 | 0.2500000 | 16 |  4 |\n",
       "| 137 | 4 | 0.3 | 0.2903226 | 0.06451613 | 0.30769231 | 0.0000000 | 13 |  2 |\n",
       "| 138 | 4 | 0.3 | 0.3548387 | 0.03225806 | 0.15384615 | 0.0000000 | 13 |  1 |\n",
       "| 139 | 4 | 0.3 | 0.4838710 | 0.19354839 | 0.16666667 | 0.0000000 | 18 |  6 |\n",
       "| 140 | 4 | 0.3 | 0.1935484 | 0.03225806 | 0.25000000 | 0.5000000 |  8 |  2 |\n",
       "| 141 | 4 | 0.3 | 0.3225806 | 0.06451613 | 0.23076923 | 0.0000000 | 13 |  2 |\n",
       "| 142 | 4 | 0.3 | 0.6129032 | 0.12903226 | 0.17391304 | 0.0000000 | 23 |  4 |\n",
       "| 143 | 4 | 0.3 | 0.5806452 | 0.25806452 | 0.21739130 | 0.0000000 | 23 |  8 |\n",
       "| 144 | 4 | 0.3 | 0.2903226 | 0.09677419 | 0.10000000 | 0.0000000 | 10 |  3 |\n",
       "| 145 | 4 | 0.3 | 0.3870968 | 0.12903226 | 0.00000000 | 0.0000000 | 12 |  4 |\n",
       "| 146 | 4 | 0.3 | 0.4193548 | 0.06451613 | 0.23529412 | 0.0000000 | 17 |  2 |\n",
       "| 147 | 4 | 0.3 | 0.3225806 | 0.06451613 | 0.28571429 | 0.3333333 | 14 |  3 |\n",
       "| 148 | 4 | 0.3 | 0.5806452 | 0.58064516 | 0.10000000 | 0.1000000 | 20 | 20 |\n",
       "| 149 | 4 | 0.3 | 0.5483871 | 0.19354839 | 0.19047619 | 0.0000000 | 21 |  6 |\n",
       "| 150 | 4 | 0.3 | 0.3870968 | 0.03225806 | 0.33333333 | 0.5000000 | 18 |  2 |\n",
       "\n"
      ],
      "text/plain": [
       "    SNR prop_relevant TPR_lasso TPR_selinf FDR_lasso  FDR_selinf num_sel_lasso\n",
       "1   4   0.1           1.0000000 1.0000000  0.31250000 0.00000000 16           \n",
       "2   4   0.1           0.5454545 0.5454545  0.00000000 0.00000000  6           \n",
       "3   4   0.1           0.6363636 0.3636364  0.22222222 0.20000000  9           \n",
       "4   4   0.1           0.9090909 0.7272727  0.23076923 0.20000000 13           \n",
       "5   4   0.1           1.0000000 0.9090909  0.26666667 0.09090909 15           \n",
       "6   4   0.1           0.5454545 0.3636364  0.00000000 0.00000000  6           \n",
       "7   4   0.1           0.9090909 0.6363636  0.23076923 0.00000000 13           \n",
       "8   4   0.1           0.5454545 0.2727273  0.00000000 0.00000000  6           \n",
       "9   4   0.1           0.5454545 0.4545455  0.00000000 0.00000000  6           \n",
       "10  4   0.1           0.9090909 0.8181818  0.41176471 0.18181818 17           \n",
       "11  4   0.1           0.8181818 0.6363636  0.10000000 0.00000000 10           \n",
       "12  4   0.1           1.0000000 1.0000000  0.31250000 0.00000000 16           \n",
       "13  4   0.1           0.8181818 0.8181818  0.00000000 0.00000000  9           \n",
       "14  4   0.1           0.8181818 0.8181818  0.40000000 0.10000000 15           \n",
       "15  4   0.1           1.0000000 1.0000000  0.00000000 0.00000000 11           \n",
       "16  4   0.1           0.8181818 0.6363636  0.35714286 0.00000000 14           \n",
       "17  4   0.1           1.0000000 0.7272727  0.47619048 0.00000000 21           \n",
       "18  4   0.1           0.7272727 0.5454545  0.20000000 0.00000000 10           \n",
       "19  4   0.1           1.0000000 1.0000000  0.26666667 0.00000000 15           \n",
       "20  4   0.1           0.9090909 0.3636364  0.37500000 0.20000000 16           \n",
       "21  4   0.1           0.9090909 0.5454545  0.09090909 0.00000000 11           \n",
       "22  4   0.1           0.7272727 0.6363636  0.00000000 0.00000000  8           \n",
       "23  4   0.1           0.9090909 0.8181818  0.16666667 0.00000000 12           \n",
       "24  4   0.1           0.9090909 0.8181818  0.47368421 0.00000000 19           \n",
       "25  4   0.1           0.4545455 0.3636364  0.00000000 0.00000000  5           \n",
       "26  4   0.1           0.8181818 0.5454545  0.18181818 0.00000000 11           \n",
       "27  4   0.1           0.7272727 0.4545455  0.38461538 0.00000000 13           \n",
       "28  4   0.1           0.6363636 0.3636364  0.00000000 0.00000000  7           \n",
       "29  4   0.1           0.9090909 0.9090909  0.41176471 0.16666667 17           \n",
       "30  4   0.1           0.7272727 0.5454545  0.00000000 0.00000000  8           \n",
       "⋮   ⋮   ⋮             ⋮         ⋮          ⋮          ⋮          ⋮            \n",
       "121 4   0.3           0.4516129 0.09677419 0.33333333 0.0000000  21           \n",
       "122 4   0.3           0.4193548 0.22580645 0.40909091 0.0000000  22           \n",
       "123 4   0.3           0.3870968 0.06451613 0.25000000 0.0000000  16           \n",
       "124 4   0.3           0.3225806 0.03225806 0.00000000 0.0000000  10           \n",
       "125 4   0.3           0.4516129 0.06451613 0.17647059 0.0000000  17           \n",
       "126 4   0.3           0.4193548 0.09677419 0.00000000 0.0000000  13           \n",
       "127 4   0.3           0.6774194 0.16129032 0.16000000 0.0000000  25           \n",
       "128 4   0.3           0.5483871 0.35483871 0.29166667 0.0000000  24           \n",
       "129 4   0.3           0.6774194 0.03225806 0.25000000 0.0000000  28           \n",
       "130 4   0.3           0.4193548 0.09677419 0.27777778 0.0000000  18           \n",
       "131 4   0.3           0.3870968 0.09677419 0.07692308 0.0000000  13           \n",
       "132 4   0.3           0.3548387 0.06451613 0.35294118 0.0000000  17           \n",
       "133 4   0.3           0.3548387 0.19354839 0.15384615 0.1428571  13           \n",
       "134 4   0.3           0.3870968 0.12903226 0.20000000 0.0000000  15           \n",
       "135 4   0.3           0.3548387 0.12903226 0.26666667 0.0000000  15           \n",
       "136 4   0.3           0.4516129 0.09677419 0.12500000 0.2500000  16           \n",
       "137 4   0.3           0.2903226 0.06451613 0.30769231 0.0000000  13           \n",
       "138 4   0.3           0.3548387 0.03225806 0.15384615 0.0000000  13           \n",
       "139 4   0.3           0.4838710 0.19354839 0.16666667 0.0000000  18           \n",
       "140 4   0.3           0.1935484 0.03225806 0.25000000 0.5000000   8           \n",
       "141 4   0.3           0.3225806 0.06451613 0.23076923 0.0000000  13           \n",
       "142 4   0.3           0.6129032 0.12903226 0.17391304 0.0000000  23           \n",
       "143 4   0.3           0.5806452 0.25806452 0.21739130 0.0000000  23           \n",
       "144 4   0.3           0.2903226 0.09677419 0.10000000 0.0000000  10           \n",
       "145 4   0.3           0.3870968 0.12903226 0.00000000 0.0000000  12           \n",
       "146 4   0.3           0.4193548 0.06451613 0.23529412 0.0000000  17           \n",
       "147 4   0.3           0.3225806 0.06451613 0.28571429 0.3333333  14           \n",
       "148 4   0.3           0.5806452 0.58064516 0.10000000 0.1000000  20           \n",
       "149 4   0.3           0.5483871 0.19354839 0.19047619 0.0000000  21           \n",
       "150 4   0.3           0.3870968 0.03225806 0.33333333 0.5000000  18           \n",
       "    num_sel_selinf\n",
       "1   11            \n",
       "2    6            \n",
       "3    5            \n",
       "4   10            \n",
       "5   11            \n",
       "6    4            \n",
       "7    7            \n",
       "8    3            \n",
       "9    5            \n",
       "10  11            \n",
       "11   7            \n",
       "12  11            \n",
       "13   9            \n",
       "14  10            \n",
       "15  11            \n",
       "16   7            \n",
       "17   8            \n",
       "18   6            \n",
       "19  11            \n",
       "20   5            \n",
       "21   6            \n",
       "22   7            \n",
       "23   9            \n",
       "24   9            \n",
       "25   4            \n",
       "26   6            \n",
       "27   5            \n",
       "28   4            \n",
       "29  12            \n",
       "30   6            \n",
       "⋮   ⋮             \n",
       "121  3            \n",
       "122  7            \n",
       "123  2            \n",
       "124  1            \n",
       "125  2            \n",
       "126  3            \n",
       "127  5            \n",
       "128 11            \n",
       "129  1            \n",
       "130  3            \n",
       "131  3            \n",
       "132  2            \n",
       "133  7            \n",
       "134  4            \n",
       "135  4            \n",
       "136  4            \n",
       "137  2            \n",
       "138  1            \n",
       "139  6            \n",
       "140  2            \n",
       "141  2            \n",
       "142  4            \n",
       "143  8            \n",
       "144  3            \n",
       "145  4            \n",
       "146  2            \n",
       "147  3            \n",
       "148 20            \n",
       "149  6            \n",
       "150  2            "
      ]
     },
     "metadata": {},
     "output_type": "display_data"
    }
   ],
   "source": [
    "results_df"
   ]
  },
  {
   "cell_type": "code",
   "execution_count": 13,
   "metadata": {
    "vscode": {
     "languageId": "r"
    }
   },
   "outputs": [],
   "source": [
    "write.csv(results_df, \"C:/Users/dalma/Desktop/Matteo/phd/r/simulation_results_SNR4.csv\", row.names=FALSE)"
   ]
  }
 ],
 "metadata": {
  "kernelspec": {
   "display_name": "R",
   "language": "R",
   "name": "ir"
  },
  "language_info": {
   "codemirror_mode": "r",
   "file_extension": ".r",
   "mimetype": "text/x-r-source",
   "name": "R",
   "pygments_lexer": "r",
   "version": "4.2.1"
  },
  "orig_nbformat": 4
 },
 "nbformat": 4,
 "nbformat_minor": 2
}
