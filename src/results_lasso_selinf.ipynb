{
 "cells": [
  {
   "cell_type": "markdown",
   "metadata": {},
   "source": [
    "## Simulation results\n",
    "Analysing the results from simulation comparing the performance of variable selection through naive GLMMLasso and with the addition of Selective Inference.\n",
    "\n",
    "**Features of the data**\n",
    "* n = 100, with 25 subjects with 4 observations each.\n",
    "* p = 100, with varying number of non-zero coefficients, which take values in \\{-1,-0.8,0.8,1\\}.\n",
    "* Random intercept, without other random effects.\n",
    "* SNR $\\in\\{2,4\\}$.\n",
    "* $\\lambda$ is fixed for both methods, without optimization."
   ]
  },
  {
   "cell_type": "code",
   "execution_count": null,
   "metadata": {},
   "outputs": [],
   "source": []
  }
 ],
 "metadata": {
  "language_info": {
   "name": "python"
  }
 },
 "nbformat": 4,
 "nbformat_minor": 2
}
