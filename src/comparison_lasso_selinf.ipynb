{
 "cells": [
  {
   "cell_type": "code",
   "execution_count": 2,
   "metadata": {
    "vscode": {
     "languageId": "r"
    }
   },
   "outputs": [],
   "source": [
    "source('utils.r')\n",
    "source('selinf_functions.r')\n",
    "source('metrics.r')\n",
    "source('data_generator.r')\n",
    "source('cov_matrix.r')"
   ]
  },
  {
   "cell_type": "markdown",
   "metadata": {},
   "source": [
    "## Testing selection results\n",
    "\n",
    "Comparing Lasso with Selective Inference and plain Lasso with varying SNR and actual proportion of non-zero coefficients.\n",
    "Both methods use a fixed $\\lambda = ||X^Ty||_{\\infty}/2$."
   ]
  },
  {
   "cell_type": "code",
   "execution_count": 4,
   "metadata": {
    "vscode": {
     "languageId": "r"
    }
   },
   "outputs": [],
   "source": [
    "set.seed(1)\n",
    "\n",
    "n_subjects= 25\n",
    "n_observations = 4\n",
    "n = n_subjects * n_observations\n",
    "p = 200\n",
    "q = 0\n",
    "SNR = 4\n",
    "prop_relevant = 0.2\n",
    "\n",
    "data <- data_generator(n_subjects, n_observations, p, q, SNR, prop_relevant)\n",
    "X <- data$X\n",
    "subjects <- data$subjects\n",
    "y <- data$y\n",
    "beta <- data$beta\n",
    "sd <- data$sd\n",
    "\n",
    "# fixing lambda\n",
    "lambda = max(abs(t(X)%*%y))/2"
   ]
  },
  {
   "cell_type": "markdown",
   "metadata": {},
   "source": [
    "## Lasso selection"
   ]
  },
  {
   "cell_type": "code",
   "execution_count": 5,
   "metadata": {
    "vscode": {
     "languageId": "r"
    }
   },
   "outputs": [],
   "source": [
    "fixed_form = as.formula(\n",
    "    paste(\"y ~ 1 +\",paste(\"X\", 1:p, sep=\"\", collapse='+'),sep=\"\")\n",
    "  )\n",
    "\n",
    "rnd_form = list(subjects =~ 1)\n",
    "\n",
    "\n",
    "selFun <- function(y) selFun_fixed_lambda(X, subjects, y, fixed_form, rand_form, lambda)\n",
    "\n",
    "sel <- selFun(y)\n",
    "sel_vec <- sel$vec\n",
    "sel_names <- sel$names"
   ]
  },
  {
   "cell_type": "code",
   "execution_count": 6,
   "metadata": {
    "vscode": {
     "languageId": "r"
    }
   },
   "outputs": [
    {
     "name": "stdout",
     "output_type": "stream",
     "text": [
      "$tpr\n",
      "[1] 0.3170732\n",
      "\n",
      "$fdr\n",
      "[1] 0.6176471\n",
      "\n"
     ]
    }
   ],
   "source": [
    "print(metrics(sel_vec,c(TRUE,beta!=0)))"
   ]
  },
  {
   "cell_type": "markdown",
   "metadata": {},
   "source": [
    "## Adding Selective Inference"
   ]
  },
  {
   "cell_type": "code",
   "execution_count": 7,
   "metadata": {
    "vscode": {
     "languageId": "r"
    }
   },
   "outputs": [
    {
     "name": "stderr",
     "output_type": "stream",
     "text": [
      "boundary (singular) fit: see help('isSingular')\n",
      "\n"
     ]
    }
   ],
   "source": [
    "# Now we can define the function checking the congruency\n",
    "# with the original selection\n",
    "checkFun <- function(yb){\n",
    "\n",
    "  all(selFun(yb)$vec == sel_vec)\n",
    "\n",
    "}\n",
    "\n",
    "sel_form = as.formula(\n",
    "  paste(\"y ~ \",paste(sel_names[2:length(sel_names)], collapse='+'), \"+ (1|subjects)\")\n",
    ")\n",
    "\n",
    "final_model = lmer(formula = sel_form, data=data.frame(X, subjects, y))"
   ]
  },
  {
   "cell_type": "code",
   "execution_count": 9,
   "metadata": {
    "vscode": {
     "languageId": "r"
    }
   },
   "outputs": [
    {
     "name": "stdout",
     "output_type": "stream",
     "text": [
      "Computing inference for variable (location)  1 \n",
      "\n",
      "  |======================================================================| 100%\n",
      "\n",
      "\n",
      "Computing inference for variable (location)  2 \n",
      "\n",
      "  |======================================================================| 100%\n",
      "\n",
      "\n",
      "Computing inference for variable (location)  3 \n",
      "\n",
      "  |======================================================================| 100%\n",
      "\n",
      "\n",
      "Computing inference for variable (location)  4 \n",
      "\n",
      "  |======================================================================| 100%\n",
      "\n",
      "\n",
      "Computing inference for variable (location)  5 \n",
      "\n",
      "  |======================================================================| 100%\n",
      "\n",
      "\n",
      "Computing inference for variable (location)  6 \n",
      "\n",
      "  |======================================================================| 100%\n",
      "\n",
      "\n",
      "Computing inference for variable (location)  7 \n",
      "\n",
      "  |======================================================================| 100%\n",
      "\n",
      "\n",
      "Computing inference for variable (location)  8 \n",
      "\n",
      "  |======================================================================| 100%\n",
      "\n",
      "\n",
      "Computing inference for variable (location)  9 \n",
      "\n",
      "  |======================================================================| 100%\n",
      "\n",
      "\n",
      "Computing inference for variable (location)  10 \n",
      "\n",
      "  |======================================================================| 100%\n",
      "\n",
      "\n",
      "Computing inference for variable (location)  11 \n",
      "\n",
      "  |======================================================================| 100%\n",
      "\n",
      "\n",
      "Computing inference for variable (location)  12 \n",
      "\n",
      "  |======================================================================| 100%\n",
      "\n",
      "\n",
      "Computing inference for variable (location)  13 \n",
      "\n",
      "  |======================================================================| 100%\n",
      "\n",
      "\n",
      "Computing inference for variable (location)  14 \n",
      "\n",
      "  |======================================================================| 100%\n",
      "\n",
      "\n",
      "Computing inference for variable (location)  15 \n",
      "\n",
      "  |======================================================================| 100%\n",
      "\n",
      "\n",
      "Computing inference for variable (location)  16 \n",
      "\n",
      "  |======================================================================| 100%\n",
      "\n",
      "\n",
      "Computing inference for variable (location)  17 \n",
      "\n",
      "  |======================================================================| 100%\n",
      "\n",
      "\n",
      "Computing inference for variable (location)  18 \n",
      "\n",
      "  |======================================================================| 100%\n",
      "\n",
      "\n",
      "Computing inference for variable (location)  19 \n",
      "\n",
      "  |======================================================================| 100%\n",
      "\n",
      "\n",
      "Computing inference for variable (location)  20 \n",
      "\n",
      "  |======================================================================| 100%\n",
      "\n",
      "\n",
      "Computing inference for variable (location)  21 \n",
      "\n",
      "  |======================================================================| 100%\n",
      "\n",
      "\n",
      "Computing inference for variable (location)  22 \n",
      "\n",
      "  |======================================================================| 100%\n",
      "\n",
      "\n",
      "Computing inference for variable (location)  23 \n",
      "\n",
      "  |======================================================================| 100%\n",
      "\n",
      "\n",
      "Computing inference for variable (location)  24 \n",
      "\n",
      "  |======================================================================| 100%\n",
      "\n",
      "\n",
      "Computing inference for variable (location)  25 \n",
      "\n",
      "  |======================================================================| 100%\n",
      "\n",
      "\n",
      "Computing inference for variable (location)  26 \n",
      "\n",
      "  |======================================================================| 100%\n",
      "\n",
      "\n",
      "Computing inference for variable (location)  27 \n",
      "\n",
      "  |======================================================================| 100%\n",
      "\n",
      "\n",
      "Computing inference for variable (location)  28 \n",
      "\n",
      "  |======================================================================| 100%\n",
      "\n",
      "\n",
      "Computing inference for variable (location)  29 \n",
      "\n",
      "  |======================================================================| 100%\n",
      "\n",
      "\n",
      "Computing inference for variable (location)  30 \n",
      "\n",
      "  |======================================================================| 100%\n",
      "\n",
      "\n",
      "Computing inference for variable (location)  31 \n",
      "\n",
      "  |======================================================================| 100%\n",
      "\n",
      "\n",
      "Computing inference for variable (location)  32 \n",
      "\n",
      "  |======================================================================| 100%\n",
      "\n",
      "\n",
      "Computing inference for variable (location)  33 \n",
      "\n",
      "  |======================================================================| 100%\n",
      "\n",
      "\n",
      "Computing inference for variable (location)  34 \n",
      "\n",
      "  |======================================================================| 100%\n",
      "\n",
      "\n"
     ]
    }
   ],
   "source": [
    "# and compute valid p-values conditional on the selection\n",
    "# (this takes some time and will produce a lot of warnings)\n",
    "suppressWarnings(res <- mocasin(final_model, this_y = y, conditional = FALSE,\n",
    "               checkFun = checkFun, nrSamples = 100))"
   ]
  },
  {
   "cell_type": "code",
   "execution_count": 10,
   "metadata": {
    "vscode": {
     "languageId": "r"
    }
   },
   "outputs": [],
   "source": [
    "# create a boolean vector for the ones selected at 5% significance level\n",
    "\n",
    "sel_with_selinf <- c(rep(0,p+1))\n",
    "names(sel_with_selinf) <- names(sel_vec)\n",
    "only_sel <- names(sel_vec[sel_vec == 1])\n",
    "\n",
    "for(i in 1:length(res$selinf)){\n",
    "   if(res$selinf[[i]]['pval']<0.05) sel_with_selinf[only_sel[i]] <- 1\n",
    "   }"
   ]
  },
  {
   "cell_type": "code",
   "execution_count": 11,
   "metadata": {
    "vscode": {
     "languageId": "r"
    }
   },
   "outputs": [
    {
     "data": {
      "text/html": [
       "<dl>\n",
       "\t<dt>$tpr</dt>\n",
       "\t\t<dd>0.0487804878048781</dd>\n",
       "\t<dt>$fdr</dt>\n",
       "\t\t<dd>0</dd>\n",
       "</dl>\n"
      ],
      "text/latex": [
       "\\begin{description}\n",
       "\\item[\\$tpr] 0.0487804878048781\n",
       "\\item[\\$fdr] 0\n",
       "\\end{description}\n"
      ],
      "text/markdown": [
       "$tpr\n",
       ":   0.0487804878048781\n",
       "$fdr\n",
       ":   0\n",
       "\n",
       "\n"
      ],
      "text/plain": [
       "$tpr\n",
       "[1] 0.04878049\n",
       "\n",
       "$fdr\n",
       "[1] 0\n"
      ]
     },
     "metadata": {},
     "output_type": "display_data"
    }
   ],
   "source": [
    "metrics(sel_with_selinf,c(1,beta!=0))"
   ]
  }
 ],
 "metadata": {
  "kernelspec": {
   "display_name": "R",
   "language": "R",
   "name": "ir"
  },
  "language_info": {
   "codemirror_mode": "r",
   "file_extension": ".r",
   "mimetype": "text/x-r-source",
   "name": "R",
   "pygments_lexer": "r",
   "version": "4.2.1"
  },
  "orig_nbformat": 4
 },
 "nbformat": 4,
 "nbformat_minor": 2
}
