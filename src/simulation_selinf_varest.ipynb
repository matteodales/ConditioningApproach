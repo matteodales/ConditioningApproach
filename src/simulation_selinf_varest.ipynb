{
 "cells": [
  {
   "cell_type": "code",
   "execution_count": 2,
   "metadata": {
    "vscode": {
     "languageId": "r"
    }
   },
   "outputs": [],
   "source": [
    "source('utils.r')\n",
    "source('selinf_functions.r')\n",
    "source('metrics.r')\n",
    "source('data_generator.r')\n",
    "source('cov_matrix.r')"
   ]
  },
  {
   "cell_type": "markdown",
   "metadata": {},
   "source": [
    "## Simulation comparing original variance estimate and new\n",
    "We want to check if the addition of the new variance estimate improves power in the selection. We compare on FDR, TPR and average length of confidence intervals."
   ]
  },
  {
   "cell_type": "code",
   "execution_count": null,
   "metadata": {
    "vscode": {
     "languageId": "r"
    }
   },
   "outputs": [],
   "source": [
    "set.seed(1)\n",
    "\n",
    "n_subjects= 25\n",
    "n_observations = 4\n",
    "n = n_subjects * n_observations\n",
    "p = 100\n",
    "q <- n_observations-1\n",
    "\n",
    "SNR_values = c(2,4)\n",
    "prop_relevant_values = c(0.1, 0.2, 0.3)\n",
    "num_iter = 10\n",
    "\n",
    "tot_its <- length(SNR_values)*length(prop_relevant_values)*num_iter\n",
    "\n",
    "columns = c('SNR','prop_relevant', 'TPR_old', 'TPR_new', 'FDR_old', 'FDR_new', 'avg_ci_length_old', 'avg_ci_length_new')\n",
    "results_df = data.frame(matrix(nrow = 0, ncol = length(columns))) \n",
    "colnames(results_df) = columns\n",
    "\n",
    "pb = txtProgressBar(min = 0, max = tot_its, initial = 0, style = 3)\n",
    "\n",
    "for(SNR in SNR_values){\n",
    "    for(prop_relevant in prop_relevant_values){\n",
    "        for(i in 1:num_iter){\n",
    "\n",
    "            data <- data_generator_random_time(n_subjects, n_observations, p, SNR, prop_relevant, rho=0.5)\n",
    "            X <- data$X\n",
    "            Z <- data$Z\n",
    "            subjects <- data$subjects\n",
    "            y <- data$y\n",
    "            beta <- data$beta\n",
    "            sd <- data$sd\n",
    "\n",
    "            # fixing lambda\n",
    "            lambda = 10\n",
    "            \n",
    "            selFun <- function(y) selFun_fixed_lambda(X, subjects, y, fixed_form, rand_form, lambda)\n",
    "\n",
    "            checkFun <- function(yb){\n",
    "\n",
    "                all(selFun(yb)$vec == sel_vec)\n",
    "\n",
    "            }\n",
    "\n",
    "            sel_form = as.formula(\n",
    "            paste(\"y ~ \",paste(sel_names[2:length(sel_names)], collapse='+'), \"+ (t1 + t2 +t3|subjects)\")\n",
    "            )\n",
    "\n",
    "            control <- lmerControl(\n",
    "            check.nobs.vs.rankZ = \"ignore\",\n",
    "            check.nobs.vs.nlev = \"ignore\",\n",
    "            check.nlev.gtreq.5 = \"ignore\",\n",
    "            check.nlev.gtr.1 = \"ignore\",\n",
    "            check.nobs.vs.nRE= \"ignore\",\n",
    "            )\n",
    "\n",
    "\n",
    "            final_model = lmer(formula = sel_form, control= control ,data=data.frame(X, subjects, y))\n",
    "\n",
    "            # and compute valid p-values conditional on the selection\n",
    "            # (this takes some time and will produce a lot of warnings)\n",
    "            suppressWarnings(res <- mocasin(final_model, this_y = y, conditional = FALSE,\n",
    "                        checkFun = checkFun, nrSamples = 50, trace = FALSE))\n",
    "\n",
    "            sel_with_selinf <- selection_with_selinf(res, sel_vec, fdr_level = 0.1)\n",
    "            \n",
    "            selinf_metrics <- metrics(sel_with_selinf,c(1,beta!=0))\n",
    "\n",
    "            avg_ci_length_selinf <- ci_length(res)\n",
    "\n",
    "            results_df[nrow(results_df) + 1,] <- c(SNR, prop_relevant, selinf_metrics$tpr, NA, selinf_metrics$fdr NA, avg_ci_length_selinf, NA)\n",
    "\n",
    "            setTxtProgressBar(pb,nrow(results_df))\n",
    "\n",
    "        }\n",
    "    }\n",
    "}\n",
    "\n",
    "close(pb)"
   ]
  },
  {
   "cell_type": "code",
   "execution_count": null,
   "metadata": {
    "vscode": {
     "languageId": "r"
    }
   },
   "outputs": [],
   "source": [
    "source('minMod_modif.r')"
   ]
  },
  {
   "cell_type": "code",
   "execution_count": null,
   "metadata": {
    "vscode": {
     "languageId": "r"
    }
   },
   "outputs": [],
   "source": [
    "set.seed(1)\n",
    "\n",
    "n_subjects= 25\n",
    "n_observations = 4\n",
    "n = n_subjects * n_observations\n",
    "p = 100\n",
    "q <- n_observations-1\n",
    "\n",
    "SNR_values = c(2,4)\n",
    "prop_relevant_values = c(0.1, 0.2, 0.3)\n",
    "num_iter = 10\n",
    "\n",
    "tot_its <- length(SNR_values)*length(prop_relevant_values)*num_iter\n",
    "\n",
    "pb = txtProgressBar(min = 0, max = tot_its, initial = 0, style = 3)\n",
    "\n",
    "for(SNR in SNR_values){\n",
    "    for(prop_relevant in prop_relevant_values){\n",
    "        for(i in 1:num_iter){\n",
    "\n",
    "            data <- data_generator_random_time(n_subjects, n_observations, p, SNR, prop_relevant, rho=0.5)\n",
    "            X <- data$X\n",
    "            Z <- data$Z\n",
    "            subjects <- data$subjects\n",
    "            y <- data$y\n",
    "            beta <- data$beta\n",
    "            sd <- data$sd\n",
    "\n",
    "            # fixing lambda\n",
    "            lambda = 10\n",
    "            \n",
    "            selFun <- function(y) selFun_fixed_lambda(X, subjects, y, fixed_form, rand_form, lambda)\n",
    "\n",
    "            checkFun <- function(yb){\n",
    "\n",
    "                all(selFun(yb)$vec == sel_vec)\n",
    "\n",
    "            }\n",
    "\n",
    "            sel_form = as.formula(\n",
    "            paste(\"y ~ \",paste(sel_names[2:length(sel_names)], collapse='+'), \"+ (t1 + t2 +t3|subjects)\")\n",
    "            )\n",
    "\n",
    "            control <- lmerControl(\n",
    "            check.nobs.vs.rankZ = \"ignore\",\n",
    "            check.nobs.vs.nlev = \"ignore\",\n",
    "            check.nlev.gtreq.5 = \"ignore\",\n",
    "            check.nlev.gtr.1 = \"ignore\",\n",
    "            check.nobs.vs.nRE= \"ignore\",\n",
    "            )\n",
    "\n",
    "\n",
    "            final_model = lmer(formula = sel_form, control= control ,data=data.frame(X, subjects, y))\n",
    "\n",
    "            # and compute valid p-values conditional on the selection\n",
    "            # (this takes some time and will produce a lot of warnings)\n",
    "            suppressWarnings(res <- mocasin(final_model, this_y = y, conditional = FALSE,\n",
    "                        checkFun = checkFun, nrSamples = 50, trace = FALSE))\n",
    "\n",
    "            sel_with_selinf <- selection_with_selinf(res, sel_vec, fdr_level = 0.1)\n",
    "            \n",
    "            selinf_metrics <- metrics(sel_with_selinf,c(1,beta!=0))\n",
    "\n",
    "            avg_ci_length_selinf <- ci_length(res)\n",
    "\n",
    "            results_df[nrow(results_df) + 1,'TPR_new'] <- selinf_metrics$tpr\n",
    "            results_df[nrow(results_df) + 1,'FDR_new'] <- selinf_metrics$fdr\n",
    "            results_df[nrow(results_df) + 1,'avg_ci_length_new'] <- avg_ci_length_selinf\n",
    "\n",
    "            setTxtProgressBar(pb,nrow(results_df))\n",
    "\n",
    "        }\n",
    "    }\n",
    "}\n",
    "\n",
    "close(pb)"
   ]
  },
  {
   "cell_type": "code",
   "execution_count": 13,
   "metadata": {
    "vscode": {
     "languageId": "r"
    }
   },
   "outputs": [],
   "source": [
    "write.csv(results_df, \"C:/Users/dalma/Desktop/Matteo/phd/r/simulation_results_varest.csv\", row.names=FALSE)"
   ]
  }
 ],
 "metadata": {
  "kernelspec": {
   "display_name": "R",
   "language": "R",
   "name": "ir"
  },
  "language_info": {
   "codemirror_mode": "r",
   "file_extension": ".r",
   "mimetype": "text/x-r-source",
   "name": "R",
   "pygments_lexer": "r",
   "version": "4.3.1"
  },
  "orig_nbformat": 4
 },
 "nbformat": 4,
 "nbformat_minor": 2
}
