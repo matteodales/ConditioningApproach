{
 "cells": [
  {
   "cell_type": "code",
   "execution_count": 28,
   "metadata": {
    "vscode": {
     "languageId": "r"
    }
   },
   "outputs": [],
   "source": [
    "source('utils.r')\n",
    "source('selinf_functions.r')\n",
    "source('metrics.r')\n",
    "source('data_generator.r')\n",
    "source('cov_matrix.r')"
   ]
  },
  {
   "cell_type": "markdown",
   "metadata": {},
   "source": [
    "## Selecting optimal lambda\n",
    "Up to this point we have computed Selective Inference results with a fixed value of lambda, to have faster computation. Here we test a single example with the inclusion of lambda selection, to test the computational time required, and eventual improvements in performance."
   ]
  },
  {
   "cell_type": "code",
   "execution_count": 21,
   "metadata": {
    "vscode": {
     "languageId": "r"
    }
   },
   "outputs": [],
   "source": [
    "set.seed(0)\n",
    "\n",
    "n_subjects= 25\n",
    "n_observations = 4\n",
    "n = n_subjects * n_observations\n",
    "p = 200\n",
    "q = 0\n",
    "SNR = 4\n",
    "prop_relevant = 0.1\n",
    "\n",
    "data <- data_generator(n_subjects, n_observations, p, q, SNR, prop_relevant, rho=0.25)\n",
    "X <- data$X\n",
    "subjects <- data$subjects\n",
    "y <- data$y\n",
    "beta <- data$beta\n",
    "sd <- data$sd"
   ]
  },
  {
   "cell_type": "markdown",
   "metadata": {},
   "source": [
    "## Lasso selection"
   ]
  },
  {
   "cell_type": "code",
   "execution_count": 22,
   "metadata": {
    "vscode": {
     "languageId": "r"
    }
   },
   "outputs": [
    {
     "name": "stdout",
     "output_type": "stream",
     "text": [
      "[1] 98.60833\n",
      "$tpr\n",
      "[1] 0.2857143\n",
      "\n",
      "$fdr\n",
      "[1] 0.5384615\n",
      "\n"
     ]
    }
   ],
   "source": [
    "fixed_form = as.formula(\n",
    "    paste(\"y ~ 1 +\",paste(\"X\", 1:p, sep=\"\", collapse='+'),sep=\"\")\n",
    "  )\n",
    "\n",
    "rand_form = list(subjects =~ 1)\n",
    "\n",
    "\n",
    "selFun <- function(y) selFun_adapting_lambda(X, subjects, y, fixed_form, rand_form)\n",
    "\n",
    "sel <- selFun(y)\n",
    "sel_vec <- sel$vec\n",
    "sel_names <- sel$names\n",
    "lambda <- sel$lambda\n",
    "print(metrics(sel_vec,c(TRUE,beta!=0)))"
   ]
  },
  {
   "cell_type": "code",
   "execution_count": 23,
   "metadata": {
    "vscode": {
     "languageId": "r"
    }
   },
   "outputs": [
    {
     "name": "stderr",
     "output_type": "stream",
     "text": [
      "boundary (singular) fit: see help('isSingular')\n",
      "\n"
     ]
    }
   ],
   "source": [
    "## Adding Selective Inference\n",
    "# Now we can define the function checking the congruency\n",
    "# with the original selection\n",
    "checkFun <- function(yb){\n",
    "\n",
    "  all(selFun(yb)$vec == sel_vec)\n",
    "\n",
    "}\n",
    "\n",
    "sel_form = as.formula(\n",
    "  paste(\"y ~ \",paste(sel_names[2:length(sel_names)], collapse='+'), \"+ (1|subjects)\")\n",
    ")\n",
    "\n",
    "final_model = lmer(formula = sel_form, data=data.frame(X, subjects, y))"
   ]
  },
  {
   "cell_type": "code",
   "execution_count": 24,
   "metadata": {
    "vscode": {
     "languageId": "r"
    }
   },
   "outputs": [
    {
     "data": {
      "text/plain": [
       "Linear mixed model fit by REML ['lmerModLmerTest']\n",
       "Formula: sel_form\n",
       "   Data: data.frame(X, subjects, y)\n",
       "REML criterion at convergence: 473.9166\n",
       "Random effects:\n",
       " Groups   Name        Std.Dev.\n",
       " subjects (Intercept) 0.000   \n",
       " Residual             2.626   \n",
       "Number of obs: 100, groups:  subjects, 25\n",
       "Fixed Effects:\n",
       "(Intercept)           X3           X4          X12          X14          X20  \n",
       "     0.7068       0.7213       0.4834       0.9041       0.7619      -0.2675  \n",
       "        X27          X36          X69         X102         X109         X110  \n",
       "    -0.6276       0.6964       0.4332       1.0247      -0.4728       0.7459  \n",
       "       X161  \n",
       "    -1.3012  \n",
       "optimizer (nloptwrap) convergence code: 0 (OK) ; 0 optimizer warnings; 1 lme4 warnings "
      ]
     },
     "metadata": {},
     "output_type": "display_data"
    }
   ],
   "source": [
    "final_model"
   ]
  },
  {
   "cell_type": "code",
   "execution_count": 107,
   "metadata": {
    "vscode": {
     "languageId": "r"
    }
   },
   "outputs": [
    {
     "name": "stdout",
     "output_type": "stream",
     "text": [
      "Computing inference for variable (location)  1 \n",
      "\n",
      "  |                                                                      |   0%"
     ]
    },
    {
     "name": "stdout",
     "output_type": "stream",
     "text": [
      "[1] 74.07104\n",
      "  |=======                                                               |  10%Warning:\n",
      "Algorithm did not converge!\n",
      "[1] 74.07104\n",
      "  |==============                                                        |  20%[1] 74.07104\n",
      "  |=====================                                                 |  30%[1] 74.07104\n",
      "  |============================                                          |  40%[1] 74.07104\n",
      "  |===================================                                   |  50%[1] 74.07104\n",
      "  |==========================================                            |  60%[1] 74.07104\n",
      "  |=================================================                     |  70%[1] 77.09497\n",
      "  |========================================================              |  80%Warning:\n",
      "Algorithm did not converge!\n",
      "[1] 74.07104\n",
      "  |===============================================================       |  90%[1] 77.09497\n",
      "  |======================================================================| 100%\n",
      "\n",
      "\n",
      "Computing inference for variable (location)  2 \n",
      "\n",
      "  |                                                                      |   0%[1] 77.09497\n",
      "  |=======                                                               |  10%[1] 77.09497\n",
      "  |==============                                                        |  20%[1] 77.09497\n",
      "  |=====================                                                 |  30%[1] 77.09497\n",
      "  |============================                                          |  40%[1] 77.09497\n",
      "  |===================================                                   |  50%[1] 77.09497\n",
      "  |==========================================                            |  60%Warning:\n",
      "Algorithm did not converge!\n",
      "[1] 74.07104\n",
      "  |=================================================                     |  70%[1] 77.09497\n",
      "  |========================================================              |  80%[1] 77.09497\n",
      "  |===============================================================       |  90%[1] 77.09497\n",
      "  |======================================================================| 100%\n",
      "\n",
      "\n",
      "Computing inference for variable (location)  3 \n",
      "\n",
      "  |                                                                      |   0%[1] 75.27918\n",
      "  |=======                                                               |  10%[1] 75.60632\n",
      "  |==============                                                        |  20%[1] 74.84689\n",
      "  |=====================                                                 |  30%[1] 74.6985\n",
      "  |============================                                          |  40%[1] 75.19519\n",
      "  |===================================                                   |  50%[1] 75.64097\n",
      "  |==========================================                            |  60%[1] 75.0558\n",
      "  |=================================================                     |  70%[1] 75.09953\n",
      "  |========================================================              |  80%[1] 74.98144\n",
      "  |===============================================================       |  90%[1] 76.13836\n",
      "  |======================================================================| 100%\n",
      "  |                                                                      |   0%[1] 74.52971\n",
      "  |=======                                                               |  10%Warning:\n",
      "Algorithm did not converge!\n",
      "[1] 77.21055\n",
      "  |==============                                                        |  20%Warning:\n",
      "Algorithm did not converge!\n",
      "[1] 75.46691\n",
      "  |=====================                                                 |  30%[1] 76.96112\n",
      "  |============================                                          |  40%[1] 76.20028\n",
      "  |===================================                                   |  50%Warning:\n",
      "Algorithm did not converge!\n",
      "[1] 75.51966\n",
      "  |==========================================                            |  60%[1] 74.24608\n",
      "  |=================================================                     |  70%[1] 75.12456\n",
      "  |========================================================              |  80%[1] 76.08461\n",
      "  |===============================================================       |  90%[1] 75.0558\n",
      "  |======================================================================| 100%\n",
      "\n",
      "\n",
      "Computing inference for variable (location)  4 \n",
      "\n",
      "  |                                                                      |   0%[1] 77.09497\n",
      "  |=======                                                               |  10%Warning:\n",
      "Algorithm did not converge!\n",
      "[1] 80.06257\n",
      "  |==============                                                        |  20%[1] 74.07104\n",
      "  |=====================                                                 |  30%[1] 74.07104\n",
      "  |============================                                          |  40%[1] 74.07104\n",
      "  |===================================                                   |  50%[1] 74.07104\n",
      "  |==========================================                            |  60%[1] 77.09497\n",
      "  |=================================================                     |  70%[1] 80.34487\n",
      "  |========================================================              |  80%[1] 74.07104\n",
      "  |===============================================================       |  90%[1] 74.07104\n",
      "  |======================================================================| 100%\n",
      "\n",
      "\n",
      "Computing inference for variable (location)  5 \n",
      "\n",
      "  |                                                                      |   0%[1] 77.09497\n",
      "  |=======                                                               |  10%Warning:\n",
      "Algorithm did not converge!\n",
      "[1] 74.07104\n",
      "  |==============                                                        |  20%[1] 77.09497\n",
      "  |=====================                                                 |  30%[1] 74.07104\n",
      "  |============================                                          |  40%[1] 77.09497\n",
      "  |===================================                                   |  50%Warning:\n",
      "Algorithm did not converge!\n",
      "[1] 74.07104\n",
      "  |==========================================                            |  60%[1] 74.07104\n",
      "  |=================================================                     |  70%Warning:\n",
      "Algorithm did not converge!\n",
      "[1] 77.09497\n",
      "  |========================================================              |  80%[1] 77.09497\n",
      "  |===============================================================       |  90%[1] 74.07104\n",
      "  |======================================================================| 100%\n",
      "\n",
      "\n",
      "Computing inference for variable (location)  6 \n",
      "\n",
      "  |                                                                      |   0%[1] 74.07104\n",
      "  |=======                                                               |  10%[1] 74.07104\n",
      "  |==============                                                        |  20%[1] 74.07104\n",
      "  |=====================                                                 |  30%[1] 74.07104\n",
      "  |============================                                          |  40%[1] 77.09497\n",
      "  |===================================                                   |  50%[1] 74.07104\n",
      "  |==========================================                            |  60%[1] 77.09497\n",
      "  |=================================================                     |  70%[1] 74.07104\n",
      "  |========================================================              |  80%[1] 74.07104\n",
      "  |===============================================================       |  90%[1] 74.07104\n",
      "  |======================================================================| 100%\n",
      "\n",
      "\n",
      "Computing inference for variable (location)  7 \n",
      "\n",
      "  |                                                                      |   0%[1] 74.07104\n",
      "  |=======                                                               |  10%Warning:\n",
      "Algorithm did not converge!\n",
      "[1] 74.07104\n",
      "  |==============                                                        |  20%Warning:\n",
      "Algorithm did not converge!\n",
      "[1] 77.09497\n",
      "  |=====================                                                 |  30%[1] 74.07104\n",
      "  |============================                                          |  40%Warning:\n",
      "Algorithm did not converge!\n",
      "[1] 77.09497\n",
      "  |===================================                                   |  50%[1] 74.07104\n",
      "  |==========================================                            |  60%[1] 74.07104\n",
      "  |=================================================                     |  70%[1] 74.07104\n",
      "  |========================================================              |  80%[1] 74.07104\n",
      "  |===============================================================       |  90%Warning:\n",
      "Algorithm did not converge!\n",
      "[1] 77.09497\n",
      "  |======================================================================| 100%\n",
      "\n",
      "\n",
      "Computing inference for variable (location)  8 \n",
      "\n",
      "  |                                                                      |   0%[1] 77.09497\n",
      "  |=======                                                               |  10%[1] 74.07104\n",
      "  |==============                                                        |  20%[1] 77.09497\n",
      "  |=====================                                                 |  30%[1] 74.07104\n",
      "  |============================                                          |  40%Warning:\n",
      "Algorithm did not converge!\n",
      "[1] 74.07104\n",
      "  |===================================                                   |  50%[1] 77.09497\n",
      "  |==========================================                            |  60%[1] 77.09497\n",
      "  |=================================================                     |  70%[1] 74.07104\n",
      "  |========================================================              |  80%[1] 74.07104\n",
      "  |===============================================================       |  90%[1] 77.09497\n",
      "  |======================================================================| 100%\n",
      "\n",
      "\n",
      "Computing inference for variable (location)  9 \n",
      "\n",
      "  |                                                                      |   0%Warning:\n",
      "Algorithm did not converge!\n",
      "[1] 74.07104\n",
      "  |=======                                                               |  10%[1] 80.1189\n",
      "  |==============                                                        |  20%Warning:\n",
      "Algorithm did not converge!\n",
      "[1] 74.07104\n",
      "  |=====================                                                 |  30%[1] 77.09497\n",
      "  |============================                                          |  40%[1] 80.1189\n",
      "  |===================================                                   |  50%[1] 77.09497\n",
      "  |==========================================                            |  60%[1] 77.09497\n",
      "  |=================================================                     |  70%[1] 77.09497\n",
      "  |========================================================              |  80%[1] 77.09497\n",
      "  |===============================================================       |  90%[1] 77.09497\n",
      "  |======================================================================| 100%\n",
      "\n",
      "\n",
      "Computing inference for variable (location)  10 \n",
      "\n",
      "  |                                                                      |   0%[1] 74.07104\n",
      "  |=======                                                               |  10%[1] 74.07104\n",
      "  |==============                                                        |  20%Warning:\n",
      "Algorithm did not converge!\n",
      "[1] 74.07104\n",
      "  |=====================                                                 |  30%[1] 74.07104\n",
      "  |============================                                          |  40%[1] 74.07104\n",
      "  |===================================                                   |  50%[1] 74.07104\n",
      "  |==========================================                            |  60%[1] 74.07104\n",
      "  |=================================================                     |  70%Warning:\n",
      "Algorithm did not converge!\n",
      "[1] 74.07104\n",
      "  |========================================================              |  80%[1] 77.09497\n",
      "  |===============================================================       |  90%[1] 74.07104\n",
      "  |======================================================================| 100%\n",
      "\n",
      "\n",
      "Computing inference for variable (location)  11 \n",
      "\n",
      "  |                                                                      |   0%[1] 74.07104\n",
      "  |=======                                                               |  10%[1] 74.07104\n",
      "  |==============                                                        |  20%[1] 74.07104\n",
      "  |=====================                                                 |  30%[1] 77.09497\n",
      "  |============================                                          |  40%[1] 74.07104\n",
      "  |===================================                                   |  50%[1] 74.07104\n",
      "  |==========================================                            |  60%[1] 77.09497\n",
      "  |=================================================                     |  70%[1] 74.07104\n",
      "  |========================================================              |  80%[1] 77.09497\n",
      "  |===============================================================       |  90%[1] 74.07104\n",
      "  |======================================================================| 100%\n",
      "\n",
      "\n"
     ]
    }
   ],
   "source": [
    "# and compute valid p-values conditional on the selection\n",
    "# (this takes some time and will produce a lot of warnings)\n",
    "suppressWarnings(res <- mocasin(final_model, this_y = y, conditional = FALSE,\n",
    "               checkFun = checkFun, nrSamples = 10))"
   ]
  },
  {
   "cell_type": "code",
   "execution_count": 108,
   "metadata": {
    "vscode": {
     "languageId": "r"
    }
   },
   "outputs": [
    {
     "data": {
      "text/html": [
       "<dl>\n",
       "\t<dt>$tpr</dt>\n",
       "\t\t<dd>0.454545454545455</dd>\n",
       "\t<dt>$fdr</dt>\n",
       "\t\t<dd>0.375</dd>\n",
       "</dl>\n"
      ],
      "text/latex": [
       "\\begin{description}\n",
       "\\item[\\$tpr] 0.454545454545455\n",
       "\\item[\\$fdr] 0.375\n",
       "\\end{description}\n"
      ],
      "text/markdown": [
       "$tpr\n",
       ":   0.454545454545455\n",
       "$fdr\n",
       ":   0.375\n",
       "\n",
       "\n"
      ],
      "text/plain": [
       "$tpr\n",
       "[1] 0.4545455\n",
       "\n",
       "$fdr\n",
       "[1] 0.375\n"
      ]
     },
     "metadata": {},
     "output_type": "display_data"
    }
   ],
   "source": [
    "# create a boolean vector for the ones selected at 5% significance level\n",
    "\n",
    "sel_with_selinf <- c(rep(0,p+1))\n",
    "names(sel_with_selinf) <- names(sel_vec)\n",
    "only_sel <- names(sel_vec[sel_vec == 1])\n",
    "\n",
    "for(i in 1:length(res$selinf)){\n",
    "   if(res$selinf[[i]]['pval']<0.05) sel_with_selinf[only_sel[i]] <- 1\n",
    "   }\n",
    "metrics(sel_with_selinf,c(1,beta!=0))"
   ]
  },
  {
   "cell_type": "markdown",
   "metadata": {},
   "source": [
    "We can see from the following histogram, that the value of $\\lambda$ selected in the multiple samples is almost always the same. Selecting lambda from the data only once and keeping that value should not influence the results very much, and should speed up the computation immensely."
   ]
  },
  {
   "cell_type": "code",
   "execution_count": 109,
   "metadata": {
    "vscode": {
     "languageId": "r"
    }
   },
   "outputs": [
    {
     "data": {
      "image/png": "[encoded data removed]",
      "text/plain": [
       "Plot with title \"Histogram of chosen_lambdas_vec\""
      ]
     },
     "metadata": {
      "image/png": {
       "height": 420,
       "width": 420
      }
     },
     "output_type": "display_data"
    }
   ],
   "source": [
    "hist(chosen_lambdas_vec)"
   ]
  },
  {
   "cell_type": "markdown",
   "metadata": {},
   "source": [
    "## Selecting a lambda from the data"
   ]
  },
  {
   "cell_type": "code",
   "execution_count": 25,
   "metadata": {
    "vscode": {
     "languageId": "r"
    }
   },
   "outputs": [],
   "source": [
    "selFun <- function(y) selFun_fixed_lambda(X, subjects, y, fixed_form, rand_form, lambda)"
   ]
  },
  {
   "cell_type": "code",
   "execution_count": 26,
   "metadata": {
    "vscode": {
     "languageId": "r"
    }
   },
   "outputs": [
    {
     "name": "stdout",
     "output_type": "stream",
     "text": [
      "Computing inference for variable (location)  1 \n",
      "\n",
      "  |======================================================================| 100%\n",
      "\n",
      "\n",
      "Computing inference for variable (location)  2 \n",
      "\n",
      "  |======================================================================| 100%\n",
      "\n",
      "\n",
      "Computing inference for variable (location)  3 \n",
      "\n",
      "  |======================================================================| 100%\n",
      "\n",
      "\n",
      "Computing inference for variable (location)  4 \n",
      "\n",
      "  |======================================================================| 100%\n",
      "\n",
      "\n",
      "Computing inference for variable (location)  5 \n",
      "\n",
      "  |======================================================================| 100%\n",
      "\n",
      "\n",
      "Computing inference for variable (location)  6 \n",
      "\n",
      "  |======================================================================| 100%\n",
      "\n",
      "\n",
      "Computing inference for variable (location)  7 \n",
      "\n",
      "  |======================================================================| 100%\n",
      "\n",
      "\n",
      "Computing inference for variable (location)  8 \n",
      "\n",
      "  |======================================================================| 100%\n",
      "\n",
      "\n",
      "Computing inference for variable (location)  9 \n",
      "\n",
      "  |======================================================================| 100%\n",
      "\n",
      "\n",
      "Computing inference for variable (location)  10 \n",
      "\n",
      "  |======================================================================| 100%\n",
      "\n",
      "\n",
      "Computing inference for variable (location)  11 \n",
      "\n",
      "  |======================================================================| 100%\n",
      "\n",
      "\n",
      "Computing inference for variable (location)  12 \n",
      "\n",
      "  |======================================================================| 100%\n",
      "\n",
      "\n",
      "Computing inference for variable (location)  13 \n",
      "\n",
      "  |======================================================================| 100%\n",
      "\n",
      "\n"
     ]
    }
   ],
   "source": [
    "# and compute valid p-values conditional on the selection\n",
    "# (this takes some time and will produce a lot of warnings)\n",
    "suppressWarnings(res <- mocasin(final_model, this_y = y, conditional = FALSE,\n",
    "               checkFun = checkFun, nrSamples = 100))"
   ]
  },
  {
   "cell_type": "code",
   "execution_count": 29,
   "metadata": {
    "vscode": {
     "languageId": "r"
    }
   },
   "outputs": [
    {
     "data": {
      "text/html": [
       "<dl>\n",
       "\t<dt>$tpr</dt>\n",
       "\t\t<dd>0.0476190476190476</dd>\n",
       "\t<dt>$fdr</dt>\n",
       "\t\t<dd>0</dd>\n",
       "</dl>\n"
      ],
      "text/latex": [
       "\\begin{description}\n",
       "\\item[\\$tpr] 0.0476190476190476\n",
       "\\item[\\$fdr] 0\n",
       "\\end{description}\n"
      ],
      "text/markdown": [
       "$tpr\n",
       ":   0.0476190476190476\n",
       "$fdr\n",
       ":   0\n",
       "\n",
       "\n"
      ],
      "text/plain": [
       "$tpr\n",
       "[1] 0.04761905\n",
       "\n",
       "$fdr\n",
       "[1] 0\n"
      ]
     },
     "metadata": {},
     "output_type": "display_data"
    }
   ],
   "source": [
    "# create a boolean vector for the ones selected with BH-procedure at a certain fdr level\n",
    "\n",
    "sel_vec2 <- selection_with_selinf(res,sel_vec,0.1)\n",
    "metrics(sel_vec2,c(1,beta!=0))"
   ]
  }
 ],
 "metadata": {
  "kernelspec": {
   "display_name": "R",
   "language": "R",
   "name": "ir"
  },
  "language_info": {
   "codemirror_mode": "r",
   "file_extension": ".r",
   "mimetype": "text/x-r-source",
   "name": "R",
   "pygments_lexer": "r",
   "version": "4.2.1"
  }
 },
 "nbformat": 4,
 "nbformat_minor": 2
}
