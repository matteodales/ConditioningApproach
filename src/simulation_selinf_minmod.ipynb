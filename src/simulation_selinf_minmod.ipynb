{
 "cells": [
  {
   "cell_type": "code",
   "execution_count": 15,
   "metadata": {
    "vscode": {
     "languageId": "r"
    }
   },
   "outputs": [],
   "source": [
    "source('utils.r')\n",
    "source('selinf_functions.r')\n",
    "source('metrics.r')\n",
    "source('data_generator.r')\n",
    "source('cov_matrix.r')\n",
    "library('lmmlasso')"
   ]
  },
  {
   "cell_type": "markdown",
   "metadata": {},
   "source": [
    "## Simulation comparing naive GLMMLasso and Selective Inference\n",
    "Comparing TPR and FDR for the two methods in different settings of SNR and proportion of non-zero coefficients."
   ]
  },
  {
   "cell_type": "code",
   "execution_count": 16,
   "metadata": {
    "vscode": {
     "languageId": "r"
    }
   },
   "outputs": [
    {
     "name": "stdout",
     "output_type": "stream",
     "text": [
      "  |======================================================================| 100%\n",
      "  |======================================================================| 100%\n",
      "  |======================================================================| 100%\n",
      "  |======================================================================| 100%\n",
      "  |=======                                                               |  11%"
     ]
    },
    {
     "name": "stderr",
     "output_type": "stream",
     "text": [
      "boundary (singular) fit: see help('isSingular')\n",
      "\n"
     ]
    },
    {
     "name": "stdout",
     "output_type": "stream",
     "text": [
      "  |======================================================================| 100%\n",
      "  |========                                                              |  11%"
     ]
    },
    {
     "name": "stderr",
     "output_type": "stream",
     "text": [
      "boundary (singular) fit: see help('isSingular')\n",
      "\n"
     ]
    },
    {
     "name": "stdout",
     "output_type": "stream",
     "text": [
      "  |======================================================================| 100%\n",
      "  |=========                                                             |  13%"
     ]
    },
    {
     "name": "stderr",
     "output_type": "stream",
     "text": [
      "boundary (singular) fit: see help('isSingular')\n",
      "\n"
     ]
    },
    {
     "name": "stdout",
     "output_type": "stream",
     "text": [
      "  |======================================================================| 100%\n",
      "  |======================================================================| 100%\n",
      "  |======================================================================| 100%\n",
      "  |======================================================================| 100%\n",
      "  |======================================================================| 100%\n",
      "  |======================================================================| 100%\n",
      "  |======================================================================| 100%\n",
      "  |==========                                                            |  14%"
     ]
    },
    {
     "name": "stderr",
     "output_type": "stream",
     "text": [
      "boundary (singular) fit: see help('isSingular')\n",
      "\n"
     ]
    },
    {
     "name": "stdout",
     "output_type": "stream",
     "text": [
      "  |===========                                                           |  16%"
     ]
    },
    {
     "name": "stderr",
     "output_type": "stream",
     "text": [
      "boundary (singular) fit: see help('isSingular')\n",
      "\n"
     ]
    },
    {
     "name": "stdout",
     "output_type": "stream",
     "text": [
      "  |============                                                          |  17%"
     ]
    },
    {
     "name": "stderr",
     "output_type": "stream",
     "text": [
      "boundary (singular) fit: see help('isSingular')\n",
      "\n",
      "boundary (singular) fit: see help('isSingular')\n",
      "\n"
     ]
    },
    {
     "name": "stdout",
     "output_type": "stream",
     "text": [
      "  |=============                                                         |  18%"
     ]
    },
    {
     "name": "stderr",
     "output_type": "stream",
     "text": [
      "boundary (singular) fit: see help('isSingular')\n",
      "\n"
     ]
    },
    {
     "name": "stdout",
     "output_type": "stream",
     "text": [
      "  |==============                                                        |  19%"
     ]
    },
    {
     "name": "stderr",
     "output_type": "stream",
     "text": [
      "boundary (singular) fit: see help('isSingular')\n",
      "\n"
     ]
    },
    {
     "name": "stdout",
     "output_type": "stream",
     "text": [
      "  |==============                                                        |  21%"
     ]
    },
    {
     "name": "stderr",
     "output_type": "stream",
     "text": [
      "boundary (singular) fit: see help('isSingular')\n",
      "\n"
     ]
    },
    {
     "name": "stdout",
     "output_type": "stream",
     "text": [
      "  |======================================================================| 100%\n",
      "  |======================================================================| 100%\n",
      "  |======================================================================| 100%\n",
      "  |================                                                      |  23%"
     ]
    },
    {
     "name": "stderr",
     "output_type": "stream",
     "text": [
      "boundary (singular) fit: see help('isSingular')\n",
      "\n",
      "boundary (singular) fit: see help('isSingular')\n",
      "\n"
     ]
    },
    {
     "name": "stdout",
     "output_type": "stream",
     "text": [
      "  |======================================================================| 100%\n",
      "  |==================                                                    |  26%"
     ]
    },
    {
     "name": "stderr",
     "output_type": "stream",
     "text": [
      "boundary (singular) fit: see help('isSingular')\n",
      "\n"
     ]
    },
    {
     "name": "stdout",
     "output_type": "stream",
     "text": [
      "  |===================                                                   |  27%"
     ]
    },
    {
     "name": "stderr",
     "output_type": "stream",
     "text": [
      "boundary (singular) fit: see help('isSingular')\n",
      "\n"
     ]
    },
    {
     "name": "stdout",
     "output_type": "stream",
     "text": [
      "  |======================================================================| 100%\n",
      "  |======================================================================| 100%\n",
      "  |======================================================================| 100%\n",
      "  |======================================================================| 100%\n",
      "  |======================================================================| 100%\n",
      "  |======================================================================| 100%\n",
      "  |======================================================================| 100%\n",
      "  |======================================================================| 100%\n",
      "  |======================================================================| 100%\n",
      "  |======================================================================| 100%\n",
      "  |======================================================================| 100%\n",
      "  |======================================================================| 100%\n",
      "  |======================================================================| 100%\n",
      "  |======================================================================| 100%\n",
      "  |======================================================================| 100%\n",
      "  |======================================================================| 100%\n",
      "  |======================================================================| 100%\n",
      "  |======================================================================| 100%\n",
      "  |======================================================================| 100%\n",
      "  |======================================================================| 100%\n",
      "  |======================================================================| 100%\n",
      "  |======================================================================| 100%\n",
      "  |====================                                                  |  29%"
     ]
    },
    {
     "name": "stderr",
     "output_type": "stream",
     "text": [
      "boundary (singular) fit: see help('isSingular')\n",
      "\n"
     ]
    },
    {
     "name": "stdout",
     "output_type": "stream",
     "text": [
      "  |=====================                                                 |  29%"
     ]
    },
    {
     "name": "stderr",
     "output_type": "stream",
     "text": [
      "boundary (singular) fit: see help('isSingular')\n",
      "\n"
     ]
    },
    {
     "name": "stdout",
     "output_type": "stream",
     "text": [
      "  |=====================                                                 |  30%"
     ]
    },
    {
     "name": "stderr",
     "output_type": "stream",
     "text": [
      "Warning message in checkConv(attr(opt, \"derivs\"), opt$par, ctrl = control$checkConv, :\n",
      "\"Model failed to converge with max|grad| = 0.00228022 (tol = 0.002, component 1)\"\n"
     ]
    },
    {
     "name": "stdout",
     "output_type": "stream",
     "text": [
      "  |======================================================================| 100%\n",
      "  |======================================================================| 100%\n",
      "  |========================                                              |  35%"
     ]
    },
    {
     "name": "stderr",
     "output_type": "stream",
     "text": [
      "boundary (singular) fit: see help('isSingular')\n",
      "\n"
     ]
    },
    {
     "name": "stdout",
     "output_type": "stream",
     "text": [
      "  |=========================                                             |  35%"
     ]
    },
    {
     "name": "stderr",
     "output_type": "stream",
     "text": [
      "boundary (singular) fit: see help('isSingular')\n",
      "\n",
      "boundary (singular) fit: see help('isSingular')\n",
      "\n"
     ]
    },
    {
     "name": "stdout",
     "output_type": "stream",
     "text": [
      "  |======================================================================| 100%\n",
      "  |======================================================================| 100%\n",
      "  |=========================                                             |  36%"
     ]
    },
    {
     "name": "stderr",
     "output_type": "stream",
     "text": [
      "boundary (singular) fit: see help('isSingular')\n",
      "\n"
     ]
    },
    {
     "name": "stdout",
     "output_type": "stream",
     "text": [
      "  |======================================================================| 100%\n",
      "  |======================================================================| 100%\n",
      "  |======================================================================| 100%\n",
      "  |======================================================================| 100%\n",
      "  |======================================================================| 100%\n",
      "  |======================================================================| 100%\n",
      "  |======================================================================| 100%\n",
      "  |======================================================================| 100%\n",
      "  |======================================================================| 100%\n",
      "  |======================================================================| 100%\n",
      "  |======================================================================| 100%\n",
      "  |======================================================================| 100%\n",
      "  |======================================================================| 100%\n",
      "  |======================================================================| 100%\n",
      "  |======================================================================| 100%\n",
      "  |======================================================================| 100%\n",
      "  |======================================================================| 100%\n",
      "  |======================================================================| 100%\n",
      "  |======================================================================| 100%\n",
      "  |======================================================================| 100%\n",
      "  |======================================================================| 100%\n",
      "  |======================================================================| 100%\n",
      "  |======================================================================| 100%\n",
      "  |======================================================================| 100%\n",
      "  |======================================================================| 100%\n",
      "  |======================================================================| 100%\n",
      "  |======================================================================| 100%\n",
      "  |======================================================================| 100%\n",
      "  |======================================================================| 100%\n",
      "  |======================================================================| 100%\n",
      "  |======================================================================| 100%\n",
      "  |======================================================================| 100%\n",
      "  |======================================================================| 100%\n",
      "  |======================================================================| 100%\n",
      "  |======================================================================| 100%\n",
      "  |======================================================================| 100%\n",
      "  |======================================================================| 100%\n",
      "  |======================================================================| 100%\n",
      "  |======================================================================| 100%\n",
      "  |======================================================================| 100%\n",
      "  |======================================================================| 100%\n",
      "  |======================================================================| 100%\n",
      "  |======================================================================| 100%\n",
      "  |======================================================================| 100%\n",
      "  |======================================================================| 100%\n",
      "  |======================================================================| 100%\n",
      "  |======================================================================| 100%\n",
      "  |======================================================================| 100%\n",
      "  |======================================================================| 100%\n",
      "  |===========================                                           |  38%"
     ]
    },
    {
     "name": "stderr",
     "output_type": "stream",
     "text": [
      "boundary (singular) fit: see help('isSingular')\n",
      "\n",
      "boundary (singular) fit: see help('isSingular')\n",
      "\n"
     ]
    },
    {
     "name": "stdout",
     "output_type": "stream",
     "text": [
      "  |===========================                                           |  39%"
     ]
    },
    {
     "name": "stderr",
     "output_type": "stream",
     "text": [
      "boundary (singular) fit: see help('isSingular')\n",
      "\n",
      "boundary (singular) fit: see help('isSingular')\n",
      "\n"
     ]
    },
    {
     "name": "stdout",
     "output_type": "stream",
     "text": [
      "  |============================                                          |  39%"
     ]
    },
    {
     "name": "stderr",
     "output_type": "stream",
     "text": [
      "boundary (singular) fit: see help('isSingular')\n",
      "\n"
     ]
    },
    {
     "name": "stdout",
     "output_type": "stream",
     "text": [
      "  |======================================================================| 100%\n",
      "  |=============================                                         |  41%"
     ]
    },
    {
     "name": "stderr",
     "output_type": "stream",
     "text": [
      "boundary (singular) fit: see help('isSingular')\n",
      "\n",
      "boundary (singular) fit: see help('isSingular')\n",
      "\n"
     ]
    },
    {
     "name": "stdout",
     "output_type": "stream",
     "text": [
      "  |=============================                                         |  42%"
     ]
    },
    {
     "name": "stderr",
     "output_type": "stream",
     "text": [
      "boundary (singular) fit: see help('isSingular')\n",
      "\n",
      "Warning message:\n",
      "\"Model failed to converge with 1 negative eigenvalue: -7.4e-01\"\n",
      "boundary (singular) fit: see help('isSingular')\n",
      "\n"
     ]
    },
    {
     "name": "stdout",
     "output_type": "stream",
     "text": [
      "  |==============================                                        |  43%"
     ]
    },
    {
     "name": "stderr",
     "output_type": "stream",
     "text": [
      "boundary (singular) fit: see help('isSingular')\n",
      "\n"
     ]
    },
    {
     "name": "stdout",
     "output_type": "stream",
     "text": [
      "  |======================================================================| 100%\n",
      "  |===============================                                       |  44%"
     ]
    },
    {
     "name": "stderr",
     "output_type": "stream",
     "text": [
      "boundary (singular) fit: see help('isSingular')\n",
      "\n"
     ]
    },
    {
     "name": "stdout",
     "output_type": "stream",
     "text": [
      "  |================================                                      |  45%"
     ]
    },
    {
     "name": "stderr",
     "output_type": "stream",
     "text": [
      "boundary (singular) fit: see help('isSingular')\n",
      "\n"
     ]
    },
    {
     "name": "stdout",
     "output_type": "stream",
     "text": [
      "  |================================                                      |  46%"
     ]
    },
    {
     "name": "stderr",
     "output_type": "stream",
     "text": [
      "boundary (singular) fit: see help('isSingular')\n",
      "\n"
     ]
    },
    {
     "name": "stdout",
     "output_type": "stream",
     "text": [
      "  |=================================                                     |  47%"
     ]
    },
    {
     "name": "stderr",
     "output_type": "stream",
     "text": [
      "boundary (singular) fit: see help('isSingular')\n",
      "\n",
      "boundary (singular) fit: see help('isSingular')\n",
      "\n"
     ]
    },
    {
     "name": "stdout",
     "output_type": "stream",
     "text": [
      "  |==================================                                    |  48%"
     ]
    },
    {
     "name": "stderr",
     "output_type": "stream",
     "text": [
      "boundary (singular) fit: see help('isSingular')\n",
      "\n",
      "Warning message:\n",
      "\"Model failed to converge with 1 negative eigenvalue: -1.5e+00\"\n",
      "boundary (singular) fit: see help('isSingular')\n",
      "\n"
     ]
    },
    {
     "name": "stdout",
     "output_type": "stream",
     "text": [
      "  |==================================                                    |  49%"
     ]
    },
    {
     "name": "stderr",
     "output_type": "stream",
     "text": [
      "boundary (singular) fit: see help('isSingular')\n",
      "\n",
      "boundary (singular) fit: see help('isSingular')\n",
      "\n"
     ]
    },
    {
     "name": "stdout",
     "output_type": "stream",
     "text": [
      "  |======================================================================| 100%\n",
      "  |======================================================================| 100%\n",
      "  |===================================                                   |  49%"
     ]
    },
    {
     "name": "stderr",
     "output_type": "stream",
     "text": [
      "boundary (singular) fit: see help('isSingular')\n",
      "\n"
     ]
    },
    {
     "name": "stdout",
     "output_type": "stream",
     "text": [
      "  |===================================                                   |  51%"
     ]
    },
    {
     "name": "stderr",
     "output_type": "stream",
     "text": [
      "boundary (singular) fit: see help('isSingular')\n",
      "\n"
     ]
    },
    {
     "name": "stdout",
     "output_type": "stream",
     "text": [
      "  |====================================                                  |  51%"
     ]
    },
    {
     "name": "stderr",
     "output_type": "stream",
     "text": [
      "boundary (singular) fit: see help('isSingular')\n",
      "\n"
     ]
    },
    {
     "name": "stdout",
     "output_type": "stream",
     "text": [
      "  |====================================                                  |  52%"
     ]
    },
    {
     "name": "stderr",
     "output_type": "stream",
     "text": [
      "boundary (singular) fit: see help('isSingular')\n",
      "\n"
     ]
    },
    {
     "name": "stdout",
     "output_type": "stream",
     "text": [
      "  |=====================================                                 |  53%"
     ]
    },
    {
     "name": "stderr",
     "output_type": "stream",
     "text": [
      "boundary (singular) fit: see help('isSingular')\n",
      "\n"
     ]
    },
    {
     "name": "stdout",
     "output_type": "stream",
     "text": [
      "  |======================================================================| 100%\n",
      "  |======================================================================| 100%\n",
      "  |======================================================================| 100%\n",
      "  |======================================================================| 100%\n",
      "  |======================================================================| 100%\n"
     ]
    },
    {
     "name": "stderr",
     "output_type": "stream",
     "text": [
      "boundary (singular) fit: see help('isSingular')\n",
      "\n"
     ]
    },
    {
     "name": "stdout",
     "output_type": "stream",
     "text": [
      "  |======================================                                |  54%"
     ]
    },
    {
     "name": "stderr",
     "output_type": "stream",
     "text": [
      "boundary (singular) fit: see help('isSingular')\n",
      "\n"
     ]
    },
    {
     "name": "stdout",
     "output_type": "stream",
     "text": [
      "  |======================================                                |  55%"
     ]
    },
    {
     "name": "stderr",
     "output_type": "stream",
     "text": [
      "boundary (singular) fit: see help('isSingular')\n",
      "\n"
     ]
    },
    {
     "name": "stdout",
     "output_type": "stream",
     "text": [
      "  |=======================================                               |  55%"
     ]
    },
    {
     "name": "stderr",
     "output_type": "stream",
     "text": [
      "boundary (singular) fit: see help('isSingular')\n",
      "\n"
     ]
    },
    {
     "name": "stdout",
     "output_type": "stream",
     "text": [
      "  |=======================================                               |  56%"
     ]
    },
    {
     "name": "stderr",
     "output_type": "stream",
     "text": [
      "boundary (singular) fit: see help('isSingular')\n",
      "\n",
      "boundary (singular) fit: see help('isSingular')\n",
      "\n"
     ]
    },
    {
     "name": "stdout",
     "output_type": "stream",
     "text": [
      "  |======================================================================| 100%\n",
      "  |======================================================================| 100%\n",
      "  |======================================================================| 100%\n",
      "  |======================================================================| 100%\n",
      "  |======================================================================| 100%\n",
      "  |======================================================================| 100%\n",
      "  |======================================================================| 100%\n",
      "  |======================================================================| 100%\n",
      "  |======================================================================| 100%\n",
      "  |======================================================================| 100%\n",
      "  |======================================================================| 100%\n",
      "  |======================================================================| 100%\n",
      "  |======================================================================| 100%\n",
      "  |======================================================================| 100%\n",
      "  |======================================================================| 100%\n",
      "  |======================================================================| 100%\n",
      "  |======================================================================| 100%\n",
      "  |======================================================================| 100%\n",
      "  |======================================================================| 100%\n",
      "  |======================================================================| 100%\n",
      "  |======================================================================| 100%\n",
      "  |======================================================================| 100%\n",
      "  |======================================================================| 100%\n",
      "  |======================================================================| 100%\n",
      "  |======================================================================| 100%\n",
      "  |======================================================================| 100%\n",
      "  |======================================================================| 100%\n",
      "  |========================================                              |  57%"
     ]
    },
    {
     "name": "stderr",
     "output_type": "stream",
     "text": [
      "boundary (singular) fit: see help('isSingular')\n",
      "\n"
     ]
    },
    {
     "name": "stdout",
     "output_type": "stream",
     "text": [
      "  |=========================================                             |  58%"
     ]
    },
    {
     "name": "stderr",
     "output_type": "stream",
     "text": [
      "boundary (singular) fit: see help('isSingular')\n",
      "\n"
     ]
    },
    {
     "name": "stdout",
     "output_type": "stream",
     "text": [
      "  |==========================================                            |  59%"
     ]
    },
    {
     "name": "stderr",
     "output_type": "stream",
     "text": [
      "boundary (singular) fit: see help('isSingular')\n",
      "\n"
     ]
    },
    {
     "name": "stdout",
     "output_type": "stream",
     "text": [
      "  |==========================================                            |  60%"
     ]
    },
    {
     "name": "stderr",
     "output_type": "stream",
     "text": [
      "boundary (singular) fit: see help('isSingular')\n",
      "\n"
     ]
    },
    {
     "name": "stdout",
     "output_type": "stream",
     "text": [
      "  |===========================================                           |  61%"
     ]
    },
    {
     "name": "stderr",
     "output_type": "stream",
     "text": [
      "boundary (singular) fit: see help('isSingular')\n",
      "\n"
     ]
    },
    {
     "name": "stdout",
     "output_type": "stream",
     "text": [
      "  |============================================                          |  63%"
     ]
    },
    {
     "name": "stderr",
     "output_type": "stream",
     "text": [
      "boundary (singular) fit: see help('isSingular')\n",
      "\n",
      "boundary (singular) fit: see help('isSingular')\n",
      "\n"
     ]
    },
    {
     "name": "stdout",
     "output_type": "stream",
     "text": [
      "  |=============================================                         |  64%"
     ]
    },
    {
     "name": "stderr",
     "output_type": "stream",
     "text": [
      "boundary (singular) fit: see help('isSingular')\n",
      "\n"
     ]
    },
    {
     "name": "stdout",
     "output_type": "stream",
     "text": [
      "  |=============================================                         |  65%"
     ]
    },
    {
     "name": "stderr",
     "output_type": "stream",
     "text": [
      "boundary (singular) fit: see help('isSingular')\n",
      "\n"
     ]
    },
    {
     "name": "stdout",
     "output_type": "stream",
     "text": [
      "  |==============================================                        |  66%"
     ]
    },
    {
     "name": "stderr",
     "output_type": "stream",
     "text": [
      "boundary (singular) fit: see help('isSingular')\n",
      "\n"
     ]
    },
    {
     "name": "stdout",
     "output_type": "stream",
     "text": [
      "  |======================================================================| 100%\n",
      "  |===============================================                       |  67%"
     ]
    },
    {
     "name": "stderr",
     "output_type": "stream",
     "text": [
      "boundary (singular) fit: see help('isSingular')\n",
      "\n",
      "Warning message:\n",
      "\"Model failed to converge with 1 negative eigenvalue: -7.6e+00\"\n"
     ]
    },
    {
     "name": "stdout",
     "output_type": "stream",
     "text": [
      "  |================================================                      |  68%"
     ]
    },
    {
     "name": "stderr",
     "output_type": "stream",
     "text": [
      "boundary (singular) fit: see help('isSingular')\n",
      "\n"
     ]
    },
    {
     "name": "stdout",
     "output_type": "stream",
     "text": [
      "  |======================================================================| 100%\n",
      "  |================================================                      |  69%"
     ]
    },
    {
     "name": "stderr",
     "output_type": "stream",
     "text": [
      "boundary (singular) fit: see help('isSingular')\n",
      "\n"
     ]
    },
    {
     "name": "stdout",
     "output_type": "stream",
     "text": [
      "  |=================================================                     |  70%"
     ]
    },
    {
     "name": "stderr",
     "output_type": "stream",
     "text": [
      "boundary (singular) fit: see help('isSingular')\n",
      "\n"
     ]
    },
    {
     "name": "stdout",
     "output_type": "stream",
     "text": [
      "  |=================================================                     |  71%"
     ]
    },
    {
     "name": "stderr",
     "output_type": "stream",
     "text": [
      "boundary (singular) fit: see help('isSingular')\n",
      "\n",
      "boundary (singular) fit: see help('isSingular')\n",
      "\n"
     ]
    },
    {
     "name": "stdout",
     "output_type": "stream",
     "text": [
      "  |==================================================                    |  71%"
     ]
    },
    {
     "name": "stderr",
     "output_type": "stream",
     "text": [
      "boundary (singular) fit: see help('isSingular')\n",
      "\n"
     ]
    },
    {
     "name": "stdout",
     "output_type": "stream",
     "text": [
      "  |==================================================                    |  72%"
     ]
    },
    {
     "name": "stderr",
     "output_type": "stream",
     "text": [
      "boundary (singular) fit: see help('isSingular')\n",
      "\n"
     ]
    },
    {
     "name": "stdout",
     "output_type": "stream",
     "text": [
      "  |===================================================                   |  73%"
     ]
    },
    {
     "name": "stderr",
     "output_type": "stream",
     "text": [
      "boundary (singular) fit: see help('isSingular')\n",
      "\n",
      "boundary (singular) fit: see help('isSingular')\n",
      "\n"
     ]
    },
    {
     "name": "stdout",
     "output_type": "stream",
     "text": [
      "  |======================================================================| 100%\n",
      "  |======================================================================| 100%\n"
     ]
    },
    {
     "name": "stderr",
     "output_type": "stream",
     "text": [
      "boundary (singular) fit: see help('isSingular')\n",
      "\n",
      "boundary (singular) fit: see help('isSingular')\n",
      "\n"
     ]
    },
    {
     "name": "stdout",
     "output_type": "stream",
     "text": [
      "  |======================================================================| 100%\n",
      "  |====================================================                  |  74%"
     ]
    },
    {
     "name": "stderr",
     "output_type": "stream",
     "text": [
      "boundary (singular) fit: see help('isSingular')\n",
      "\n"
     ]
    },
    {
     "name": "stdout",
     "output_type": "stream",
     "text": [
      "  |====================================================                  |  75%"
     ]
    },
    {
     "name": "stderr",
     "output_type": "stream",
     "text": [
      "boundary (singular) fit: see help('isSingular')\n",
      "\n"
     ]
    },
    {
     "name": "stdout",
     "output_type": "stream",
     "text": [
      "  |======================================================================| 100%\n",
      "  |======================================================================| 100%\n",
      "  |======================================================================| 100%\n",
      "  |======================================================================| 100%\n",
      "  |======================================================================| 100%\n",
      "  |======================================================================| 100%\n",
      "  |======================================================================| 100%\n",
      "  |======================================================================| 100%\n",
      "  |======================================================================| 100%\n",
      "  |======================================================================| 100%\n",
      "  |======================================================================| 100%\n",
      "  |======================================================================| 100%\n",
      "  |=====================================================                 |  76%"
     ]
    },
    {
     "name": "stderr",
     "output_type": "stream",
     "text": [
      "boundary (singular) fit: see help('isSingular')\n",
      "\n",
      "boundary (singular) fit: see help('isSingular')\n",
      "\n"
     ]
    },
    {
     "name": "stdout",
     "output_type": "stream",
     "text": [
      "  |======================================================                |  77%"
     ]
    },
    {
     "name": "stderr",
     "output_type": "stream",
     "text": [
      "Warning message in checkConv(attr(opt, \"derivs\"), opt$par, ctrl = control$checkConv, :\n",
      "\"Model failed to converge with max|grad| = 0.0150421 (tol = 0.002, component 1)\"\n",
      "boundary (singular) fit: see help('isSingular')\n",
      "\n",
      "boundary (singular) fit: see help('isSingular')\n",
      "\n",
      "boundary (singular) fit: see help('isSingular')\n",
      "\n"
     ]
    },
    {
     "name": "stdout",
     "output_type": "stream",
     "text": [
      "  |======================================================================| 100%\n",
      "  |======================================================================| 100%\n",
      "  |======================================================================| 100%\n",
      "  |=======================================================               |  78%"
     ]
    },
    {
     "name": "stderr",
     "output_type": "stream",
     "text": [
      "boundary (singular) fit: see help('isSingular')\n",
      "\n"
     ]
    },
    {
     "name": "stdout",
     "output_type": "stream",
     "text": [
      "  |======================================================================| 100%\n",
      "  |======================================================================| 100%\n",
      "  |======================================================================| 100%\n",
      "  |=======================================================               |  79%"
     ]
    },
    {
     "name": "stderr",
     "output_type": "stream",
     "text": [
      "boundary (singular) fit: see help('isSingular')\n",
      "\n",
      "boundary (singular) fit: see help('isSingular')\n",
      "\n"
     ]
    },
    {
     "name": "stdout",
     "output_type": "stream",
     "text": [
      "  |======================================================================| 100%\n",
      "  |========================================================              |  79%"
     ]
    },
    {
     "name": "stderr",
     "output_type": "stream",
     "text": [
      "boundary (singular) fit: see help('isSingular')\n",
      "\n"
     ]
    },
    {
     "name": "stdout",
     "output_type": "stream",
     "text": [
      "  |========================================================              |  80%"
     ]
    },
    {
     "name": "stderr",
     "output_type": "stream",
     "text": [
      "boundary (singular) fit: see help('isSingular')\n",
      "\n"
     ]
    },
    {
     "name": "stdout",
     "output_type": "stream",
     "text": [
      "  |=========================================================             |  81%"
     ]
    },
    {
     "name": "stderr",
     "output_type": "stream",
     "text": [
      "boundary (singular) fit: see help('isSingular')\n",
      "\n",
      "boundary (singular) fit: see help('isSingular')\n",
      "\n"
     ]
    },
    {
     "name": "stdout",
     "output_type": "stream",
     "text": [
      "  |=========================================================             |  82%"
     ]
    },
    {
     "name": "stderr",
     "output_type": "stream",
     "text": [
      "boundary (singular) fit: see help('isSingular')\n",
      "\n"
     ]
    },
    {
     "name": "stdout",
     "output_type": "stream",
     "text": [
      "  |==========================================================            |  83%"
     ]
    },
    {
     "name": "stderr",
     "output_type": "stream",
     "text": [
      "boundary (singular) fit: see help('isSingular')\n",
      "\n"
     ]
    },
    {
     "name": "stdout",
     "output_type": "stream",
     "text": [
      "  |===========================================================           |  84%"
     ]
    },
    {
     "name": "stderr",
     "output_type": "stream",
     "text": [
      "boundary (singular) fit: see help('isSingular')\n",
      "\n"
     ]
    },
    {
     "name": "stdout",
     "output_type": "stream",
     "text": [
      "  |===========================================================           |  85%"
     ]
    },
    {
     "name": "stderr",
     "output_type": "stream",
     "text": [
      "boundary (singular) fit: see help('isSingular')\n",
      "\n"
     ]
    },
    {
     "name": "stdout",
     "output_type": "stream",
     "text": [
      "  |============================================================          |  85%"
     ]
    },
    {
     "name": "stderr",
     "output_type": "stream",
     "text": [
      "boundary (singular) fit: see help('isSingular')\n",
      "\n",
      "Warning message:\n",
      "\"Model failed to converge with 1 negative eigenvalue: -5.6e-01\"\n",
      "boundary (singular) fit: see help('isSingular')\n",
      "\n"
     ]
    },
    {
     "name": "stdout",
     "output_type": "stream",
     "text": [
      "  |============================================================          |  86%"
     ]
    },
    {
     "name": "stderr",
     "output_type": "stream",
     "text": [
      "boundary (singular) fit: see help('isSingular')\n",
      "\n"
     ]
    },
    {
     "name": "stdout",
     "output_type": "stream",
     "text": [
      "  |=============================================================         |  87%"
     ]
    },
    {
     "name": "stderr",
     "output_type": "stream",
     "text": [
      "boundary (singular) fit: see help('isSingular')\n",
      "\n",
      "boundary (singular) fit: see help('isSingular')\n",
      "\n",
      "boundary (singular) fit: see help('isSingular')\n",
      "\n"
     ]
    },
    {
     "name": "stdout",
     "output_type": "stream",
     "text": [
      "  |==============================================================        |  88%"
     ]
    },
    {
     "name": "stderr",
     "output_type": "stream",
     "text": [
      "boundary (singular) fit: see help('isSingular')\n",
      "\n",
      "boundary (singular) fit: see help('isSingular')\n",
      "\n"
     ]
    },
    {
     "name": "stdout",
     "output_type": "stream",
     "text": [
      "  |===============================================================       |  89%"
     ]
    },
    {
     "name": "stderr",
     "output_type": "stream",
     "text": [
      "boundary (singular) fit: see help('isSingular')\n",
      "\n"
     ]
    },
    {
     "name": "stdout",
     "output_type": "stream",
     "text": [
      "  |===============================================================       |  90%"
     ]
    },
    {
     "name": "stderr",
     "output_type": "stream",
     "text": [
      "boundary (singular) fit: see help('isSingular')\n",
      "\n",
      "Warning message:\n",
      "\"Model failed to converge with 1 negative eigenvalue: -1.3e+00\"\n",
      "boundary (singular) fit: see help('isSingular')\n",
      "\n"
     ]
    },
    {
     "name": "stdout",
     "output_type": "stream",
     "text": [
      "  |===============================================================       |  91%"
     ]
    },
    {
     "name": "stderr",
     "output_type": "stream",
     "text": [
      "boundary (singular) fit: see help('isSingular')\n",
      "\n"
     ]
    },
    {
     "name": "stdout",
     "output_type": "stream",
     "text": [
      "  |================================================================      |  91%"
     ]
    },
    {
     "name": "stderr",
     "output_type": "stream",
     "text": [
      "boundary (singular) fit: see help('isSingular')\n",
      "\n",
      "boundary (singular) fit: see help('isSingular')\n",
      "\n"
     ]
    },
    {
     "name": "stdout",
     "output_type": "stream",
     "text": [
      "  |======================================================================| 100%\n",
      "  |================================================================      |  92%"
     ]
    },
    {
     "name": "stderr",
     "output_type": "stream",
     "text": [
      "boundary (singular) fit: see help('isSingular')\n",
      "\n",
      "boundary (singular) fit: see help('isSingular')\n",
      "\n"
     ]
    },
    {
     "name": "stdout",
     "output_type": "stream",
     "text": [
      "  |=================================================================     |  93%"
     ]
    },
    {
     "name": "stderr",
     "output_type": "stream",
     "text": [
      "boundary (singular) fit: see help('isSingular')\n",
      "\n",
      "boundary (singular) fit: see help('isSingular')\n",
      "\n"
     ]
    },
    {
     "name": "stdout",
     "output_type": "stream",
     "text": [
      "  |==================================================================    |  95%"
     ]
    },
    {
     "name": "stderr",
     "output_type": "stream",
     "text": [
      "boundary (singular) fit: see help('isSingular')\n",
      "\n",
      "boundary (singular) fit: see help('isSingular')\n",
      "\n"
     ]
    },
    {
     "name": "stdout",
     "output_type": "stream",
     "text": [
      "  |======================================================================| 100%\n",
      "  |======================================================================| 100%\n",
      "  |======================================================================| 100%\n",
      "  |======================================================================| 100%\n",
      "  |======================================================================| 100%\n",
      "  |===================================================================   |  95%"
     ]
    },
    {
     "name": "stderr",
     "output_type": "stream",
     "text": [
      "boundary (singular) fit: see help('isSingular')\n",
      "\n",
      "boundary (singular) fit: see help('isSingular')\n",
      "\n"
     ]
    },
    {
     "name": "stdout",
     "output_type": "stream",
     "text": [
      "  |===================================================================   |  96%"
     ]
    },
    {
     "name": "stderr",
     "output_type": "stream",
     "text": [
      "boundary (singular) fit: see help('isSingular')\n",
      "\n",
      "boundary (singular) fit: see help('isSingular')\n",
      "\n"
     ]
    },
    {
     "name": "stdout",
     "output_type": "stream",
     "text": [
      "  |====================================================================  |  97%"
     ]
    },
    {
     "name": "stderr",
     "output_type": "stream",
     "text": [
      "boundary (singular) fit: see help('isSingular')\n",
      "\n",
      "Warning message:\n",
      "\"Model failed to converge with 1 negative eigenvalue: -2.7e+00\"\n",
      "boundary (singular) fit: see help('isSingular')\n",
      "\n",
      "boundary (singular) fit: see help('isSingular')\n",
      "\n"
     ]
    },
    {
     "name": "stdout",
     "output_type": "stream",
     "text": [
      "  |===================================================================== |  98%"
     ]
    },
    {
     "name": "stderr",
     "output_type": "stream",
     "text": [
      "boundary (singular) fit: see help('isSingular')\n",
      "\n"
     ]
    },
    {
     "name": "stdout",
     "output_type": "stream",
     "text": [
      "  |===================================================================== |  99%"
     ]
    },
    {
     "name": "stderr",
     "output_type": "stream",
     "text": [
      "boundary (singular) fit: see help('isSingular')\n",
      "\n"
     ]
    },
    {
     "name": "stdout",
     "output_type": "stream",
     "text": [
      "  |======================================================================|  99%"
     ]
    },
    {
     "name": "stderr",
     "output_type": "stream",
     "text": [
      "boundary (singular) fit: see help('isSingular')\n",
      "\n",
      "boundary (singular) fit: see help('isSingular')\n",
      "\n"
     ]
    },
    {
     "name": "stdout",
     "output_type": "stream",
     "text": [
      "  |======================================================================| 100%\n"
     ]
    }
   ],
   "source": [
    "n_subjects= 25\n",
    "n_observations = 4\n",
    "p = 100\n",
    "q = 1\n",
    "\n",
    "SNR_values = c(4)\n",
    "prop_relevant_values = c(0.1, 0.2, 0.3)\n",
    "num_iter = 50\n",
    "\n",
    "fixed_form = as.formula(\n",
    "    paste(\"y ~ 1 +\",paste(\"X\", 1:p, sep=\"\", collapse='+'),sep=\"\")\n",
    ")\n",
    "\n",
    "rand_form = list(subjects =~ 1 + X1)\n",
    "\n",
    "tot_its <- length(SNR_values)*length(prop_relevant_values)*num_iter\n",
    "\n",
    "columns = c('SNR','prop_relevant', 'TPR_lasso', 'TPR_selinf', 'FDR_lasso', 'FDR_selinf', 'num_sel_lasso', 'num_sel_selinf')\n",
    "results_df = data.frame(matrix(nrow = 0, ncol = length(columns))) \n",
    "colnames(results_df) = columns\n",
    "\n",
    "pb = txtProgressBar(min = 0, max = tot_its, initial = 0, style = 3)\n",
    "\n",
    "for(SNR in SNR_values){\n",
    "    for(prop_relevant in prop_relevant_values){\n",
    "        for(i in 1:num_iter){\n",
    "\n",
    "            data <- data_generator(n_subjects, n_observations, p, q, SNR, prop_relevant)\n",
    "            X <- data$X\n",
    "            subjects <- data$subjects\n",
    "            y <- data$y\n",
    "            beta <- data$beta\n",
    "\n",
    "            # fixing lambda\n",
    "            lambda = max(abs(t(X) %*% y)) / 2\n",
    "            \n",
    "\n",
    "            selFun <- function(y) selFun_fixed_lambda(X, subjects, y, fixed_form, rand_form, lambda)\n",
    "\n",
    "            # Now we can define the function checking the congruency\n",
    "            # with the original selection\n",
    "            checkFun <- function(yb){\n",
    "\n",
    "                all(selFun(yb)$vec == sel_vec)\n",
    "\n",
    "            }\n",
    "\n",
    "            \n",
    "            sel <- selFun(y)\n",
    "            sel_vec <- sel$vec\n",
    "            sel_names <- sel$names\n",
    "\n",
    "            sel_form = as.formula(\n",
    "            paste(\"y ~ \",paste(sel_names[2:length(sel_names)], collapse='+'), \"+ (1 + X1|subjects)\")\n",
    "            )\n",
    "\n",
    "            final_model = lmer(formula = sel_form, data = data.frame(X, subjects, y))\n",
    "            \n",
    "            # and compute valid p-values conditional on the selection\n",
    "            # (this takes some time and will produce a lot of warnings)\n",
    "            suppressWarnings(res <- mocasin(final_model, this_y = y, conditional = FALSE, varForSampling = 'minMod',\n",
    "                        checkFun = checkFun, nrSamples = 100, trace = FALSE))\n",
    "\n",
    "            sel_with_selinf <- c(rep(0,p+1))\n",
    "            names(sel_with_selinf) <- names(sel_vec)\n",
    "            only_sel <- names(sel_vec[sel_vec == 1])\n",
    "\n",
    "            for (i in 1:length(res$selinf)) {\n",
    "                if (res$selinf[[i]][\"pval\"] < 0.05) sel_with_selinf[only_sel[i]] <- 1\n",
    "            }\n",
    "            \n",
    "            lasso_metrics <- metrics(sel_vec,c(1,beta!=0))\n",
    "            selinf_metrics <- metrics(sel_with_selinf,c(1,beta!=0))\n",
    "\n",
    "            num_sel_lasso <- sum(sel_vec)\n",
    "            num_sel_selinf <- sum(sel_with_selinf)\n",
    "\n",
    "            results_df[nrow(results_df) + 1,] <- c(SNR, prop_relevant, lasso_metrics$tpr, selinf_metrics$tpr, lasso_metrics$fdr, selinf_metrics$fdr, num_sel_lasso, num_sel_selinf)\n",
    "\n",
    "            setTxtProgressBar(pb,nrow(results_df))\n",
    "\n",
    "        }\n",
    "    }\n",
    "}\n",
    "\n",
    "close(pb)"
   ]
  },
  {
   "cell_type": "code",
   "execution_count": 17,
   "metadata": {
    "vscode": {
     "languageId": "r"
    }
   },
   "outputs": [
    {
     "data": {
      "text/html": [
       "<table class=\"dataframe\">\n",
       "<caption>A data.frame: 150 × 8</caption>\n",
       "<thead>\n",
       "\t<tr><th></th><th scope=col>SNR</th><th scope=col>prop_relevant</th><th scope=col>TPR_lasso</th><th scope=col>TPR_selinf</th><th scope=col>FDR_lasso</th><th scope=col>FDR_selinf</th><th scope=col>num_sel_lasso</th><th scope=col>num_sel_selinf</th></tr>\n",
       "\t<tr><th></th><th scope=col>&lt;dbl&gt;</th><th scope=col>&lt;dbl&gt;</th><th scope=col>&lt;dbl&gt;</th><th scope=col>&lt;dbl&gt;</th><th scope=col>&lt;dbl&gt;</th><th scope=col>&lt;dbl&gt;</th><th scope=col>&lt;dbl&gt;</th><th scope=col>&lt;dbl&gt;</th></tr>\n",
       "</thead>\n",
       "<tbody>\n",
       "\t<tr><th scope=row>1</th><td>4</td><td>0.1</td><td>0.9090909</td><td>0.27272727</td><td>0.7368421</td><td>0.7272727</td><td>38</td><td>11</td></tr>\n",
       "\t<tr><th scope=row>2</th><td>4</td><td>0.1</td><td>1.0000000</td><td>0.09090909</td><td>0.7105263</td><td>0.6666667</td><td>38</td><td> 3</td></tr>\n",
       "\t<tr><th scope=row>3</th><td>4</td><td>0.1</td><td>1.0000000</td><td>0.00000000</td><td>0.6666667</td><td>1.0000000</td><td>33</td><td> 3</td></tr>\n",
       "\t<tr><th scope=row>4</th><td>4</td><td>0.1</td><td>1.0000000</td><td>0.09090909</td><td>0.5416667</td><td>0.8888889</td><td>24</td><td> 9</td></tr>\n",
       "\t<tr><th scope=row>5</th><td>4</td><td>0.1</td><td>1.0000000</td><td>0.09090909</td><td>0.7500000</td><td>0.8333333</td><td>44</td><td> 6</td></tr>\n",
       "\t<tr><th scope=row>6</th><td>4</td><td>0.1</td><td>0.8181818</td><td>0.63636364</td><td>0.5500000</td><td>0.4166667</td><td>20</td><td>12</td></tr>\n",
       "\t<tr><th scope=row>7</th><td>4</td><td>0.1</td><td>1.0000000</td><td>0.45454545</td><td>0.7179487</td><td>0.7500000</td><td>39</td><td>20</td></tr>\n",
       "\t<tr><th scope=row>8</th><td>4</td><td>0.1</td><td>1.0000000</td><td>0.00000000</td><td>0.7250000</td><td>1.0000000</td><td>40</td><td> 1</td></tr>\n",
       "\t<tr><th scope=row>9</th><td>4</td><td>0.1</td><td>0.9090909</td><td>0.00000000</td><td>0.7368421</td><td>      NaN</td><td>38</td><td> 0</td></tr>\n",
       "\t<tr><th scope=row>10</th><td>4</td><td>0.1</td><td>1.0000000</td><td>0.18181818</td><td>0.6666667</td><td>0.0000000</td><td>33</td><td> 2</td></tr>\n",
       "\t<tr><th scope=row>11</th><td>4</td><td>0.1</td><td>1.0000000</td><td>0.18181818</td><td>0.6071429</td><td>0.5000000</td><td>28</td><td> 4</td></tr>\n",
       "\t<tr><th scope=row>12</th><td>4</td><td>0.1</td><td>0.9090909</td><td>0.00000000</td><td>0.7297297</td><td>1.0000000</td><td>37</td><td> 4</td></tr>\n",
       "\t<tr><th scope=row>13</th><td>4</td><td>0.1</td><td>0.9090909</td><td>0.18181818</td><td>0.6153846</td><td>0.6666667</td><td>26</td><td> 6</td></tr>\n",
       "\t<tr><th scope=row>14</th><td>4</td><td>0.1</td><td>1.0000000</td><td>0.18181818</td><td>0.6857143</td><td>0.3333333</td><td>35</td><td> 3</td></tr>\n",
       "\t<tr><th scope=row>15</th><td>4</td><td>0.1</td><td>1.0000000</td><td>0.18181818</td><td>0.6944444</td><td>0.5000000</td><td>36</td><td> 4</td></tr>\n",
       "\t<tr><th scope=row>16</th><td>4</td><td>0.1</td><td>1.0000000</td><td>0.18181818</td><td>0.7441860</td><td>0.7500000</td><td>43</td><td> 8</td></tr>\n",
       "\t<tr><th scope=row>17</th><td>4</td><td>0.1</td><td>1.0000000</td><td>0.27272727</td><td>0.7027027</td><td>0.7857143</td><td>37</td><td>14</td></tr>\n",
       "\t<tr><th scope=row>18</th><td>4</td><td>0.1</td><td>0.9090909</td><td>0.18181818</td><td>0.6969697</td><td>0.0000000</td><td>33</td><td> 2</td></tr>\n",
       "\t<tr><th scope=row>19</th><td>4</td><td>0.1</td><td>1.0000000</td><td>0.72727273</td><td>0.7179487</td><td>0.6000000</td><td>39</td><td>20</td></tr>\n",
       "\t<tr><th scope=row>20</th><td>4</td><td>0.1</td><td>1.0000000</td><td>0.09090909</td><td>0.7250000</td><td>0.5000000</td><td>40</td><td> 2</td></tr>\n",
       "\t<tr><th scope=row>21</th><td>4</td><td>0.1</td><td>1.0000000</td><td>0.63636364</td><td>0.7317073</td><td>0.6666667</td><td>41</td><td>21</td></tr>\n",
       "\t<tr><th scope=row>22</th><td>4</td><td>0.1</td><td>1.0000000</td><td>0.00000000</td><td>0.6451613</td><td>      NaN</td><td>31</td><td> 0</td></tr>\n",
       "\t<tr><th scope=row>23</th><td>4</td><td>0.1</td><td>0.9090909</td><td>0.09090909</td><td>0.6551724</td><td>0.6666667</td><td>29</td><td> 3</td></tr>\n",
       "\t<tr><th scope=row>24</th><td>4</td><td>0.1</td><td>1.0000000</td><td>0.09090909</td><td>0.7659574</td><td>0.8000000</td><td>47</td><td> 5</td></tr>\n",
       "\t<tr><th scope=row>25</th><td>4</td><td>0.1</td><td>1.0000000</td><td>0.63636364</td><td>0.7317073</td><td>0.6315789</td><td>41</td><td>19</td></tr>\n",
       "\t<tr><th scope=row>26</th><td>4</td><td>0.1</td><td>0.8181818</td><td>0.00000000</td><td>0.7096774</td><td>1.0000000</td><td>31</td><td> 1</td></tr>\n",
       "\t<tr><th scope=row>27</th><td>4</td><td>0.1</td><td>1.0000000</td><td>0.00000000</td><td>0.7179487</td><td>1.0000000</td><td>39</td><td> 4</td></tr>\n",
       "\t<tr><th scope=row>28</th><td>4</td><td>0.1</td><td>0.9090909</td><td>0.36363636</td><td>0.4117647</td><td>0.0000000</td><td>17</td><td> 4</td></tr>\n",
       "\t<tr><th scope=row>29</th><td>4</td><td>0.1</td><td>1.0000000</td><td>0.09090909</td><td>0.6944444</td><td>0.8000000</td><td>36</td><td> 5</td></tr>\n",
       "\t<tr><th scope=row>30</th><td>4</td><td>0.1</td><td>1.0000000</td><td>0.09090909</td><td>0.6666667</td><td>0.5000000</td><td>33</td><td> 2</td></tr>\n",
       "\t<tr><th scope=row>⋮</th><td>⋮</td><td>⋮</td><td>⋮</td><td>⋮</td><td>⋮</td><td>⋮</td><td>⋮</td><td>⋮</td></tr>\n",
       "\t<tr><th scope=row>121</th><td>4</td><td>0.3</td><td>0.9354839</td><td>0.00000000</td><td>0.5396825</td><td>1.0000000</td><td>63</td><td> 1</td></tr>\n",
       "\t<tr><th scope=row>122</th><td>4</td><td>0.3</td><td>0.9354839</td><td>0.38709677</td><td>0.5084746</td><td>0.5200000</td><td>59</td><td>25</td></tr>\n",
       "\t<tr><th scope=row>123</th><td>4</td><td>0.3</td><td>0.7419355</td><td>0.03225806</td><td>0.3947368</td><td>0.0000000</td><td>38</td><td> 1</td></tr>\n",
       "\t<tr><th scope=row>124</th><td>4</td><td>0.3</td><td>0.8709677</td><td>0.09677419</td><td>0.5500000</td><td>0.0000000</td><td>60</td><td> 3</td></tr>\n",
       "\t<tr><th scope=row>125</th><td>4</td><td>0.3</td><td>0.8064516</td><td>0.03225806</td><td>0.4565217</td><td>0.7500000</td><td>46</td><td> 4</td></tr>\n",
       "\t<tr><th scope=row>126</th><td>4</td><td>0.3</td><td>0.7096774</td><td>0.00000000</td><td>0.5217391</td><td>      NaN</td><td>46</td><td> 0</td></tr>\n",
       "\t<tr><th scope=row>127</th><td>4</td><td>0.3</td><td>0.9354839</td><td>0.19354839</td><td>0.5396825</td><td>0.5714286</td><td>63</td><td>14</td></tr>\n",
       "\t<tr><th scope=row>128</th><td>4</td><td>0.3</td><td>0.9354839</td><td>0.06451613</td><td>0.5245902</td><td>0.6666667</td><td>61</td><td> 6</td></tr>\n",
       "\t<tr><th scope=row>129</th><td>4</td><td>0.3</td><td>0.9032258</td><td>0.00000000</td><td>0.5882353</td><td>1.0000000</td><td>68</td><td> 1</td></tr>\n",
       "\t<tr><th scope=row>130</th><td>4</td><td>0.3</td><td>0.7419355</td><td>0.00000000</td><td>0.5490196</td><td>1.0000000</td><td>51</td><td> 3</td></tr>\n",
       "\t<tr><th scope=row>131</th><td>4</td><td>0.3</td><td>0.9354839</td><td>0.06451613</td><td>0.4528302</td><td>0.5000000</td><td>53</td><td> 4</td></tr>\n",
       "\t<tr><th scope=row>132</th><td>4</td><td>0.3</td><td>0.9354839</td><td>0.00000000</td><td>0.5322581</td><td>      NaN</td><td>62</td><td> 0</td></tr>\n",
       "\t<tr><th scope=row>133</th><td>4</td><td>0.3</td><td>0.7741935</td><td>0.00000000</td><td>0.6000000</td><td>1.0000000</td><td>60</td><td> 3</td></tr>\n",
       "\t<tr><th scope=row>134</th><td>4</td><td>0.3</td><td>0.7741935</td><td>0.00000000</td><td>0.6000000</td><td>1.0000000</td><td>60</td><td> 2</td></tr>\n",
       "\t<tr><th scope=row>135</th><td>4</td><td>0.3</td><td>0.7419355</td><td>0.00000000</td><td>0.4888889</td><td>      NaN</td><td>45</td><td> 0</td></tr>\n",
       "\t<tr><th scope=row>136</th><td>4</td><td>0.3</td><td>0.8064516</td><td>0.29032258</td><td>0.4897959</td><td>0.3571429</td><td>49</td><td>14</td></tr>\n",
       "\t<tr><th scope=row>137</th><td>4</td><td>0.3</td><td>0.8709677</td><td>0.00000000</td><td>0.5000000</td><td>      NaN</td><td>54</td><td> 0</td></tr>\n",
       "\t<tr><th scope=row>138</th><td>4</td><td>0.3</td><td>0.8709677</td><td>0.16129032</td><td>0.4807692</td><td>0.5000000</td><td>52</td><td>10</td></tr>\n",
       "\t<tr><th scope=row>139</th><td>4</td><td>0.3</td><td>0.8709677</td><td>0.00000000</td><td>0.4000000</td><td>      NaN</td><td>45</td><td> 0</td></tr>\n",
       "\t<tr><th scope=row>140</th><td>4</td><td>0.3</td><td>0.7096774</td><td>0.00000000</td><td>0.4358974</td><td>1.0000000</td><td>39</td><td> 4</td></tr>\n",
       "\t<tr><th scope=row>141</th><td>4</td><td>0.3</td><td>0.7741935</td><td>0.09677419</td><td>0.3684211</td><td>0.4000000</td><td>38</td><td> 5</td></tr>\n",
       "\t<tr><th scope=row>142</th><td>4</td><td>0.3</td><td>0.7741935</td><td>0.03225806</td><td>0.4893617</td><td>0.0000000</td><td>47</td><td> 1</td></tr>\n",
       "\t<tr><th scope=row>143</th><td>4</td><td>0.3</td><td>0.8387097</td><td>0.32258065</td><td>0.5737705</td><td>0.5833333</td><td>61</td><td>24</td></tr>\n",
       "\t<tr><th scope=row>144</th><td>4</td><td>0.3</td><td>0.6774194</td><td>0.06451613</td><td>0.3437500</td><td>0.3333333</td><td>32</td><td> 3</td></tr>\n",
       "\t<tr><th scope=row>145</th><td>4</td><td>0.3</td><td>0.7419355</td><td>0.03225806</td><td>0.4772727</td><td>0.5000000</td><td>44</td><td> 2</td></tr>\n",
       "\t<tr><th scope=row>146</th><td>4</td><td>0.3</td><td>0.8709677</td><td>0.00000000</td><td>0.4905660</td><td>1.0000000</td><td>53</td><td> 1</td></tr>\n",
       "\t<tr><th scope=row>147</th><td>4</td><td>0.3</td><td>0.8709677</td><td>0.22580645</td><td>0.3414634</td><td>0.2222222</td><td>41</td><td> 9</td></tr>\n",
       "\t<tr><th scope=row>148</th><td>4</td><td>0.3</td><td>0.8064516</td><td>0.06451613</td><td>0.4680851</td><td>0.3333333</td><td>47</td><td> 3</td></tr>\n",
       "\t<tr><th scope=row>149</th><td>4</td><td>0.3</td><td>0.9354839</td><td>0.00000000</td><td>0.4821429</td><td>1.0000000</td><td>56</td><td> 2</td></tr>\n",
       "\t<tr><th scope=row>150</th><td>4</td><td>0.3</td><td>0.7419355</td><td>0.00000000</td><td>0.4772727</td><td>      NaN</td><td>44</td><td> 0</td></tr>\n",
       "</tbody>\n",
       "</table>\n"
      ],
      "text/latex": [
       "A data.frame: 150 × 8\n",
       "\\begin{tabular}{r|llllllll}\n",
       "  & SNR & prop\\_relevant & TPR\\_lasso & TPR\\_selinf & FDR\\_lasso & FDR\\_selinf & num\\_sel\\_lasso & num\\_sel\\_selinf\\\\\n",
       "  & <dbl> & <dbl> & <dbl> & <dbl> & <dbl> & <dbl> & <dbl> & <dbl>\\\\\n",
       "\\hline\n",
       "\t1 & 4 & 0.1 & 0.9090909 & 0.27272727 & 0.7368421 & 0.7272727 & 38 & 11\\\\\n",
       "\t2 & 4 & 0.1 & 1.0000000 & 0.09090909 & 0.7105263 & 0.6666667 & 38 &  3\\\\\n",
       "\t3 & 4 & 0.1 & 1.0000000 & 0.00000000 & 0.6666667 & 1.0000000 & 33 &  3\\\\\n",
       "\t4 & 4 & 0.1 & 1.0000000 & 0.09090909 & 0.5416667 & 0.8888889 & 24 &  9\\\\\n",
       "\t5 & 4 & 0.1 & 1.0000000 & 0.09090909 & 0.7500000 & 0.8333333 & 44 &  6\\\\\n",
       "\t6 & 4 & 0.1 & 0.8181818 & 0.63636364 & 0.5500000 & 0.4166667 & 20 & 12\\\\\n",
       "\t7 & 4 & 0.1 & 1.0000000 & 0.45454545 & 0.7179487 & 0.7500000 & 39 & 20\\\\\n",
       "\t8 & 4 & 0.1 & 1.0000000 & 0.00000000 & 0.7250000 & 1.0000000 & 40 &  1\\\\\n",
       "\t9 & 4 & 0.1 & 0.9090909 & 0.00000000 & 0.7368421 &       NaN & 38 &  0\\\\\n",
       "\t10 & 4 & 0.1 & 1.0000000 & 0.18181818 & 0.6666667 & 0.0000000 & 33 &  2\\\\\n",
       "\t11 & 4 & 0.1 & 1.0000000 & 0.18181818 & 0.6071429 & 0.5000000 & 28 &  4\\\\\n",
       "\t12 & 4 & 0.1 & 0.9090909 & 0.00000000 & 0.7297297 & 1.0000000 & 37 &  4\\\\\n",
       "\t13 & 4 & 0.1 & 0.9090909 & 0.18181818 & 0.6153846 & 0.6666667 & 26 &  6\\\\\n",
       "\t14 & 4 & 0.1 & 1.0000000 & 0.18181818 & 0.6857143 & 0.3333333 & 35 &  3\\\\\n",
       "\t15 & 4 & 0.1 & 1.0000000 & 0.18181818 & 0.6944444 & 0.5000000 & 36 &  4\\\\\n",
       "\t16 & 4 & 0.1 & 1.0000000 & 0.18181818 & 0.7441860 & 0.7500000 & 43 &  8\\\\\n",
       "\t17 & 4 & 0.1 & 1.0000000 & 0.27272727 & 0.7027027 & 0.7857143 & 37 & 14\\\\\n",
       "\t18 & 4 & 0.1 & 0.9090909 & 0.18181818 & 0.6969697 & 0.0000000 & 33 &  2\\\\\n",
       "\t19 & 4 & 0.1 & 1.0000000 & 0.72727273 & 0.7179487 & 0.6000000 & 39 & 20\\\\\n",
       "\t20 & 4 & 0.1 & 1.0000000 & 0.09090909 & 0.7250000 & 0.5000000 & 40 &  2\\\\\n",
       "\t21 & 4 & 0.1 & 1.0000000 & 0.63636364 & 0.7317073 & 0.6666667 & 41 & 21\\\\\n",
       "\t22 & 4 & 0.1 & 1.0000000 & 0.00000000 & 0.6451613 &       NaN & 31 &  0\\\\\n",
       "\t23 & 4 & 0.1 & 0.9090909 & 0.09090909 & 0.6551724 & 0.6666667 & 29 &  3\\\\\n",
       "\t24 & 4 & 0.1 & 1.0000000 & 0.09090909 & 0.7659574 & 0.8000000 & 47 &  5\\\\\n",
       "\t25 & 4 & 0.1 & 1.0000000 & 0.63636364 & 0.7317073 & 0.6315789 & 41 & 19\\\\\n",
       "\t26 & 4 & 0.1 & 0.8181818 & 0.00000000 & 0.7096774 & 1.0000000 & 31 &  1\\\\\n",
       "\t27 & 4 & 0.1 & 1.0000000 & 0.00000000 & 0.7179487 & 1.0000000 & 39 &  4\\\\\n",
       "\t28 & 4 & 0.1 & 0.9090909 & 0.36363636 & 0.4117647 & 0.0000000 & 17 &  4\\\\\n",
       "\t29 & 4 & 0.1 & 1.0000000 & 0.09090909 & 0.6944444 & 0.8000000 & 36 &  5\\\\\n",
       "\t30 & 4 & 0.1 & 1.0000000 & 0.09090909 & 0.6666667 & 0.5000000 & 33 &  2\\\\\n",
       "\t⋮ & ⋮ & ⋮ & ⋮ & ⋮ & ⋮ & ⋮ & ⋮ & ⋮\\\\\n",
       "\t121 & 4 & 0.3 & 0.9354839 & 0.00000000 & 0.5396825 & 1.0000000 & 63 &  1\\\\\n",
       "\t122 & 4 & 0.3 & 0.9354839 & 0.38709677 & 0.5084746 & 0.5200000 & 59 & 25\\\\\n",
       "\t123 & 4 & 0.3 & 0.7419355 & 0.03225806 & 0.3947368 & 0.0000000 & 38 &  1\\\\\n",
       "\t124 & 4 & 0.3 & 0.8709677 & 0.09677419 & 0.5500000 & 0.0000000 & 60 &  3\\\\\n",
       "\t125 & 4 & 0.3 & 0.8064516 & 0.03225806 & 0.4565217 & 0.7500000 & 46 &  4\\\\\n",
       "\t126 & 4 & 0.3 & 0.7096774 & 0.00000000 & 0.5217391 &       NaN & 46 &  0\\\\\n",
       "\t127 & 4 & 0.3 & 0.9354839 & 0.19354839 & 0.5396825 & 0.5714286 & 63 & 14\\\\\n",
       "\t128 & 4 & 0.3 & 0.9354839 & 0.06451613 & 0.5245902 & 0.6666667 & 61 &  6\\\\\n",
       "\t129 & 4 & 0.3 & 0.9032258 & 0.00000000 & 0.5882353 & 1.0000000 & 68 &  1\\\\\n",
       "\t130 & 4 & 0.3 & 0.7419355 & 0.00000000 & 0.5490196 & 1.0000000 & 51 &  3\\\\\n",
       "\t131 & 4 & 0.3 & 0.9354839 & 0.06451613 & 0.4528302 & 0.5000000 & 53 &  4\\\\\n",
       "\t132 & 4 & 0.3 & 0.9354839 & 0.00000000 & 0.5322581 &       NaN & 62 &  0\\\\\n",
       "\t133 & 4 & 0.3 & 0.7741935 & 0.00000000 & 0.6000000 & 1.0000000 & 60 &  3\\\\\n",
       "\t134 & 4 & 0.3 & 0.7741935 & 0.00000000 & 0.6000000 & 1.0000000 & 60 &  2\\\\\n",
       "\t135 & 4 & 0.3 & 0.7419355 & 0.00000000 & 0.4888889 &       NaN & 45 &  0\\\\\n",
       "\t136 & 4 & 0.3 & 0.8064516 & 0.29032258 & 0.4897959 & 0.3571429 & 49 & 14\\\\\n",
       "\t137 & 4 & 0.3 & 0.8709677 & 0.00000000 & 0.5000000 &       NaN & 54 &  0\\\\\n",
       "\t138 & 4 & 0.3 & 0.8709677 & 0.16129032 & 0.4807692 & 0.5000000 & 52 & 10\\\\\n",
       "\t139 & 4 & 0.3 & 0.8709677 & 0.00000000 & 0.4000000 &       NaN & 45 &  0\\\\\n",
       "\t140 & 4 & 0.3 & 0.7096774 & 0.00000000 & 0.4358974 & 1.0000000 & 39 &  4\\\\\n",
       "\t141 & 4 & 0.3 & 0.7741935 & 0.09677419 & 0.3684211 & 0.4000000 & 38 &  5\\\\\n",
       "\t142 & 4 & 0.3 & 0.7741935 & 0.03225806 & 0.4893617 & 0.0000000 & 47 &  1\\\\\n",
       "\t143 & 4 & 0.3 & 0.8387097 & 0.32258065 & 0.5737705 & 0.5833333 & 61 & 24\\\\\n",
       "\t144 & 4 & 0.3 & 0.6774194 & 0.06451613 & 0.3437500 & 0.3333333 & 32 &  3\\\\\n",
       "\t145 & 4 & 0.3 & 0.7419355 & 0.03225806 & 0.4772727 & 0.5000000 & 44 &  2\\\\\n",
       "\t146 & 4 & 0.3 & 0.8709677 & 0.00000000 & 0.4905660 & 1.0000000 & 53 &  1\\\\\n",
       "\t147 & 4 & 0.3 & 0.8709677 & 0.22580645 & 0.3414634 & 0.2222222 & 41 &  9\\\\\n",
       "\t148 & 4 & 0.3 & 0.8064516 & 0.06451613 & 0.4680851 & 0.3333333 & 47 &  3\\\\\n",
       "\t149 & 4 & 0.3 & 0.9354839 & 0.00000000 & 0.4821429 & 1.0000000 & 56 &  2\\\\\n",
       "\t150 & 4 & 0.3 & 0.7419355 & 0.00000000 & 0.4772727 &       NaN & 44 &  0\\\\\n",
       "\\end{tabular}\n"
      ],
      "text/markdown": [
       "\n",
       "A data.frame: 150 × 8\n",
       "\n",
       "| <!--/--> | SNR &lt;dbl&gt; | prop_relevant &lt;dbl&gt; | TPR_lasso &lt;dbl&gt; | TPR_selinf &lt;dbl&gt; | FDR_lasso &lt;dbl&gt; | FDR_selinf &lt;dbl&gt; | num_sel_lasso &lt;dbl&gt; | num_sel_selinf &lt;dbl&gt; |\n",
       "|---|---|---|---|---|---|---|---|---|\n",
       "| 1 | 4 | 0.1 | 0.9090909 | 0.27272727 | 0.7368421 | 0.7272727 | 38 | 11 |\n",
       "| 2 | 4 | 0.1 | 1.0000000 | 0.09090909 | 0.7105263 | 0.6666667 | 38 |  3 |\n",
       "| 3 | 4 | 0.1 | 1.0000000 | 0.00000000 | 0.6666667 | 1.0000000 | 33 |  3 |\n",
       "| 4 | 4 | 0.1 | 1.0000000 | 0.09090909 | 0.5416667 | 0.8888889 | 24 |  9 |\n",
       "| 5 | 4 | 0.1 | 1.0000000 | 0.09090909 | 0.7500000 | 0.8333333 | 44 |  6 |\n",
       "| 6 | 4 | 0.1 | 0.8181818 | 0.63636364 | 0.5500000 | 0.4166667 | 20 | 12 |\n",
       "| 7 | 4 | 0.1 | 1.0000000 | 0.45454545 | 0.7179487 | 0.7500000 | 39 | 20 |\n",
       "| 8 | 4 | 0.1 | 1.0000000 | 0.00000000 | 0.7250000 | 1.0000000 | 40 |  1 |\n",
       "| 9 | 4 | 0.1 | 0.9090909 | 0.00000000 | 0.7368421 |       NaN | 38 |  0 |\n",
       "| 10 | 4 | 0.1 | 1.0000000 | 0.18181818 | 0.6666667 | 0.0000000 | 33 |  2 |\n",
       "| 11 | 4 | 0.1 | 1.0000000 | 0.18181818 | 0.6071429 | 0.5000000 | 28 |  4 |\n",
       "| 12 | 4 | 0.1 | 0.9090909 | 0.00000000 | 0.7297297 | 1.0000000 | 37 |  4 |\n",
       "| 13 | 4 | 0.1 | 0.9090909 | 0.18181818 | 0.6153846 | 0.6666667 | 26 |  6 |\n",
       "| 14 | 4 | 0.1 | 1.0000000 | 0.18181818 | 0.6857143 | 0.3333333 | 35 |  3 |\n",
       "| 15 | 4 | 0.1 | 1.0000000 | 0.18181818 | 0.6944444 | 0.5000000 | 36 |  4 |\n",
       "| 16 | 4 | 0.1 | 1.0000000 | 0.18181818 | 0.7441860 | 0.7500000 | 43 |  8 |\n",
       "| 17 | 4 | 0.1 | 1.0000000 | 0.27272727 | 0.7027027 | 0.7857143 | 37 | 14 |\n",
       "| 18 | 4 | 0.1 | 0.9090909 | 0.18181818 | 0.6969697 | 0.0000000 | 33 |  2 |\n",
       "| 19 | 4 | 0.1 | 1.0000000 | 0.72727273 | 0.7179487 | 0.6000000 | 39 | 20 |\n",
       "| 20 | 4 | 0.1 | 1.0000000 | 0.09090909 | 0.7250000 | 0.5000000 | 40 |  2 |\n",
       "| 21 | 4 | 0.1 | 1.0000000 | 0.63636364 | 0.7317073 | 0.6666667 | 41 | 21 |\n",
       "| 22 | 4 | 0.1 | 1.0000000 | 0.00000000 | 0.6451613 |       NaN | 31 |  0 |\n",
       "| 23 | 4 | 0.1 | 0.9090909 | 0.09090909 | 0.6551724 | 0.6666667 | 29 |  3 |\n",
       "| 24 | 4 | 0.1 | 1.0000000 | 0.09090909 | 0.7659574 | 0.8000000 | 47 |  5 |\n",
       "| 25 | 4 | 0.1 | 1.0000000 | 0.63636364 | 0.7317073 | 0.6315789 | 41 | 19 |\n",
       "| 26 | 4 | 0.1 | 0.8181818 | 0.00000000 | 0.7096774 | 1.0000000 | 31 |  1 |\n",
       "| 27 | 4 | 0.1 | 1.0000000 | 0.00000000 | 0.7179487 | 1.0000000 | 39 |  4 |\n",
       "| 28 | 4 | 0.1 | 0.9090909 | 0.36363636 | 0.4117647 | 0.0000000 | 17 |  4 |\n",
       "| 29 | 4 | 0.1 | 1.0000000 | 0.09090909 | 0.6944444 | 0.8000000 | 36 |  5 |\n",
       "| 30 | 4 | 0.1 | 1.0000000 | 0.09090909 | 0.6666667 | 0.5000000 | 33 |  2 |\n",
       "| ⋮ | ⋮ | ⋮ | ⋮ | ⋮ | ⋮ | ⋮ | ⋮ | ⋮ |\n",
       "| 121 | 4 | 0.3 | 0.9354839 | 0.00000000 | 0.5396825 | 1.0000000 | 63 |  1 |\n",
       "| 122 | 4 | 0.3 | 0.9354839 | 0.38709677 | 0.5084746 | 0.5200000 | 59 | 25 |\n",
       "| 123 | 4 | 0.3 | 0.7419355 | 0.03225806 | 0.3947368 | 0.0000000 | 38 |  1 |\n",
       "| 124 | 4 | 0.3 | 0.8709677 | 0.09677419 | 0.5500000 | 0.0000000 | 60 |  3 |\n",
       "| 125 | 4 | 0.3 | 0.8064516 | 0.03225806 | 0.4565217 | 0.7500000 | 46 |  4 |\n",
       "| 126 | 4 | 0.3 | 0.7096774 | 0.00000000 | 0.5217391 |       NaN | 46 |  0 |\n",
       "| 127 | 4 | 0.3 | 0.9354839 | 0.19354839 | 0.5396825 | 0.5714286 | 63 | 14 |\n",
       "| 128 | 4 | 0.3 | 0.9354839 | 0.06451613 | 0.5245902 | 0.6666667 | 61 |  6 |\n",
       "| 129 | 4 | 0.3 | 0.9032258 | 0.00000000 | 0.5882353 | 1.0000000 | 68 |  1 |\n",
       "| 130 | 4 | 0.3 | 0.7419355 | 0.00000000 | 0.5490196 | 1.0000000 | 51 |  3 |\n",
       "| 131 | 4 | 0.3 | 0.9354839 | 0.06451613 | 0.4528302 | 0.5000000 | 53 |  4 |\n",
       "| 132 | 4 | 0.3 | 0.9354839 | 0.00000000 | 0.5322581 |       NaN | 62 |  0 |\n",
       "| 133 | 4 | 0.3 | 0.7741935 | 0.00000000 | 0.6000000 | 1.0000000 | 60 |  3 |\n",
       "| 134 | 4 | 0.3 | 0.7741935 | 0.00000000 | 0.6000000 | 1.0000000 | 60 |  2 |\n",
       "| 135 | 4 | 0.3 | 0.7419355 | 0.00000000 | 0.4888889 |       NaN | 45 |  0 |\n",
       "| 136 | 4 | 0.3 | 0.8064516 | 0.29032258 | 0.4897959 | 0.3571429 | 49 | 14 |\n",
       "| 137 | 4 | 0.3 | 0.8709677 | 0.00000000 | 0.5000000 |       NaN | 54 |  0 |\n",
       "| 138 | 4 | 0.3 | 0.8709677 | 0.16129032 | 0.4807692 | 0.5000000 | 52 | 10 |\n",
       "| 139 | 4 | 0.3 | 0.8709677 | 0.00000000 | 0.4000000 |       NaN | 45 |  0 |\n",
       "| 140 | 4 | 0.3 | 0.7096774 | 0.00000000 | 0.4358974 | 1.0000000 | 39 |  4 |\n",
       "| 141 | 4 | 0.3 | 0.7741935 | 0.09677419 | 0.3684211 | 0.4000000 | 38 |  5 |\n",
       "| 142 | 4 | 0.3 | 0.7741935 | 0.03225806 | 0.4893617 | 0.0000000 | 47 |  1 |\n",
       "| 143 | 4 | 0.3 | 0.8387097 | 0.32258065 | 0.5737705 | 0.5833333 | 61 | 24 |\n",
       "| 144 | 4 | 0.3 | 0.6774194 | 0.06451613 | 0.3437500 | 0.3333333 | 32 |  3 |\n",
       "| 145 | 4 | 0.3 | 0.7419355 | 0.03225806 | 0.4772727 | 0.5000000 | 44 |  2 |\n",
       "| 146 | 4 | 0.3 | 0.8709677 | 0.00000000 | 0.4905660 | 1.0000000 | 53 |  1 |\n",
       "| 147 | 4 | 0.3 | 0.8709677 | 0.22580645 | 0.3414634 | 0.2222222 | 41 |  9 |\n",
       "| 148 | 4 | 0.3 | 0.8064516 | 0.06451613 | 0.4680851 | 0.3333333 | 47 |  3 |\n",
       "| 149 | 4 | 0.3 | 0.9354839 | 0.00000000 | 0.4821429 | 1.0000000 | 56 |  2 |\n",
       "| 150 | 4 | 0.3 | 0.7419355 | 0.00000000 | 0.4772727 |       NaN | 44 |  0 |\n",
       "\n"
      ],
      "text/plain": [
       "    SNR prop_relevant TPR_lasso TPR_selinf FDR_lasso FDR_selinf num_sel_lasso\n",
       "1   4   0.1           0.9090909 0.27272727 0.7368421 0.7272727  38           \n",
       "2   4   0.1           1.0000000 0.09090909 0.7105263 0.6666667  38           \n",
       "3   4   0.1           1.0000000 0.00000000 0.6666667 1.0000000  33           \n",
       "4   4   0.1           1.0000000 0.09090909 0.5416667 0.8888889  24           \n",
       "5   4   0.1           1.0000000 0.09090909 0.7500000 0.8333333  44           \n",
       "6   4   0.1           0.8181818 0.63636364 0.5500000 0.4166667  20           \n",
       "7   4   0.1           1.0000000 0.45454545 0.7179487 0.7500000  39           \n",
       "8   4   0.1           1.0000000 0.00000000 0.7250000 1.0000000  40           \n",
       "9   4   0.1           0.9090909 0.00000000 0.7368421       NaN  38           \n",
       "10  4   0.1           1.0000000 0.18181818 0.6666667 0.0000000  33           \n",
       "11  4   0.1           1.0000000 0.18181818 0.6071429 0.5000000  28           \n",
       "12  4   0.1           0.9090909 0.00000000 0.7297297 1.0000000  37           \n",
       "13  4   0.1           0.9090909 0.18181818 0.6153846 0.6666667  26           \n",
       "14  4   0.1           1.0000000 0.18181818 0.6857143 0.3333333  35           \n",
       "15  4   0.1           1.0000000 0.18181818 0.6944444 0.5000000  36           \n",
       "16  4   0.1           1.0000000 0.18181818 0.7441860 0.7500000  43           \n",
       "17  4   0.1           1.0000000 0.27272727 0.7027027 0.7857143  37           \n",
       "18  4   0.1           0.9090909 0.18181818 0.6969697 0.0000000  33           \n",
       "19  4   0.1           1.0000000 0.72727273 0.7179487 0.6000000  39           \n",
       "20  4   0.1           1.0000000 0.09090909 0.7250000 0.5000000  40           \n",
       "21  4   0.1           1.0000000 0.63636364 0.7317073 0.6666667  41           \n",
       "22  4   0.1           1.0000000 0.00000000 0.6451613       NaN  31           \n",
       "23  4   0.1           0.9090909 0.09090909 0.6551724 0.6666667  29           \n",
       "24  4   0.1           1.0000000 0.09090909 0.7659574 0.8000000  47           \n",
       "25  4   0.1           1.0000000 0.63636364 0.7317073 0.6315789  41           \n",
       "26  4   0.1           0.8181818 0.00000000 0.7096774 1.0000000  31           \n",
       "27  4   0.1           1.0000000 0.00000000 0.7179487 1.0000000  39           \n",
       "28  4   0.1           0.9090909 0.36363636 0.4117647 0.0000000  17           \n",
       "29  4   0.1           1.0000000 0.09090909 0.6944444 0.8000000  36           \n",
       "30  4   0.1           1.0000000 0.09090909 0.6666667 0.5000000  33           \n",
       "⋮   ⋮   ⋮             ⋮         ⋮          ⋮         ⋮          ⋮            \n",
       "121 4   0.3           0.9354839 0.00000000 0.5396825 1.0000000  63           \n",
       "122 4   0.3           0.9354839 0.38709677 0.5084746 0.5200000  59           \n",
       "123 4   0.3           0.7419355 0.03225806 0.3947368 0.0000000  38           \n",
       "124 4   0.3           0.8709677 0.09677419 0.5500000 0.0000000  60           \n",
       "125 4   0.3           0.8064516 0.03225806 0.4565217 0.7500000  46           \n",
       "126 4   0.3           0.7096774 0.00000000 0.5217391       NaN  46           \n",
       "127 4   0.3           0.9354839 0.19354839 0.5396825 0.5714286  63           \n",
       "128 4   0.3           0.9354839 0.06451613 0.5245902 0.6666667  61           \n",
       "129 4   0.3           0.9032258 0.00000000 0.5882353 1.0000000  68           \n",
       "130 4   0.3           0.7419355 0.00000000 0.5490196 1.0000000  51           \n",
       "131 4   0.3           0.9354839 0.06451613 0.4528302 0.5000000  53           \n",
       "132 4   0.3           0.9354839 0.00000000 0.5322581       NaN  62           \n",
       "133 4   0.3           0.7741935 0.00000000 0.6000000 1.0000000  60           \n",
       "134 4   0.3           0.7741935 0.00000000 0.6000000 1.0000000  60           \n",
       "135 4   0.3           0.7419355 0.00000000 0.4888889       NaN  45           \n",
       "136 4   0.3           0.8064516 0.29032258 0.4897959 0.3571429  49           \n",
       "137 4   0.3           0.8709677 0.00000000 0.5000000       NaN  54           \n",
       "138 4   0.3           0.8709677 0.16129032 0.4807692 0.5000000  52           \n",
       "139 4   0.3           0.8709677 0.00000000 0.4000000       NaN  45           \n",
       "140 4   0.3           0.7096774 0.00000000 0.4358974 1.0000000  39           \n",
       "141 4   0.3           0.7741935 0.09677419 0.3684211 0.4000000  38           \n",
       "142 4   0.3           0.7741935 0.03225806 0.4893617 0.0000000  47           \n",
       "143 4   0.3           0.8387097 0.32258065 0.5737705 0.5833333  61           \n",
       "144 4   0.3           0.6774194 0.06451613 0.3437500 0.3333333  32           \n",
       "145 4   0.3           0.7419355 0.03225806 0.4772727 0.5000000  44           \n",
       "146 4   0.3           0.8709677 0.00000000 0.4905660 1.0000000  53           \n",
       "147 4   0.3           0.8709677 0.22580645 0.3414634 0.2222222  41           \n",
       "148 4   0.3           0.8064516 0.06451613 0.4680851 0.3333333  47           \n",
       "149 4   0.3           0.9354839 0.00000000 0.4821429 1.0000000  56           \n",
       "150 4   0.3           0.7419355 0.00000000 0.4772727       NaN  44           \n",
       "    num_sel_selinf\n",
       "1   11            \n",
       "2    3            \n",
       "3    3            \n",
       "4    9            \n",
       "5    6            \n",
       "6   12            \n",
       "7   20            \n",
       "8    1            \n",
       "9    0            \n",
       "10   2            \n",
       "11   4            \n",
       "12   4            \n",
       "13   6            \n",
       "14   3            \n",
       "15   4            \n",
       "16   8            \n",
       "17  14            \n",
       "18   2            \n",
       "19  20            \n",
       "20   2            \n",
       "21  21            \n",
       "22   0            \n",
       "23   3            \n",
       "24   5            \n",
       "25  19            \n",
       "26   1            \n",
       "27   4            \n",
       "28   4            \n",
       "29   5            \n",
       "30   2            \n",
       "⋮   ⋮             \n",
       "121  1            \n",
       "122 25            \n",
       "123  1            \n",
       "124  3            \n",
       "125  4            \n",
       "126  0            \n",
       "127 14            \n",
       "128  6            \n",
       "129  1            \n",
       "130  3            \n",
       "131  4            \n",
       "132  0            \n",
       "133  3            \n",
       "134  2            \n",
       "135  0            \n",
       "136 14            \n",
       "137  0            \n",
       "138 10            \n",
       "139  0            \n",
       "140  4            \n",
       "141  5            \n",
       "142  1            \n",
       "143 24            \n",
       "144  3            \n",
       "145  2            \n",
       "146  1            \n",
       "147  9            \n",
       "148  3            \n",
       "149  2            \n",
       "150  0            "
      ]
     },
     "metadata": {},
     "output_type": "display_data"
    }
   ],
   "source": [
    "results_df"
   ]
  },
  {
   "cell_type": "code",
   "execution_count": 19,
   "metadata": {
    "vscode": {
     "languageId": "r"
    }
   },
   "outputs": [],
   "source": [
    "write.csv(results_df, \"C:/Users/matteda/OneDrive - Universitetet i Oslo/Skrivebord/phd/ConditioningApproach/minmod_simulation_results_SNR4_smaller_lambda.csv\", row.names=FALSE)"
   ]
  }
 ],
 "metadata": {
  "kernelspec": {
   "display_name": "R",
   "language": "R",
   "name": "ir"
  },
  "language_info": {
   "codemirror_mode": "r",
   "file_extension": ".r",
   "mimetype": "text/x-r-source",
   "name": "R",
   "pygments_lexer": "r",
   "version": "4.3.1"
  },
  "orig_nbformat": 4
 },
 "nbformat": 4,
 "nbformat_minor": 2
}
