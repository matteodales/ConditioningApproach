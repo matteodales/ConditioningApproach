{
 "cells": [
  {
   "cell_type": "code",
   "execution_count": 1,
   "metadata": {
    "vscode": {
     "languageId": "r"
    }
   },
   "outputs": [
    {
     "name": "stderr",
     "output_type": "stream",
     "text": [
      "Warning message:\n",
      "\"il pacchetto 'tibble' è stato creato con R versione 4.2.3\"\n"
     ]
    },
    {
     "name": "stderr",
     "output_type": "stream",
     "text": [
      "Warning message:\n",
      "\"il pacchetto 'caret' è stato creato con R versione 4.2.3\"\n",
      "Caricamento del pacchetto richiesto: ggplot2\n",
      "\n",
      "Warning message:\n",
      "\"il pacchetto 'ggplot2' è stato creato con R versione 4.2.3\"\n",
      "Caricamento del pacchetto richiesto: lattice\n",
      "\n",
      "Warning message:\n",
      "\"il pacchetto 'lattice' è stato creato con R versione 4.2.3\"\n",
      "Warning message:\n",
      "\"il pacchetto 'tidyverse' è stato creato con R versione 4.2.3\"\n",
      "Warning message:\n",
      "\"il pacchetto 'tidyr' è stato creato con R versione 4.2.3\"\n",
      "Warning message:\n",
      "\"il pacchetto 'readr' è stato creato con R versione 4.2.3\"\n",
      "Warning message:\n",
      "\"il pacchetto 'purrr' è stato creato con R versione 4.2.3\"\n",
      "Warning message:\n",
      "\"il pacchetto 'dplyr' è stato creato con R versione 4.2.3\"\n",
      "Warning message:\n",
      "\"il pacchetto 'stringr' è stato creato con R versione 4.2.3\"\n",
      "Warning message:\n",
      "\"il pacchetto 'forcats' è stato creato con R versione 4.2.3\"\n",
      "Warning message:\n",
      "\"il pacchetto 'lubridate' è stato creato con R versione 4.2.3\"\n",
      "── \u001b[1mAttaching core tidyverse packages\u001b[22m ──────────────────────── tidyverse 2.0.0 ──\n",
      "\u001b[32m✔\u001b[39m \u001b[34mdplyr    \u001b[39m 1.1.2     \u001b[32m✔\u001b[39m \u001b[34mreadr    \u001b[39m 2.1.4\n",
      "\u001b[32m✔\u001b[39m \u001b[34mforcats  \u001b[39m 1.0.0     \u001b[32m✔\u001b[39m \u001b[34mstringr  \u001b[39m 1.5.0\n",
      "\u001b[32m✔\u001b[39m \u001b[34mlubridate\u001b[39m 1.9.2     \u001b[32m✔\u001b[39m \u001b[34mtidyr    \u001b[39m 1.3.0\n",
      "\u001b[32m✔\u001b[39m \u001b[34mpurrr    \u001b[39m 1.0.1     \n",
      "── \u001b[1mConflicts\u001b[22m ────────────────────────────────────────── tidyverse_conflicts() ──\n",
      "\u001b[31m✖\u001b[39m \u001b[34mdplyr\u001b[39m::\u001b[32mfilter()\u001b[39m masks \u001b[34mstats\u001b[39m::filter()\n",
      "\u001b[31m✖\u001b[39m \u001b[34mdplyr\u001b[39m::\u001b[32mlag()\u001b[39m    masks \u001b[34mstats\u001b[39m::lag()\n",
      "\u001b[31m✖\u001b[39m \u001b[34mpurrr\u001b[39m::\u001b[32mlift()\u001b[39m   masks \u001b[34mcaret\u001b[39m::lift()\n",
      "\u001b[36mℹ\u001b[39m Use the conflicted package (\u001b[3m\u001b[34m<http://conflicted.r-lib.org/>\u001b[39m\u001b[23m) to force all conflicts to become errors\n",
      "Warning message:\n",
      "\"il pacchetto 'gamm4' è stato creato con R versione 4.2.3\"\n",
      "Caricamento del pacchetto richiesto: Matrix\n",
      "\n",
      "\n",
      "Caricamento pacchetto: 'Matrix'\n",
      "\n",
      "\n",
      "I seguenti oggetti sono mascherati da 'package:tidyr':\n",
      "\n",
      "    expand, pack, unpack\n",
      "\n",
      "\n",
      "Caricamento del pacchetto richiesto: lme4\n",
      "\n",
      "Warning message:\n",
      "\"il pacchetto 'lme4' è stato creato con R versione 4.2.3\"\n",
      "Caricamento del pacchetto richiesto: mgcv\n",
      "\n",
      "Caricamento del pacchetto richiesto: nlme\n",
      "\n",
      "\n",
      "Caricamento pacchetto: 'nlme'\n",
      "\n",
      "\n",
      "Il seguente oggetto è mascherato da 'package:lme4':\n",
      "\n",
      "    lmList\n",
      "\n",
      "\n",
      "Il seguente oggetto è mascherato da 'package:dplyr':\n",
      "\n",
      "    collapse\n",
      "\n",
      "\n",
      "This is mgcv 1.8-40. For overview type 'help(\"mgcv-package\")'.\n",
      "\n",
      "This is gamm4 0.2-6\n",
      "\n",
      "\n",
      "Warning message:\n",
      "\"il pacchetto 'lmerTest' è stato creato con R versione 4.2.3\"\n",
      "\n",
      "Caricamento pacchetto: 'lmerTest'\n",
      "\n",
      "\n",
      "Il seguente oggetto è mascherato da 'package:lme4':\n",
      "\n",
      "    lmer\n",
      "\n",
      "\n",
      "Il seguente oggetto è mascherato da 'package:stats':\n",
      "\n",
      "    step\n",
      "\n",
      "\n",
      "\n",
      "Caricamento pacchetto: 'pracma'\n",
      "\n",
      "\n",
      "Il seguente oggetto è mascherato da 'package:lmerTest':\n",
      "\n",
      "    rand\n",
      "\n",
      "\n",
      "Il seguente oggetto è mascherato da 'package:mgcv':\n",
      "\n",
      "    magic\n",
      "\n",
      "\n",
      "I seguenti oggetti sono mascherati da 'package:Matrix':\n",
      "\n",
      "    expm, lu, tril, triu\n",
      "\n",
      "\n",
      "Il seguente oggetto è mascherato da 'package:purrr':\n",
      "\n",
      "    cross\n",
      "\n",
      "\n",
      "Warning message:\n",
      "\"il pacchetto 'glmmLasso' è stato creato con R versione 4.2.3\"\n",
      "Warning message:\n",
      "\"il pacchetto 'glmnet' è stato creato con R versione 4.2.3\"\n",
      "Loaded glmnet 4.1-7\n",
      "\n",
      "\n",
      "Caricamento pacchetto: 'MASS'\n",
      "\n",
      "\n",
      "Il seguente oggetto è mascherato da 'package:dplyr':\n",
      "\n",
      "    select\n",
      "\n",
      "\n",
      "Warning message:\n",
      "\"il pacchetto 'fastDummies' è stato creato con R versione 4.2.3\"\n",
      "Thank you for using fastDummies!\n",
      "\n",
      "To acknowledge our work, please cite the package:\n",
      "\n",
      "Kaplan, J. & Schlegel, B. (2023). fastDummies: Fast Creation of Dummy (Binary) Columns and Rows from Categorical Variables. Version 1.7.1. URL: https://github.com/jacobkap/fastDummies, https://jacobkap.github.io/fastDummies/.\n",
      "\n"
     ]
    }
   ],
   "source": [
    "library(tibble)\n",
    "library(caret)\n",
    "source('utils.r')\n",
    "source('selinf_functions.r')\n",
    "library(\"plotrix\")\n",
    "library('fastDummies')"
   ]
  },
  {
   "cell_type": "code",
   "execution_count": 2,
   "metadata": {
    "vscode": {
     "languageId": "r"
    }
   },
   "outputs": [],
   "source": [
    "data <- read.csv('C:/Users/dalma/Desktop/Matteo/phd/combined_data.csv', sep=';')"
   ]
  },
  {
   "cell_type": "code",
   "execution_count": 3,
   "metadata": {
    "vscode": {
     "languageId": "r"
    }
   },
   "outputs": [
    {
     "data": {
      "text/html": [
       "<table class=\"dataframe\">\n",
       "<caption>A data.frame: 6 × 632</caption>\n",
       "<thead>\n",
       "\t<tr><th></th><th scope=col>id</th><th scope=col>visit</th><th scope=col>meal</th><th scope=col>time</th><th scope=col>t2</th><th scope=col>t3</th><th scope=col>t4</th><th scope=col>TG</th><th scope=col>ABCA1</th><th scope=col>ABCB1</th><th scope=col>⋯</th><th scope=col>GUSB</th><th scope=col>HPRT1</th><th scope=col>OAZ1</th><th scope=col>POLR1B</th><th scope=col>POLR2A</th><th scope=col>PPIA</th><th scope=col>RPL19</th><th scope=col>SDHA</th><th scope=col>TBP</th><th scope=col>TUBB</th></tr>\n",
       "\t<tr><th></th><th scope=col>&lt;int&gt;</th><th scope=col>&lt;int&gt;</th><th scope=col>&lt;int&gt;</th><th scope=col>&lt;int&gt;</th><th scope=col>&lt;int&gt;</th><th scope=col>&lt;int&gt;</th><th scope=col>&lt;int&gt;</th><th scope=col>&lt;dbl&gt;</th><th scope=col>&lt;dbl&gt;</th><th scope=col>&lt;dbl&gt;</th><th scope=col>⋯</th><th scope=col>&lt;dbl&gt;</th><th scope=col>&lt;dbl&gt;</th><th scope=col>&lt;dbl&gt;</th><th scope=col>&lt;dbl&gt;</th><th scope=col>&lt;dbl&gt;</th><th scope=col>&lt;dbl&gt;</th><th scope=col>&lt;dbl&gt;</th><th scope=col>&lt;dbl&gt;</th><th scope=col>&lt;dbl&gt;</th><th scope=col>&lt;dbl&gt;</th></tr>\n",
       "</thead>\n",
       "<tbody>\n",
       "\t<tr><th scope=row>1</th><td>2</td><td>1</td><td>3</td><td>0</td><td>0</td><td>0</td><td>0</td><td>0.98</td><td>79.81</td><td>107.85</td><td>⋯</td><td>120.79</td><td>401.19</td><td>5715.81</td><td>56.08</td><td>517.66</td><td>157.45</td><td>16390.36</td><td> 66.86</td><td>239.42</td><td>504.72</td></tr>\n",
       "\t<tr><th scope=row>2</th><td>2</td><td>1</td><td>3</td><td>1</td><td>1</td><td>0</td><td>0</td><td>1.28</td><td>79.81</td><td>107.85</td><td>⋯</td><td>120.79</td><td>401.19</td><td>5715.81</td><td>56.08</td><td>517.66</td><td>157.45</td><td>16390.36</td><td> 66.86</td><td>239.42</td><td>504.72</td></tr>\n",
       "\t<tr><th scope=row>3</th><td>2</td><td>1</td><td>3</td><td>2</td><td>0</td><td>1</td><td>0</td><td>1.15</td><td>79.81</td><td>107.85</td><td>⋯</td><td>120.79</td><td>401.19</td><td>5715.81</td><td>56.08</td><td>517.66</td><td>157.45</td><td>16390.36</td><td> 66.86</td><td>239.42</td><td>504.72</td></tr>\n",
       "\t<tr><th scope=row>4</th><td>2</td><td>1</td><td>3</td><td>3</td><td>0</td><td>0</td><td>1</td><td>1.10</td><td>79.81</td><td>107.85</td><td>⋯</td><td>120.79</td><td>401.19</td><td>5715.81</td><td>56.08</td><td>517.66</td><td>157.45</td><td>16390.36</td><td> 66.86</td><td>239.42</td><td>504.72</td></tr>\n",
       "\t<tr><th scope=row>5</th><td>7</td><td>1</td><td>3</td><td>0</td><td>0</td><td>0</td><td>0</td><td>0.80</td><td>68.04</td><td>121.80</td><td>⋯</td><td>120.96</td><td>431.77</td><td>6216.17</td><td>44.52</td><td>307.45</td><td>254.53</td><td>17890.81</td><td>102.48</td><td>274.69</td><td>335.17</td></tr>\n",
       "\t<tr><th scope=row>6</th><td>7</td><td>1</td><td>3</td><td>1</td><td>1</td><td>0</td><td>0</td><td>1.77</td><td>68.04</td><td>121.80</td><td>⋯</td><td>120.96</td><td>431.77</td><td>6216.17</td><td>44.52</td><td>307.45</td><td>254.53</td><td>17890.81</td><td>102.48</td><td>274.69</td><td>335.17</td></tr>\n",
       "</tbody>\n",
       "</table>\n"
      ],
      "text/latex": [
       "A data.frame: 6 × 632\n",
       "\\begin{tabular}{r|lllllllllllllllllllll}\n",
       "  & id & visit & meal & time & t2 & t3 & t4 & TG & ABCA1 & ABCB1 & ⋯ & GUSB & HPRT1 & OAZ1 & POLR1B & POLR2A & PPIA & RPL19 & SDHA & TBP & TUBB\\\\\n",
       "  & <int> & <int> & <int> & <int> & <int> & <int> & <int> & <dbl> & <dbl> & <dbl> & ⋯ & <dbl> & <dbl> & <dbl> & <dbl> & <dbl> & <dbl> & <dbl> & <dbl> & <dbl> & <dbl>\\\\\n",
       "\\hline\n",
       "\t1 & 2 & 1 & 3 & 0 & 0 & 0 & 0 & 0.98 & 79.81 & 107.85 & ⋯ & 120.79 & 401.19 & 5715.81 & 56.08 & 517.66 & 157.45 & 16390.36 &  66.86 & 239.42 & 504.72\\\\\n",
       "\t2 & 2 & 1 & 3 & 1 & 1 & 0 & 0 & 1.28 & 79.81 & 107.85 & ⋯ & 120.79 & 401.19 & 5715.81 & 56.08 & 517.66 & 157.45 & 16390.36 &  66.86 & 239.42 & 504.72\\\\\n",
       "\t3 & 2 & 1 & 3 & 2 & 0 & 1 & 0 & 1.15 & 79.81 & 107.85 & ⋯ & 120.79 & 401.19 & 5715.81 & 56.08 & 517.66 & 157.45 & 16390.36 &  66.86 & 239.42 & 504.72\\\\\n",
       "\t4 & 2 & 1 & 3 & 3 & 0 & 0 & 1 & 1.10 & 79.81 & 107.85 & ⋯ & 120.79 & 401.19 & 5715.81 & 56.08 & 517.66 & 157.45 & 16390.36 &  66.86 & 239.42 & 504.72\\\\\n",
       "\t5 & 7 & 1 & 3 & 0 & 0 & 0 & 0 & 0.80 & 68.04 & 121.80 & ⋯ & 120.96 & 431.77 & 6216.17 & 44.52 & 307.45 & 254.53 & 17890.81 & 102.48 & 274.69 & 335.17\\\\\n",
       "\t6 & 7 & 1 & 3 & 1 & 1 & 0 & 0 & 1.77 & 68.04 & 121.80 & ⋯ & 120.96 & 431.77 & 6216.17 & 44.52 & 307.45 & 254.53 & 17890.81 & 102.48 & 274.69 & 335.17\\\\\n",
       "\\end{tabular}\n"
      ],
      "text/markdown": [
       "\n",
       "A data.frame: 6 × 632\n",
       "\n",
       "| <!--/--> | id &lt;int&gt; | visit &lt;int&gt; | meal &lt;int&gt; | time &lt;int&gt; | t2 &lt;int&gt; | t3 &lt;int&gt; | t4 &lt;int&gt; | TG &lt;dbl&gt; | ABCA1 &lt;dbl&gt; | ABCB1 &lt;dbl&gt; | ⋯ ⋯ | GUSB &lt;dbl&gt; | HPRT1 &lt;dbl&gt; | OAZ1 &lt;dbl&gt; | POLR1B &lt;dbl&gt; | POLR2A &lt;dbl&gt; | PPIA &lt;dbl&gt; | RPL19 &lt;dbl&gt; | SDHA &lt;dbl&gt; | TBP &lt;dbl&gt; | TUBB &lt;dbl&gt; |\n",
       "|---|---|---|---|---|---|---|---|---|---|---|---|---|---|---|---|---|---|---|---|---|---|\n",
       "| 1 | 2 | 1 | 3 | 0 | 0 | 0 | 0 | 0.98 | 79.81 | 107.85 | ⋯ | 120.79 | 401.19 | 5715.81 | 56.08 | 517.66 | 157.45 | 16390.36 |  66.86 | 239.42 | 504.72 |\n",
       "| 2 | 2 | 1 | 3 | 1 | 1 | 0 | 0 | 1.28 | 79.81 | 107.85 | ⋯ | 120.79 | 401.19 | 5715.81 | 56.08 | 517.66 | 157.45 | 16390.36 |  66.86 | 239.42 | 504.72 |\n",
       "| 3 | 2 | 1 | 3 | 2 | 0 | 1 | 0 | 1.15 | 79.81 | 107.85 | ⋯ | 120.79 | 401.19 | 5715.81 | 56.08 | 517.66 | 157.45 | 16390.36 |  66.86 | 239.42 | 504.72 |\n",
       "| 4 | 2 | 1 | 3 | 3 | 0 | 0 | 1 | 1.10 | 79.81 | 107.85 | ⋯ | 120.79 | 401.19 | 5715.81 | 56.08 | 517.66 | 157.45 | 16390.36 |  66.86 | 239.42 | 504.72 |\n",
       "| 5 | 7 | 1 | 3 | 0 | 0 | 0 | 0 | 0.80 | 68.04 | 121.80 | ⋯ | 120.96 | 431.77 | 6216.17 | 44.52 | 307.45 | 254.53 | 17890.81 | 102.48 | 274.69 | 335.17 |\n",
       "| 6 | 7 | 1 | 3 | 1 | 1 | 0 | 0 | 1.77 | 68.04 | 121.80 | ⋯ | 120.96 | 431.77 | 6216.17 | 44.52 | 307.45 | 254.53 | 17890.81 | 102.48 | 274.69 | 335.17 |\n",
       "\n"
      ],
      "text/plain": [
       "  id visit meal time t2 t3 t4 TG   ABCA1 ABCB1  ⋯ GUSB   HPRT1  OAZ1    POLR1B\n",
       "1 2  1     3    0    0  0  0  0.98 79.81 107.85 ⋯ 120.79 401.19 5715.81 56.08 \n",
       "2 2  1     3    1    1  0  0  1.28 79.81 107.85 ⋯ 120.79 401.19 5715.81 56.08 \n",
       "3 2  1     3    2    0  1  0  1.15 79.81 107.85 ⋯ 120.79 401.19 5715.81 56.08 \n",
       "4 2  1     3    3    0  0  1  1.10 79.81 107.85 ⋯ 120.79 401.19 5715.81 56.08 \n",
       "5 7  1     3    0    0  0  0  0.80 68.04 121.80 ⋯ 120.96 431.77 6216.17 44.52 \n",
       "6 7  1     3    1    1  0  0  1.77 68.04 121.80 ⋯ 120.96 431.77 6216.17 44.52 \n",
       "  POLR2A PPIA   RPL19    SDHA   TBP    TUBB  \n",
       "1 517.66 157.45 16390.36  66.86 239.42 504.72\n",
       "2 517.66 157.45 16390.36  66.86 239.42 504.72\n",
       "3 517.66 157.45 16390.36  66.86 239.42 504.72\n",
       "4 517.66 157.45 16390.36  66.86 239.42 504.72\n",
       "5 307.45 254.53 17890.81 102.48 274.69 335.17\n",
       "6 307.45 254.53 17890.81 102.48 274.69 335.17"
      ]
     },
     "metadata": {},
     "output_type": "display_data"
    }
   ],
   "source": [
    "head(data)"
   ]
  },
  {
   "cell_type": "markdown",
   "metadata": {},
   "source": [
    "* Get rid of _visit_ as a variable, not interested\n",
    "* Normalize all mRNA columns\n",
    "* Code _id_, _meal_ and _time_ as a dummy"
   ]
  },
  {
   "cell_type": "code",
   "execution_count": 4,
   "metadata": {
    "vscode": {
     "languageId": "r"
    }
   },
   "outputs": [],
   "source": [
    "data[,9:ncol(data)] <- scale(data[,9:ncol(data)])\n",
    "data <- subset(data, select = -c(visit))"
   ]
  },
  {
   "cell_type": "code",
   "execution_count": 5,
   "metadata": {
    "vscode": {
     "languageId": "r"
    }
   },
   "outputs": [],
   "source": [
    "data$id <- as.factor(data$id)\n",
    "data$meal <- as.factor(data$meal)\n",
    "data$time <- as.factor(data$time)"
   ]
  },
  {
   "cell_type": "code",
   "execution_count": 6,
   "metadata": {
    "vscode": {
     "languageId": "r"
    }
   },
   "outputs": [],
   "source": [
    "# two subjects (id 32 and 76), have outlier responses, should they be excluded?\n",
    "\n",
    "#drop <- or((data$id==32),(data$id==76))\n",
    "#data <- data[drop==0,]"
   ]
  },
  {
   "cell_type": "markdown",
   "metadata": {},
   "source": [
    "## Plotting response profiles"
   ]
  },
  {
   "cell_type": "code",
   "execution_count": 314,
   "metadata": {
    "vscode": {
     "languageId": "r"
    }
   },
   "outputs": [],
   "source": [
    "plot_response_profiles <- function(data, id=NULL, meal=NULL){\n",
    "\n",
    "    y <- data$TG\n",
    "    times <- c(0,1,2,3)\n",
    "    selection <- rep(1,length(y))\n",
    "    if(!is.null(id)) selection <- selection*(data$id==id)\n",
    "    if(!is.null(meal)) selection <- selection*(data$meal==meal)\n",
    "\n",
    "    group = paste(as.character(data[selection==1,c('meal')]),as.character(data[selection==1,c('id')]),sep=\"\")\n",
    "    ggplot(data = data[selection==1,], aes(x=data[selection==1,]$time, y=y[selection==1])) +\n",
    "        geom_line(aes(group=group, color=data[selection==1,'meal'])) +\n",
    "        geom_point(aes(group=group, color=data[selection==1,'meal'])) +\n",
    "        xlab('Time') + ylab('TG') + labs(colour=\"Meal\")\n",
    "\n",
    "}"
   ]
  },
  {
   "cell_type": "code",
   "execution_count": 315,
   "metadata": {
    "vscode": {
     "languageId": "r"
    }
   },
   "outputs": [
    {
     "data": {
      "image/png": "[encoded data removed]",
      "text/plain": [
       "plot without title"
      ]
     },
     "metadata": {
      "image/png": {
       "height": 420,
       "width": 420
      }
     },
     "output_type": "display_data"
    }
   ],
   "source": [
    "plot_response_profiles(data, id = 32, meal = NULL)"
   ]
  },
  {
   "cell_type": "code",
   "execution_count": 299,
   "metadata": {
    "vscode": {
     "languageId": "r"
    }
   },
   "outputs": [
    {
     "data": {
      "image/png": "[encoded data removed]",
      "text/plain": [
       "plot without title"
      ]
     },
     "metadata": {
      "image/png": {
       "height": 420,
       "width": 420
      }
     },
     "output_type": "display_data"
    }
   ],
   "source": [
    "mean_data <- aggregate(data$TG,by=list(data$meal,data$time),FUN=mean)\n",
    "se_data <- aggregate(data$TG,by=list(data$meal,data$time),FUN=std.error)\n",
    "\n",
    "# obtains Figure 2 of the paper\n",
    "ggplot(data = mean_data, aes(x=mean_data[,'Group.2'], y=x)) +\n",
    "        geom_line(aes(group=mean_data[,'Group.1'], color=mean_data[,'Group.1'])) +\n",
    "        geom_errorbar(aes(ymin=x-se_data$x, ymax=x+se_data$x,group=mean_data[,'Group.1'], color=mean_data[,'Group.1']), width=.1) +\n",
    "        geom_point(aes(group=mean_data[,'Group.1'], color=mean_data[,'Group.1'])) +\n",
    "        xlab('Time') + ylab('TG') + labs(colour=\"Meal\") + ggtitle('Mean TG concentration over time for different meals')"
   ]
  },
  {
   "cell_type": "code",
   "execution_count": 313,
   "metadata": {
    "vscode": {
     "languageId": "r"
    }
   },
   "outputs": [
    {
     "data": {
      "image/png": "[encoded data removed]",
      "text/plain": [
       "plot without title"
      ]
     },
     "metadata": {
      "image/png": {
       "height": 420,
       "width": 420
      }
     },
     "output_type": "display_data"
    }
   ],
   "source": [
    "mean_data <- aggregate(data$TG,by=list(data$id,data$time),FUN=mean)\n",
    "se_data <- aggregate(data$TG,by=list(data$id,data$time),FUN=std.error)\n",
    "\n",
    "\n",
    "ggplot(data = mean_data, aes(x=mean_data[,'Group.2'], y=x)) +\n",
    "        geom_line(aes(group=mean_data[,'Group.1'], color=mean_data[,'Group.1'])) +\n",
    "        geom_point(aes(group=mean_data[,'Group.1'], color=mean_data[,'Group.1'])) +\n",
    "        xlab('Time') + ylab('TG') + theme(legend.position = \"none\") + ggtitle('Mean TG concentration over time for different subjects')"
   ]
  },
  {
   "cell_type": "code",
   "execution_count": 298,
   "metadata": {
    "vscode": {
     "languageId": "r"
    }
   },
   "outputs": [
    {
     "data": {
      "image/png": "[encoded data removed]",
      "text/plain": [
       "plot without title"
      ]
     },
     "metadata": {
      "image/png": {
       "height": 420,
       "width": 420
      }
     },
     "output_type": "display_data"
    }
   ],
   "source": [
    "mean_data <- aggregate(data$TG,by=list(data$time),FUN=mean)\n",
    "se_data <- aggregate(data$TG,by=list(data$time),FUN=std.error)\n",
    "\n",
    "\n",
    "ggplot(data = mean_data, aes(x=mean_data[,'Group.1'], y=x, group=1)) +\n",
    "        geom_line() +\n",
    "        geom_errorbar(aes(ymin=x-se_data$x, ymax=x+se_data$x,), width=.1) +\n",
    "        geom_point() +\n",
    "        xlab('Time') + ylab('TG') + ggtitle('Mean TG concentration over time')"
   ]
  },
  {
   "cell_type": "markdown",
   "metadata": {},
   "source": [
    "## Variable selection with GLMMLasso"
   ]
  },
  {
   "cell_type": "code",
   "execution_count": 30,
   "metadata": {
    "vscode": {
     "languageId": "r"
    }
   },
   "outputs": [],
   "source": [
    "fixed_form = as.formula(\n",
    "    paste(\"TG ~ 1 + as.factor(meal) + t2 + t3 + t4 + \",paste(colnames(data[,9:ncol(data)]), sep=\"\", collapse='+'),sep=\"\")\n",
    "  )"
   ]
  },
  {
   "cell_type": "code",
   "execution_count": 31,
   "metadata": {
    "vscode": {
     "languageId": "r"
    }
   },
   "outputs": [
    {
     "name": "stderr",
     "output_type": "stream",
     "text": [
      "Warning message in est.glmmLasso.RE(fix = fix, rnd = rnd, data = data, lambda = lambda, :\n",
      "\"Random slopes are not standardized back!\"\n"
     ]
    }
   ],
   "source": [
    "glm1 <- glmmLasso(fix = fixed_form, rnd = list(id =~ 1 + t2 + t3 + t4), data=data,\n",
    "                    , lambda=50,switch.NR=FALSE,final.re=FALSE)"
   ]
  },
  {
   "cell_type": "code",
   "execution_count": 32,
   "metadata": {
    "vscode": {
     "languageId": "r"
    }
   },
   "outputs": [
    {
     "data": {
      "text/plain": [
       "Call:\n",
       "glmmLasso(fix = fixed_form, rnd = list(id = ~1 + t2 + t3 + t4), \n",
       "    data = data, lambda = 50, switch.NR = FALSE, final.re = FALSE)\n",
       "\n",
       "Fixed Effects:\n",
       "\n",
       "Coefficients:\n",
       "              (Intercept)          as.factor(meal)2          as.factor(meal)3 \n",
       "             1.207479e+00              0.000000e+00              0.000000e+00 \n",
       "         as.factor(meal)4                        t2                        t3 \n",
       "             0.000000e+00              3.096525e-02              0.000000e+00 \n",
       "                       t4                     ABCA1                     ABCB1 \n",
       "             0.000000e+00             -2.476911e-04              0.000000e+00 \n",
       "                    ABCG1                      ABL1                     ACACA \n",
       "            -2.044544e-02              0.000000e+00              0.000000e+00 \n",
       "                      ADA                       AHR                     AICDA \n",
       "            -6.717462e-03              0.000000e+00              0.000000e+00 \n",
       "                     AIRE                   ANGPTL4                     APOBR \n",
       "             0.000000e+00              0.000000e+00              0.000000e+00 \n",
       "                      APP                      ARG1                      ARG2 \n",
       "             0.000000e+00              0.000000e+00              0.000000e+00 \n",
       "                  ARHGDIB                     ATG10                     ATG12 \n",
       "             0.000000e+00             -4.067971e-04              0.000000e+00 \n",
       "                  ATG16L1                      ATG5                      ATG7 \n",
       "            -4.851968e-03              0.000000e+00              0.000000e+00 \n",
       "                      ATM                       B2M                    B3GAT1 \n",
       "             0.000000e+00              0.000000e+00              0.000000e+00 \n",
       "                     BATF                     BATF3                       BAX \n",
       "             0.000000e+00              1.492453e-03              0.000000e+00 \n",
       "                   BCAP31                     BCL10                      BCL2 \n",
       "             0.000000e+00              0.000000e+00              0.000000e+00 \n",
       "                  BCL2L11                      BCL3                      BCL6 \n",
       "             0.000000e+00              0.000000e+00              0.000000e+00 \n",
       "                      BID                      BLNK                      BST1 \n",
       "             0.000000e+00             -2.833557e-03              0.000000e+00 \n",
       "                     BST2                       BTK                      BTLA \n",
       "            -1.012013e-04             -1.842529e-05             -8.679665e-03 \n",
       "                C14orf166                      C1QA                      C1QB \n",
       "             0.000000e+00              0.000000e+00              0.000000e+00 \n",
       "                    C1QBP                       C1R                       C1S \n",
       "            -3.737188e-03              0.000000e+00              0.000000e+00 \n",
       "                       C2                        C3                     C4A.B \n",
       "             0.000000e+00              0.000000e+00              0.000000e+00 \n",
       "                    C4BPA                        C5                        C6 \n",
       "             0.000000e+00              0.000000e+00              0.000000e+00 \n",
       "                       C7                       C8A                       C8B \n",
       "             0.000000e+00              0.000000e+00              0.000000e+00 \n",
       "                      C8G                        C9                      CAMP \n",
       "             0.000000e+00              0.000000e+00              0.000000e+00 \n",
       "                    CARD9                     CASP1                    CASP10 \n",
       "            -1.499312e-04             -1.921347e-04              0.000000e+00 \n",
       "                    CASP2                     CASP3                     CASP8 \n",
       "             0.000000e+00              0.000000e+00              0.000000e+00 \n",
       "                    CCBP2                     CCL11                     CCL13 \n",
       "             0.000000e+00              0.000000e+00              0.000000e+00 \n",
       "                    CCL15                     CCL16                     CCL18 \n",
       "             0.000000e+00              0.000000e+00              0.000000e+00 \n",
       "                    CCL19                      CCL2                     CCL20 \n",
       "             0.000000e+00              0.000000e+00              0.000000e+00 \n",
       "                    CCL22                     CCL23                     CCL24 \n",
       "             0.000000e+00              0.000000e+00              0.000000e+00 \n",
       "                    CCL26                      CCL3                      CCL4 \n",
       "             0.000000e+00              0.000000e+00              0.000000e+00 \n",
       "                     CCL5                      CCL7                      CCL8 \n",
       "             0.000000e+00              0.000000e+00              0.000000e+00 \n",
       "                    CCND3                      CCR1                     CCR10 \n",
       "             0.000000e+00             -1.127281e-04              0.000000e+00 \n",
       "                     CCR2                      CCR5                      CCR6 \n",
       "            -3.135601e-04              0.000000e+00             -6.652490e-03 \n",
       "                     CCR7                      CCR8                     CCRL1 \n",
       "             0.000000e+00              0.000000e+00              0.000000e+00 \n",
       "                    CCRL2                      CD14                     CD160 \n",
       "            -2.102088e-04              2.561970e-03              0.000000e+00 \n",
       "                    CD163                     CD164                      CD19 \n",
       "            -1.830667e-04              0.000000e+00              0.000000e+00 \n",
       "                     CD1A                      CD1D                       CD2 \n",
       "            -4.997460e-03              0.000000e+00              0.000000e+00 \n",
       "                    CD209                      CD22                      CD24 \n",
       "             0.000000e+00              0.000000e+00              0.000000e+00 \n",
       "                    CD244                     CD247                      CD27 \n",
       "             0.000000e+00              0.000000e+00              0.000000e+00 \n",
       "                    CD274                     CD276                      CD28 \n",
       "             0.000000e+00              0.000000e+00              0.000000e+00 \n",
       "                     CD34                      CD36                      CD3D \n",
       "             0.000000e+00              2.570344e-03              0.000000e+00 \n",
       "                     CD3E                    CD3EAP                       CD4 \n",
       "            -1.939819e-03              0.000000e+00              0.000000e+00 \n",
       "                     CD40                    CD40LG                      CD44 \n",
       "             0.000000e+00             -4.353884e-03             -2.713641e-05 \n",
       "                   CD45R0                    CD45RA                    CD45RB \n",
       "             0.000000e+00             -4.054676e-03              0.000000e+00 \n",
       "                     CD46                      CD48                       CD5 \n",
       "             0.000000e+00             -4.093405e-04              0.000000e+00 \n",
       "                     CD53                      CD55                      CD58 \n",
       "             0.000000e+00             -2.302717e-03              0.000000e+00 \n",
       "                     CD59                       CD6                       CD7 \n",
       "             0.000000e+00              0.000000e+00              0.000000e+00 \n",
       "                     CD70                      CD74                     CD79A \n",
       "             0.000000e+00              0.000000e+00              0.000000e+00 \n",
       "                    CD79B                      CD80                      CD81 \n",
       "             0.000000e+00              0.000000e+00              0.000000e+00 \n",
       "                     CD82                      CD83                      CD86 \n",
       "             0.000000e+00              0.000000e+00             -8.778903e-05 \n",
       "                     CD8A                      CD8B                       CD9 \n",
       "             0.000000e+00              0.000000e+00              0.000000e+00 \n",
       "                     CD96                      CD97                      CD99 \n",
       "            -1.601409e-02              0.000000e+00              1.121221e-02 \n",
       "                     CDH5                    CDKN1A                   CEACAM1 \n",
       "             0.000000e+00              0.000000e+00              0.000000e+00 \n",
       "                  CEACAM6                   CEACAM8                     CEBPB \n",
       "             0.000000e+00              0.000000e+00              0.000000e+00 \n",
       "                     CETP                       CFB                       CFD \n",
       "             0.000000e+00              0.000000e+00              0.000000e+00 \n",
       "                      CFH                       CFI                       CFP \n",
       "             0.000000e+00              0.000000e+00              0.000000e+00 \n",
       "                     CHUK                     CIITA                      CISH \n",
       "             0.000000e+00              0.000000e+00              0.000000e+00 \n",
       "                   CLEC4A                    CLEC4E                    CLEC5A \n",
       "            -1.462096e-04             -1.781183e-04             -3.261119e-03 \n",
       "                   CLEC6A                    CLEC7A                       CLU \n",
       "            -7.263072e-05              0.000000e+00              0.000000e+00 \n",
       "                   CMKLR1                       CR1                       CR2 \n",
       "             0.000000e+00              0.000000e+00              0.000000e+00 \n",
       "                    CRADD                      CSF1                     CSF1R \n",
       "             0.000000e+00              0.000000e+00              0.000000e+00 \n",
       "                     CSF2                    CSF2RB                     CSF3R \n",
       "             0.000000e+00             -1.580712e-04              1.354208e-02 \n",
       "                 CTLA4.TM                 CTLA4_all                    CTNNB1 \n",
       "             9.174830e-05              0.000000e+00             -1.527171e-02 \n",
       "                     CTSC                      CTSG                      CTSS \n",
       "             0.000000e+00              0.000000e+00             -1.608017e-04 \n",
       "                     CUL9                    CX3CL1                    CX3CR1 \n",
       "             0.000000e+00              0.000000e+00              0.000000e+00 \n",
       "                    CXCL1                    CXCL10                    CXCL11 \n",
       "             0.000000e+00              0.000000e+00              0.000000e+00 \n",
       "                   CXCL12                    CXCL13                     CXCL2 \n",
       "             0.000000e+00              0.000000e+00              0.000000e+00 \n",
       "                    CXCL9                     CXCR1                     CXCR2 \n",
       "             0.000000e+00              0.000000e+00              0.000000e+00 \n",
       "                    CXCR3                     CXCR4                     CXCR6 \n",
       "             0.000000e+00             -1.160198e-02             -1.457293e-02 \n",
       "                     CYBB                     DEFB1                  DEFB103A \n",
       "             8.815312e-03              0.000000e+00              0.000000e+00 \n",
       "                 DEFB103B                    DEFB4A                     DGAT2 \n",
       "             0.000000e+00              0.000000e+00             -5.410399e-05 \n",
       "                     DPP4                     DUSP4                      EBI3 \n",
       "            -2.672648e-03              0.000000e+00              0.000000e+00 \n",
       "                    EDNRB                      EGR1                      EGR2 \n",
       "             0.000000e+00              0.000000e+00              0.000000e+00 \n",
       "                   ENTPD1                     EOMES                      ETS1 \n",
       "             0.000000e+00              0.000000e+00             -1.450271e-02 \n",
       "                     FADD                       FAS                      FASN \n",
       "             0.000000e+00              0.000000e+00              0.000000e+00 \n",
       "                     FCAR                    FCER1A                    FCER1G \n",
       "             0.000000e+00              0.000000e+00             -7.914953e-05 \n",
       "                 FCGR1A.B                    FCGR2A                  FCGR2A.C \n",
       "             0.000000e+00             -2.067462e-05              2.908638e-06 \n",
       "                   FCGR2B                  FCGR3A.B                     FCGRT \n",
       "             0.000000e+00              0.000000e+00             -4.999934e-05 \n",
       "                    FKBP5                       FN1                     FOXP3 \n",
       "            -1.070622e-02              0.000000e+00              0.000000e+00 \n",
       "                      FYN                     GATA3                      GBP1 \n",
       "             0.000000e+00              0.000000e+00              0.000000e+00 \n",
       "                     GBP5                      GFI1                      GNLY \n",
       "             0.000000e+00              0.000000e+00              0.000000e+00 \n",
       "                    GP1BB                       GPI                    GPR183 \n",
       "             0.000000e+00              0.000000e+00             -9.991902e-03 \n",
       "                     GZMA                      GZMB                      GZMK \n",
       "             0.000000e+00              0.000000e+00              0.000000e+00 \n",
       "                     HAMP                    HAVCR2                       HFE \n",
       "             0.000000e+00              0.000000e+00              0.000000e+00 \n",
       "                    HLA.A                     HLA.B                     HLA.C \n",
       "             0.000000e+00             -3.810353e-03              0.000000e+00 \n",
       "                  HLA.DMA                   HLA.DMB                   HLA.DOB \n",
       "            -3.710275e-04             -2.970917e-04              0.000000e+00 \n",
       "                 HLA.DPA1                  HLA.DPB1                  HLA.DQA1 \n",
       "            -1.805175e-04              0.000000e+00              0.000000e+00 \n",
       "                 HLA.DQB1                   HLA.DRA                  HLA.DRB1 \n",
       "             0.000000e+00             -5.099220e-05             -3.319295e-05 \n",
       "                 HLA.DRB3                     HMGCR                    HMGCS1 \n",
       "             0.000000e+00             -1.808254e-04              0.000000e+00 \n",
       "                     HRAS                     ICAM1                     ICAM2 \n",
       "             0.000000e+00             -1.107876e-04              0.000000e+00 \n",
       "                    ICAM3                     ICAM4                     ICAM5 \n",
       "             0.000000e+00              0.000000e+00              0.000000e+00 \n",
       "                     ICOS                    ICOSLG                      IDO1 \n",
       "             0.000000e+00              0.000000e+00              0.000000e+00 \n",
       "                    IFI16                     IFI35                     IFIH1 \n",
       "            -1.267337e-04             -7.959150e-05              0.000000e+00 \n",
       "                    IFIT2                    IFITM1                  IFNA1.13 \n",
       "             0.000000e+00              0.000000e+00              0.000000e+00 \n",
       "                    IFNA2                    IFNAR1                    IFNAR2 \n",
       "             0.000000e+00              0.000000e+00              0.000000e+00 \n",
       "                    IFNB1                      IFNG                    IFNGR1 \n",
       "             0.000000e+00              0.000000e+00             -5.659702e-05 \n",
       "                    IGF2R                    IKBKAP                     IKBKB \n",
       "             0.000000e+00              0.000000e+00              0.000000e+00 \n",
       "                    IKBKE                     IKBKG                     IKZF1 \n",
       "             0.000000e+00              0.000000e+00              0.000000e+00 \n",
       "                    IKZF2                     IKZF3                      IL10 \n",
       "             0.000000e+00              0.000000e+00              0.000000e+00 \n",
       "                   IL10RA                    IL11RA                     IL12A \n",
       "             0.000000e+00              0.000000e+00              0.000000e+00 \n",
       "                    IL12B                   IL12RB1                      IL13 \n",
       "             0.000000e+00              0.000000e+00              0.000000e+00 \n",
       "                  IL13RA1                      IL15                      IL16 \n",
       "             0.000000e+00              0.000000e+00              0.000000e+00 \n",
       "                    IL17A                     IL17B                     IL17F \n",
       "             0.000000e+00              0.000000e+00              0.000000e+00 \n",
       "                     IL18                    IL18R1                   IL18RAP \n",
       "             0.000000e+00             -1.748189e-02             -1.236447e-02 \n",
       "                     IL19                      IL1A                      IL1B \n",
       "             0.000000e+00              0.000000e+00              0.000000e+00 \n",
       "                    IL1R1                     IL1R2                    IL1RAP \n",
       "             0.000000e+00              0.000000e+00              0.000000e+00 \n",
       "                   IL1RL1                    IL1RL2                     IL1RN \n",
       "             0.000000e+00              0.000000e+00              0.000000e+00 \n",
       "                      IL2                      IL20                      IL21 \n",
       "             0.000000e+00              0.000000e+00              0.000000e+00 \n",
       "                    IL21R                      IL22                   IL22RA2 \n",
       "             0.000000e+00              0.000000e+00              0.000000e+00 \n",
       "                    IL23A                     IL23R                      IL26 \n",
       "             0.000000e+00              0.000000e+00              0.000000e+00 \n",
       "                     IL27                     IL28A                   IL28A.B \n",
       "             0.000000e+00              0.000000e+00              0.000000e+00 \n",
       "                     IL29                     IL2RA                     IL2RB \n",
       "             0.000000e+00              0.000000e+00              0.000000e+00 \n",
       "                    IL2RG                       IL3                      IL32 \n",
       "            -2.178018e-03              0.000000e+00              0.000000e+00 \n",
       "                      IL4                      IL4R                       IL5 \n",
       "             0.000000e+00              0.000000e+00              0.000000e+00 \n",
       "                      IL6                      IL6R                     IL6ST \n",
       "             0.000000e+00              0.000000e+00              0.000000e+00 \n",
       "                      IL7                      IL7R                       IL8 \n",
       "             0.000000e+00             -2.706515e-02              0.000000e+00 \n",
       "                      IL9                      ILF3                    INSIG1 \n",
       "             0.000000e+00             -1.868376e-03              0.000000e+00 \n",
       "                   INSIG2                     IRAK1                     IRAK2 \n",
       "             0.000000e+00              0.000000e+00              0.000000e+00 \n",
       "                    IRAK3                     IRAK4                      IRF1 \n",
       "             1.656456e-03              0.000000e+00              0.000000e+00 \n",
       "                     IRF3                      IRF4                      IRF5 \n",
       "             0.000000e+00              0.000000e+00              0.000000e+00 \n",
       "                     IRF7                      IRF8                      IRGM \n",
       "            -8.757864e-05              0.000000e+00              0.000000e+00 \n",
       "                   ITGA2B                     ITGA4                     ITGA5 \n",
       "             0.000000e+00              0.000000e+00              0.000000e+00 \n",
       "                    ITGA6                     ITGAE                     ITGAL \n",
       "             4.130134e-05              0.000000e+00              0.000000e+00 \n",
       "                    ITGAM                     ITGAX                     ITGB1 \n",
       "             0.000000e+00              0.000000e+00              0.000000e+00 \n",
       "                    ITGB2                     ITLN1                     ITLN2 \n",
       "             0.000000e+00              0.000000e+00              0.000000e+00 \n",
       "                     JAK1                      JAK2                      JAK3 \n",
       "             0.000000e+00              0.000000e+00              0.000000e+00 \n",
       "                    KCNJ2                   KIR3DL1                   KIR3DL2 \n",
       "             0.000000e+00              0.000000e+00             -6.017791e-03 \n",
       "                  KIR3DL3 KIR_Activating_Subgroup_1 KIR_Activating_Subgroup_2 \n",
       "             0.000000e+00             -4.411712e-03             -1.109521e-02 \n",
       "KIR_Inhibiting_Subgroup_1 KIR_Inhibiting_Subgroup_2                       KIT \n",
       "             0.000000e+00              0.000000e+00              0.000000e+00 \n",
       "                   KLRAP1                     KLRB1                     KLRC1 \n",
       "             0.000000e+00             -5.964985e-03              0.000000e+00 \n",
       "                    KLRC2                     KLRC3                     KLRC4 \n",
       "             0.000000e+00              0.000000e+00              0.000000e+00 \n",
       "                    KLRD1                     KLRF1                     KLRF2 \n",
       "             0.000000e+00              0.000000e+00              0.000000e+00 \n",
       "                    KLRG1                     KLRG2                     KLRK1 \n",
       "             1.802305e-04              0.000000e+00              0.000000e+00 \n",
       "                     LAG3                     LAIR1                     LAMP3 \n",
       "             0.000000e+00              0.000000e+00              0.000000e+00 \n",
       "                     LCAT                       LCK                      LCP2 \n",
       "             0.000000e+00              9.616634e-05             -5.161782e-03 \n",
       "                     LDLR                      LEF1                    LGALS3 \n",
       "             0.000000e+00              0.000000e+00             -1.683748e-04 \n",
       "                      LIF                    LILRA1                    LILRA2 \n",
       "             0.000000e+00              0.000000e+00              3.097974e-03 \n",
       "                   LILRA3                    LILRA4                    LILRA5 \n",
       "             3.087342e-02              0.000000e+00              0.000000e+00 \n",
       "                   LILRA6                    LILRB1                    LILRB2 \n",
       "            -2.543791e-04             -1.760841e-04              1.778491e-03 \n",
       "                   LILRB3                    LILRB4                    LILRB5 \n",
       "             0.000000e+00             -2.544165e-04              0.000000e+00 \n",
       "                     LIPC                      LIPE                     LITAF \n",
       "             0.000000e+00              0.000000e+00              0.000000e+00 \n",
       "                      LPL                       LTA                     LTB4R \n",
       "             0.000000e+00              0.000000e+00              0.000000e+00 \n",
       "                   LTB4R2                      LTBR                       LTF \n",
       "             0.000000e+00              0.000000e+00              0.000000e+00 \n",
       "                     LY96                       MAF                     MALT1 \n",
       "            -2.103092e-04              0.000000e+00              0.000000e+00 \n",
       "                   MAP4K1                    MAP4K2                    MAP4K4 \n",
       "             0.000000e+00              0.000000e+00              0.000000e+00 \n",
       "                    MAPK1                    MAPK11                    MAPK14 \n",
       "             0.000000e+00              0.000000e+00              0.000000e+00 \n",
       "                 MAPKAPK2                     MARCO                     MASP1 \n",
       "             0.000000e+00             -1.712482e-04              0.000000e+00 \n",
       "                    MASP2                      MBL2                       MBP \n",
       "             0.000000e+00              0.000000e+00              0.000000e+00 \n",
       "                     MCL1                       MIF                       MME \n",
       "             0.000000e+00              0.000000e+00              0.000000e+00 \n",
       "                      MR1                      MRC1                     MS4A1 \n",
       "             0.000000e+00              0.000000e+00              0.000000e+00 \n",
       "                     MSR1                      MUC1                       MX1 \n",
       "             0.000000e+00              0.000000e+00              0.000000e+00 \n",
       "                    MYD88                     MYLIP                     NCAM1 \n",
       "            -1.031430e-04             -3.479807e-02              0.000000e+00 \n",
       "                     NCF4                      NCR1                    NFATC1 \n",
       "            -1.731543e-04              0.000000e+00              0.000000e+00 \n",
       "                   NFATC2                    NFATC3                     NFIL3 \n",
       "             0.000000e+00              0.000000e+00              0.000000e+00 \n",
       "                    NFKB1                     NFKB2                    NFKBIA \n",
       "             0.000000e+00              0.000000e+00              0.000000e+00 \n",
       "                   NFKBIZ                     NLRP3                      NOD1 \n",
       "             0.000000e+00              0.000000e+00              0.000000e+00 \n",
       "                     NOD2                      NOS2                    NOTCH1 \n",
       "            -2.283005e-04              0.000000e+00              0.000000e+00 \n",
       "                   NOTCH2                     NR1H3                      NT5E \n",
       "             0.000000e+00              0.000000e+00              0.000000e+00 \n",
       "                     PAX5                     PCSK9                     PDCD1 \n",
       "             0.000000e+00              0.000000e+00              0.000000e+00 \n",
       "                 PDCD1LG2                     PDCD2                     PDGFB \n",
       "             0.000000e+00              0.000000e+00              0.000000e+00 \n",
       "                   PDGFRB                    PECAM1                      PIGR \n",
       "             0.000000e+00             -1.695671e-04              0.000000e+00 \n",
       "                  PLA2G2A                   PLA2G2E                      PLAU \n",
       "             0.000000e+00              0.000000e+00              0.000000e+00 \n",
       "                    PLAUR                     PLIN2                      PLTP \n",
       "             0.000000e+00              0.000000e+00              0.000000e+00 \n",
       "                      PML                    POU2F2                     PPARG \n",
       "             0.000000e+00              0.000000e+00              0.000000e+00 \n",
       "                     PPBP                     PRDM1                      PRF1 \n",
       "             0.000000e+00              0.000000e+00              0.000000e+00 \n",
       "                    PRKCD                    PSMB10                     PSMB5 \n",
       "             0.000000e+00              0.000000e+00              0.000000e+00 \n",
       "                    PSMB7                     PSMB8                     PSMB9 \n",
       "             0.000000e+00              0.000000e+00              0.000000e+00 \n",
       "                    PSMC2                     PSMD7                     PTAFR \n",
       "             0.000000e+00              0.000000e+00              0.000000e+00 \n",
       "                   PTGER4                     PTGS2                      PTK2 \n",
       "             0.000000e+00              0.000000e+00              0.000000e+00 \n",
       "                    PTPN2                    PTPN22                     PTPN6 \n",
       "             0.000000e+00              0.000000e+00              0.000000e+00 \n",
       "                PTPRC_all                    PYCARD                      RAF1 \n",
       "             0.000000e+00              0.000000e+00              0.000000e+00 \n",
       "                     RAG1                      RAG2                   RARRES3 \n",
       "             0.000000e+00              0.000000e+00              0.000000e+00 \n",
       "                     RELA                      RELB                      RORC \n",
       "             0.000000e+00              0.000000e+00              0.000000e+00 \n",
       "                    RUNX1                    S100A8                    S100A9 \n",
       "            -3.291353e-08              2.410156e-02              8.828554e-03 \n",
       "                    S1PR1                      SCAP                    SCARB1 \n",
       "             0.000000e+00              0.000000e+00              0.000000e+00 \n",
       "                      SCD                      SELE                      SELL \n",
       "             0.000000e+00              0.000000e+00              0.000000e+00 \n",
       "                   SELPLG                  SERPING1                    SH2D1A \n",
       "             0.000000e+00              0.000000e+00              0.000000e+00 \n",
       "                   SIGIRR                       SKI                    SLAMF1 \n",
       "             0.000000e+00              0.000000e+00              0.000000e+00 \n",
       "                   SLAMF6                    SLAMF7                    SLC2A1 \n",
       "             0.000000e+00              0.000000e+00              0.000000e+00 \n",
       "                    SMAD3                     SMAD5                     SOCS1 \n",
       "            -4.301425e-03              0.000000e+00              0.000000e+00 \n",
       "                    SOCS3                     SORL1                     SORT1 \n",
       "             0.000000e+00              0.000000e+00              0.000000e+00 \n",
       "                     SPP1                       SRC                    SREBF1 \n",
       "             0.000000e+00              1.039673e-02              0.000000e+00 \n",
       "                   SREBF2                     STAT1                     STAT2 \n",
       "             0.000000e+00              0.000000e+00             -1.751453e-04 \n",
       "                    STAT3                     STAT4                    STAT5A \n",
       "             0.000000e+00              0.000000e+00              0.000000e+00 \n",
       "                   STAT5B                     STAT6                       SYK \n",
       "             0.000000e+00              0.000000e+00             -1.528472e-04 \n",
       "                    TAGAP                      TAL1                      TAP1 \n",
       "             0.000000e+00              0.000000e+00              0.000000e+00 \n",
       "                     TAP2                     TAPBP                      TBK1 \n",
       "             0.000000e+00              0.000000e+00              0.000000e+00 \n",
       "                    TBX21                      TCF4                      TCF7 \n",
       "             0.000000e+00             -4.657767e-03              0.000000e+00 \n",
       "                     TFRC                     TGFB1                     TGFBI \n",
       "             0.000000e+00              6.660165e-03              0.000000e+00 \n",
       "                   TGFBR1                    TGFBR2                      THY1 \n",
       "             0.000000e+00             -2.392258e-02              0.000000e+00 \n",
       "                   TICAM1                     TIGIT                     TIRAP \n",
       "             0.000000e+00              0.000000e+00              0.000000e+00 \n",
       "                     TLR1                      TLR2                      TLR3 \n",
       "             0.000000e+00             -3.196237e-05              0.000000e+00 \n",
       "                     TLR4                      TLR5                      TLR7 \n",
       "            -2.604297e-05              0.000000e+00              0.000000e+00 \n",
       "                     TLR8                      TLR9                   TMEM173 \n",
       "             0.000000e+00              0.000000e+00              0.000000e+00 \n",
       "                      TNF                   TNFAIP3                   TNFAIP6 \n",
       "             3.587093e-03              0.000000e+00              0.000000e+00 \n",
       "                TNFRSF10C                 TNFRSF11A                 TNFRSF13B \n",
       "             0.000000e+00              0.000000e+00              0.000000e+00 \n",
       "                TNFRSF13C                  TNFRSF14                  TNFRSF17 \n",
       "             0.000000e+00              0.000000e+00              0.000000e+00 \n",
       "                 TNFRSF1B                   TNFRSF4                   TNFRSF8 \n",
       "             0.000000e+00              4.842896e-03              0.000000e+00 \n",
       "                  TNFRSF9                   TNFSF10                   TNFSF11 \n",
       "             0.000000e+00              0.000000e+00              0.000000e+00 \n",
       "                  TNFSF12                  TNFSF13B                   TNFSF15 \n",
       "             1.129400e-02             -1.969158e-04              0.000000e+00 \n",
       "                   TNFSF4                    TNFSF8                    TOLLIP \n",
       "             0.000000e+00              1.091122e-05              0.000000e+00 \n",
       "                     TP53                     TRAF1                     TRAF2 \n",
       "             0.000000e+00              0.000000e+00              0.000000e+00 \n",
       "                    TRAF3                     TRAF4                     TRAF5 \n",
       "            -6.325037e-05              0.000000e+00              0.000000e+00 \n",
       "                    TRAF6                      TYK2                    UBE2L3 \n",
       "             0.000000e+00              0.000000e+00              1.213019e-02 \n",
       "                    VCAM1                     VLDLR                       VTN \n",
       "             0.000000e+00              0.000000e+00              0.000000e+00 \n",
       "                     XBP1                      XCL1                      XCR1 \n",
       "             0.000000e+00              0.000000e+00              0.000000e+00 \n",
       "                    ZAP70                    ZBTB16                      ZEB1 \n",
       "             2.202172e-05             -1.543986e-03              0.000000e+00 \n",
       "                   sCTLA4                     ABCF1                     ALAS1 \n",
       "             0.000000e+00              0.000000e+00              0.000000e+00 \n",
       "                    EEF1G                      G6PD                     GAPDH \n",
       "             0.000000e+00             -1.508012e-04              0.000000e+00 \n",
       "                     GUSB                     HPRT1                      OAZ1 \n",
       "             0.000000e+00              0.000000e+00              1.275930e-03 \n",
       "                   POLR1B                    POLR2A                      PPIA \n",
       "             0.000000e+00              0.000000e+00              0.000000e+00 \n",
       "                    RPL19                      SDHA                       TBP \n",
       "             0.000000e+00              0.000000e+00              0.000000e+00 \n",
       "                     TUBB \n",
       "             0.000000e+00 \n",
       "\n",
       "Random Effects:\n",
       "\n",
       "StdDev:\n",
       "                id        id:t2        id:t3        id:t4\n",
       "id    7.292888e-02 1.184153e-05 4.191265e-06 7.097163e-08\n",
       "id:t2 1.184153e-05 1.401042e-02 5.719216e-03 5.713378e-03\n",
       "id:t3 4.191265e-06 5.719216e-03 1.367869e-02 5.739415e-03\n",
       "id:t4 7.097163e-08 5.713378e-03 5.739415e-03 1.367962e-02"
      ]
     },
     "metadata": {},
     "output_type": "display_data"
    }
   ],
   "source": [
    "glm1"
   ]
  },
  {
   "cell_type": "code",
   "execution_count": 45,
   "metadata": {
    "vscode": {
     "languageId": "r"
    }
   },
   "outputs": [
    {
     "data": {
      "text/html": [
       "40361295.8876"
      ],
      "text/latex": [
       "40361295.8876"
      ],
      "text/markdown": [
       "40361295.8876"
      ],
      "text/plain": [
       "[1] 40361296"
      ]
     },
     "metadata": {},
     "output_type": "display_data"
    }
   ],
   "source": [
    "X <- subset(data, select = -c(id,meal,time,t2,t3,t4,TG))\n",
    "y <- data$TG\n",
    "\n",
    "lambda_max <- max(abs(t(X) %*% y))\n",
    "lambda_max"
   ]
  },
  {
   "cell_type": "code",
   "execution_count": 17,
   "metadata": {
    "vscode": {
     "languageId": "r"
    }
   },
   "outputs": [],
   "source": [
    "X <- subset(data, select = -c(id,visit,meal,time,t2,t3,t4,TG))\n",
    "y <- data$TG\n",
    "\n",
    "lambda_max <- max(abs(t(X) %*% y))\n",
    "lambdas <- linspace(lambda_max,lambda_max*0.01, n=50)\n",
    "BIC_vec<-rep(Inf,length(lambdas))\n",
    "\n",
    "for(j in 1:length(lambdas))\n",
    "{\n",
    "\n",
    "suppressWarnings(glm1 <- try(glmmLasso(fix = fixed_form, rnd = list(id =~ 1 + as.factor(time)), data=data,\n",
    "                    , lambda=lambdas[j],switch.NR=FALSE,final.re=FALSE), silent=TRUE))\n",
    "\n",
    "if(!inherits(glm1, \"try-error\"))\n",
    "{  \n",
    "    BIC_vec[j]<-glm1$bic\n",
    "}else{break}\n",
    "\n",
    "}\n",
    "\n",
    "opt<-which.min(BIC_vec)\n",
    "\n",
    "glm1_final <- glmmLasso(fix = fixed_form, rnd = list(id =~ 1), data=data,\n",
    "                        , lambda=lambdas[opt],switch.NR=FALSE,final.re=FALSE)"
   ]
  },
  {
   "cell_type": "code",
   "execution_count": 18,
   "metadata": {
    "vscode": {
     "languageId": "r"
    }
   },
   "outputs": [
    {
     "data": {
      "text/plain": [
       "Call:\n",
       "glmmLasso(fix = fixed_form, rnd = list(id = ~1), data = data, \n",
       "    lambda = lambdas[opt], switch.NR = FALSE, final.re = FALSE)\n",
       "\n",
       "Fixed Effects:\n",
       "\n",
       "Coefficients:\n",
       "              (Intercept)          as.factor(meal)2          as.factor(meal)3 \n",
       "                   1.2141                    0.0000                    0.0000 \n",
       "         as.factor(meal)4          as.factor(time)1          as.factor(time)2 \n",
       "                   0.0000                    0.0000                    0.0000 \n",
       "         as.factor(time)3                     ABCA1                     ABCB1 \n",
       "                   0.0000                    0.0000                    0.0000 \n",
       "                    ABCG1                      ABL1                     ACACA \n",
       "                   0.0000                    0.0000                    0.0000 \n",
       "                      ADA                       AHR                     AICDA \n",
       "                   0.0000                    0.0000                    0.0000 \n",
       "                     AIRE                   ANGPTL4                     APOBR \n",
       "                   0.0000                    0.0000                    0.0000 \n",
       "                      APP                      ARG1                      ARG2 \n",
       "                   0.0000                    0.0000                    0.0000 \n",
       "                  ARHGDIB                     ATG10                     ATG12 \n",
       "                   0.0000                    0.0000                    0.0000 \n",
       "                  ATG16L1                      ATG5                      ATG7 \n",
       "                   0.0000                    0.0000                    0.0000 \n",
       "                      ATM                       B2M                    B3GAT1 \n",
       "                   0.0000                    0.0000                    0.0000 \n",
       "                     BATF                     BATF3                       BAX \n",
       "                   0.0000                    0.0000                    0.0000 \n",
       "                   BCAP31                     BCL10                      BCL2 \n",
       "                   0.0000                    0.0000                    0.0000 \n",
       "                  BCL2L11                      BCL3                      BCL6 \n",
       "                   0.0000                    0.0000                    0.0000 \n",
       "                      BID                      BLNK                      BST1 \n",
       "                   0.0000                    0.0000                    0.0000 \n",
       "                     BST2                       BTK                      BTLA \n",
       "                   0.0000                    0.0000                    0.0000 \n",
       "                C14orf166                      C1QA                      C1QB \n",
       "                   0.0000                    0.0000                    0.0000 \n",
       "                    C1QBP                       C1R                       C1S \n",
       "                   0.0000                    0.0000                    0.0000 \n",
       "                       C2                        C3                     C4A.B \n",
       "                   0.0000                    0.0000                    0.0000 \n",
       "                    C4BPA                        C5                        C6 \n",
       "                   0.0000                    0.0000                    0.0000 \n",
       "                       C7                       C8A                       C8B \n",
       "                   0.0000                    0.0000                    0.0000 \n",
       "                      C8G                        C9                      CAMP \n",
       "                   0.0000                    0.0000                    0.0000 \n",
       "                    CARD9                     CASP1                    CASP10 \n",
       "                   0.0000                    0.0000                    0.0000 \n",
       "                    CASP2                     CASP3                     CASP8 \n",
       "                   0.0000                    0.0000                    0.0000 \n",
       "                    CCBP2                     CCL11                     CCL13 \n",
       "                   0.0000                    0.0000                    0.0000 \n",
       "                    CCL15                     CCL16                     CCL18 \n",
       "                   0.0000                    0.0000                    0.0000 \n",
       "                    CCL19                      CCL2                     CCL20 \n",
       "                   0.0000                    0.0000                    0.0000 \n",
       "                    CCL22                     CCL23                     CCL24 \n",
       "                   0.0000                    0.0000                    0.0000 \n",
       "                    CCL26                      CCL3                      CCL4 \n",
       "                   0.0000                    0.0000                    0.0000 \n",
       "                     CCL5                      CCL7                      CCL8 \n",
       "                   0.0000                    0.0000                    0.0000 \n",
       "                    CCND3                      CCR1                     CCR10 \n",
       "                   0.0000                    0.0000                    0.0000 \n",
       "                     CCR2                      CCR5                      CCR6 \n",
       "                   0.0000                    0.0000                    0.0000 \n",
       "                     CCR7                      CCR8                     CCRL1 \n",
       "                   0.0000                    0.0000                    0.0000 \n",
       "                    CCRL2                      CD14                     CD160 \n",
       "                   0.0000                    0.0000                    0.0000 \n",
       "                    CD163                     CD164                      CD19 \n",
       "                   0.0000                    0.0000                    0.0000 \n",
       "                     CD1A                      CD1D                       CD2 \n",
       "                   0.0000                    0.0000                    0.0000 \n",
       "                    CD209                      CD22                      CD24 \n",
       "                   0.0000                    0.0000                    0.0000 \n",
       "                    CD244                     CD247                      CD27 \n",
       "                   0.0000                    0.0000                    0.0000 \n",
       "                    CD274                     CD276                      CD28 \n",
       "                   0.0000                    0.0000                    0.0000 \n",
       "                     CD34                      CD36                      CD3D \n",
       "                   0.0000                    0.0000                    0.0000 \n",
       "                     CD3E                    CD3EAP                       CD4 \n",
       "                   0.0000                    0.0000                    0.0000 \n",
       "                     CD40                    CD40LG                      CD44 \n",
       "                   0.0000                    0.0000                    0.0000 \n",
       "                   CD45R0                    CD45RA                    CD45RB \n",
       "                   0.0000                    0.0000                    0.0000 \n",
       "                     CD46                      CD48                       CD5 \n",
       "                   0.0000                    0.0000                    0.0000 \n",
       "                     CD53                      CD55                      CD58 \n",
       "                   0.0000                    0.0000                    0.0000 \n",
       "                     CD59                       CD6                       CD7 \n",
       "                   0.0000                    0.0000                    0.0000 \n",
       "                     CD70                      CD74                     CD79A \n",
       "                   0.0000                    0.0000                    0.0000 \n",
       "                    CD79B                      CD80                      CD81 \n",
       "                   0.0000                    0.0000                    0.0000 \n",
       "                     CD82                      CD83                      CD86 \n",
       "                   0.0000                    0.0000                    0.0000 \n",
       "                     CD8A                      CD8B                       CD9 \n",
       "                   0.0000                    0.0000                    0.0000 \n",
       "                     CD96                      CD97                      CD99 \n",
       "                   0.0000                    0.0000                    0.0000 \n",
       "                     CDH5                    CDKN1A                   CEACAM1 \n",
       "                   0.0000                    0.0000                    0.0000 \n",
       "                  CEACAM6                   CEACAM8                     CEBPB \n",
       "                   0.0000                    0.0000                    0.0000 \n",
       "                     CETP                       CFB                       CFD \n",
       "                   0.0000                    0.0000                    0.0000 \n",
       "                      CFH                       CFI                       CFP \n",
       "                   0.0000                    0.0000                    0.0000 \n",
       "                     CHUK                     CIITA                      CISH \n",
       "                   0.0000                    0.0000                    0.0000 \n",
       "                   CLEC4A                    CLEC4E                    CLEC5A \n",
       "                   0.0000                    0.0000                    0.0000 \n",
       "                   CLEC6A                    CLEC7A                       CLU \n",
       "                   0.0000                    0.0000                    0.0000 \n",
       "                   CMKLR1                       CR1                       CR2 \n",
       "                   0.0000                    0.0000                    0.0000 \n",
       "                    CRADD                      CSF1                     CSF1R \n",
       "                   0.0000                    0.0000                    0.0000 \n",
       "                     CSF2                    CSF2RB                     CSF3R \n",
       "                   0.0000                    0.0000                    0.0000 \n",
       "                 CTLA4.TM                 CTLA4_all                    CTNNB1 \n",
       "                   0.0000                    0.0000                    0.0000 \n",
       "                     CTSC                      CTSG                      CTSS \n",
       "                   0.0000                    0.0000                    0.0000 \n",
       "                     CUL9                    CX3CL1                    CX3CR1 \n",
       "                   0.0000                    0.0000                    0.0000 \n",
       "                    CXCL1                    CXCL10                    CXCL11 \n",
       "                   0.0000                    0.0000                    0.0000 \n",
       "                   CXCL12                    CXCL13                     CXCL2 \n",
       "                   0.0000                    0.0000                    0.0000 \n",
       "                    CXCL9                     CXCR1                     CXCR2 \n",
       "                   0.0000                    0.0000                    0.0000 \n",
       "                    CXCR3                     CXCR4                     CXCR6 \n",
       "                   0.0000                    0.0000                    0.0000 \n",
       "                     CYBB                     DEFB1                  DEFB103A \n",
       "                   0.0000                    0.0000                    0.0000 \n",
       "                 DEFB103B                    DEFB4A                     DGAT2 \n",
       "                   0.0000                    0.0000                    0.0000 \n",
       "                     DPP4                     DUSP4                      EBI3 \n",
       "                   0.0000                    0.0000                    0.0000 \n",
       "                    EDNRB                      EGR1                      EGR2 \n",
       "                   0.0000                    0.0000                    0.0000 \n",
       "                   ENTPD1                     EOMES                      ETS1 \n",
       "                   0.0000                    0.0000                    0.0000 \n",
       "                     FADD                       FAS                      FASN \n",
       "                   0.0000                    0.0000                    0.0000 \n",
       "                     FCAR                    FCER1A                    FCER1G \n",
       "                   0.0000                    0.0000                    0.0000 \n",
       "                 FCGR1A.B                    FCGR2A                  FCGR2A.C \n",
       "                   0.0000                    0.0000                    0.0000 \n",
       "                   FCGR2B                  FCGR3A.B                     FCGRT \n",
       "                   0.0000                    0.0000                    0.0000 \n",
       "                    FKBP5                       FN1                     FOXP3 \n",
       "                   0.0000                    0.0000                    0.0000 \n",
       "                      FYN                     GATA3                      GBP1 \n",
       "                   0.0000                    0.0000                    0.0000 \n",
       "                     GBP5                      GFI1                      GNLY \n",
       "                   0.0000                    0.0000                    0.0000 \n",
       "                    GP1BB                       GPI                    GPR183 \n",
       "                   0.0000                    0.0000                    0.0000 \n",
       "                     GZMA                      GZMB                      GZMK \n",
       "                   0.0000                    0.0000                    0.0000 \n",
       "                     HAMP                    HAVCR2                       HFE \n",
       "                   0.0000                    0.0000                    0.0000 \n",
       "                    HLA.A                     HLA.B                     HLA.C \n",
       "                   0.0000                    0.0000                    0.0000 \n",
       "                  HLA.DMA                   HLA.DMB                   HLA.DOB \n",
       "                   0.0000                    0.0000                    0.0000 \n",
       "                 HLA.DPA1                  HLA.DPB1                  HLA.DQA1 \n",
       "                   0.0000                    0.0000                    0.0000 \n",
       "                 HLA.DQB1                   HLA.DRA                  HLA.DRB1 \n",
       "                   0.0000                    0.0000                    0.0000 \n",
       "                 HLA.DRB3                     HMGCR                    HMGCS1 \n",
       "                   0.0000                    0.0000                    0.0000 \n",
       "                     HRAS                     ICAM1                     ICAM2 \n",
       "                   0.0000                    0.0000                    0.0000 \n",
       "                    ICAM3                     ICAM4                     ICAM5 \n",
       "                   0.0000                    0.0000                    0.0000 \n",
       "                     ICOS                    ICOSLG                      IDO1 \n",
       "                   0.0000                    0.0000                    0.0000 \n",
       "                    IFI16                     IFI35                     IFIH1 \n",
       "                   0.0000                    0.0000                    0.0000 \n",
       "                    IFIT2                    IFITM1                  IFNA1.13 \n",
       "                   0.0000                    0.0000                    0.0000 \n",
       "                    IFNA2                    IFNAR1                    IFNAR2 \n",
       "                   0.0000                    0.0000                    0.0000 \n",
       "                    IFNB1                      IFNG                    IFNGR1 \n",
       "                   0.0000                    0.0000                    0.0000 \n",
       "                    IGF2R                    IKBKAP                     IKBKB \n",
       "                   0.0000                    0.0000                    0.0000 \n",
       "                    IKBKE                     IKBKG                     IKZF1 \n",
       "                   0.0000                    0.0000                    0.0000 \n",
       "                    IKZF2                     IKZF3                      IL10 \n",
       "                   0.0000                    0.0000                    0.0000 \n",
       "                   IL10RA                    IL11RA                     IL12A \n",
       "                   0.0000                    0.0000                    0.0000 \n",
       "                    IL12B                   IL12RB1                      IL13 \n",
       "                   0.0000                    0.0000                    0.0000 \n",
       "                  IL13RA1                      IL15                      IL16 \n",
       "                   0.0000                    0.0000                    0.0000 \n",
       "                    IL17A                     IL17B                     IL17F \n",
       "                   0.0000                    0.0000                    0.0000 \n",
       "                     IL18                    IL18R1                   IL18RAP \n",
       "                   0.0000                    0.0000                    0.0000 \n",
       "                     IL19                      IL1A                      IL1B \n",
       "                   0.0000                    0.0000                    0.0000 \n",
       "                    IL1R1                     IL1R2                    IL1RAP \n",
       "                   0.0000                    0.0000                    0.0000 \n",
       "                   IL1RL1                    IL1RL2                     IL1RN \n",
       "                   0.0000                    0.0000                    0.0000 \n",
       "                      IL2                      IL20                      IL21 \n",
       "                   0.0000                    0.0000                    0.0000 \n",
       "                    IL21R                      IL22                   IL22RA2 \n",
       "                   0.0000                    0.0000                    0.0000 \n",
       "                    IL23A                     IL23R                      IL26 \n",
       "                   0.0000                    0.0000                    0.0000 \n",
       "                     IL27                     IL28A                   IL28A.B \n",
       "                   0.0000                    0.0000                    0.0000 \n",
       "                     IL29                     IL2RA                     IL2RB \n",
       "                   0.0000                    0.0000                    0.0000 \n",
       "                    IL2RG                       IL3                      IL32 \n",
       "                   0.0000                    0.0000                    0.0000 \n",
       "                      IL4                      IL4R                       IL5 \n",
       "                   0.0000                    0.0000                    0.0000 \n",
       "                      IL6                      IL6R                     IL6ST \n",
       "                   0.0000                    0.0000                    0.0000 \n",
       "                      IL7                      IL7R                       IL8 \n",
       "                   0.0000                    0.0000                    0.0000 \n",
       "                      IL9                      ILF3                    INSIG1 \n",
       "                   0.0000                    0.0000                    0.0000 \n",
       "                   INSIG2                     IRAK1                     IRAK2 \n",
       "                   0.0000                    0.0000                    0.0000 \n",
       "                    IRAK3                     IRAK4                      IRF1 \n",
       "                   0.0000                    0.0000                    0.0000 \n",
       "                     IRF3                      IRF4                      IRF5 \n",
       "                   0.0000                    0.0000                    0.0000 \n",
       "                     IRF7                      IRF8                      IRGM \n",
       "                   0.0000                    0.0000                    0.0000 \n",
       "                   ITGA2B                     ITGA4                     ITGA5 \n",
       "                   0.0000                    0.0000                    0.0000 \n",
       "                    ITGA6                     ITGAE                     ITGAL \n",
       "                   0.0000                    0.0000                    0.0000 \n",
       "                    ITGAM                     ITGAX                     ITGB1 \n",
       "                   0.0000                    0.0000                    0.0000 \n",
       "                    ITGB2                     ITLN1                     ITLN2 \n",
       "                   0.0000                    0.0000                    0.0000 \n",
       "                     JAK1                      JAK2                      JAK3 \n",
       "                   0.0000                    0.0000                    0.0000 \n",
       "                    KCNJ2                   KIR3DL1                   KIR3DL2 \n",
       "                   0.0000                    0.0000                    0.0000 \n",
       "                  KIR3DL3 KIR_Activating_Subgroup_1 KIR_Activating_Subgroup_2 \n",
       "                   0.0000                    0.0000                    0.0000 \n",
       "KIR_Inhibiting_Subgroup_1 KIR_Inhibiting_Subgroup_2                       KIT \n",
       "                   0.0000                    0.0000                    0.0000 \n",
       "                   KLRAP1                     KLRB1                     KLRC1 \n",
       "                   0.0000                    0.0000                    0.0000 \n",
       "                    KLRC2                     KLRC3                     KLRC4 \n",
       "                   0.0000                    0.0000                    0.0000 \n",
       "                    KLRD1                     KLRF1                     KLRF2 \n",
       "                   0.0000                    0.0000                    0.0000 \n",
       "                    KLRG1                     KLRG2                     KLRK1 \n",
       "                   0.0000                    0.0000                    0.0000 \n",
       "                     LAG3                     LAIR1                     LAMP3 \n",
       "                   0.0000                    0.0000                    0.0000 \n",
       "                     LCAT                       LCK                      LCP2 \n",
       "                   0.0000                    0.0000                    0.0000 \n",
       "                     LDLR                      LEF1                    LGALS3 \n",
       "                   0.0000                    0.0000                    0.0000 \n",
       "                      LIF                    LILRA1                    LILRA2 \n",
       "                   0.0000                    0.0000                    0.0000 \n",
       "                   LILRA3                    LILRA4                    LILRA5 \n",
       "                   0.0000                    0.0000                    0.0000 \n",
       "                   LILRA6                    LILRB1                    LILRB2 \n",
       "                   0.0000                    0.0000                    0.0000 \n",
       "                   LILRB3                    LILRB4                    LILRB5 \n",
       "                   0.0000                    0.0000                    0.0000 \n",
       "                     LIPC                      LIPE                     LITAF \n",
       "                   0.0000                    0.0000                    0.0000 \n",
       "                      LPL                       LTA                     LTB4R \n",
       "                   0.0000                    0.0000                    0.0000 \n",
       "                   LTB4R2                      LTBR                       LTF \n",
       "                   0.0000                    0.0000                    0.0000 \n",
       "                     LY96                       MAF                     MALT1 \n",
       "                   0.0000                    0.0000                    0.0000 \n",
       "                   MAP4K1                    MAP4K2                    MAP4K4 \n",
       "                   0.0000                    0.0000                    0.0000 \n",
       "                    MAPK1                    MAPK11                    MAPK14 \n",
       "                   0.0000                    0.0000                    0.0000 \n",
       "                 MAPKAPK2                     MARCO                     MASP1 \n",
       "                   0.0000                    0.0000                    0.0000 \n",
       "                    MASP2                      MBL2                       MBP \n",
       "                   0.0000                    0.0000                    0.0000 \n",
       "                     MCL1                       MIF                       MME \n",
       "                   0.0000                    0.0000                    0.0000 \n",
       "                      MR1                      MRC1                     MS4A1 \n",
       "                   0.0000                    0.0000                    0.0000 \n",
       "                     MSR1                      MUC1                       MX1 \n",
       "                   0.0000                    0.0000                    0.0000 \n",
       "                    MYD88                     MYLIP                     NCAM1 \n",
       "                   0.0000                    0.0000                    0.0000 \n",
       "                     NCF4                      NCR1                    NFATC1 \n",
       "                   0.0000                    0.0000                    0.0000 \n",
       "                   NFATC2                    NFATC3                     NFIL3 \n",
       "                   0.0000                    0.0000                    0.0000 \n",
       "                    NFKB1                     NFKB2                    NFKBIA \n",
       "                   0.0000                    0.0000                    0.0000 \n",
       "                   NFKBIZ                     NLRP3                      NOD1 \n",
       "                   0.0000                    0.0000                    0.0000 \n",
       "                     NOD2                      NOS2                    NOTCH1 \n",
       "                   0.0000                    0.0000                    0.0000 \n",
       "                   NOTCH2                     NR1H3                      NT5E \n",
       "                   0.0000                    0.0000                    0.0000 \n",
       "                     PAX5                     PCSK9                     PDCD1 \n",
       "                   0.0000                    0.0000                    0.0000 \n",
       "                 PDCD1LG2                     PDCD2                     PDGFB \n",
       "                   0.0000                    0.0000                    0.0000 \n",
       "                   PDGFRB                    PECAM1                      PIGR \n",
       "                   0.0000                    0.0000                    0.0000 \n",
       "                  PLA2G2A                   PLA2G2E                      PLAU \n",
       "                   0.0000                    0.0000                    0.0000 \n",
       "                    PLAUR                     PLIN2                      PLTP \n",
       "                   0.0000                    0.0000                    0.0000 \n",
       "                      PML                    POU2F2                     PPARG \n",
       "                   0.0000                    0.0000                    0.0000 \n",
       "                     PPBP                     PRDM1                      PRF1 \n",
       "                   0.0000                    0.0000                    0.0000 \n",
       "                    PRKCD                    PSMB10                     PSMB5 \n",
       "                   0.0000                    0.0000                    0.0000 \n",
       "                    PSMB7                     PSMB8                     PSMB9 \n",
       "                   0.0000                    0.0000                    0.0000 \n",
       "                    PSMC2                     PSMD7                     PTAFR \n",
       "                   0.0000                    0.0000                    0.0000 \n",
       "                   PTGER4                     PTGS2                      PTK2 \n",
       "                   0.0000                    0.0000                    0.0000 \n",
       "                    PTPN2                    PTPN22                     PTPN6 \n",
       "                   0.0000                    0.0000                    0.0000 \n",
       "                PTPRC_all                    PYCARD                      RAF1 \n",
       "                   0.0000                    0.0000                    0.0000 \n",
       "                     RAG1                      RAG2                   RARRES3 \n",
       "                   0.0000                    0.0000                    0.0000 \n",
       "                     RELA                      RELB                      RORC \n",
       "                   0.0000                    0.0000                    0.0000 \n",
       "                    RUNX1                    S100A8                    S100A9 \n",
       "                   0.0000                    0.0000                    0.0000 \n",
       "                    S1PR1                      SCAP                    SCARB1 \n",
       "                   0.0000                    0.0000                    0.0000 \n",
       "                      SCD                      SELE                      SELL \n",
       "                   0.0000                    0.0000                    0.0000 \n",
       "                   SELPLG                  SERPING1                    SH2D1A \n",
       "                   0.0000                    0.0000                    0.0000 \n",
       "                   SIGIRR                       SKI                    SLAMF1 \n",
       "                   0.0000                    0.0000                    0.0000 \n",
       "                   SLAMF6                    SLAMF7                    SLC2A1 \n",
       "                   0.0000                    0.0000                    0.0000 \n",
       "                    SMAD3                     SMAD5                     SOCS1 \n",
       "                   0.0000                    0.0000                    0.0000 \n",
       "                    SOCS3                     SORL1                     SORT1 \n",
       "                   0.0000                    0.0000                    0.0000 \n",
       "                     SPP1                       SRC                    SREBF1 \n",
       "                   0.0000                    0.0000                    0.0000 \n",
       "                   SREBF2                     STAT1                     STAT2 \n",
       "                   0.0000                    0.0000                    0.0000 \n",
       "                    STAT3                     STAT4                    STAT5A \n",
       "                   0.0000                    0.0000                    0.0000 \n",
       "                   STAT5B                     STAT6                       SYK \n",
       "                   0.0000                    0.0000                    0.0000 \n",
       "                    TAGAP                      TAL1                      TAP1 \n",
       "                   0.0000                    0.0000                    0.0000 \n",
       "                     TAP2                     TAPBP                      TBK1 \n",
       "                   0.0000                    0.0000                    0.0000 \n",
       "                    TBX21                      TCF4                      TCF7 \n",
       "                   0.0000                    0.0000                    0.0000 \n",
       "                     TFRC                     TGFB1                     TGFBI \n",
       "                   0.0000                    0.0000                    0.0000 \n",
       "                   TGFBR1                    TGFBR2                      THY1 \n",
       "                   0.0000                    0.0000                    0.0000 \n",
       "                   TICAM1                     TIGIT                     TIRAP \n",
       "                   0.0000                    0.0000                    0.0000 \n",
       "                     TLR1                      TLR2                      TLR3 \n",
       "                   0.0000                    0.0000                    0.0000 \n",
       "                     TLR4                      TLR5                      TLR7 \n",
       "                   0.0000                    0.0000                    0.0000 \n",
       "                     TLR8                      TLR9                   TMEM173 \n",
       "                   0.0000                    0.0000                    0.0000 \n",
       "                      TNF                   TNFAIP3                   TNFAIP6 \n",
       "                   0.0000                    0.0000                    0.0000 \n",
       "                TNFRSF10C                 TNFRSF11A                 TNFRSF13B \n",
       "                   0.0000                    0.0000                    0.0000 \n",
       "                TNFRSF13C                  TNFRSF14                  TNFRSF17 \n",
       "                   0.0000                    0.0000                    0.0000 \n",
       "                 TNFRSF1B                   TNFRSF4                   TNFRSF8 \n",
       "                   0.0000                    0.0000                    0.0000 \n",
       "                  TNFRSF9                   TNFSF10                   TNFSF11 \n",
       "                   0.0000                    0.0000                    0.0000 \n",
       "                  TNFSF12                  TNFSF13B                   TNFSF15 \n",
       "                   0.0000                    0.0000                    0.0000 \n",
       "                   TNFSF4                    TNFSF8                    TOLLIP \n",
       "                   0.0000                    0.0000                    0.0000 \n",
       "                     TP53                     TRAF1                     TRAF2 \n",
       "                   0.0000                    0.0000                    0.0000 \n",
       "                    TRAF3                     TRAF4                     TRAF5 \n",
       "                   0.0000                    0.0000                    0.0000 \n",
       "                    TRAF6                      TYK2                    UBE2L3 \n",
       "                   0.0000                    0.0000                    0.0000 \n",
       "                    VCAM1                     VLDLR                       VTN \n",
       "                   0.0000                    0.0000                    0.0000 \n",
       "                     XBP1                      XCL1                      XCR1 \n",
       "                   0.0000                    0.0000                    0.0000 \n",
       "                    ZAP70                    ZBTB16                      ZEB1 \n",
       "                   0.0000                    0.0000                    0.0000 \n",
       "                   sCTLA4                     ABCF1                     ALAS1 \n",
       "                   0.0000                    0.0000                    0.0000 \n",
       "                    EEF1G                      G6PD                     GAPDH \n",
       "                   0.0000                    0.0000                    0.0000 \n",
       "                     GUSB                     HPRT1                      OAZ1 \n",
       "                   0.0000                    0.0000                    0.0000 \n",
       "                   POLR1B                    POLR2A                      PPIA \n",
       "                   0.0000                    0.0000                    0.0000 \n",
       "                    RPL19                      SDHA                       TBP \n",
       "                   0.0000                    0.0000                    0.0000 \n",
       "                     TUBB \n",
       "                   0.0000 \n",
       "\n",
       "Random Effects:\n",
       "\n",
       "StdDev:\n",
       "          id\n",
       "id 0.4752716"
      ]
     },
     "metadata": {},
     "output_type": "display_data"
    }
   ],
   "source": [
    "glm1_final"
   ]
  },
  {
   "cell_type": "code",
   "execution_count": 14,
   "metadata": {
    "vscode": {
     "languageId": "r"
    }
   },
   "outputs": [
    {
     "data": {
      "image/png": "[encoded data removed]",
      "text/plain": [
       "plot without title"
      ]
     },
     "metadata": {
      "image/png": {
       "height": 420,
       "width": 420
      }
     },
     "output_type": "display_data"
    }
   ],
   "source": [
    "plot(lambdas,BIC_vec)"
   ]
  },
  {
   "cell_type": "code",
   "execution_count": 16,
   "metadata": {
    "vscode": {
     "languageId": "r"
    }
   },
   "outputs": [
    {
     "data": {
      "text/html": [
       "1"
      ],
      "text/latex": [
       "1"
      ],
      "text/markdown": [
       "1"
      ],
      "text/plain": [
       "[1] 1"
      ]
     },
     "metadata": {},
     "output_type": "display_data"
    }
   ],
   "source": [
    "sum(glm1_final$coefficients!=0)"
   ]
  },
  {
   "cell_type": "markdown",
   "metadata": {},
   "source": [
    "## Applying Pliable Lasso"
   ]
  },
  {
   "cell_type": "code",
   "execution_count": 7,
   "metadata": {
    "vscode": {
     "languageId": "r"
    }
   },
   "outputs": [
    {
     "name": "stderr",
     "output_type": "stream",
     "text": [
      "Caricamento del pacchetto richiesto: class\n",
      "\n",
      "Warning message:\n",
      "\"il pacchetto 'class' è stato creato con R versione 4.2.3\"\n"
     ]
    }
   ],
   "source": [
    "library('pliable')\n",
    "library('glmnet')"
   ]
  },
  {
   "cell_type": "code",
   "execution_count": 8,
   "metadata": {
    "vscode": {
     "languageId": "r"
    }
   },
   "outputs": [
    {
     "data": {
      "text/html": [
       "<table class=\"dataframe\">\n",
       "<caption>A data.frame: 6 × 631</caption>\n",
       "<thead>\n",
       "\t<tr><th></th><th scope=col>id</th><th scope=col>meal</th><th scope=col>time</th><th scope=col>t2</th><th scope=col>t3</th><th scope=col>t4</th><th scope=col>TG</th><th scope=col>ABCA1</th><th scope=col>ABCB1</th><th scope=col>ABCG1</th><th scope=col>⋯</th><th scope=col>GUSB</th><th scope=col>HPRT1</th><th scope=col>OAZ1</th><th scope=col>POLR1B</th><th scope=col>POLR2A</th><th scope=col>PPIA</th><th scope=col>RPL19</th><th scope=col>SDHA</th><th scope=col>TBP</th><th scope=col>TUBB</th></tr>\n",
       "\t<tr><th></th><th scope=col>&lt;fct&gt;</th><th scope=col>&lt;fct&gt;</th><th scope=col>&lt;fct&gt;</th><th scope=col>&lt;int&gt;</th><th scope=col>&lt;int&gt;</th><th scope=col>&lt;int&gt;</th><th scope=col>&lt;dbl&gt;</th><th scope=col>&lt;dbl&gt;</th><th scope=col>&lt;dbl&gt;</th><th scope=col>&lt;dbl&gt;</th><th scope=col>⋯</th><th scope=col>&lt;dbl&gt;</th><th scope=col>&lt;dbl&gt;</th><th scope=col>&lt;dbl&gt;</th><th scope=col>&lt;dbl&gt;</th><th scope=col>&lt;dbl&gt;</th><th scope=col>&lt;dbl&gt;</th><th scope=col>&lt;dbl&gt;</th><th scope=col>&lt;dbl&gt;</th><th scope=col>&lt;dbl&gt;</th><th scope=col>&lt;dbl&gt;</th></tr>\n",
       "</thead>\n",
       "<tbody>\n",
       "\t<tr><th scope=row>1</th><td>2</td><td>3</td><td>0</td><td>0</td><td>0</td><td>0</td><td>0.98</td><td>-0.4407667</td><td>-0.02300431</td><td> 0.5919507</td><td>⋯</td><td>-0.4925850</td><td>-0.3325347</td><td>-0.72696901</td><td> 0.6194055</td><td> 2.8346422</td><td>-1.856987</td><td>-0.2368612</td><td>-2.4791364</td><td>-0.2041358</td><td> 3.1914714</td></tr>\n",
       "\t<tr><th scope=row>2</th><td>2</td><td>3</td><td>1</td><td>1</td><td>0</td><td>0</td><td>1.28</td><td>-0.4407667</td><td>-0.02300431</td><td> 0.5919507</td><td>⋯</td><td>-0.4925850</td><td>-0.3325347</td><td>-0.72696901</td><td> 0.6194055</td><td> 2.8346422</td><td>-1.856987</td><td>-0.2368612</td><td>-2.4791364</td><td>-0.2041358</td><td> 3.1914714</td></tr>\n",
       "\t<tr><th scope=row>3</th><td>2</td><td>3</td><td>2</td><td>0</td><td>1</td><td>0</td><td>1.15</td><td>-0.4407667</td><td>-0.02300431</td><td> 0.5919507</td><td>⋯</td><td>-0.4925850</td><td>-0.3325347</td><td>-0.72696901</td><td> 0.6194055</td><td> 2.8346422</td><td>-1.856987</td><td>-0.2368612</td><td>-2.4791364</td><td>-0.2041358</td><td> 3.1914714</td></tr>\n",
       "\t<tr><th scope=row>4</th><td>2</td><td>3</td><td>3</td><td>0</td><td>0</td><td>1</td><td>1.10</td><td>-0.4407667</td><td>-0.02300431</td><td> 0.5919507</td><td>⋯</td><td>-0.4925850</td><td>-0.3325347</td><td>-0.72696901</td><td> 0.6194055</td><td> 2.8346422</td><td>-1.856987</td><td>-0.2368612</td><td>-2.4791364</td><td>-0.2041358</td><td> 3.1914714</td></tr>\n",
       "\t<tr><th scope=row>5</th><td>7</td><td>3</td><td>0</td><td>0</td><td>0</td><td>0</td><td>0.80</td><td>-0.8013898</td><td> 0.36792655</td><td>-0.6375770</td><td>⋯</td><td>-0.4807776</td><td> 0.2555707</td><td>-0.05601955</td><td>-0.3416707</td><td>-0.9783225</td><td> 1.086916</td><td> 0.4526076</td><td>-0.4637963</td><td> 1.1759174</td><td>-0.3104457</td></tr>\n",
       "\t<tr><th scope=row>6</th><td>7</td><td>3</td><td>1</td><td>1</td><td>0</td><td>0</td><td>1.77</td><td>-0.8013898</td><td> 0.36792655</td><td>-0.6375770</td><td>⋯</td><td>-0.4807776</td><td> 0.2555707</td><td>-0.05601955</td><td>-0.3416707</td><td>-0.9783225</td><td> 1.086916</td><td> 0.4526076</td><td>-0.4637963</td><td> 1.1759174</td><td>-0.3104457</td></tr>\n",
       "</tbody>\n",
       "</table>\n"
      ],
      "text/latex": [
       "A data.frame: 6 × 631\n",
       "\\begin{tabular}{r|lllllllllllllllllllll}\n",
       "  & id & meal & time & t2 & t3 & t4 & TG & ABCA1 & ABCB1 & ABCG1 & ⋯ & GUSB & HPRT1 & OAZ1 & POLR1B & POLR2A & PPIA & RPL19 & SDHA & TBP & TUBB\\\\\n",
       "  & <fct> & <fct> & <fct> & <int> & <int> & <int> & <dbl> & <dbl> & <dbl> & <dbl> & ⋯ & <dbl> & <dbl> & <dbl> & <dbl> & <dbl> & <dbl> & <dbl> & <dbl> & <dbl> & <dbl>\\\\\n",
       "\\hline\n",
       "\t1 & 2 & 3 & 0 & 0 & 0 & 0 & 0.98 & -0.4407667 & -0.02300431 &  0.5919507 & ⋯ & -0.4925850 & -0.3325347 & -0.72696901 &  0.6194055 &  2.8346422 & -1.856987 & -0.2368612 & -2.4791364 & -0.2041358 &  3.1914714\\\\\n",
       "\t2 & 2 & 3 & 1 & 1 & 0 & 0 & 1.28 & -0.4407667 & -0.02300431 &  0.5919507 & ⋯ & -0.4925850 & -0.3325347 & -0.72696901 &  0.6194055 &  2.8346422 & -1.856987 & -0.2368612 & -2.4791364 & -0.2041358 &  3.1914714\\\\\n",
       "\t3 & 2 & 3 & 2 & 0 & 1 & 0 & 1.15 & -0.4407667 & -0.02300431 &  0.5919507 & ⋯ & -0.4925850 & -0.3325347 & -0.72696901 &  0.6194055 &  2.8346422 & -1.856987 & -0.2368612 & -2.4791364 & -0.2041358 &  3.1914714\\\\\n",
       "\t4 & 2 & 3 & 3 & 0 & 0 & 1 & 1.10 & -0.4407667 & -0.02300431 &  0.5919507 & ⋯ & -0.4925850 & -0.3325347 & -0.72696901 &  0.6194055 &  2.8346422 & -1.856987 & -0.2368612 & -2.4791364 & -0.2041358 &  3.1914714\\\\\n",
       "\t5 & 7 & 3 & 0 & 0 & 0 & 0 & 0.80 & -0.8013898 &  0.36792655 & -0.6375770 & ⋯ & -0.4807776 &  0.2555707 & -0.05601955 & -0.3416707 & -0.9783225 &  1.086916 &  0.4526076 & -0.4637963 &  1.1759174 & -0.3104457\\\\\n",
       "\t6 & 7 & 3 & 1 & 1 & 0 & 0 & 1.77 & -0.8013898 &  0.36792655 & -0.6375770 & ⋯ & -0.4807776 &  0.2555707 & -0.05601955 & -0.3416707 & -0.9783225 &  1.086916 &  0.4526076 & -0.4637963 &  1.1759174 & -0.3104457\\\\\n",
       "\\end{tabular}\n"
      ],
      "text/markdown": [
       "\n",
       "A data.frame: 6 × 631\n",
       "\n",
       "| <!--/--> | id &lt;fct&gt; | meal &lt;fct&gt; | time &lt;fct&gt; | t2 &lt;int&gt; | t3 &lt;int&gt; | t4 &lt;int&gt; | TG &lt;dbl&gt; | ABCA1 &lt;dbl&gt; | ABCB1 &lt;dbl&gt; | ABCG1 &lt;dbl&gt; | ⋯ ⋯ | GUSB &lt;dbl&gt; | HPRT1 &lt;dbl&gt; | OAZ1 &lt;dbl&gt; | POLR1B &lt;dbl&gt; | POLR2A &lt;dbl&gt; | PPIA &lt;dbl&gt; | RPL19 &lt;dbl&gt; | SDHA &lt;dbl&gt; | TBP &lt;dbl&gt; | TUBB &lt;dbl&gt; |\n",
       "|---|---|---|---|---|---|---|---|---|---|---|---|---|---|---|---|---|---|---|---|---|---|\n",
       "| 1 | 2 | 3 | 0 | 0 | 0 | 0 | 0.98 | -0.4407667 | -0.02300431 |  0.5919507 | ⋯ | -0.4925850 | -0.3325347 | -0.72696901 |  0.6194055 |  2.8346422 | -1.856987 | -0.2368612 | -2.4791364 | -0.2041358 |  3.1914714 |\n",
       "| 2 | 2 | 3 | 1 | 1 | 0 | 0 | 1.28 | -0.4407667 | -0.02300431 |  0.5919507 | ⋯ | -0.4925850 | -0.3325347 | -0.72696901 |  0.6194055 |  2.8346422 | -1.856987 | -0.2368612 | -2.4791364 | -0.2041358 |  3.1914714 |\n",
       "| 3 | 2 | 3 | 2 | 0 | 1 | 0 | 1.15 | -0.4407667 | -0.02300431 |  0.5919507 | ⋯ | -0.4925850 | -0.3325347 | -0.72696901 |  0.6194055 |  2.8346422 | -1.856987 | -0.2368612 | -2.4791364 | -0.2041358 |  3.1914714 |\n",
       "| 4 | 2 | 3 | 3 | 0 | 0 | 1 | 1.10 | -0.4407667 | -0.02300431 |  0.5919507 | ⋯ | -0.4925850 | -0.3325347 | -0.72696901 |  0.6194055 |  2.8346422 | -1.856987 | -0.2368612 | -2.4791364 | -0.2041358 |  3.1914714 |\n",
       "| 5 | 7 | 3 | 0 | 0 | 0 | 0 | 0.80 | -0.8013898 |  0.36792655 | -0.6375770 | ⋯ | -0.4807776 |  0.2555707 | -0.05601955 | -0.3416707 | -0.9783225 |  1.086916 |  0.4526076 | -0.4637963 |  1.1759174 | -0.3104457 |\n",
       "| 6 | 7 | 3 | 1 | 1 | 0 | 0 | 1.77 | -0.8013898 |  0.36792655 | -0.6375770 | ⋯ | -0.4807776 |  0.2555707 | -0.05601955 | -0.3416707 | -0.9783225 |  1.086916 |  0.4526076 | -0.4637963 |  1.1759174 | -0.3104457 |\n",
       "\n"
      ],
      "text/plain": [
       "  id meal time t2 t3 t4 TG   ABCA1      ABCB1       ABCG1      ⋯ GUSB      \n",
       "1 2  3    0    0  0  0  0.98 -0.4407667 -0.02300431  0.5919507 ⋯ -0.4925850\n",
       "2 2  3    1    1  0  0  1.28 -0.4407667 -0.02300431  0.5919507 ⋯ -0.4925850\n",
       "3 2  3    2    0  1  0  1.15 -0.4407667 -0.02300431  0.5919507 ⋯ -0.4925850\n",
       "4 2  3    3    0  0  1  1.10 -0.4407667 -0.02300431  0.5919507 ⋯ -0.4925850\n",
       "5 7  3    0    0  0  0  0.80 -0.8013898  0.36792655 -0.6375770 ⋯ -0.4807776\n",
       "6 7  3    1    1  0  0  1.77 -0.8013898  0.36792655 -0.6375770 ⋯ -0.4807776\n",
       "  HPRT1      OAZ1        POLR1B     POLR2A     PPIA      RPL19      SDHA      \n",
       "1 -0.3325347 -0.72696901  0.6194055  2.8346422 -1.856987 -0.2368612 -2.4791364\n",
       "2 -0.3325347 -0.72696901  0.6194055  2.8346422 -1.856987 -0.2368612 -2.4791364\n",
       "3 -0.3325347 -0.72696901  0.6194055  2.8346422 -1.856987 -0.2368612 -2.4791364\n",
       "4 -0.3325347 -0.72696901  0.6194055  2.8346422 -1.856987 -0.2368612 -2.4791364\n",
       "5  0.2555707 -0.05601955 -0.3416707 -0.9783225  1.086916  0.4526076 -0.4637963\n",
       "6  0.2555707 -0.05601955 -0.3416707 -0.9783225  1.086916  0.4526076 -0.4637963\n",
       "  TBP        TUBB      \n",
       "1 -0.2041358  3.1914714\n",
       "2 -0.2041358  3.1914714\n",
       "3 -0.2041358  3.1914714\n",
       "4 -0.2041358  3.1914714\n",
       "5  1.1759174 -0.3104457\n",
       "6  1.1759174 -0.3104457"
      ]
     },
     "metadata": {},
     "output_type": "display_data"
    }
   ],
   "source": [
    "head(data)"
   ]
  },
  {
   "cell_type": "code",
   "execution_count": 9,
   "metadata": {
    "vscode": {
     "languageId": "r"
    }
   },
   "outputs": [],
   "source": [
    "X <- dummy_columns(data,select_columns = c('meal'))\n",
    "X <- subset(X, select = -c(meal,id,TG,time,meal_1))\n",
    "X <- as.matrix(X)"
   ]
  },
  {
   "cell_type": "code",
   "execution_count": 10,
   "metadata": {
    "vscode": {
     "languageId": "r"
    }
   },
   "outputs": [],
   "source": [
    "Z <- X[,c('t2','t3','t4')]\n",
    "y <- as.vector(data[,'TG'])"
   ]
  },
  {
   "cell_type": "code",
   "execution_count": 404,
   "metadata": {
    "vscode": {
     "languageId": "r"
    }
   },
   "outputs": [],
   "source": [
    "plasso_fit <- pliable(x = X, z = Z, y = y, nlambda=50, alpha = 0.5, zlinear = FALSE)\n",
    "\n",
    "plasso_cv <- cv.pliable(plasso_fit, x=X, z=Z, y=y, verbose=FALSE)\n",
    "\n",
    "plasso_predict <- predict(plasso_fit ,x=X, z=Z, lambda = plasso_cv$lambda.min)"
   ]
  },
  {
   "cell_type": "code",
   "execution_count": 406,
   "metadata": {
    "vscode": {
     "languageId": "r"
    }
   },
   "outputs": [
    {
     "data": {
      "image/png": "[encoded data removed]",
      "text/plain": [
       "plot without title"
      ]
     },
     "metadata": {
      "image/png": {
       "height": 420,
       "width": 420
      }
     },
     "output_type": "display_data"
    }
   ],
   "source": [
    "plot(plasso_cv)"
   ]
  },
  {
   "cell_type": "markdown",
   "metadata": {},
   "source": [
    "The model selects a lot (about 150) of non-zero beta coefficients, all quite small, as well as about 50 interactions with time."
   ]
  },
  {
   "cell_type": "markdown",
   "metadata": {},
   "source": [
    "Trying to add subject id as modifying variables."
   ]
  },
  {
   "cell_type": "code",
   "execution_count": null,
   "metadata": {
    "vscode": {
     "languageId": "r"
    }
   },
   "outputs": [],
   "source": [
    "X <- dummy_columns(data,select_columns = c('meal', 'id'))\n",
    "X <- subset(X, select = -c(meal,id,TG,time,meal_1,id_2))\n",
    "X <- as.matrix(X)\n",
    "\n",
    "Z <- X[,c('t2','t3','t4',grep(\"id\", colnames(X), value=TRUE))]\n",
    "\n",
    "y <- as.vector(data[,'TG'])\n",
    "\n",
    "train_frac = 1\n",
    "nfolds = 5\n",
    "\n",
    "smp_size_train = floor(train_frac * nrow(X))\n",
    "train_ind = sort(sample(seq_len(nrow(X)), size = smp_size_train))\n",
    "test_ind = setdiff(seq_len(nrow(X)), train_ind)\n",
    "\n",
    "train_X_raw <- X[train_ind, ]\n",
    "test_X_raw <- X[test_ind, ]\n",
    "train_Z_raw <- Z[train_ind, ]\n",
    "test_Z_raw <- Z[test_ind, ]\n",
    "\n",
    "\n",
    "preprocess_values_train = preProcess(train_X_raw, method = c(\"center\", \"scale\"))\n",
    "X_train = predict(preprocess_values_train, train_X_raw)\n",
    "X_test = predict(preprocess_values_train, test_X_raw)\n",
    "\n",
    "preprocess_values_train_Z = preProcess(train_Z_raw, method = c(\"center\", \"scale\"))\n",
    "Z_train = predict(preprocess_values_train_Z, train_Z_raw)\n",
    "Z_test = predict(preprocess_values_train_Z, test_Z_raw)\n",
    "\n",
    "# z_mean = mean(train_Z_raw)\n",
    "# z_sd = sd(train_Z_raw)\n",
    "# \n",
    "# Z_train <- (train_Z_raw-z_mean)/z_sd\n",
    "# Z_test <- (test_Z_raw-z_mean)/z_sd\n",
    "\n",
    "y_train <- y[train_ind]\n",
    "y_test <- y[test_ind]\n",
    "\n",
    "y_test <- y_test - mean(y_train)\n",
    "y_train <- y_train - mean(y_train)\n",
    "\n",
    "foldid = sample(rep_len(1:nfolds, dim(X_train)[1]))\n",
    "\n",
    "\n",
    "plasso_fit <- pliable(x = X_train, z = Z_train, y = y_train, nlambda=50, alpha = 0.5, zlinear = FALSE)\n",
    "\n",
    "#plasso_cv <- cv.pliable(plasso_fit, x=X_train, z=Z_train, y=y_train, verbose=FALSE)\n",
    "\n",
    "#plasso_predict <- predict(plasso_fit ,x=X_test, z=Z_test, lambda = plasso_cv$lambda.min)\n",
    "#print(mean((plasso_predict-y_test)^2))"
   ]
  },
  {
   "cell_type": "code",
   "execution_count": 29,
   "metadata": {
    "vscode": {
     "languageId": "r"
    }
   },
   "outputs": [
    {
     "name": "stdout",
     "output_type": "stream",
     "text": [
      "[1] 0.1217041\n"
     ]
    }
   ],
   "source": [
    "lasso_fit <- glmnet(X_train,y_train)\n",
    "lasso_cv <- cv.glmnet(X_train,y_train,foldid=foldid)\n",
    "lasso_predict <- predict(lasso_fit, newx=X_test, lambda = lasso_cv$lambda.min)\n",
    "print(mean((lasso_predict-y_test)^2))"
   ]
  }
 ],
 "metadata": {
  "kernelspec": {
   "display_name": "R",
   "language": "R",
   "name": "ir"
  },
  "language_info": {
   "codemirror_mode": "r",
   "file_extension": ".r",
   "mimetype": "text/x-r-source",
   "name": "R",
   "pygments_lexer": "r",
   "version": "4.2.1"
  },
  "orig_nbformat": 4
 },
 "nbformat": 4,
 "nbformat_minor": 2
}
