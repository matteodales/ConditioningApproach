{
 "cells": [
  {
   "cell_type": "code",
   "execution_count": 2,
   "metadata": {
    "vscode": {
     "languageId": "r"
    }
   },
   "outputs": [],
   "source": [
    "source('utils.r')\n",
    "source('selinf_functions.r')\n",
    "source('metrics.r')\n",
    "source('data_generator.r')\n",
    "source('cov_matrix.r')\n",
    "library('lmmlasso')"
   ]
  },
  {
   "cell_type": "markdown",
   "metadata": {},
   "source": [
    "## Simulating random time\n",
    "In this example we simulate data from a certain number of subjects and assume that time (introduced as a dummy variable) has a random effect. We assume that the fixed effect of timem is an important variable, and we don't include it in the penalization. We also try and estimate the variance-covariance matrix by using only the random components, or also including the fixed effect of time, and see if there are differences in the power results (TPR and average length of CIs)."
   ]
  },
  {
   "cell_type": "code",
   "execution_count": 3,
   "metadata": {
    "vscode": {
     "languageId": "r"
    }
   },
   "outputs": [],
   "source": [
    "set.seed(1)\n",
    "\n",
    "n_subjects= 25\n",
    "n_observations = 4\n",
    "n = n_subjects * n_observations\n",
    "p = 100\n",
    "q <- n_observations-1\n",
    "SNR = 4\n",
    "prop_relevant = 0.1\n",
    "\n",
    "data <- data_generator_random_time(n_subjects, n_observations, p, SNR, prop_relevant, rho=0.5)\n",
    "X <- data$X\n",
    "Z <- data$Z\n",
    "subjects <- data$subjects\n",
    "y <- data$y\n",
    "beta <- data$beta\n",
    "sd <- data$sd"
   ]
  },
  {
   "cell_type": "code",
   "execution_count": 41,
   "metadata": {
    "vscode": {
     "languageId": "r"
    }
   },
   "outputs": [
    {
     "name": "stderr",
     "output_type": "stream",
     "text": [
      "Warning message in cov2cor(Psi):\n",
      "\"diag(.) had 0 or NA entries; non-finite result is doubtful\"\n"
     ]
    },
    {
     "name": "stdout",
     "output_type": "stream",
     "text": [
      "Redundant covariance parameters. \n"
     ]
    },
    {
     "name": "stderr",
     "output_type": "stream",
     "text": [
      "Warning message in cov2cor(Psi):\n",
      "\"diag(.) had 0 or NA entries; non-finite result is doubtful\"\n"
     ]
    },
    {
     "name": "stdout",
     "output_type": "stream",
     "text": [
      "Redundant covariance parameters. \n",
      "|activeSet|>=min(p,ntot): Increase lambda or set stopSat=FALSE. \n",
      "[1] 13.58506\n"
     ]
    },
    {
     "data": {
      "image/png": "[encoded data removed]",
      "text/plain": [
       "plot without title"
      ]
     },
     "metadata": {
      "image/png": {
       "height": 420,
       "width": 420
      }
     },
     "output_type": "display_data"
    }
   ],
   "source": [
    "lambda.max.min.ratio = 0.01\n",
    "n_lambdas = 50\n",
    "lambda_max <- max(abs(t(X) %*% y))\n",
    "plotting = TRUE\n",
    "lambdas <- linspace(lambda_max,lambda_max*lambda.max.min.ratio, n=n_lambdas)\n",
    "BIC_vec<-rep(Inf,length(lambdas))\n",
    "\n",
    "for(j in 1:length(lambdas))\n",
    "{\n",
    "\n",
    "lasso_res <- lmmlasso(cbind(rep(1,n),X),y,cbind(rep(1,n),Z),subjects,lambda=lambdas[j],nonpen = c(1:4))\n",
    "BIC_vec[j]<-lasso_res$bic\n",
    "}\n",
    "\n",
    "if(plotting) plot(lambdas,BIC_vec)\n",
    "\n",
    "opt<-which.min(BIC_vec)\n",
    "\n",
    "print(lambdas[opt])\n",
    "\n",
    "lasso_res <- lmmlasso(cbind(rep(1,n),X),y,cbind(rep(1,n),Z),subjects,lambda=lambdas[opt],nonpen = c(1:4))"
   ]
  }
 ],
 "metadata": {
  "kernelspec": {
   "display_name": "R",
   "language": "R",
   "name": "ir"
  },
  "language_info": {
   "codemirror_mode": "r",
   "file_extension": ".r",
   "mimetype": "text/x-r-source",
   "name": "R",
   "pygments_lexer": "r",
   "version": "4.2.1"
  }
 },
 "nbformat": 4,
 "nbformat_minor": 2
}
