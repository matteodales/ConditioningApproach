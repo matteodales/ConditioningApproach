{
 "cells": [
  {
   "cell_type": "code",
   "execution_count": 1,
   "metadata": {
    "vscode": {
     "languageId": "r"
    }
   },
   "outputs": [
    {
     "name": "stderr",
     "output_type": "stream",
     "text": [
      "── \u001b[1mAttaching core tidyverse packages\u001b[22m ──────────────────────── tidyverse 2.0.0 ──\n",
      "\u001b[32m✔\u001b[39m \u001b[34mdplyr    \u001b[39m 1.1.3     \u001b[32m✔\u001b[39m \u001b[34mreadr    \u001b[39m 2.1.4\n",
      "\u001b[32m✔\u001b[39m \u001b[34mforcats  \u001b[39m 1.0.0     \u001b[32m✔\u001b[39m \u001b[34mstringr  \u001b[39m 1.5.0\n",
      "\u001b[32m✔\u001b[39m \u001b[34mggplot2  \u001b[39m 3.4.4     \u001b[32m✔\u001b[39m \u001b[34mtibble   \u001b[39m 3.2.1\n",
      "\u001b[32m✔\u001b[39m \u001b[34mlubridate\u001b[39m 1.9.3     \u001b[32m✔\u001b[39m \u001b[34mtidyr    \u001b[39m 1.3.0\n",
      "\u001b[32m✔\u001b[39m \u001b[34mpurrr    \u001b[39m 1.0.2     \n",
      "── \u001b[1mConflicts\u001b[22m ────────────────────────────────────────── tidyverse_conflicts() ──\n",
      "\u001b[31m✖\u001b[39m \u001b[34mdplyr\u001b[39m::\u001b[32mfilter()\u001b[39m masks \u001b[34mstats\u001b[39m::filter()\n",
      "\u001b[31m✖\u001b[39m \u001b[34mdplyr\u001b[39m::\u001b[32mlag()\u001b[39m    masks \u001b[34mstats\u001b[39m::lag()\n",
      "\u001b[36mℹ\u001b[39m Use the conflicted package (\u001b[3m\u001b[34m<http://conflicted.r-lib.org/>\u001b[39m\u001b[23m) to force all conflicts to become errors\n",
      "Loading required package: Matrix\n",
      "\n",
      "\n",
      "Attaching package: 'Matrix'\n",
      "\n",
      "\n",
      "The following objects are masked from 'package:tidyr':\n",
      "\n",
      "    expand, pack, unpack\n",
      "\n",
      "\n",
      "Loading required package: lme4\n",
      "\n",
      "Loading required package: mgcv\n",
      "\n",
      "Loading required package: nlme\n",
      "\n",
      "\n",
      "Attaching package: 'nlme'\n",
      "\n",
      "\n",
      "The following object is masked from 'package:lme4':\n",
      "\n",
      "    lmList\n",
      "\n",
      "\n",
      "The following object is masked from 'package:dplyr':\n",
      "\n",
      "    collapse\n",
      "\n",
      "\n",
      "This is mgcv 1.8-42. For overview type 'help(\"mgcv-package\")'.\n",
      "\n",
      "This is gamm4 0.2-6\n",
      "\n",
      "\n",
      "\n",
      "Attaching package: 'lmerTest'\n",
      "\n",
      "\n",
      "The following object is masked from 'package:lme4':\n",
      "\n",
      "    lmer\n",
      "\n",
      "\n",
      "The following object is masked from 'package:stats':\n",
      "\n",
      "    step\n",
      "\n",
      "\n",
      "\n",
      "Attaching package: 'pracma'\n",
      "\n",
      "\n",
      "The following object is masked from 'package:lmerTest':\n",
      "\n",
      "    rand\n",
      "\n",
      "\n",
      "The following object is masked from 'package:mgcv':\n",
      "\n",
      "    magic\n",
      "\n",
      "\n",
      "The following objects are masked from 'package:Matrix':\n",
      "\n",
      "    expm, lu, tril, triu\n",
      "\n",
      "\n",
      "The following object is masked from 'package:purrr':\n",
      "\n",
      "    cross\n",
      "\n",
      "\n",
      "Loaded glmnet 4.1-8\n",
      "\n",
      "\n",
      "Attaching package: 'MASS'\n",
      "\n",
      "\n",
      "The following object is masked from 'package:dplyr':\n",
      "\n",
      "    select\n",
      "\n",
      "\n",
      "Loading required package: emulator\n",
      "\n",
      "Loading required package: mvtnorm\n",
      "\n",
      "Loading required package: miscTools\n",
      "\n",
      "Loading required package: penalized\n",
      "\n",
      "Loading required package: survival\n",
      "\n",
      "Welcome to penalized. For extended examples, see vignette(\"penalized\").\n",
      "\n"
     ]
    },
    {
     "name": "stdout",
     "output_type": "stream",
     "text": [
      "----------------------------------------------------------------------\n",
      "This is a test release of the package 'lmmlasso'. If you have any questions or problems, do not hesitate to contact the author.\n",
      "----------------------------------------------------------------------\n"
     ]
    }
   ],
   "source": [
    "source('utils.r')\n",
    "source('selinf_functions.r')\n",
    "source('metrics.r')\n",
    "source('data_generator.r')\n",
    "source('cov_matrix.r')\n",
    "library('lmmlasso')"
   ]
  },
  {
   "cell_type": "markdown",
   "metadata": {},
   "source": [
    "## Simulating random time\n",
    "In this example we simulate data from a certain number of subjects and assume that time (introduced as a dummy variable) has a random effect. We assume that the fixed effect of timem is an important variable, and we don't include it in the penalization. We also try and estimate the variance-covariance matrix by using only the random components, or also including the fixed effect of time, and see if there are differences in the power results (TPR and average length of CIs)."
   ]
  },
  {
   "cell_type": "code",
   "execution_count": 2,
   "metadata": {
    "vscode": {
     "languageId": "r"
    }
   },
   "outputs": [],
   "source": [
    "set.seed(1)\n",
    "\n",
    "n_subjects= 25\n",
    "n_observations = 4\n",
    "n = n_subjects * n_observations\n",
    "p = 100\n",
    "q <- n_observations-1\n",
    "SNR = 4\n",
    "prop_relevant = 0.1\n",
    "\n",
    "data <- data_generator_random_time(n_subjects, n_observations, p, SNR, prop_relevant, rho=0.5)\n",
    "X <- data$X\n",
    "Z <- data$Z\n",
    "subjects <- data$subjects\n",
    "y <- data$y\n",
    "beta <- data$beta\n",
    "sd <- data$sd"
   ]
  },
  {
   "cell_type": "markdown",
   "metadata": {},
   "source": [
    "## Old variance estimate"
   ]
  },
  {
   "cell_type": "code",
   "execution_count": 3,
   "metadata": {
    "vscode": {
     "languageId": "r"
    }
   },
   "outputs": [
    {
     "name": "stdout",
     "output_type": "stream",
     "text": [
      "$tpr\n",
      "[1] 1\n",
      "\n",
      "$fdr\n",
      "[1] 0.5333333\n",
      "\n"
     ]
    }
   ],
   "source": [
    "## Fixed lambda\n",
    "\n",
    "lambda = 13\n",
    "\n",
    "selFun <- function(y) selFun_fixed_lambda_randtime(X, Z, subjects, y, lambda)\n",
    "\n",
    "sel <- selFun(y)\n",
    "sel_vec <- sel$vec\n",
    "sel_names <- sel$names\n",
    "print(metrics(sel_vec,c(TRUE,beta!=0)))"
   ]
  },
  {
   "cell_type": "code",
   "execution_count": 4,
   "metadata": {
    "vscode": {
     "languageId": "r"
    }
   },
   "outputs": [
    {
     "name": "stderr",
     "output_type": "stream",
     "text": [
      "Warning message in checkConv(attr(opt, \"derivs\"), opt$par, ctrl = control$checkConv, :\n",
      "\"unable to evaluate scaled gradient\"\n",
      "Warning message in checkConv(attr(opt, \"derivs\"), opt$par, ctrl = control$checkConv, :\n",
      "\"Model failed to converge: degenerate  Hessian with 1 negative eigenvalues\"\n",
      "Warning message:\n",
      "\"Model failed to converge with 1 negative eigenvalue: -6.5e-04\"\n"
     ]
    }
   ],
   "source": [
    "## Adding Selective Inference\n",
    "# Now we can define the function checking the congruency\n",
    "# with the original selection\n",
    "checkFun <- function(yb){\n",
    "\n",
    "  all(selFun(yb)$vec == sel_vec)\n",
    "\n",
    "}\n",
    "\n",
    "sel_form = as.formula(\n",
    "  paste(\"y ~ \",paste(sel_names[2:length(sel_names)], collapse='+'), \"+ (t1 + t2 +t3|subjects)\")\n",
    ")\n",
    "\n",
    "control <- lmerControl(\n",
    "    check.nobs.vs.rankZ = \"ignore\",\n",
    "    check.nobs.vs.nlev = \"ignore\",\n",
    "    check.nlev.gtreq.5 = \"ignore\",\n",
    "    check.nlev.gtr.1 = \"ignore\",\n",
    "    check.nobs.vs.nRE= \"ignore\",\n",
    ")\n",
    "\n",
    "\n",
    "final_model = lmer(formula = sel_form, control= control ,data=data.frame(X, subjects, y))"
   ]
  },
  {
   "cell_type": "code",
   "execution_count": 5,
   "metadata": {
    "vscode": {
     "languageId": "r"
    }
   },
   "outputs": [
    {
     "data": {
      "text/plain": [
       "Linear mixed model fit by REML ['lmerModLmerTest']\n",
       "Formula: sel_form\n",
       "   Data: data.frame(X, subjects, y)\n",
       "REML criterion at convergence: 322.8462\n",
       "Random effects:\n",
       " Groups   Name        Std.Dev. Corr             \n",
       " subjects (Intercept) 0.9939                    \n",
       "          t1          1.1804   -0.24            \n",
       "          t2          0.7723    0.01 -0.34      \n",
       "          t3          0.4639   -0.04 -0.64 -0.45\n",
       " Residual             0.3639                    \n",
       "Number of obs: 100, groups:  subjects, 25\n",
       "Fixed Effects:\n",
       "(Intercept)           t1           t2           t3           X1           X2  \n",
       "    0.30987     -0.65235     -1.13769     -0.26843     -0.91508     -0.74776  \n",
       "         X3           X4           X5           X6           X7           X8  \n",
       "    0.76937     -1.11749     -0.65624     -0.74253     -0.95389     -0.74552  \n",
       "         X9          X10          X15          X18          X22          X28  \n",
       "   -0.79461     -0.88041     -0.09179      0.12788     -0.21561      0.05211  \n",
       "        X40          X42          X49          X57          X62          X72  \n",
       "    0.12362      0.01265     -0.02535     -0.12615     -0.11447     -0.12425  \n",
       "        X81          X87          X88          X90          X98         X100  \n",
       "    0.26733     -0.21259      0.14220     -0.11504     -0.27746      0.17604  \n",
       "optimizer (nloptwrap) convergence code: 0 (OK) ; 0 optimizer warnings; 2 lme4 warnings "
      ]
     },
     "metadata": {},
     "output_type": "display_data"
    }
   ],
   "source": [
    "final_model"
   ]
  },
  {
   "cell_type": "code",
   "execution_count": 10,
   "metadata": {
    "vscode": {
     "languageId": "r"
    }
   },
   "outputs": [
    {
     "data": {
      "text/html": [
       "<strong>$`1`</strong> = <table class=\"dataframe\">\n",
       "<caption>A matrix: 4 × 4 of type dbl</caption>\n",
       "<tbody>\n",
       "\t<tr><td> 7.46152259</td><td>-2.126359</td><td> 0.07071013</td><td>-0.1393707</td></tr>\n",
       "\t<tr><td>-2.12635904</td><td>10.524733</td><td>-2.35437938</td><td>-2.6366907</td></tr>\n",
       "\t<tr><td> 0.07071013</td><td>-2.354379</td><td> 4.50526983</td><td>-1.2095839</td></tr>\n",
       "\t<tr><td>-0.13937067</td><td>-2.636691</td><td>-1.20958394</td><td> 1.6258551</td></tr>\n",
       "</tbody>\n",
       "</table>\n"
      ],
      "text/latex": [
       "\\textbf{\\$`1`} = A matrix: 4 × 4 of type dbl\n",
       "\\begin{tabular}{llll}\n",
       "\t  7.46152259 & -2.126359 &  0.07071013 & -0.1393707\\\\\n",
       "\t -2.12635904 & 10.524733 & -2.35437938 & -2.6366907\\\\\n",
       "\t  0.07071013 & -2.354379 &  4.50526983 & -1.2095839\\\\\n",
       "\t -0.13937067 & -2.636691 & -1.20958394 &  1.6258551\\\\\n",
       "\\end{tabular}\n"
      ],
      "text/markdown": [
       "**$`1`** = \n",
       "A matrix: 4 × 4 of type dbl\n",
       "\n",
       "|  7.46152259 | -2.126359 |  0.07071013 | -0.1393707 |\n",
       "| -2.12635904 | 10.524733 | -2.35437938 | -2.6366907 |\n",
       "|  0.07071013 | -2.354379 |  4.50526983 | -1.2095839 |\n",
       "| -0.13937067 | -2.636691 | -1.20958394 |  1.6258551 |\n",
       "\n"
      ],
      "text/plain": [
       "$`1`\n",
       "            [,1]      [,2]        [,3]       [,4]\n",
       "[1,]  7.46152259 -2.126359  0.07071013 -0.1393707\n",
       "[2,] -2.12635904 10.524733 -2.35437938 -2.6366907\n",
       "[3,]  0.07071013 -2.354379  4.50526983 -1.2095839\n",
       "[4,] -0.13937067 -2.636691 -1.20958394  1.6258551\n"
      ]
     },
     "metadata": {},
     "output_type": "display_data"
    }
   ],
   "source": [
    "vec2mlist(Cv_to_Vv(getME(final_model,'theta')))"
   ]
  },
  {
   "cell_type": "code",
   "execution_count": 6,
   "metadata": {
    "vscode": {
     "languageId": "r"
    }
   },
   "outputs": [
    {
     "name": "stderr",
     "output_type": "stream",
     "text": [
      "Warning message in checkConv(attr(opt, \"derivs\"), opt$par, ctrl = control$checkConv, :\n",
      "\"Model is nearly unidentifiable: large eigenvalue ratio\n",
      " - Rescale variables?\"\n"
     ]
    },
    {
     "name": "stdout",
     "output_type": "stream",
     "text": [
      "Computing inference for variable (location)  1 \n",
      "\n",
      "  |======================================================================| 100%\n",
      "\n",
      "\n",
      "Computing inference for variable (location)  2 \n",
      "\n",
      "  |======================================================================| 100%\n",
      "\n",
      "\n",
      "Computing inference for variable (location)  3 \n",
      "\n",
      "  |======================================================================| 100%\n",
      "\n",
      "\n",
      "Computing inference for variable (location)  4 \n",
      "\n",
      "  |======================================================================| 100%\n",
      "\n",
      "\n",
      "Computing inference for variable (location)  5 \n",
      "\n",
      "  |======================================================================| 100%\n",
      "\n",
      "\n",
      "Computing inference for variable (location)  6 \n",
      "\n",
      "  |======================================================================| 100%\n",
      "\n",
      "\n",
      "Computing inference for variable (location)  7 \n",
      "\n",
      "  |======================================================================| 100%\n",
      "\n",
      "\n",
      "Computing inference for variable (location)  8 \n",
      "\n",
      "  |======================================================================| 100%\n"
     ]
    },
    {
     "name": "stderr",
     "output_type": "stream",
     "text": [
      "Warning message in selinf(survr = survr, tstat = tstat, w = w, var_est = var_est, :\n",
      "\"Lower interval limit is not the 2.5%-quantile, but the (0.00833)%-quantile.\"\n"
     ]
    },
    {
     "name": "stdout",
     "output_type": "stream",
     "text": [
      "\n",
      "\n",
      "Computing inference for variable (location)  9 \n",
      "\n",
      "  |======================================================================| 100%\n",
      "\n",
      "\n",
      "Computing inference for variable (location)  10 \n",
      "\n",
      "  |======================================================================| 100%\n",
      "\n",
      "\n",
      "Computing inference for variable (location)  11 \n",
      "\n",
      "  |======================================================================| 100%\n",
      "\n",
      "\n",
      "Computing inference for variable (location)  12 \n",
      "\n",
      "  |======================================================================| 100%\n",
      "\n",
      "\n",
      "Computing inference for variable (location)  13 \n",
      "\n",
      "  |======================================================================| 100%\n",
      "\n",
      "\n",
      "Computing inference for variable (location)  14 \n",
      "\n",
      "  |======================================================================| 100%\n",
      "\n",
      "\n",
      "Computing inference for variable (location)  15 \n",
      "\n",
      "  |======================================================================| 100%\n",
      "\n",
      "\n",
      "Computing inference for variable (location)  16 \n",
      "\n",
      "  |======================================================================| 100%\n",
      "\n",
      "\n",
      "Computing inference for variable (location)  17 \n",
      "\n",
      "  |======================================================================| 100%\n",
      "\n",
      "\n",
      "Computing inference for variable (location)  18 \n",
      "\n",
      "  |======================================================================| 100%\n",
      "\n",
      "\n",
      "Computing inference for variable (location)  19 \n",
      "\n",
      "  |======================================================================| 100%\n",
      "\n",
      "\n",
      "Computing inference for variable (location)  20 \n",
      "\n",
      "  |======================================================================| 100%\n",
      "\n",
      "\n",
      "Computing inference for variable (location)  21 \n",
      "\n",
      "  |======================================================================| 100%\n",
      "\n",
      "\n",
      "Computing inference for variable (location)  22 \n",
      "\n",
      "  |======================================================================| 100%\n",
      "\n",
      "\n",
      "Computing inference for variable (location)  23 \n",
      "\n",
      "  |======================================================================| 100%\n",
      "\n",
      "\n",
      "Computing inference for variable (location)  24 \n",
      "\n",
      "  |======================================================================| 100%\n",
      "  |======================================================================| 100%\n",
      "\n",
      "\n",
      "Computing inference for variable (location)  25 \n",
      "\n",
      "  |======================================================================| 100%\n",
      "\n",
      "\n",
      "Computing inference for variable (location)  26 \n",
      "\n",
      "  |======================================================================| 100%\n",
      "\n",
      "\n",
      "Computing inference for variable (location)  27 \n",
      "\n",
      "  |======================================================================| 100%\n",
      "\n",
      "\n",
      "Computing inference for variable (location)  28 \n",
      "\n",
      "  |======================================================================| 100%\n",
      "\n",
      "\n",
      "Computing inference for variable (location)  29 \n",
      "\n",
      "  |======================================================================| 100%\n",
      "\n",
      "\n",
      "Computing inference for variable (location)  30 \n",
      "\n",
      "  |======================================================================| 100%\n",
      "\n",
      "\n"
     ]
    },
    {
     "data": {
      "text/html": [
       "<dl>\n",
       "\t<dt>$tpr</dt>\n",
       "\t\t<dd>0.571428571428571</dd>\n",
       "\t<dt>$fdr</dt>\n",
       "\t\t<dd>0.428571428571429</dd>\n",
       "</dl>\n"
      ],
      "text/latex": [
       "\\begin{description}\n",
       "\\item[\\$tpr] 0.571428571428571\n",
       "\\item[\\$fdr] 0.428571428571429\n",
       "\\end{description}\n"
      ],
      "text/markdown": [
       "$tpr\n",
       ":   0.571428571428571\n",
       "$fdr\n",
       ":   0.428571428571429\n",
       "\n",
       "\n"
      ],
      "text/plain": [
       "$tpr\n",
       "[1] 0.5714286\n",
       "\n",
       "$fdr\n",
       "[1] 0.4285714\n"
      ]
     },
     "metadata": {},
     "output_type": "display_data"
    }
   ],
   "source": [
    "res <- mocasin(final_model, this_y = y, conditional = FALSE, varForSampling = 'minMod',\n",
    "               checkFun = checkFun, nrSamples = 50)\n",
    "# create a boolean vector for the ones selected controlling fdr level with BH procedure\n",
    "\n",
    "sel_with_selinf <- selection_with_selinf(res, sel_vec, fdr_level = 0.1)\n",
    "metrics(sel_with_selinf,c(1,beta!=0))"
   ]
  },
  {
   "cell_type": "code",
   "execution_count": 7,
   "metadata": {
    "vscode": {
     "languageId": "r"
    }
   },
   "outputs": [
    {
     "data": {
      "text/html": [
       "2.91259011405906"
      ],
      "text/latex": [
       "2.91259011405906"
      ],
      "text/markdown": [
       "2.91259011405906"
      ],
      "text/plain": [
       "[1] 2.91259"
      ]
     },
     "metadata": {},
     "output_type": "display_data"
    }
   ],
   "source": [
    "ci_length(res)"
   ]
  },
  {
   "cell_type": "markdown",
   "metadata": {},
   "source": [
    "## New variance estimate"
   ]
  },
  {
   "cell_type": "code",
   "execution_count": 15,
   "metadata": {
    "vscode": {
     "languageId": "r"
    }
   },
   "outputs": [],
   "source": [
    "source('minMod_modif.r')"
   ]
  },
  {
   "cell_type": "code",
   "execution_count": 11,
   "metadata": {
    "vscode": {
     "languageId": "r"
    }
   },
   "outputs": [
    {
     "name": "stdout",
     "output_type": "stream",
     "text": [
      "$tpr\n",
      "[1] 1\n",
      "\n",
      "$fdr\n",
      "[1] 0.5333333\n",
      "\n"
     ]
    }
   ],
   "source": [
    "## Fixed lambda\n",
    "\n",
    "lambda = 13\n",
    "\n",
    "selFun <- function(y) selFun_fixed_lambda_randtime(X, Z, subjects, y, lambda)\n",
    "\n",
    "sel <- selFun(y)\n",
    "sel_vec <- sel$vec\n",
    "sel_names <- sel$names\n",
    "print(metrics(sel_vec,c(TRUE,beta!=0)))"
   ]
  },
  {
   "cell_type": "code",
   "execution_count": 12,
   "metadata": {
    "vscode": {
     "languageId": "r"
    }
   },
   "outputs": [
    {
     "name": "stderr",
     "output_type": "stream",
     "text": [
      "Warning message in checkConv(attr(opt, \"derivs\"), opt$par, ctrl = control$checkConv, :\n",
      "\"unable to evaluate scaled gradient\"\n",
      "Warning message in checkConv(attr(opt, \"derivs\"), opt$par, ctrl = control$checkConv, :\n",
      "\"Model failed to converge: degenerate  Hessian with 1 negative eigenvalues\"\n",
      "Warning message:\n",
      "\"Model failed to converge with 1 negative eigenvalue: -6.5e-04\"\n"
     ]
    }
   ],
   "source": [
    "## Adding Selective Inference\n",
    "# Now we can define the function checking the congruency\n",
    "# with the original selection\n",
    "checkFun <- function(yb){\n",
    "\n",
    "  all(selFun(yb)$vec == sel_vec)\n",
    "\n",
    "}\n",
    "\n",
    "sel_form = as.formula(\n",
    "  paste(\"y ~ \",paste(sel_names[2:length(sel_names)], collapse='+'), \"+ (t1 + t2 +t3|subjects)\")\n",
    ")\n",
    "\n",
    "control <- lmerControl(\n",
    "    check.nobs.vs.rankZ = \"ignore\",\n",
    "    check.nobs.vs.nlev = \"ignore\",\n",
    "    check.nlev.gtreq.5 = \"ignore\",\n",
    "    check.nlev.gtr.1 = \"ignore\",\n",
    "    check.nobs.vs.nRE= \"ignore\",\n",
    ")\n",
    "\n",
    "\n",
    "final_model = lmer(formula = sel_form, control= control ,data=data.frame(X, subjects, y))"
   ]
  },
  {
   "cell_type": "code",
   "execution_count": 16,
   "metadata": {
    "vscode": {
     "languageId": "r"
    }
   },
   "outputs": [
    {
     "name": "stdout",
     "output_type": "stream",
     "text": [
      "Computing inference for variable (location)  1 \n",
      "\n",
      "  |                                                                      |   0%"
     ]
    },
    {
     "name": "stdout",
     "output_type": "stream",
     "text": [
      "  |========================                                              |  34%"
     ]
    },
    {
     "ename": "",
     "evalue": "",
     "output_type": "error",
     "traceback": [
      "\u001b[1;31mThe Kernel crashed while executing code in the the current cell or a previous cell. Please review the code in the cell(s) to identify a possible cause of the failure. Click <a href='https://aka.ms/vscodeJupyterKernelCrash'>here</a> for more info. View Jupyter <a href='command:jupyter.viewOutput'>log</a> for further details."
     ]
    }
   ],
   "source": [
    "res <- mocasin(final_model, this_y = y, conditional = FALSE,\n",
    "               checkFun = checkFun, nrSamples = 50)\n",
    "# create a boolean vector for the ones selected controlling fdr level with BH procedure\n",
    "\n",
    "sel_with_selinf <- selection_with_selinf(res, sel_vec, fdr_level = 0.1)\n",
    "metrics(sel_with_selinf,c(1,beta!=0))"
   ]
  },
  {
   "cell_type": "code",
   "execution_count": 14,
   "metadata": {
    "vscode": {
     "languageId": "r"
    }
   },
   "outputs": [
    {
     "data": {
      "text/html": [
       "2.91259011405906"
      ],
      "text/latex": [
       "2.91259011405906"
      ],
      "text/markdown": [
       "2.91259011405906"
      ],
      "text/plain": [
       "[1] 2.91259"
      ]
     },
     "metadata": {},
     "output_type": "display_data"
    }
   ],
   "source": [
    "ci_length(res)"
   ]
  }
 ],
 "metadata": {
  "kernelspec": {
   "display_name": "R",
   "language": "R",
   "name": "ir"
  },
  "language_info": {
   "codemirror_mode": "r",
   "file_extension": ".r",
   "mimetype": "text/x-r-source",
   "name": "R",
   "pygments_lexer": "r",
   "version": "4.3.1"
  }
 },
 "nbformat": 4,
 "nbformat_minor": 2
}
