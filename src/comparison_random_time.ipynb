{
 "cells": [
  {
   "cell_type": "code",
   "execution_count": 85,
   "metadata": {
    "vscode": {
     "languageId": "r"
    }
   },
   "outputs": [],
   "source": [
    "source('utils.r')\n",
    "source('selinf_functions.r')\n",
    "source('metrics.r')\n",
    "source('data_generator.r')\n",
    "source('cov_matrix.r')\n",
    "source('minMod_modif.r')"
   ]
  },
  {
   "cell_type": "markdown",
   "metadata": {},
   "source": [
    "## Simulating random time\n",
    "In this example we simulate data from a certain number of subjects and assume that time (introduced as a dummy variable) has a random effect. The rest of the computation is the same as before."
   ]
  },
  {
   "cell_type": "code",
   "execution_count": 86,
   "metadata": {
    "vscode": {
     "languageId": "r"
    }
   },
   "outputs": [],
   "source": [
    "set.seed(10)\n",
    "\n",
    "n_subjects= 25\n",
    "n_observations = 4\n",
    "n = n_subjects * n_observations\n",
    "p = 100\n",
    "q <- n_observations-1\n",
    "SNR = 4\n",
    "prop_relevant = 0.1\n",
    "\n",
    "data <- data_generator_random_time(n_subjects, n_observations, p, SNR, prop_relevant, rho=0.5)\n",
    "X <- data$X\n",
    "Z <- data$Z\n",
    "subjects <- data$subjects\n",
    "y <- data$y\n",
    "beta <- data$beta\n",
    "sd <- data$sd"
   ]
  },
  {
   "cell_type": "code",
   "execution_count": 88,
   "metadata": {
    "vscode": {
     "languageId": "r"
    }
   },
   "outputs": [
    {
     "name": "stderr",
     "output_type": "stream",
     "text": [
      "Warning message in cov2cor(Psi):\n",
      "\"diag(.) had 0 or NA entries; non-finite result is doubtful\"\n"
     ]
    },
    {
     "name": "stdout",
     "output_type": "stream",
     "text": [
      "Redundant covariance parameters. \n",
      "|activeSet|>=min(p,ntot): Increase lambda or set stopSat=FALSE. \n"
     ]
    },
    {
     "name": "stderr",
     "output_type": "stream",
     "text": [
      "Warning message in cov2cor(Psi):\n",
      "\"diag(.) had 0 or NA entries; non-finite result is doubtful\"\n"
     ]
    },
    {
     "name": "stdout",
     "output_type": "stream",
     "text": [
      "Redundant covariance parameters. \n",
      "|activeSet|>=min(p,ntot): Increase lambda or set stopSat=FALSE. \n",
      "[1] 10.4128\n"
     ]
    },
    {
     "data": {
      "image/png": "[encoded data removed]",
      "text/plain": [
       "plot without title"
      ]
     },
     "metadata": {
      "image/png": {
       "height": 420,
       "width": 420
      }
     },
     "output_type": "display_data"
    }
   ],
   "source": [
    "lambda.max.min.ratio = 0.01\n",
    "n_lambdas = 50\n",
    "lambda_max <- max(abs(t(X) %*% y))\n",
    "plotting = TRUE\n",
    "lambdas <- linspace(lambda_max,lambda_max*lambda.max.min.ratio, n=n_lambdas)\n",
    "BIC_vec<-rep(Inf,length(lambdas))\n",
    "\n",
    "for(j in 1:length(lambdas))\n",
    "{\n",
    "\n",
    "lasso_res <- lmmlasso(cbind(rep(1,n),X),y,cbind(rep(1,n),Z),subjects,lambda=lambdas[j],nonpen = c(1:4))\n",
    "BIC_vec[j]<-lasso_res$bic\n",
    "}\n",
    "\n",
    "if(plotting) plot(lambdas,BIC_vec)\n",
    "\n",
    "opt<-which.min(BIC_vec)\n",
    "\n",
    "print(lambdas[opt])\n",
    "\n",
    "lasso_res <- lmmlasso(cbind(rep(1,n),X),y,cbind(rep(1,n),Z),subjects,lambda=lambdas[opt],nonpen = c(1:4))"
   ]
  },
  {
   "cell_type": "code",
   "execution_count": 105,
   "metadata": {
    "vscode": {
     "languageId": "r"
    }
   },
   "outputs": [
    {
     "name": "stdout",
     "output_type": "stream",
     "text": [
      "$tpr\n",
      "[1] 1\n",
      "\n",
      "$fdr\n",
      "[1] 0.6888889\n",
      "\n"
     ]
    }
   ],
   "source": [
    "## Fixed lambda\n",
    "\n",
    "lambda = 10\n",
    "\n",
    "selFun <- function(y) selFun_fixed_lambda_randtime(X, Z, subjects, y, lambda)\n",
    "\n",
    "sel <- selFun(y)\n",
    "sel_vec <- sel$vec\n",
    "sel_names <- sel$names\n",
    "print(metrics(sel_vec,c(TRUE,beta!=0)))"
   ]
  },
  {
   "cell_type": "code",
   "execution_count": 100,
   "metadata": {
    "vscode": {
     "languageId": "r"
    }
   },
   "outputs": [
    {
     "name": "stderr",
     "output_type": "stream",
     "text": [
      "Warning message in checkConv(attr(opt, \"derivs\"), opt$par, ctrl = control$checkConv, :\n",
      "\"unable to evaluate scaled gradient\"\n",
      "Warning message in checkConv(attr(opt, \"derivs\"), opt$par, ctrl = control$checkConv, :\n",
      "\"Model failed to converge: degenerate  Hessian with 1 negative eigenvalues\"\n",
      "Warning message:\n",
      "\"Model failed to converge with 1 negative eigenvalue: -4.8e-04\"\n"
     ]
    }
   ],
   "source": [
    "## Adding Selective Inference\n",
    "# Now we can define the function checking the congruency\n",
    "# with the original selection\n",
    "checkFun <- function(yb){\n",
    "\n",
    "  all(selFun(yb)$vec == sel_vec)\n",
    "\n",
    "}\n",
    "\n",
    "sel_form = as.formula(\n",
    "  paste(\"y ~ \",paste(sel_names[2:length(sel_names)], collapse='+'), \"+ (t1 + t2 +t3|subjects)\")\n",
    ")\n",
    "\n",
    "control <- lmerControl(\n",
    "    check.nobs.vs.rankZ = \"ignore\",\n",
    "    check.nobs.vs.nlev = \"ignore\",\n",
    "    check.nlev.gtreq.5 = \"ignore\",\n",
    "    check.nlev.gtr.1 = \"ignore\",\n",
    "    check.nobs.vs.nRE= \"ignore\",\n",
    ")\n",
    "\n",
    "\n",
    "final_model = lmer(formula = sel_form, control= control ,data=data.frame(X, subjects, y))"
   ]
  },
  {
   "cell_type": "code",
   "execution_count": 94,
   "metadata": {
    "vscode": {
     "languageId": "r"
    }
   },
   "outputs": [
    {
     "name": "stdout",
     "output_type": "stream",
     "text": [
      "Computing inference for variable (location)  1 \n",
      "\n",
      "  |                                                                      |   0%"
     ]
    },
    {
     "name": "stdout",
     "output_type": "stream",
     "text": [
      "  |======================================================================| 100%\n",
      "\n",
      "\n",
      "Computing inference for variable (location)  2 \n",
      "\n",
      "  |======================================================================| 100%\n",
      "\n",
      "\n",
      "Computing inference for variable (location)  3 \n",
      "\n",
      "  |======================================================================| 100%\n",
      "\n",
      "\n",
      "Computing inference for variable (location)  4 \n",
      "\n",
      "  |======================================================================| 100%\n",
      "\n",
      "\n",
      "Computing inference for variable (location)  5 \n",
      "\n",
      "  |======================================================================| 100%\n",
      "\n",
      "\n",
      "Computing inference for variable (location)  6 \n",
      "\n",
      "  |======================================================================| 100%\n",
      "\n",
      "\n",
      "Computing inference for variable (location)  7 \n",
      "\n",
      "  |======================================================================| 100%\n",
      "\n",
      "\n",
      "Computing inference for variable (location)  8 \n",
      "\n",
      "  |======================================================================| 100%\n",
      "\n",
      "\n",
      "Computing inference for variable (location)  9 \n",
      "\n",
      "  |======================================================================| 100%\n",
      "\n",
      "\n",
      "Computing inference for variable (location)  10 \n",
      "\n",
      "  |======================================================================| 100%\n",
      "\n",
      "\n",
      "Computing inference for variable (location)  11 \n",
      "\n",
      "  |======================================================================| 100%\n",
      "\n",
      "\n",
      "Computing inference for variable (location)  12 \n",
      "\n",
      "  |======================================================================| 100%\n",
      "\n",
      "\n",
      "Computing inference for variable (location)  13 \n",
      "\n",
      "  |======================================================================| 100%\n",
      "\n",
      "\n",
      "Computing inference for variable (location)  14 \n",
      "\n",
      "  |======================================================================| 100%\n",
      "\n",
      "\n",
      "Computing inference for variable (location)  15 \n",
      "\n",
      "  |======================================================================| 100%\n",
      "\n",
      "\n",
      "Computing inference for variable (location)  16 \n",
      "\n",
      "  |======================================================================| 100%\n",
      "\n",
      "\n",
      "Computing inference for variable (location)  17 \n",
      "\n",
      "  |======================================================================| 100%\n",
      "\n",
      "\n",
      "Computing inference for variable (location)  18 \n",
      "\n",
      "  |======================================================================| 100%\n",
      "\n",
      "\n",
      "Computing inference for variable (location)  19 \n",
      "\n",
      "  |======================================================================| 100%\n",
      "\n",
      "\n"
     ]
    }
   ],
   "source": [
    "suppressWarnings(res <- mocasin(final_model, this_y = y, conditional = FALSE,\n",
    "               checkFun = checkFun, nrSamples = 50))"
   ]
  },
  {
   "cell_type": "code",
   "execution_count": 95,
   "metadata": {
    "vscode": {
     "languageId": "r"
    }
   },
   "outputs": [
    {
     "data": {
      "text/html": [
       "<dl>\n",
       "\t<dt>$tpr</dt>\n",
       "\t\t<dd>0.928571428571429</dd>\n",
       "\t<dt>$fdr</dt>\n",
       "\t\t<dd>0.133333333333333</dd>\n",
       "</dl>\n"
      ],
      "text/latex": [
       "\\begin{description}\n",
       "\\item[\\$tpr] 0.928571428571429\n",
       "\\item[\\$fdr] 0.133333333333333\n",
       "\\end{description}\n"
      ],
      "text/markdown": [
       "$tpr\n",
       ":   0.928571428571429\n",
       "$fdr\n",
       ":   0.133333333333333\n",
       "\n",
       "\n"
      ],
      "text/plain": [
       "$tpr\n",
       "[1] 0.9285714\n",
       "\n",
       "$fdr\n",
       "[1] 0.1333333\n"
      ]
     },
     "metadata": {},
     "output_type": "display_data"
    }
   ],
   "source": [
    "# create a boolean vector for the ones selected controlling fdr level with BH procedure\n",
    "\n",
    "sel_with_selinf <- selection_with_selinf(res, sel_vec, fdr_level = 0.1)\n",
    "metrics(sel_with_selinf,c(1,beta!=0))"
   ]
  }
 ],
 "metadata": {
  "kernelspec": {
   "display_name": "R",
   "language": "R",
   "name": "ir"
  },
  "language_info": {
   "codemirror_mode": "r",
   "file_extension": ".r",
   "mimetype": "text/x-r-source",
   "name": "R",
   "pygments_lexer": "r",
   "version": "4.3.1"
  }
 },
 "nbformat": 4,
 "nbformat_minor": 2
}
