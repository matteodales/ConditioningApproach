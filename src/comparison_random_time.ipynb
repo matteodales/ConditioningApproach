{
 "cells": [
  {
   "cell_type": "code",
   "execution_count": 2,
   "metadata": {
    "vscode": {
     "languageId": "r"
    }
   },
   "outputs": [],
   "source": [
    "source('utils.r')\n",
    "source('selinf_functions.r')\n",
    "source('metrics.r')\n",
    "source('data_generator.r')\n",
    "source('cov_matrix.r')"
   ]
  },
  {
   "cell_type": "markdown",
   "metadata": {},
   "source": [
    "## Simulating random time\n",
    "In this example we simulate data from a certain number of subjects and assume that time (introduced as a dummy variable) has a random effect. The rest of the computation is the same as before."
   ]
  },
  {
   "cell_type": "code",
   "execution_count": 3,
   "metadata": {
    "vscode": {
     "languageId": "r"
    }
   },
   "outputs": [],
   "source": [
    "set.seed(1)\n",
    "\n",
    "n_subjects= 25\n",
    "n_observations = 4\n",
    "n = n_subjects * n_observations\n",
    "p = 100\n",
    "q <- n_observations-1\n",
    "SNR = 4\n",
    "prop_relevant = 0.1\n",
    "\n",
    "data <- data_generator_random_time(n_subjects, n_observations, p, SNR, prop_relevant, rho=0.5)\n",
    "X <- data$X\n",
    "Z <- data$Z\n",
    "subjects <- data$subjects\n",
    "y <- data$y\n",
    "beta <- data$beta\n",
    "sd <- data$sd"
   ]
  },
  {
   "cell_type": "code",
   "execution_count": 4,
   "metadata": {
    "vscode": {
     "languageId": "r"
    }
   },
   "outputs": [
    {
     "name": "stdout",
     "output_type": "stream",
     "text": [
      "[1] 58.91949\n",
      "$tpr\n",
      "[1] 0.7142857\n",
      "\n",
      "$fdr\n",
      "[1] 0.3333333\n",
      "\n"
     ]
    }
   ],
   "source": [
    "fixed_form = as.formula(\n",
    "    paste(\"y ~ 1 +\",paste(\"t\", 1:q, sep=\"\", collapse='+'), ' + ',paste(\"X\", 1:p, sep=\"\", collapse='+'),sep=\"\")\n",
    "  )\n",
    "\n",
    "rand_form = list(subjects = as.formula(paste(\" ~ 1 +\",paste(\"t\", 1:q, sep=\"\", collapse='+'))))\n",
    "\n",
    "selFun <- function(y) selFun_adapting_lambda(X, subjects, y, fixed_form, rand_form)\n",
    "\n",
    "sel <- selFun(y)\n",
    "sel_vec <- sel$vec\n",
    "sel_names <- sel$names\n",
    "lambda <- sel$lambda\n",
    "print(metrics(sel_vec,c(TRUE,beta!=0)))"
   ]
  },
  {
   "cell_type": "code",
   "execution_count": 14,
   "metadata": {
    "vscode": {
     "languageId": "r"
    }
   },
   "outputs": [
    {
     "data": {
      "text/html": [
       "<style>\n",
       ".list-inline {list-style: none; margin:0; padding: 0}\n",
       ".list-inline>li {display: inline-block}\n",
       ".list-inline>li:not(:last-child)::after {content: \"\\00b7\"; padding: 0 .5ex}\n",
       "</style>\n",
       "<ol class=list-inline><li>'(Intercept)'</li><li>'X1'</li><li>'X2'</li><li>'X3'</li><li>'X4'</li><li>'X6'</li><li>'X7'</li><li>'X8'</li><li>'X9'</li><li>'X10'</li><li>'X25'</li><li>'X42'</li><li>'X52'</li><li>'X63'</li><li>'X83'</li></ol>\n"
      ],
      "text/latex": [
       "\\begin{enumerate*}\n",
       "\\item '(Intercept)'\n",
       "\\item 'X1'\n",
       "\\item 'X2'\n",
       "\\item 'X3'\n",
       "\\item 'X4'\n",
       "\\item 'X6'\n",
       "\\item 'X7'\n",
       "\\item 'X8'\n",
       "\\item 'X9'\n",
       "\\item 'X10'\n",
       "\\item 'X25'\n",
       "\\item 'X42'\n",
       "\\item 'X52'\n",
       "\\item 'X63'\n",
       "\\item 'X83'\n",
       "\\end{enumerate*}\n"
      ],
      "text/markdown": [
       "1. '(Intercept)'\n",
       "2. 'X1'\n",
       "3. 'X2'\n",
       "4. 'X3'\n",
       "5. 'X4'\n",
       "6. 'X6'\n",
       "7. 'X7'\n",
       "8. 'X8'\n",
       "9. 'X9'\n",
       "10. 'X10'\n",
       "11. 'X25'\n",
       "12. 'X42'\n",
       "13. 'X52'\n",
       "14. 'X63'\n",
       "15. 'X83'\n",
       "\n",
       "\n"
      ],
      "text/plain": [
       " [1] \"(Intercept)\" \"X1\"          \"X2\"          \"X3\"          \"X4\"         \n",
       " [6] \"X6\"          \"X7\"          \"X8\"          \"X9\"          \"X10\"        \n",
       "[11] \"X25\"         \"X42\"         \"X52\"         \"X63\"         \"X83\"        "
      ]
     },
     "metadata": {},
     "output_type": "display_data"
    }
   ],
   "source": [
    "sel_names"
   ]
  },
  {
   "cell_type": "markdown",
   "metadata": {},
   "source": [
    "**Problem!!** The Lasso on this model does not select the time variables as fixed effects, but we want them to be included by default if we use our version of the variance estimate."
   ]
  },
  {
   "cell_type": "code",
   "execution_count": 5,
   "metadata": {
    "vscode": {
     "languageId": "r"
    }
   },
   "outputs": [
    {
     "name": "stderr",
     "output_type": "stream",
     "text": [
      "Loading required package: emulator\n",
      "\n",
      "Loading required package: mvtnorm\n",
      "\n"
     ]
    },
    {
     "name": "stderr",
     "output_type": "stream",
     "text": [
      "Loading required package: miscTools\n",
      "\n",
      "Loading required package: penalized\n",
      "\n",
      "Loading required package: survival\n",
      "\n",
      "Welcome to penalized. For extended examples, see vignette(\"penalized\").\n",
      "\n"
     ]
    },
    {
     "name": "stdout",
     "output_type": "stream",
     "text": [
      "----------------------------------------------------------------------\n",
      "This is a test release of the package 'lmmlasso'. If you have any questions or problems, do not hesitate to contact the author.\n",
      "----------------------------------------------------------------------\n"
     ]
    }
   ],
   "source": [
    "library('lmmlasso')"
   ]
  },
  {
   "cell_type": "code",
   "execution_count": 41,
   "metadata": {
    "vscode": {
     "languageId": "r"
    }
   },
   "outputs": [
    {
     "name": "stderr",
     "output_type": "stream",
     "text": [
      "Warning message in cov2cor(Psi):\n",
      "\"diag(.) had 0 or NA entries; non-finite result is doubtful\"\n"
     ]
    },
    {
     "name": "stdout",
     "output_type": "stream",
     "text": [
      "Redundant covariance parameters. \n"
     ]
    },
    {
     "name": "stderr",
     "output_type": "stream",
     "text": [
      "Warning message in cov2cor(Psi):\n",
      "\"diag(.) had 0 or NA entries; non-finite result is doubtful\"\n"
     ]
    },
    {
     "name": "stdout",
     "output_type": "stream",
     "text": [
      "Redundant covariance parameters. \n",
      "|activeSet|>=min(p,ntot): Increase lambda or set stopSat=FALSE. \n",
      "[1] 13.58506\n"
     ]
    },
    {
     "data": {
      "image/png": "[encoded data removed]",
      "text/plain": [
       "plot without title"
      ]
     },
     "metadata": {
      "image/png": {
       "height": 420,
       "width": 420
      }
     },
     "output_type": "display_data"
    }
   ],
   "source": [
    "lambda.max.min.ratio = 0.01\n",
    "n_lambdas = 50\n",
    "lambda_max <- max(abs(t(X) %*% y))\n",
    "plotting = TRUE\n",
    "lambdas <- linspace(lambda_max,lambda_max*lambda.max.min.ratio, n=n_lambdas)\n",
    "BIC_vec<-rep(Inf,length(lambdas))\n",
    "\n",
    "for(j in 1:length(lambdas))\n",
    "{\n",
    "\n",
    "lasso_res <- lmmlasso(cbind(rep(1,n),X),y,cbind(rep(1,n),Z),subjects,lambda=lambdas[j],nonpen = c(1:4))\n",
    "BIC_vec[j]<-lasso_res$bic\n",
    "}\n",
    "\n",
    "if(plotting) plot(lambdas,BIC_vec)\n",
    "\n",
    "opt<-which.min(BIC_vec)\n",
    "\n",
    "print(lambdas[opt])\n",
    "\n",
    "lasso_res <- lmmlasso(cbind(rep(1,n),X),y,cbind(rep(1,n),Z),subjects,lambda=lambdas[opt],nonpen = c(1:4))"
   ]
  },
  {
   "cell_type": "code",
   "execution_count": 63,
   "metadata": {
    "vscode": {
     "languageId": "r"
    }
   },
   "outputs": [
    {
     "data": {
      "text/html": [
       "<style>\n",
       ".dl-inline {width: auto; margin:0; padding: 0}\n",
       ".dl-inline>dt, .dl-inline>dd {float: none; width: auto; display: inline-block}\n",
       ".dl-inline>dt::after {content: \":\\0020\"; padding-right: .5ex}\n",
       ".dl-inline>dt:not(:first-of-type) {padding-left: .5ex}\n",
       "</style><dl class=dl-inline><dt>(Intercept)</dt><dd>0.334975117529025</dd><dt>t1</dt><dd>-0.493927351510099</dd><dt>t2</dt><dd>-1.09998268041636</dd><dt>t3</dt><dd>-0.313223134582681</dd><dt>X1</dt><dd>-0.803462221025443</dd><dt>X2</dt><dd>-0.581726607139431</dd><dt>X3</dt><dd>0.635531032367595</dd><dt>X4</dt><dd>-1.01970740872649</dd><dt>X5</dt><dd>-0.247848760826663</dd><dt>X6</dt><dd>-0.36788488737358</dd><dt>X7</dt><dd>-0.825132492673429</dd><dt>X8</dt><dd>-0.670999855050921</dd><dt>X9</dt><dd>-0.577412798081768</dd><dt>X10</dt><dd>-0.732602460955307</dd><dt>X11</dt><dd>0</dd><dt>X12</dt><dd>0</dd><dt>X13</dt><dd>0</dd><dt>X14</dt><dd>0</dd><dt>X15</dt><dd>0</dd><dt>X16</dt><dd>0</dd><dt>X17</dt><dd>0</dd><dt>X18</dt><dd>0.0757983385023882</dd><dt>X19</dt><dd>0</dd><dt>X20</dt><dd>0</dd><dt>X21</dt><dd>0</dd><dt>X22</dt><dd>-0.111542061915055</dd><dt>X23</dt><dd>0</dd><dt>X24</dt><dd>0</dd><dt>X25</dt><dd>0</dd><dt>X26</dt><dd>0</dd><dt>X27</dt><dd>0</dd><dt>X28</dt><dd>0.0424402628718173</dd><dt>X29</dt><dd>0</dd><dt>X30</dt><dd>0</dd><dt>X31</dt><dd>0</dd><dt>X32</dt><dd>0</dd><dt>X33</dt><dd>0</dd><dt>X34</dt><dd>0</dd><dt>X35</dt><dd>0</dd><dt>X36</dt><dd>0</dd><dt>X37</dt><dd>0</dd><dt>X38</dt><dd>0</dd><dt>X39</dt><dd>0</dd><dt>X40</dt><dd>0.0410851184091564</dd><dt>X41</dt><dd>0</dd><dt>X42</dt><dd>-0.0975434229416044</dd><dt>X43</dt><dd>0</dd><dt>X44</dt><dd>0</dd><dt>X45</dt><dd>0</dd><dt>X46</dt><dd>0</dd><dt>X47</dt><dd>0</dd><dt>X48</dt><dd>0</dd><dt>X49</dt><dd>-0.136373449324593</dd><dt>X50</dt><dd>0</dd><dt>X51</dt><dd>0</dd><dt>X52</dt><dd>0</dd><dt>X53</dt><dd>0</dd><dt>X54</dt><dd>0</dd><dt>X55</dt><dd>0</dd><dt>X56</dt><dd>0</dd><dt>X57</dt><dd>-0.0444920221198841</dd><dt>X58</dt><dd>0</dd><dt>X59</dt><dd>0</dd><dt>X60</dt><dd>0</dd><dt>X61</dt><dd>0</dd><dt>X62</dt><dd>0</dd><dt>X63</dt><dd>0</dd><dt>X64</dt><dd>0</dd><dt>X65</dt><dd>0</dd><dt>X66</dt><dd>0</dd><dt>X67</dt><dd>0</dd><dt>X68</dt><dd>0</dd><dt>X69</dt><dd>0</dd><dt>X70</dt><dd>0</dd><dt>X71</dt><dd>0</dd><dt>X72</dt><dd>0</dd><dt>X73</dt><dd>0</dd><dt>X74</dt><dd>0</dd><dt>X75</dt><dd>0</dd><dt>X76</dt><dd>0</dd><dt>X77</dt><dd>0</dd><dt>X78</dt><dd>0</dd><dt>X79</dt><dd>0</dd><dt>X80</dt><dd>0</dd><dt>X81</dt><dd>0.12521767597406</dd><dt>X82</dt><dd>0</dd><dt>X83</dt><dd>0</dd><dt>X84</dt><dd>0</dd><dt>X85</dt><dd>0</dd><dt>X86</dt><dd>0</dd><dt>X87</dt><dd>-0.155728245709853</dd><dt>X88</dt><dd>0</dd><dt>X89</dt><dd>0</dd><dt>X90</dt><dd>-0.0799627673844722</dd><dt>X91</dt><dd>0</dd><dt>X92</dt><dd>0</dd><dt>X93</dt><dd>0</dd><dt>X94</dt><dd>0</dd><dt>X95</dt><dd>0</dd><dt>X96</dt><dd>0</dd><dt>X97</dt><dd>0</dd><dt>X98</dt><dd>-0.0426837294509019</dd><dt>X99</dt><dd>0</dd><dt>X100</dt><dd>0.0116462939132967</dd></dl>\n"
      ],
      "text/latex": [
       "\\begin{description*}\n",
       "\\item[(Intercept)] 0.334975117529025\n",
       "\\item[t1] -0.493927351510099\n",
       "\\item[t2] -1.09998268041636\n",
       "\\item[t3] -0.313223134582681\n",
       "\\item[X1] -0.803462221025443\n",
       "\\item[X2] -0.581726607139431\n",
       "\\item[X3] 0.635531032367595\n",
       "\\item[X4] -1.01970740872649\n",
       "\\item[X5] -0.247848760826663\n",
       "\\item[X6] -0.36788488737358\n",
       "\\item[X7] -0.825132492673429\n",
       "\\item[X8] -0.670999855050921\n",
       "\\item[X9] -0.577412798081768\n",
       "\\item[X10] -0.732602460955307\n",
       "\\item[X11] 0\n",
       "\\item[X12] 0\n",
       "\\item[X13] 0\n",
       "\\item[X14] 0\n",
       "\\item[X15] 0\n",
       "\\item[X16] 0\n",
       "\\item[X17] 0\n",
       "\\item[X18] 0.0757983385023882\n",
       "\\item[X19] 0\n",
       "\\item[X20] 0\n",
       "\\item[X21] 0\n",
       "\\item[X22] -0.111542061915055\n",
       "\\item[X23] 0\n",
       "\\item[X24] 0\n",
       "\\item[X25] 0\n",
       "\\item[X26] 0\n",
       "\\item[X27] 0\n",
       "\\item[X28] 0.0424402628718173\n",
       "\\item[X29] 0\n",
       "\\item[X30] 0\n",
       "\\item[X31] 0\n",
       "\\item[X32] 0\n",
       "\\item[X33] 0\n",
       "\\item[X34] 0\n",
       "\\item[X35] 0\n",
       "\\item[X36] 0\n",
       "\\item[X37] 0\n",
       "\\item[X38] 0\n",
       "\\item[X39] 0\n",
       "\\item[X40] 0.0410851184091564\n",
       "\\item[X41] 0\n",
       "\\item[X42] -0.0975434229416044\n",
       "\\item[X43] 0\n",
       "\\item[X44] 0\n",
       "\\item[X45] 0\n",
       "\\item[X46] 0\n",
       "\\item[X47] 0\n",
       "\\item[X48] 0\n",
       "\\item[X49] -0.136373449324593\n",
       "\\item[X50] 0\n",
       "\\item[X51] 0\n",
       "\\item[X52] 0\n",
       "\\item[X53] 0\n",
       "\\item[X54] 0\n",
       "\\item[X55] 0\n",
       "\\item[X56] 0\n",
       "\\item[X57] -0.0444920221198841\n",
       "\\item[X58] 0\n",
       "\\item[X59] 0\n",
       "\\item[X60] 0\n",
       "\\item[X61] 0\n",
       "\\item[X62] 0\n",
       "\\item[X63] 0\n",
       "\\item[X64] 0\n",
       "\\item[X65] 0\n",
       "\\item[X66] 0\n",
       "\\item[X67] 0\n",
       "\\item[X68] 0\n",
       "\\item[X69] 0\n",
       "\\item[X70] 0\n",
       "\\item[X71] 0\n",
       "\\item[X72] 0\n",
       "\\item[X73] 0\n",
       "\\item[X74] 0\n",
       "\\item[X75] 0\n",
       "\\item[X76] 0\n",
       "\\item[X77] 0\n",
       "\\item[X78] 0\n",
       "\\item[X79] 0\n",
       "\\item[X80] 0\n",
       "\\item[X81] 0.12521767597406\n",
       "\\item[X82] 0\n",
       "\\item[X83] 0\n",
       "\\item[X84] 0\n",
       "\\item[X85] 0\n",
       "\\item[X86] 0\n",
       "\\item[X87] -0.155728245709853\n",
       "\\item[X88] 0\n",
       "\\item[X89] 0\n",
       "\\item[X90] -0.0799627673844722\n",
       "\\item[X91] 0\n",
       "\\item[X92] 0\n",
       "\\item[X93] 0\n",
       "\\item[X94] 0\n",
       "\\item[X95] 0\n",
       "\\item[X96] 0\n",
       "\\item[X97] 0\n",
       "\\item[X98] -0.0426837294509019\n",
       "\\item[X99] 0\n",
       "\\item[X100] 0.0116462939132967\n",
       "\\end{description*}\n"
      ],
      "text/markdown": [
       "(Intercept)\n",
       ":   0.334975117529025t1\n",
       ":   -0.493927351510099t2\n",
       ":   -1.09998268041636t3\n",
       ":   -0.313223134582681X1\n",
       ":   -0.803462221025443X2\n",
       ":   -0.581726607139431X3\n",
       ":   0.635531032367595X4\n",
       ":   -1.01970740872649X5\n",
       ":   -0.247848760826663X6\n",
       ":   -0.36788488737358X7\n",
       ":   -0.825132492673429X8\n",
       ":   -0.670999855050921X9\n",
       ":   -0.577412798081768X10\n",
       ":   -0.732602460955307X11\n",
       ":   0X12\n",
       ":   0X13\n",
       ":   0X14\n",
       ":   0X15\n",
       ":   0X16\n",
       ":   0X17\n",
       ":   0X18\n",
       ":   0.0757983385023882X19\n",
       ":   0X20\n",
       ":   0X21\n",
       ":   0X22\n",
       ":   -0.111542061915055X23\n",
       ":   0X24\n",
       ":   0X25\n",
       ":   0X26\n",
       ":   0X27\n",
       ":   0X28\n",
       ":   0.0424402628718173X29\n",
       ":   0X30\n",
       ":   0X31\n",
       ":   0X32\n",
       ":   0X33\n",
       ":   0X34\n",
       ":   0X35\n",
       ":   0X36\n",
       ":   0X37\n",
       ":   0X38\n",
       ":   0X39\n",
       ":   0X40\n",
       ":   0.0410851184091564X41\n",
       ":   0X42\n",
       ":   -0.0975434229416044X43\n",
       ":   0X44\n",
       ":   0X45\n",
       ":   0X46\n",
       ":   0X47\n",
       ":   0X48\n",
       ":   0X49\n",
       ":   -0.136373449324593X50\n",
       ":   0X51\n",
       ":   0X52\n",
       ":   0X53\n",
       ":   0X54\n",
       ":   0X55\n",
       ":   0X56\n",
       ":   0X57\n",
       ":   -0.0444920221198841X58\n",
       ":   0X59\n",
       ":   0X60\n",
       ":   0X61\n",
       ":   0X62\n",
       ":   0X63\n",
       ":   0X64\n",
       ":   0X65\n",
       ":   0X66\n",
       ":   0X67\n",
       ":   0X68\n",
       ":   0X69\n",
       ":   0X70\n",
       ":   0X71\n",
       ":   0X72\n",
       ":   0X73\n",
       ":   0X74\n",
       ":   0X75\n",
       ":   0X76\n",
       ":   0X77\n",
       ":   0X78\n",
       ":   0X79\n",
       ":   0X80\n",
       ":   0X81\n",
       ":   0.12521767597406X82\n",
       ":   0X83\n",
       ":   0X84\n",
       ":   0X85\n",
       ":   0X86\n",
       ":   0X87\n",
       ":   -0.155728245709853X88\n",
       ":   0X89\n",
       ":   0X90\n",
       ":   -0.0799627673844722X91\n",
       ":   0X92\n",
       ":   0X93\n",
       ":   0X94\n",
       ":   0X95\n",
       ":   0X96\n",
       ":   0X97\n",
       ":   0X98\n",
       ":   -0.0426837294509019X99\n",
       ":   0X100\n",
       ":   0.0116462939132967\n",
       "\n"
      ],
      "text/plain": [
       "(Intercept)          t1          t2          t3          X1          X2 \n",
       " 0.33497512 -0.49392735 -1.09998268 -0.31322313 -0.80346222 -0.58172661 \n",
       "         X3          X4          X5          X6          X7          X8 \n",
       " 0.63553103 -1.01970741 -0.24784876 -0.36788489 -0.82513249 -0.67099986 \n",
       "         X9         X10         X11         X12         X13         X14 \n",
       "-0.57741280 -0.73260246  0.00000000  0.00000000  0.00000000  0.00000000 \n",
       "        X15         X16         X17         X18         X19         X20 \n",
       " 0.00000000  0.00000000  0.00000000  0.07579834  0.00000000  0.00000000 \n",
       "        X21         X22         X23         X24         X25         X26 \n",
       " 0.00000000 -0.11154206  0.00000000  0.00000000  0.00000000  0.00000000 \n",
       "        X27         X28         X29         X30         X31         X32 \n",
       " 0.00000000  0.04244026  0.00000000  0.00000000  0.00000000  0.00000000 \n",
       "        X33         X34         X35         X36         X37         X38 \n",
       " 0.00000000  0.00000000  0.00000000  0.00000000  0.00000000  0.00000000 \n",
       "        X39         X40         X41         X42         X43         X44 \n",
       " 0.00000000  0.04108512  0.00000000 -0.09754342  0.00000000  0.00000000 \n",
       "        X45         X46         X47         X48         X49         X50 \n",
       " 0.00000000  0.00000000  0.00000000  0.00000000 -0.13637345  0.00000000 \n",
       "        X51         X52         X53         X54         X55         X56 \n",
       " 0.00000000  0.00000000  0.00000000  0.00000000  0.00000000  0.00000000 \n",
       "        X57         X58         X59         X60         X61         X62 \n",
       "-0.04449202  0.00000000  0.00000000  0.00000000  0.00000000  0.00000000 \n",
       "        X63         X64         X65         X66         X67         X68 \n",
       " 0.00000000  0.00000000  0.00000000  0.00000000  0.00000000  0.00000000 \n",
       "        X69         X70         X71         X72         X73         X74 \n",
       " 0.00000000  0.00000000  0.00000000  0.00000000  0.00000000  0.00000000 \n",
       "        X75         X76         X77         X78         X79         X80 \n",
       " 0.00000000  0.00000000  0.00000000  0.00000000  0.00000000  0.00000000 \n",
       "        X81         X82         X83         X84         X85         X86 \n",
       " 0.12521768  0.00000000  0.00000000  0.00000000  0.00000000  0.00000000 \n",
       "        X87         X88         X89         X90         X91         X92 \n",
       "-0.15572825  0.00000000  0.00000000 -0.07996277  0.00000000  0.00000000 \n",
       "        X93         X94         X95         X96         X97         X98 \n",
       " 0.00000000  0.00000000  0.00000000  0.00000000  0.00000000 -0.04268373 \n",
       "        X99        X100 \n",
       " 0.00000000  0.01164629 "
      ]
     },
     "metadata": {},
     "output_type": "display_data"
    }
   ],
   "source": [
    "lmmlasso(cbind(rep(1,n),X),y,cbind(rep(1,n),Z),subjects,lambda=14,nonpen = c(1:4))$coefficients"
   ]
  },
  {
   "cell_type": "code",
   "execution_count": 73,
   "metadata": {
    "vscode": {
     "languageId": "r"
    }
   },
   "outputs": [],
   "source": [
    "sel_form = as.formula(\n",
    "  paste(\"y ~ t1 + t2 + t3 +  (1 + t1 + t2 + t3||subjects)\")\n",
    ")\n",
    "\n",
    "final_model = lme(y ~ t1 + t2 + t3, random =~ 1 + t1 + t2 + t3| subjects, data=data.frame(X, subjects, y))"
   ]
  },
  {
   "cell_type": "code",
   "execution_count": 75,
   "metadata": {
    "vscode": {
     "languageId": "r"
    }
   },
   "outputs": [
    {
     "data": {
      "text/html": [
       "'lme'"
      ],
      "text/latex": [
       "'lme'"
      ],
      "text/markdown": [
       "'lme'"
      ],
      "text/plain": [
       "[1] \"lme\""
      ]
     },
     "metadata": {},
     "output_type": "display_data"
    }
   ],
   "source": [
    "class(final_model)"
   ]
  },
  {
   "cell_type": "code",
   "execution_count": 64,
   "metadata": {
    "vscode": {
     "languageId": "r"
    }
   },
   "outputs": [
    {
     "data": {
      "text/plain": [
       "\n",
       "Call:\n",
       "lm(formula = y ~ t1 + t2 + t3, data = data.frame(X, y))\n",
       "\n",
       "Coefficients:\n",
       "(Intercept)           t1           t2           t3  \n",
       "    0.19988     -0.30938     -0.69506     -0.02733  \n"
      ]
     },
     "metadata": {},
     "output_type": "display_data"
    }
   ],
   "source": [
    "lm(formula = y ~ t1 + t2 + t3, data=data.frame(X, y))"
   ]
  },
  {
   "cell_type": "code",
   "execution_count": 59,
   "metadata": {
    "vscode": {
     "languageId": "r"
    }
   },
   "outputs": [
    {
     "data": {
      "text/plain": [
       "Linear mixed model fit by REML ['lmerModLmerTest']\n",
       "Formula: sel_form\n",
       "   Data: data.frame(X, subjects, y)\n",
       "REML criterion at convergence: 492.9903\n",
       "Random effects:\n",
       " Groups   Name        Std.Dev. Corr     \n",
       " subjects (Intercept) 2.0199            \n",
       "          t1          1.5248   0.26     \n",
       "          t2          0.2506   0.98 0.46\n",
       " Residual             2.3752            \n",
       "Number of obs: 100, groups:  subjects, 25\n",
       "Fixed Effects:\n",
       "(Intercept)           t1           t2           t3  \n",
       "    0.19988     -0.30938     -0.69506     -0.02733  \n",
       "optimizer (nloptwrap) convergence code: 0 (OK) ; 0 optimizer warnings; 1 lme4 warnings "
      ]
     },
     "metadata": {},
     "output_type": "display_data"
    }
   ],
   "source": [
    "final_model"
   ]
  },
  {
   "cell_type": "code",
   "execution_count": 48,
   "metadata": {
    "vscode": {
     "languageId": "r"
    }
   },
   "outputs": [
    {
     "data": {
      "text/html": [
       "<dl>\n",
       "\t<dt>$tpr</dt>\n",
       "\t\t<dd>1</dd>\n",
       "\t<dt>$fdr</dt>\n",
       "\t\t<dd>0.5</dd>\n",
       "</dl>\n"
      ],
      "text/latex": [
       "\\begin{description}\n",
       "\\item[\\$tpr] 1\n",
       "\\item[\\$fdr] 0.5\n",
       "\\end{description}\n"
      ],
      "text/markdown": [
       "$tpr\n",
       ":   1\n",
       "$fdr\n",
       ":   0.5\n",
       "\n",
       "\n"
      ],
      "text/plain": [
       "$tpr\n",
       "[1] 1\n",
       "\n",
       "$fdr\n",
       "[1] 0.5\n"
      ]
     },
     "metadata": {},
     "output_type": "display_data"
    }
   ],
   "source": [
    "metrics(lasso_res$coefficients!=0,c(1,beta!=0))"
   ]
  }
 ],
 "metadata": {
  "kernelspec": {
   "display_name": "R",
   "language": "R",
   "name": "ir"
  },
  "language_info": {
   "codemirror_mode": "r",
   "file_extension": ".r",
   "mimetype": "text/x-r-source",
   "name": "R",
   "pygments_lexer": "r",
   "version": "4.3.1"
  }
 },
 "nbformat": 4,
 "nbformat_minor": 2
}
