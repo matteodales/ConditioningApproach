{
 "cells": [
  {
   "cell_type": "markdown",
   "metadata": {},
   "source": [
    "## Simulation comparing naive GLMMLasso and Selective Inference selecting lambda from the data\n",
    "Comparing TPR and FDR for the two methods in different settings of SNR and proportion of non-zero coefficients.\n",
    "We select the appropriate value of lambda from the whole data, and use BH procedure to set the FDR control level at 10%."
   ]
  },
  {
   "cell_type": "code",
   "execution_count": null,
   "metadata": {
    "vscode": {
     "languageId": "r"
    }
   },
   "outputs": [],
   "source": [
    "n_subjects= 25\n",
    "n_observations = 4\n",
    "p = 100\n",
    "q = 0\n",
    "\n",
    "SNR_values = c(2,4)\n",
    "prop_relevant_values = c(0.05, 0.1, 0.2)\n",
    "num_iter = 50\n",
    "\n",
    "fixed_form = as.formula(\n",
    "    paste(\"y ~ 1 +\",paste(\"X\", 1:p, sep=\"\", collapse='+'),sep=\"\")\n",
    ")\n",
    "\n",
    "rand_form = list(subjects =~ 1)\n",
    "\n",
    "tot_its <- length(SNR_values)*length(prop_relevant_values)*num_iter\n",
    "\n",
    "columns = c('SNR','prop_relevant', 'TPR_lasso', 'TPR_selinf', 'FDR_lasso', 'FDR_selinf', 'num_sel_lasso', 'num_sel_selinf')\n",
    "results_df = data.frame(matrix(nrow = 0, ncol = length(columns))) \n",
    "colnames(results_df) = columns\n",
    "\n",
    "pb = txtProgressBar(min = 0, max = tot_its, initial = 0, style = 3)\n",
    "\n",
    "for(SNR in SNR_values){\n",
    "    for(prop_relevant in prop_relevant_values){\n",
    "        for(i in 1:num_iter){\n",
    "\n",
    "            data <- data_generator(n_subjects, n_observations, p, q, SNR, prop_relevant, rho=0.5)\n",
    "            X <- data$X\n",
    "            subjects <- data$subjects\n",
    "            y <- data$y\n",
    "            beta <- data$beta\n",
    "\n",
    "            sel <- selFun_adapting_lambda(X, subjects, y, fixed_form, rand_form)\n",
    "            sel_vec <- sel$vec\n",
    "            sel_names <- sel$names\n",
    "            lambda <- sel$lambda\n",
    "\n",
    "            selFun <- function(y) selFun_fixed_lambda(X, subjects, y, fixed_form, rand_form, lambda)\n",
    "\n",
    "            # Now we can define the function checking the congruency\n",
    "            # with the original selection\n",
    "            checkFun <- function(yb){\n",
    "\n",
    "                all(selFun(yb)$vec == sel_vec)\n",
    "\n",
    "            }\n",
    "\n",
    "            sel_form = as.formula(\n",
    "            paste(\"y ~ \",paste(sel_names[2:length(sel_names)], collapse='+'), \"+ (1|subjects)\")\n",
    "            )\n",
    "\n",
    "            final_model = lmer(formula = sel_form, data = data.frame(X, subjects, y))\n",
    "            \n",
    "            # and compute valid p-values conditional on the selection\n",
    "            # (this takes some time and will produce a lot of warnings)\n",
    "            suppressWarnings(res <- mocasin(final_model, this_y = y, conditional = FALSE,\n",
    "                        checkFun = checkFun, nrSamples = 100, trace = FALSE))\n",
    "\n",
    "            sel_with_selinf <- selection_with_selinf(res, sel_vec, fdr_level = 0.1)\n",
    "            \n",
    "            lasso_metrics <- metrics(sel_vec,c(1,beta!=0))\n",
    "            selinf_metrics <- metrics(sel_with_selinf,c(1,beta!=0))\n",
    "\n",
    "            num_sel_lasso <- sum(sel_vec)\n",
    "            num_sel_selinf <- sum(sel_with_selinf)\n",
    "\n",
    "            results_df[nrow(results_df) + 1,] <- c(SNR, prop_relevant, lasso_metrics$tpr, selinf_metrics$tpr, lasso_metrics$fdr, selinf_metrics$fdr, num_sel_lasso, num_sel_selinf)\n",
    "\n",
    "            setTxtProgressBar(pb,nrow(results_df))\n",
    "\n",
    "        }\n",
    "    }\n",
    "}\n",
    "\n",
    "close(pb)"
   ]
  },
  {
   "cell_type": "code",
   "execution_count": 13,
   "metadata": {
    "vscode": {
     "languageId": "r"
    }
   },
   "outputs": [],
   "source": [
    "write.csv(results_df, \"C:/Users/dalma/Desktop/Matteo/phd/r/simulation_results_sel_lambda.csv\", row.names=FALSE)"
   ]
  }
 ],
 "metadata": {
  "kernelspec": {
   "display_name": "R",
   "language": "R",
   "name": "ir"
  },
  "language_info": {
   "codemirror_mode": "r",
   "file_extension": ".r",
   "mimetype": "text/x-r-source",
   "name": "R",
   "pygments_lexer": "r",
   "version": "4.2.1"
  },
  "orig_nbformat": 4
 },
 "nbformat": 4,
 "nbformat_minor": 2
}
